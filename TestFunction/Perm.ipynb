{
 "cells": [
  {
   "cell_type": "code",
   "execution_count": 1,
   "metadata": {},
   "outputs": [],
   "source": [
    "import numpy as np\n",
    "from mpl_toolkits.mplot3d import Axes3D\n",
    "import matplotlib.pyplot as plt\n",
    "\n",
    "from model_opt import Perm\n",
    "from algo_GD import SGD\n",
    "import noise\n",
    "\n",
    "b = 0"
   ]
  },
  {
   "cell_type": "code",
   "execution_count": 8,
   "metadata": {},
   "outputs": [
    {
     "name": "stdout",
     "output_type": "stream",
     "text": [
      "[ 0.       16.016004]\n",
      "[ 0.         13.62415588]\n",
      "[ 0.         11.75616199]\n",
      "[ 0.         10.26208168]\n",
      "[0.         9.04360362]\n",
      "[0.         8.03369375]\n",
      "[0.         7.18514481]\n",
      "[0.         6.46379842]\n",
      "[0.         5.84436005]\n",
      "[0.         5.30772116]\n",
      "[0.         4.83919259]\n",
      "[0.         4.42730768]\n",
      "[0.         4.06299241]\n",
      "[0.         3.73897801]\n",
      "[0.         3.44937752]\n",
      "[0.         3.18937545]\n",
      "[0.         2.95499703]\n",
      "[0.         2.74293415]\n",
      "[0.         2.55041263]\n",
      "[0.         2.37508971]\n",
      "[0.         2.21497418]\n",
      "[0.         2.06836345]\n",
      "[0.         1.93379359]\n",
      "[0.         1.80999936]\n",
      "[0.        1.6958819]\n",
      "[0.         1.59048252]\n",
      "[0.         1.49296127]\n",
      "[0.         1.40257927]\n",
      "[0.         1.31868409]\n",
      "[0.         1.24069759]\n",
      "[0.         1.16810573]\n",
      "[0.         1.10045003]\n",
      "[0.         1.03732029]\n",
      "[0.         0.97834852]\n",
      "[0.         0.92320363]\n",
      "[0.         0.87158703]\n",
      "[0.         0.82322874]\n",
      "[0.         0.77788408]\n",
      "[0.         0.73533084]\n",
      "[0.         0.69536674]\n",
      "[0.         0.65780733]\n",
      "[0.         0.62248403]\n",
      "[0.         0.58924256]\n",
      "[0.         0.55794139]\n",
      "[0.         0.52845055]\n",
      "[0.         0.50065044]\n",
      "[0.         0.47443087]\n",
      "[0.         0.44969016]\n",
      "[0.         0.42633433]\n",
      "[0.         0.40427645]\n",
      "[0.         0.38343594]\n",
      "[0.        0.3637381]\n",
      "[0.         0.34511352]\n",
      "[0.         0.32749768]\n",
      "[0.         0.31083054]\n",
      "[0.         0.29505615]\n",
      "[0.         0.28012234]\n",
      "[0.        0.2659804]\n",
      "[0.         0.25258485]\n",
      "[0.         0.23989312]\n",
      "[0.         0.22786542]\n",
      "[0.         0.21646445]\n",
      "[0.         0.20565526]\n",
      "[0.         0.19540507]\n",
      "[0.         0.18568312]\n",
      "[0.         0.17646051]\n",
      "[0.         0.16771009]\n",
      "[0.         0.15940633]\n",
      "[0.         0.15152521]\n",
      "[0.        0.1440441]\n",
      "[0.         0.13694173]\n",
      "[0.         0.13019801]\n",
      "[0.         0.12379403]\n",
      "[0.         0.11771194]\n",
      "[0.         0.11193491]\n",
      "[0.         0.10644703]\n",
      "[0.        0.1012333]\n",
      "[0.         0.09627954]\n",
      "[0.         0.09157235]\n",
      "[0.         0.08709906]\n",
      "[0.         0.08284769]\n",
      "[0.         0.07880691]\n",
      "[0.         0.07496599]\n",
      "[0.         0.07131479]\n",
      "[0.         0.06784369]\n",
      "[0.        0.0645436]\n",
      "[0.        0.0614059]\n",
      "[0.         0.05842242]\n",
      "[0.         0.05558542]\n",
      "[0.         0.05288756]\n",
      "[0.        0.0503219]\n",
      "[0.         0.04788183]\n",
      "[0.         0.04556109]\n",
      "[0.         0.04335377]\n",
      "[0.         0.04125422]\n",
      "[0.         0.03925711]\n",
      "[0.         0.03735737]\n",
      "[0.         0.03555018]\n",
      "[0.         0.03383098]\n",
      "[0.         0.03219542]\n"
     ]
    }
   ],
   "source": [
    "w_init = np.array([1,1])\n",
    "noise_value = np.zeros(2)\n",
    "var = 50 # iqr 70~80\n",
    "batchsize = 100\n",
    "_t_max = 100\n",
    "noise_data = noise.Gauss(mean=0, sigma=var, dim=2, n=batchsize * _t_max).generate()\n",
    "f = Perm(noise_value=noise_value)\n",
    "algo = SGD(w_init=w_init, t_max=_t_max, a=0.003)\n",
    "for i in algo:\n",
    "    f = Perm(noise_value=noise_value)\n",
    "    print(f.g_opt(algo.w))\n",
    "    algo.update(model=f)\n",
    "\n",
    "x = np.arange(-2, 2.1, 0.1)\n",
    "y = np.arange(-2, 2.1, 0.1)\n",
    "X, Y = np.meshgrid(x, y)\n",
    "Z = []\n",
    "for i,j in zip(X,Y):\n",
    "    for k,l in zip(i,j):\n",
    "        Z.append(f.f_opt([k,l]))\n",
    "Z = np.array(Z).reshape(X.shape)"
   ]
  },
  {
   "cell_type": "code",
   "execution_count": 9,
   "metadata": {},
   "outputs": [
    {
     "data": {
      "text/plain": "<Figure size 432x432 with 1 Axes>",
      "image/png": "[encoded data removed]"
     },
     "metadata": {
      "needs_background": "light"
     },
     "output_type": "display_data"
    }
   ],
   "source": [
    "w_store = np.array(algo.wstore)\n",
    "fig, axes = plt.subplots(1,1, figsize=(6,6))\n",
    "axes.pcolor(X, Y, Z,cmap=plt.cm.rainbow)\n",
    "# wの軌跡\n",
    "axes.plot(w_store.T[0],w_store.T[1],c = \"k\",alpha=0.2,linewidth = 1)\n",
    "c = np.linspace(0, _t_max, len(w_store))\n",
    "axes.scatter(w_store.T[0],w_store.T[1],c=c,cmap = plt.cm.hot ,linewidths=0.01,alpha=1,s=10)\n",
    "\n",
    "# 始点(黄色)、終点（緑）、真値（赤）\n",
    "axes.plot(*w_store[0], 'ks', markersize=5,label=\"start\")\n",
    "axes.plot(*w_store[-1], 'gs', markersize=5,label=\"finish\")\n",
    "axes.plot(*f.w_star, 'r*', markersize=8,label=\"true value\")\n",
    "\n",
    "\n",
    "#余白の調整\n",
    "plt.subplots_adjust(right=0.85)\n",
    "plt.subplots_adjust(wspace=0.1)\n",
    "\n",
    "plt.show()"
   ]
  },
  {
   "cell_type": "code",
   "execution_count": 7,
   "metadata": {},
   "outputs": [
    {
     "data": {
      "text/plain": "array([ -4.008004, -24.024006])"
     },
     "execution_count": 7,
     "metadata": {},
     "output_type": "execute_result"
    }
   ],
   "source": [
    "f.g_opt([-1,-1])"
   ]
  },
  {
   "cell_type": "code",
   "execution_count": null,
   "outputs": [],
   "source": [],
   "metadata": {
    "collapsed": false,
    "pycharm": {
     "name": "#%%\n"
    }
   }
  }
 ],
 "metadata": {
  "kernelspec": {
   "display_name": "Python 3",
   "language": "python",
   "name": "python3"
  },
  "language_info": {
   "codemirror_mode": {
    "name": "ipython",
    "version": 3
   },
   "file_extension": ".py",
   "mimetype": "text/x-python",
   "name": "python",
   "nbconvert_exporter": "python",
   "pygments_lexer": "ipython3",
   "version": "3.7.3"
  }
 },
 "nbformat": 4,
 "nbformat_minor": 4
}