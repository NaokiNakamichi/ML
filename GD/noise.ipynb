{
 "cells": [
  {
   "cell_type": "code",
   "execution_count": 1,
   "metadata": {},
   "outputs": [],
   "source": [
    "import numpy as np\n",
    "import random\n",
    "import multiprocessing as mproc\n",
    "import matplotlib.pyplot as plt\n",
    "import tqdm\n",
    "from tqdm.notebook import tqdm as tqdm\n",
    "import matplotlib.colors as colors\n",
    "from matplotlib.cm import ScalarMappable\n",
    "\n",
    "import model_opt\n",
    "import algo_GD\n",
    "import helper"
   ]
  },
  {
   "cell_type": "code",
   "execution_count": 2,
   "metadata": {},
   "outputs": [],
   "source": [
    "w_init = np.array([3,3])\n",
    "_t_max = 2\n",
    "f = model_opt.RosenBrock()"
   ]
  },
  {
   "cell_type": "code",
   "execution_count": 3,
   "metadata": {},
   "outputs": [
    {
     "data": {
      "text/plain": [
       "1757.678197193484"
      ]
     },
     "execution_count": 3,
     "metadata": {},
     "output_type": "execute_result"
    }
   ],
   "source": [
    "# b <= x_1 <= a , b <= x_2 <= a において一様にランダムな点をn回とり、勾配ノルムの平均を測定\n",
    "helper.grad_norm(model=f,a=3,b=-3,n=10000)"
   ]
  },
  {
   "cell_type": "code",
   "execution_count": 3,
   "metadata": {},
   "outputs": [],
   "source": []
  },
  {
   "cell_type": "code",
   "execution_count": 4,
   "metadata": {},
   "outputs": [],
   "source": [
    "x = np.arange(10)\n",
    "noise = helper.gauss(x)\n",
    "k = helper.iqr(noise)"
   ]
  },
  {
   "cell_type": "code",
   "execution_count": 5,
   "metadata": {},
   "outputs": [
    {
     "data": {
      "text/plain": [
       "array([-0.17765108,  2.16222279, -4.12420692,  4.10347816, -0.09677633,\n",
       "        0.4087609 ,  1.02617882, -2.72782697,  1.04514644, -0.49880217])"
      ]
     },
     "execution_count": 5,
     "metadata": {},
     "output_type": "execute_result"
    }
   ],
   "source": [
    "helper.student_t(x,1)"
   ]
  },
  {
   "cell_type": "code",
   "execution_count": 6,
   "metadata": {},
   "outputs": [],
   "source": [
    "iqr_store = []\n",
    "for i in range(1000):\n",
    "    x = np.arange(1000)\n",
    "    noise = helper.student_t(x,10)\n",
    "    k = helper.iqr(noise)\n",
    "    iqr_store.append(k)"
   ]
  },
  {
   "cell_type": "code",
   "execution_count": 7,
   "metadata": {},
   "outputs": [
    {
     "data": {
      "text/plain": [
       "(array([  5.,  13.,  62., 125., 213., 222., 175., 120.,  46.,  19.]),\n",
       " array([1.23750541, 1.26748713, 1.29746885, 1.32745056, 1.35743228,\n",
       "        1.387414  , 1.41739572, 1.44737744, 1.47735916, 1.50734088,\n",
       "        1.53732259]),\n",
       " <a list of 10 Patch objects>)"
      ]
     },
     "execution_count": 7,
     "metadata": {},
     "output_type": "execute_result"
    },
    {
     "data": {
      "image/png": "[encoded data removed]",
      "text/plain": [
       "<Figure size 432x288 with 1 Axes>"
      ]
     },
     "metadata": {
      "needs_background": "light"
     },
     "output_type": "display_data"
    }
   ],
   "source": [
    "plt.hist(iqr_store)"
   ]
  },
  {
   "cell_type": "code",
   "execution_count": 12,
   "metadata": {},
   "outputs": [
    {
     "data": {
      "text/plain": [
       "0.9983305903563783"
      ]
     },
     "execution_count": 12,
     "metadata": {},
     "output_type": "execute_result"
    }
   ],
   "source": [
    "np.mean(iqr_store) / 1.349"
   ]
  },
  {
   "cell_type": "code",
   "execution_count": 9,
   "metadata": {},
   "outputs": [
    {
     "data": {
      "text/plain": [
       "(array([ 72., 147., 133., 129.,  98.,  51.,  48.,  50.,  48.,  34.,  19.,\n",
       "         16.,  25.,  14.,  10.,  13.,   8.,   5.,   9.,  10.,   3.,   5.,\n",
       "          2.,   5.,   7.,   1.,   4.,   2.,   1.,   2.,   3.,   2.,   1.,\n",
       "          2.,   2.,   0.,   1.,   1.,   0.,   1.,   0.,   1.,   1.,   0.,\n",
       "          1.,   0.,   1.,   1.,   0.,   1.,   0.,   1.,   0.,   0.,   0.,\n",
       "          0.,   2.,   0.,   0.,   0.,   0.,   2.,   0.,   0.,   0.,   0.,\n",
       "          0.,   0.,   0.,   1.,   0.,   0.,   0.,   0.,   0.,   0.,   0.,\n",
       "          0.,   0.,   0.,   0.,   0.,   0.,   0.,   1.,   0.,   0.,   0.,\n",
       "          0.,   1.,   1.,   0.,   0.,   0.,   0.,   0.,   0.,   0.,   0.,\n",
       "          1.]),\n",
       " array([1.87870613e-02, 2.53448856e-01, 4.88110651e-01, 7.22772446e-01,\n",
       "        9.57434241e-01, 1.19209604e+00, 1.42675783e+00, 1.66141963e+00,\n",
       "        1.89608142e+00, 2.13074322e+00, 2.36540501e+00, 2.60006681e+00,\n",
       "        2.83472860e+00, 3.06939040e+00, 3.30405219e+00, 3.53871399e+00,\n",
       "        3.77337578e+00, 4.00803758e+00, 4.24269937e+00, 4.47736117e+00,\n",
       "        4.71202296e+00, 4.94668475e+00, 5.18134655e+00, 5.41600834e+00,\n",
       "        5.65067014e+00, 5.88533193e+00, 6.11999373e+00, 6.35465552e+00,\n",
       "        6.58931732e+00, 6.82397911e+00, 7.05864091e+00, 7.29330270e+00,\n",
       "        7.52796450e+00, 7.76262629e+00, 7.99728809e+00, 8.23194988e+00,\n",
       "        8.46661168e+00, 8.70127347e+00, 8.93593527e+00, 9.17059706e+00,\n",
       "        9.40525886e+00, 9.63992065e+00, 9.87458245e+00, 1.01092442e+01,\n",
       "        1.03439060e+01, 1.05785678e+01, 1.08132296e+01, 1.10478914e+01,\n",
       "        1.12825532e+01, 1.15172150e+01, 1.17518768e+01, 1.19865386e+01,\n",
       "        1.22212004e+01, 1.24558622e+01, 1.26905240e+01, 1.29251858e+01,\n",
       "        1.31598476e+01, 1.33945094e+01, 1.36291712e+01, 1.38638330e+01,\n",
       "        1.40984948e+01, 1.43331566e+01, 1.45678183e+01, 1.48024801e+01,\n",
       "        1.50371419e+01, 1.52718037e+01, 1.55064655e+01, 1.57411273e+01,\n",
       "        1.59757891e+01, 1.62104509e+01, 1.64451127e+01, 1.66797745e+01,\n",
       "        1.69144363e+01, 1.71490981e+01, 1.73837599e+01, 1.76184217e+01,\n",
       "        1.78530835e+01, 1.80877453e+01, 1.83224071e+01, 1.85570689e+01,\n",
       "        1.87917307e+01, 1.90263925e+01, 1.92610542e+01, 1.94957160e+01,\n",
       "        1.97303778e+01, 1.99650396e+01, 2.01997014e+01, 2.04343632e+01,\n",
       "        2.06690250e+01, 2.09036868e+01, 2.11383486e+01, 2.13730104e+01,\n",
       "        2.16076722e+01, 2.18423340e+01, 2.20769958e+01, 2.23116576e+01,\n",
       "        2.25463194e+01, 2.27809812e+01, 2.30156430e+01, 2.32503048e+01,\n",
       "        2.34849666e+01]),\n",
       " <a list of 100 Patch objects>)"
      ]
     },
     "execution_count": 9,
     "metadata": {},
     "output_type": "execute_result"
    },
    {
     "data": {
      "image/png": "[encoded data removed]",
      "text/plain": [
       "<Figure size 432x288 with 1 Axes>"
      ]
     },
     "metadata": {
      "needs_background": "light"
     },
     "output_type": "display_data"
    }
   ],
   "source": [
    "plt.hist(helper.log_normal(mean=0,sigma=1,w=np.arange(1000)),bins=100)"
   ]
  },
  {
   "cell_type": "code",
   "execution_count": 22,
   "metadata": {
    "pycharm": {
     "name": "#%%\n"
    }
   },
   "outputs": [
    {
     "data": {
      "text/plain": [
       "(array([1.000e+00, 0.000e+00, 0.000e+00, 0.000e+00, 0.000e+00, 0.000e+00,\n",
       "        0.000e+00, 2.000e+00, 1.000e+00, 2.000e+00, 3.000e+00, 2.000e+00,\n",
       "        2.000e+00, 8.000e+00, 6.000e+00, 5.000e+00, 1.200e+01, 1.800e+01,\n",
       "        1.700e+01, 1.900e+01, 3.800e+01, 4.700e+01, 6.900e+01, 7.700e+01,\n",
       "        1.040e+02, 1.320e+02, 1.600e+02, 1.970e+02, 2.690e+02, 3.170e+02,\n",
       "        3.990e+02, 4.510e+02, 5.990e+02, 6.590e+02, 7.930e+02, 8.910e+02,\n",
       "        1.115e+03, 1.284e+03, 1.359e+03, 1.629e+03, 1.790e+03, 2.008e+03,\n",
       "        2.218e+03, 2.369e+03, 2.674e+03, 2.856e+03, 3.034e+03, 3.219e+03,\n",
       "        3.309e+03, 3.409e+03, 3.567e+03, 3.585e+03, 3.687e+03, 3.704e+03,\n",
       "        3.735e+03, 3.610e+03, 3.422e+03, 3.364e+03, 3.343e+03, 3.095e+03,\n",
       "        2.987e+03, 2.714e+03, 2.532e+03, 2.388e+03, 2.204e+03, 1.951e+03,\n",
       "        1.780e+03, 1.628e+03, 1.371e+03, 1.276e+03, 1.069e+03, 9.680e+02,\n",
       "        8.270e+02, 6.680e+02, 5.460e+02, 4.810e+02, 4.220e+02, 3.390e+02,\n",
       "        2.650e+02, 1.870e+02, 1.490e+02, 1.190e+02, 1.030e+02, 9.500e+01,\n",
       "        6.400e+01, 3.900e+01, 3.800e+01, 1.900e+01, 2.300e+01, 2.400e+01,\n",
       "        8.000e+00, 9.000e+00, 6.000e+00, 5.000e+00, 2.000e+00, 4.000e+00,\n",
       "        2.000e+00, 1.000e+00, 1.000e+00, 1.000e+00]),\n",
       " array([-4.9247323 , -4.83265745, -4.7405826 , -4.64850776, -4.55643291,\n",
       "        -4.46435807, -4.37228322, -4.28020838, -4.18813353, -4.09605868,\n",
       "        -4.00398384, -3.91190899, -3.81983415, -3.7277593 , -3.63568446,\n",
       "        -3.54360961, -3.45153476, -3.35945992, -3.26738507, -3.17531023,\n",
       "        -3.08323538, -2.99116054, -2.89908569, -2.80701084, -2.714936  ,\n",
       "        -2.62286115, -2.53078631, -2.43871146, -2.34663662, -2.25456177,\n",
       "        -2.16248692, -2.07041208, -1.97833723, -1.88626239, -1.79418754,\n",
       "        -1.7021127 , -1.61003785, -1.517963  , -1.42588816, -1.33381331,\n",
       "        -1.24173847, -1.14966362, -1.05758878, -0.96551393, -0.87343908,\n",
       "        -0.78136424, -0.68928939, -0.59721455, -0.5051397 , -0.41306486,\n",
       "        -0.32099001, -0.22891516, -0.13684032, -0.04476547,  0.04730937,\n",
       "         0.13938422,  0.23145906,  0.32353391,  0.41560876,  0.5076836 ,\n",
       "         0.59975845,  0.69183329,  0.78390814,  0.87598298,  0.96805783,\n",
       "         1.06013268,  1.15220752,  1.24428237,  1.33635721,  1.42843206,\n",
       "         1.5205069 ,  1.61258175,  1.7046566 ,  1.79673144,  1.88880629,\n",
       "         1.98088113,  2.07295598,  2.16503082,  2.25710567,  2.34918052,\n",
       "         2.44125536,  2.53333021,  2.62540505,  2.7174799 ,  2.80955474,\n",
       "         2.90162959,  2.99370444,  3.08577928,  3.17785413,  3.26992897,\n",
       "         3.36200382,  3.45407866,  3.54615351,  3.63822836,  3.7303032 ,\n",
       "         3.82237805,  3.91445289,  4.00652774,  4.09860258,  4.19067743,\n",
       "         4.28275228]),\n",
       " <a list of 100 Patch objects>)"
      ]
     },
     "execution_count": 22,
     "metadata": {},
     "output_type": "execute_result"
    },
    {
     "data": {
      "image/png": "[encoded data removed]",
      "text/plain": [
       "<Figure size 432x288 with 1 Axes>"
      ]
     },
     "metadata": {
      "needs_background": "light"
     },
     "output_type": "display_data"
    }
   ],
   "source": [
    "plt.hist(helper.student_t(w=np.arange(100000),v=10000),bins=100)\n"
   ]
  },
  {
   "cell_type": "code",
   "execution_count": 14,
   "metadata": {},
   "outputs": [
    {
     "data": {
      "image/png": "[encoded data removed]",
      "text/plain": [
       "<Figure size 432x288 with 1 Axes>"
      ]
     },
     "metadata": {
      "needs_background": "light"
     },
     "output_type": "display_data"
    }
   ],
   "source": [
    "k = helper.lognormal(mean=0,sigma=1,w=np.arange(1000))\n",
    "plt.hist(k - k.mean(),bins=1000)\n",
    "plt.show()"
   ]
  },
  {
   "cell_type": "code",
   "execution_count": null,
   "metadata": {},
   "outputs": [],
   "source": [
    "k = helper.lognormal(mean=0.1,sigma=1,w=np.arange(1000))\n",
    "plt.hist(k - k.mean(),bins=1000)\n",
    "plt.show()"
   ]
  },
  {
   "cell_type": "code",
   "execution_count": null,
   "metadata": {},
   "outputs": [],
   "source": [
    "helper.iqr(k)"
   ]
  },
  {
   "cell_type": "code",
   "execution_count": null,
   "metadata": {},
   "outputs": [],
   "source": [
    "w_init = np.array([3,3])\n",
    "_t_max = 3000\n",
    "f = model_opt.RosenBrock()\n",
    "\n",
    "\n",
    "w_star = f.w_star\n",
    "\n",
    "last_w_store = []\n",
    "iqr_store = []\n",
    "for i in range(10):\n",
    "    var = np.random.randint(1,300,1)[0]\n",
    "    noise = helper.gauss\n",
    "    f = model_opt.RosenBrock(noise=noise,var=var)\n",
    "    algo = algo_GD.SGD(w_init=w_init,t_max=_t_max,a=0.00078)\n",
    "    for i in algo:\n",
    "        algo.update(model=f)\n",
    "        \n",
    "    iqr_store.append(helper.iqr(algo.noise_store))\n",
    "    last_w_store.append(algo.w)\n",
    "        \n",
    "\n",
    "    "
   ]
  },
  {
   "cell_type": "code",
   "execution_count": null,
   "metadata": {},
   "outputs": [],
   "source": [
    "last_w_store"
   ]
  },
  {
   "cell_type": "code",
   "execution_count": null,
   "metadata": {},
   "outputs": [],
   "source": [
    "\n",
    "w_init = np.array([3,3])\n",
    "_t_max = 1000\n",
    "algo = algo_GD.SGD(w_init=w_init,t_max=_t_max,a=0.00078)\n",
    "w_star = f.w_star\n",
    "f = model_opt.RosenBrock(noise=noise,var=100)\n",
    "for i in tqdm(algo):\n",
    "    algo.update(model=f)\n",
    "    \n",
    "w_store = np.array(algo.wstore)\n",
    "grid_x_min = min(w_store.T[0].min(),w_star[0])-1\n",
    "grid_x_max = max(w_store.T[0].max(),w_star[0])+1\n",
    "grid_y_min = min(w_store.T[1].min(),w_star[1])-1\n",
    "grid_y_max = max(w_store.T[1].max(),w_star[1])+1\n",
    "xvals = np.arange(grid_x_min,grid_x_max, 0.1)\n",
    "yvals = np.arange(grid_y_min,grid_y_max, 0.1)\n",
    "X, Y = np.meshgrid(xvals, yvals)\n",
    "Z = f.f_opt([X,Y])\n",
    "\n",
    "fig, axes = plt.subplots(1,1, figsize=(6,6))\n",
    "axes.pcolor(X, Y, Z,cmap=plt.cm.rainbow)\n",
    "# wの軌跡\n",
    "axes.plot(w_store.T[0],w_store.T[1],c = \"k\",alpha=1,linewidth = 0.5)\n",
    "c = np.linspace(0, _t_max, len(w_store))\n",
    "axes.scatter(w_store.T[0],w_store.T[1],c=c,cmap = plt.cm.hot ,linewidths=0.01,alpha=1,s=10)\n",
    "axes.plot(w_store.T[0],w_store.T[1],c=\"k\",alpha=0.2,linewidth=1)\n",
    "# 始点(黄色)、終点（緑）、真値（赤）\n",
    "axes.plot(*w_store[0], 'ys', markersize=5)\n",
    "axes.plot(*w_store[-1], 'gs', markersize=5)\n",
    "axes.plot(*w_star, 'r*', markersize=8)\n",
    "\n",
    "#カラーバーの設定\n",
    "axpos = axes.get_position()\n",
    "cbar_ax = fig.add_axes([0.9, axpos.y0, 0.03, axpos.height])\n",
    "norm = colors.Normalize(vmin=Z.min(),vmax=Z.max())\n",
    "mappable = ScalarMappable(cmap=plt.cm.rainbow,norm=norm)\n",
    "mappable._A = []\n",
    "fig.colorbar(mappable, cax=cbar_ax)\n",
    "\n",
    "#余白の調整\n",
    "plt.subplots_adjust(right=0.85)\n",
    "plt.subplots_adjust(wspace=0.1)\n",
    "\n",
    "plt.show()"
   ]
  },
  {
   "cell_type": "code",
   "execution_count": null,
   "metadata": {},
   "outputs": [],
   "source": [
    "#ノイズを記録したもの。そのIQRについて調べている。\n",
    "noise_norm = np.array(algo.noise_store).flatten()\n",
    "helper.iqr(noise_norm)"
   ]
  },
  {
   "cell_type": "code",
   "execution_count": null,
   "metadata": {},
   "outputs": [],
   "source": [
    "print(k)\n"
   ]
  },
  {
   "cell_type": "code",
   "execution_count": null,
   "metadata": {},
   "outputs": [],
   "source": []
  }
 ],
 "metadata": {
  "kernelspec": {
   "display_name": "Python 3",
   "language": "python",
   "name": "python3"
  },
  "language_info": {
   "codemirror_mode": {
    "name": "ipython",
    "version": 3
   },
   "file_extension": ".py",
   "mimetype": "text/x-python",
   "name": "python",
   "nbconvert_exporter": "python",
   "pygments_lexer": "ipython3",
   "version": "3.7.3"
  }
 },
 "nbformat": 4,
 "nbformat_minor": 4
}