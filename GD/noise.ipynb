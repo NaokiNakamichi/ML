{
 "cells": [
  {
   "cell_type": "code",
   "execution_count": 1,
   "metadata": {},
   "outputs": [],
   "source": [
    "import numpy as np\n",
    "import random\n",
    "import multiprocessing as mproc\n",
    "import matplotlib.pyplot as plt\n",
    "import tqdm\n",
    "from tqdm.notebook import tqdm as tqdm\n",
    "import matplotlib.colors as colors\n",
    "from matplotlib.cm import ScalarMappable\n",
    "\n",
    "import model_opt\n",
    "import algo_GD\n",
    "import helper"
   ]
  },
  {
   "cell_type": "code",
   "execution_count": 2,
   "metadata": {},
   "outputs": [],
   "source": [
    "w_init = np.array([3,3])\n",
    "_t_max = 2\n",
    "f = model_opt.RosenBrock()"
   ]
  },
  {
   "cell_type": "code",
   "execution_count": 3,
   "metadata": {},
   "outputs": [
    {
     "data": {
      "text/plain": [
       "2877.6180382728203"
      ]
     },
     "execution_count": 3,
     "metadata": {},
     "output_type": "execute_result"
    }
   ],
   "source": [
    "# b <= x_1 <= a , b <= x_2 <= a において一様にランダムな点をn回とり、勾配ノルムの平均を測定\n",
    "helper.grad_norm(model=f,a=3,b=-3,n=10000)"
   ]
  },
  {
   "cell_type": "code",
   "execution_count": 4,
   "metadata": {},
   "outputs": [
    {
     "ename": "NameError",
     "evalue": "name 'first_result' is not defined",
     "output_type": "error",
     "traceback": [
      "\u001b[0;31m---------------------------------------------------------------------------\u001b[0m",
      "\u001b[0;31mNameError\u001b[0m                                 Traceback (most recent call last)",
      "\u001b[0;32m<ipython-input-4-c505828c0eba>\u001b[0m in \u001b[0;36m<module>\u001b[0;34m\u001b[0m\n\u001b[0;32m----> 1\u001b[0;31m \u001b[0mfirst_result\u001b[0m\u001b[0;34m\u001b[0m\u001b[0;34m\u001b[0m\u001b[0m\n\u001b[0m",
      "\u001b[0;31mNameError\u001b[0m: name 'first_result' is not defined"
     ]
    }
   ],
   "source": [
    "first_result"
   ]
  },
  {
   "cell_type": "code",
   "execution_count": null,
   "metadata": {},
   "outputs": [],
   "source": [
    "x = np.arange(10)\n",
    "noise = helper.gauss(x)\n",
    "k = helper.iqr(noise)"
   ]
  },
  {
   "cell_type": "code",
   "execution_count": null,
   "metadata": {},
   "outputs": [],
   "source": [
    "k"
   ]
  },
  {
   "cell_type": "code",
   "execution_count": null,
   "metadata": {},
   "outputs": [],
   "source": [
    "iqr_store = []\n",
    "for i in range(1000):\n",
    "    x = np.arange(1000)\n",
    "    noise = helper.gauss(x,mean=0,sigma=1)\n",
    "    k = helper.iqr(noise)\n",
    "    iqr_store.append(k)"
   ]
  },
  {
   "cell_type": "code",
   "execution_count": null,
   "metadata": {},
   "outputs": [],
   "source": [
    "plt.hist(iqr_store)"
   ]
  },
  {
   "cell_type": "code",
   "execution_count": null,
   "metadata": {},
   "outputs": [],
   "source": [
    "np.mean(iqr_store) / 1.349"
   ]
  },
  {
   "cell_type": "code",
   "execution_count": null,
   "metadata": {},
   "outputs": [],
   "source": [
    "plt.hist(helper.lognormal(mean=0,sigma=1,w=np.arange(1000)),bins=100)"
   ]
  },
  {
   "cell_type": "code",
   "execution_count": null,
   "metadata": {},
   "outputs": [],
   "source": [
    "k = helper.lognormal(mean=0,sigma=1,w=np.arange(1000))\n",
    "plt.hist(k - k.mean(),bins=1000)\n",
    "plt.show()"
   ]
  },
  {
   "cell_type": "code",
   "execution_count": null,
   "metadata": {},
   "outputs": [],
   "source": [
    "k = helper.lognormal(mean=0.1,sigma=1,w=np.arange(1000))\n",
    "plt.hist(k - k.mean(),bins=1000)\n",
    "plt.show()"
   ]
  },
  {
   "cell_type": "code",
   "execution_count": null,
   "metadata": {},
   "outputs": [],
   "source": [
    "helper.iqr(k)"
   ]
  },
  {
   "cell_type": "code",
   "execution_count": null,
   "metadata": {},
   "outputs": [],
   "source": [
    "w_init = np.array([3,3])\n",
    "_t_max = 3000\n",
    "f = model_opt.RosenBrock()\n",
    "\n",
    "\n",
    "w_star = f.w_star\n",
    "\n",
    "last_w_store = []\n",
    "iqr_store = []\n",
    "for i in range(10):\n",
    "    var = np.random.randint(1,300,1)[0]\n",
    "    noise = helper.gauss\n",
    "    f = model_opt.RosenBrock(noise=noise,var=var)\n",
    "    algo = algo_GD.SGD(w_init=w_init,t_max=_t_max,a=0.00078)\n",
    "    for i in algo:\n",
    "        algo.update(model=f)\n",
    "        \n",
    "    iqr_store.append(helper.iqr(algo.noise_store))\n",
    "    last_w_store.append(algo.w)\n",
    "        \n",
    "\n",
    "    "
   ]
  },
  {
   "cell_type": "code",
   "execution_count": null,
   "metadata": {},
   "outputs": [],
   "source": [
    "last_w_store"
   ]
  },
  {
   "cell_type": "code",
   "execution_count": null,
   "metadata": {},
   "outputs": [],
   "source": [
    "\n",
    "w_init = np.array([3,3])\n",
    "_t_max = 1000\n",
    "algo = algo_GD.SGD(w_init=w_init,t_max=_t_max,a=0.00078)\n",
    "w_star = f.w_star\n",
    "f = model_opt.RosenBrock(noise=noise,var=100)\n",
    "for i in tqdm(algo):\n",
    "    algo.update(model=f)\n",
    "    \n",
    "w_store = np.array(algo.wstore)\n",
    "grid_x_min = min(w_store.T[0].min(),w_star[0])-1\n",
    "grid_x_max = max(w_store.T[0].max(),w_star[0])+1\n",
    "grid_y_min = min(w_store.T[1].min(),w_star[1])-1\n",
    "grid_y_max = max(w_store.T[1].max(),w_star[1])+1\n",
    "xvals = np.arange(grid_x_min,grid_x_max, 0.1)\n",
    "yvals = np.arange(grid_y_min,grid_y_max, 0.1)\n",
    "X, Y = np.meshgrid(xvals, yvals)\n",
    "Z = f.f_opt([X,Y])\n",
    "\n",
    "fig, axes = plt.subplots(1,1, figsize=(6,6))\n",
    "axes.pcolor(X, Y, Z,cmap=plt.cm.rainbow)\n",
    "# wの軌跡\n",
    "axes.plot(w_store.T[0],w_store.T[1],c = \"k\",alpha=1,linewidth = 0.5)\n",
    "c = np.linspace(0, _t_max, len(w_store))\n",
    "axes.scatter(w_store.T[0],w_store.T[1],c=c,cmap = plt.cm.hot ,linewidths=0.01,alpha=1,s=10)\n",
    "axes.plot(w_store.T[0],w_store.T[1],c=\"k\",alpha=0.2,linewidth=1)\n",
    "# 始点(黄色)、終点（緑）、真値（赤）\n",
    "axes.plot(*w_store[0], 'ys', markersize=5)\n",
    "axes.plot(*w_store[-1], 'gs', markersize=5)\n",
    "axes.plot(*w_star, 'r*', markersize=8)\n",
    "\n",
    "#カラーバーの設定\n",
    "axpos = axes.get_position()\n",
    "cbar_ax = fig.add_axes([0.9, axpos.y0, 0.03, axpos.height])\n",
    "norm = colors.Normalize(vmin=Z.min(),vmax=Z.max())\n",
    "mappable = ScalarMappable(cmap=plt.cm.rainbow,norm=norm)\n",
    "mappable._A = []\n",
    "fig.colorbar(mappable, cax=cbar_ax)\n",
    "\n",
    "#余白の調整\n",
    "plt.subplots_adjust(right=0.85)\n",
    "plt.subplots_adjust(wspace=0.1)\n",
    "\n",
    "plt.show()"
   ]
  },
  {
   "cell_type": "code",
   "execution_count": null,
   "metadata": {},
   "outputs": [],
   "source": [
    "#ノイズを記録したもの。そのIQRについて調べている。\n",
    "noise_norm = np.array(algo.noise_store).flatten()\n",
    "helper.iqr(noise_norm)"
   ]
  },
  {
   "cell_type": "code",
   "execution_count": null,
   "metadata": {},
   "outputs": [],
   "source": []
  },
  {
   "cell_type": "code",
   "execution_count": null,
   "metadata": {},
   "outputs": [],
   "source": []
  }
 ],
 "metadata": {
  "kernelspec": {
   "display_name": "Python 3",
   "language": "python",
   "name": "python3"
  },
  "language_info": {
   "codemirror_mode": {
    "name": "ipython",
    "version": 3
   },
   "file_extension": ".py",
   "mimetype": "text/x-python",
   "name": "python",
   "nbconvert_exporter": "python",
   "pygments_lexer": "ipython3",
   "version": "3.7.3"
  }
 },
 "nbformat": 4,
 "nbformat_minor": 4
}
