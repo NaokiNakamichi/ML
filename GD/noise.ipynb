{
 "cells": [
  {
   "cell_type": "code",
   "execution_count": 1,
   "metadata": {},
   "outputs": [],
   "source": [
    "import numpy as np\n",
    "import random\n",
    "import multiprocessing as mproc\n",
    "import matplotlib.pyplot as plt\n",
    "\n",
    "import scipy as sp\n",
    "\n",
    "import model_opt\n",
    "import data_generate\n",
    "import algo_GD\n",
    "import helper"
   ]
  },
  {
   "cell_type": "code",
   "execution_count": 2,
   "metadata": {},
   "outputs": [],
   "source": [
    "noise = helper.pareto\n",
    "f = model_opt.RosenBrock(err = 100,noise=noise)\n",
    "w = np.array([3,3])"
   ]
  },
  {
   "cell_type": "code",
   "execution_count": 3,
   "metadata": {},
   "outputs": [],
   "source": [
    "f.noise\n",
    "_t_max = 2\n",
    "algo = algo_GD.SGD(w_init=w,t_max=_t_max,a=0.0007)"
   ]
  },
  {
   "cell_type": "code",
   "execution_count": 4,
   "metadata": {},
   "outputs": [],
   "source": [
    "algo.update(model=f)"
   ]
  },
  {
   "cell_type": "code",
   "execution_count": 5,
   "metadata": {},
   "outputs": [
    {
     "data": {
      "text/plain": [
       "array([-2.04344183,  3.83935817])"
      ]
     },
     "execution_count": 5,
     "metadata": {},
     "output_type": "execute_result"
    }
   ],
   "source": [
    "algo.w"
   ]
  },
  {
   "cell_type": "code",
   "execution_count": null,
   "metadata": {},
   "outputs": [],
   "source": []
  },
  {
   "cell_type": "code",
   "execution_count": 6,
   "metadata": {},
   "outputs": [],
   "source": [
    "if __name__ == \"__main__\":\n",
    "    \n",
    "    # 自分のマシンでコアが４or6\n",
    "    cpu_count = mproc.cpu_count()\n",
    "    mypool = mproc.Pool(cpu_count)\n",
    "    w = np.ones(cpu_count)\n",
    "    first_result = mypool.map(func=helper.pareto, iterable=w)\n",
    "    \n",
    "    mypool.close() # important for stopping memory leaks.\n",
    "    mypool.join() # wait for all workers to exit."
   ]
  },
  {
   "cell_type": "code",
   "execution_count": 7,
   "metadata": {},
   "outputs": [
    {
     "data": {
      "text/plain": [
       "[1.3090321335200796, 0.0760153886271413, 0.526974676031116, 1.3255613719398052]"
      ]
     },
     "execution_count": 7,
     "metadata": {},
     "output_type": "execute_result"
    }
   ],
   "source": [
    "first_result"
   ]
  },
  {
   "cell_type": "code",
   "execution_count": 8,
   "metadata": {},
   "outputs": [],
   "source": [
    "x = np.arange(10)\n",
    "noise = helper.gauss(x)\n",
    "k = helper.iqr(noise)"
   ]
  },
  {
   "cell_type": "code",
   "execution_count": 9,
   "metadata": {},
   "outputs": [
    {
     "data": {
      "text/plain": [
       "1.5155227078849602"
      ]
     },
     "execution_count": 9,
     "metadata": {},
     "output_type": "execute_result"
    }
   ],
   "source": [
    "k"
   ]
  },
  {
   "cell_type": "code",
   "execution_count": 10,
   "metadata": {},
   "outputs": [],
   "source": [
    "iqr_store = []\n",
    "for i in range(10000):\n",
    "    x = np.arange(10000)\n",
    "    noise = helper.gauss(x,scale=100,loc=0)\n",
    "    k = helper.iqr(noise)\n",
    "    iqr_store.append(k)"
   ]
  },
  {
   "cell_type": "code",
   "execution_count": 11,
   "metadata": {},
   "outputs": [
    {
     "data": {
      "text/plain": [
       "(array([2.000e+00, 3.700e+01, 2.220e+02, 1.066e+03, 2.429e+03, 3.017e+03,\n",
       "        2.092e+03, 9.200e+02, 1.900e+02, 2.500e+01]),\n",
       " array([128.20083896, 129.42872896, 130.65661895, 131.88450895,\n",
       "        133.11239895, 134.34028894, 135.56817894, 136.79606893,\n",
       "        138.02395893, 139.25184892, 140.47973892]),\n",
       " <a list of 10 Patch objects>)"
      ]
     },
     "execution_count": 11,
     "metadata": {},
     "output_type": "execute_result"
    },
    {
     "data": {
      "image/png": "[encoded data removed]",
      "text/plain": [
       "<Figure size 432x288 with 1 Axes>"
      ]
     },
     "metadata": {
      "needs_background": "light"
     },
     "output_type": "display_data"
    }
   ],
   "source": [
    "plt.hist(iqr_store)"
   ]
  },
  {
   "cell_type": "code",
   "execution_count": 12,
   "metadata": {},
   "outputs": [
    {
     "data": {
      "text/plain": [
       "99.96391116626194"
      ]
     },
     "execution_count": 12,
     "metadata": {},
     "output_type": "execute_result"
    }
   ],
   "source": [
    "np.mean(iqr_store) / 1.349"
   ]
  },
  {
   "cell_type": "code",
   "execution_count": 13,
   "metadata": {},
   "outputs": [
    {
     "data": {
      "text/plain": [
       "(array([ 1.,  0.,  0.,  0.,  0.,  1.,  0.,  0.,  0.,  2.,  0.,  2.,  1.,\n",
       "         2.,  2.,  1.,  4.,  5.,  5.,  1.,  5.,  6.,  3.,  8.,  4.,  8.,\n",
       "        10., 15., 10., 12., 12.,  9., 17., 11., 23., 15., 28., 25., 26.,\n",
       "        27., 19., 14., 27., 29., 17., 23., 29., 21., 26., 29., 36., 18.,\n",
       "        30., 27., 24., 26., 21., 23., 21., 15., 14., 29., 22., 15., 11.,\n",
       "        17., 12., 12.,  7., 12., 10.,  8.,  2.,  4.,  6.,  9.,  5.,  3.,\n",
       "         1.,  2.,  4.,  1.,  1.,  1.,  4.,  1.,  1.,  1.,  0.,  1.,  1.,\n",
       "         2.,  0.,  1.,  3.,  0.,  0.,  0.,  0.,  1.]),\n",
       " array([0.75917981, 0.76647175, 0.77376369, 0.78105562, 0.78834756,\n",
       "        0.7956395 , 0.80293144, 0.81022337, 0.81751531, 0.82480725,\n",
       "        0.83209918, 0.83939112, 0.84668306, 0.853975  , 0.86126693,\n",
       "        0.86855887, 0.87585081, 0.88314274, 0.89043468, 0.89772662,\n",
       "        0.90501855, 0.91231049, 0.91960243, 0.92689437, 0.9341863 ,\n",
       "        0.94147824, 0.94877018, 0.95606211, 0.96335405, 0.97064599,\n",
       "        0.97793792, 0.98522986, 0.9925218 , 0.99981374, 1.00710567,\n",
       "        1.01439761, 1.02168955, 1.02898148, 1.03627342, 1.04356536,\n",
       "        1.05085729, 1.05814923, 1.06544117, 1.07273311, 1.08002504,\n",
       "        1.08731698, 1.09460892, 1.10190085, 1.10919279, 1.11648473,\n",
       "        1.12377666, 1.1310686 , 1.13836054, 1.14565248, 1.15294441,\n",
       "        1.16023635, 1.16752829, 1.17482022, 1.18211216, 1.1894041 ,\n",
       "        1.19669603, 1.20398797, 1.21127991, 1.21857185, 1.22586378,\n",
       "        1.23315572, 1.24044766, 1.24773959, 1.25503153, 1.26232347,\n",
       "        1.26961541, 1.27690734, 1.28419928, 1.29149122, 1.29878315,\n",
       "        1.30607509, 1.31336703, 1.32065896, 1.3279509 , 1.33524284,\n",
       "        1.34253478, 1.34982671, 1.35711865, 1.36441059, 1.37170252,\n",
       "        1.37899446, 1.3862864 , 1.39357833, 1.40087027, 1.40816221,\n",
       "        1.41545415, 1.42274608, 1.43003802, 1.43732996, 1.44462189,\n",
       "        1.45191383, 1.45920577, 1.4664977 , 1.47378964, 1.48108158,\n",
       "        1.48837352]),\n",
       " <a list of 100 Patch objects>)"
      ]
     },
     "execution_count": 13,
     "metadata": {},
     "output_type": "execute_result"
    },
    {
     "data": {
      "image/png": "[encoded data removed]",
      "text/plain": [
       "<Figure size 432x288 with 1 Axes>"
      ]
     },
     "metadata": {
      "needs_background": "light"
     },
     "output_type": "display_data"
    }
   ],
   "source": [
    "plt.hist(helper.lognormal(mean=0.1,sigma=0.1,w=np.arange(1000)),bins=100)"
   ]
  },
  {
   "cell_type": "code",
   "execution_count": 14,
   "metadata": {},
   "outputs": [
    {
     "data": {
      "image/png": "[encoded data removed]",
      "text/plain": [
       "<Figure size 432x288 with 1 Axes>"
      ]
     },
     "metadata": {
      "needs_background": "light"
     },
     "output_type": "display_data"
    }
   ],
   "source": [
    "k = helper.lognormal(mean=0.1,sigma=0.1,w=np.arange(1000))\n",
    "plt.hist(k - k.mean(),bins=1000)\n",
    "plt.show()"
   ]
  },
  {
   "cell_type": "code",
   "execution_count": 15,
   "metadata": {},
   "outputs": [
    {
     "data": {
      "image/png": "[encoded data removed]",
      "text/plain": [
       "<Figure size 432x288 with 1 Axes>"
      ]
     },
     "metadata": {
      "needs_background": "light"
     },
     "output_type": "display_data"
    }
   ],
   "source": [
    "k = helper.lognormal(mean=0.1,sigma=1,w=np.arange(1000))\n",
    "plt.hist(k - k.mean(),bins=1000)\n",
    "plt.show()"
   ]
  },
  {
   "cell_type": "code",
   "execution_count": 16,
   "metadata": {},
   "outputs": [
    {
     "data": {
      "text/plain": [
       "1.611299948703655"
      ]
     },
     "execution_count": 16,
     "metadata": {},
     "output_type": "execute_result"
    }
   ],
   "source": [
    "helper.iqr(k)"
   ]
  },
  {
   "cell_type": "code",
   "execution_count": null,
   "metadata": {},
   "outputs": [],
   "source": []
  }
 ],
 "metadata": {
  "kernelspec": {
   "display_name": "Python 3",
   "language": "python",
   "name": "python3"
  },
  "language_info": {
   "codemirror_mode": {
    "name": "ipython",
    "version": 3
   },
   "file_extension": ".py",
   "mimetype": "text/x-python",
   "name": "python",
   "nbconvert_exporter": "python",
   "pygments_lexer": "ipython3",
   "version": "3.7.3"
  }
 },
 "nbformat": 4,
 "nbformat_minor": 4
}
