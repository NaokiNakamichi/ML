{
 "cells": [
  {
   "cell_type": "code",
   "execution_count": 1,
   "metadata": {},
   "outputs": [],
   "source": [
    "import numpy as np\n",
    "import random\n",
    "import multiprocessing as mproc\n",
    "import matplotlib.pyplot as plt\n",
    "\n",
    "\n",
    "import model_opt\n",
    "import data_generate\n",
    "import algo_GD\n",
    "import helper"
   ]
  },
  {
   "cell_type": "code",
   "execution_count": 2,
   "metadata": {},
   "outputs": [],
   "source": [
    "noise = helper.pareto\n",
    "f = model_opt.RosenBrock(err = 100,noise=noise)\n",
    "w = np.array([3,3])"
   ]
  },
  {
   "cell_type": "code",
   "execution_count": 3,
   "metadata": {},
   "outputs": [],
   "source": [
    "f.noise\n",
    "_t_max = 2\n",
    "algo = algo_GD.SGD(w_init=w,t_max=_t_max,a=0.0007)"
   ]
  },
  {
   "cell_type": "code",
   "execution_count": 4,
   "metadata": {},
   "outputs": [],
   "source": [
    "algo.update(model=f)"
   ]
  },
  {
   "cell_type": "code",
   "execution_count": 5,
   "metadata": {},
   "outputs": [
    {
     "data": {
      "text/plain": [
       "array([-2.04343626,  3.83936374])"
      ]
     },
     "execution_count": 5,
     "metadata": {},
     "output_type": "execute_result"
    }
   ],
   "source": [
    "algo.w"
   ]
  },
  {
   "cell_type": "code",
   "execution_count": null,
   "metadata": {},
   "outputs": [],
   "source": []
  },
  {
   "cell_type": "code",
   "execution_count": 6,
   "metadata": {},
   "outputs": [],
   "source": [
    "if __name__ == \"__main__\":\n",
    "    \n",
    "    # 自分のマシンでコアが４or6\n",
    "    cpu_count = mproc.cpu_count()\n",
    "    mypool = mproc.Pool(cpu_count)\n",
    "    w = np.ones(cpu_count)\n",
    "    first_result = mypool.map(func=helper.pareto, iterable=w)\n",
    "    \n",
    "    mypool.close() # important for stopping memory leaks.\n",
    "    mypool.join() # wait for all workers to exit."
   ]
  },
  {
   "cell_type": "code",
   "execution_count": 7,
   "metadata": {},
   "outputs": [
    {
     "data": {
      "text/plain": [
       "[0.4616299434229636,\n",
       " 0.3954600563715278,\n",
       " 0.30734072860205486,\n",
       " 0.7942359038724005,\n",
       " 1.1874870797871377,\n",
       " 0.8336591105856197]"
      ]
     },
     "execution_count": 7,
     "metadata": {},
     "output_type": "execute_result"
    }
   ],
   "source": [
    "first_result"
   ]
  },
  {
   "cell_type": "code",
   "execution_count": 8,
   "metadata": {},
   "outputs": [],
   "source": [
    "x = np.arange(10)\n",
    "noise = helper.gauss(x)\n",
    "k = helper.iqr(noise)"
   ]
  },
  {
   "cell_type": "code",
   "execution_count": 9,
   "metadata": {},
   "outputs": [
    {
     "data": {
      "text/plain": [
       "1.5777359941408629"
      ]
     },
     "execution_count": 9,
     "metadata": {},
     "output_type": "execute_result"
    }
   ],
   "source": [
    "k"
   ]
  },
  {
   "cell_type": "code",
   "execution_count": 72,
   "metadata": {},
   "outputs": [],
   "source": [
    "iqr_store = []\n",
    "for i in range(10000):\n",
    "    x = np.arange(10000)\n",
    "    noise = helper.gauss(x,scale=100,loc=0)\n",
    "    k = helper.iqr(noise)\n",
    "    iqr_store.append(k)"
   ]
  },
  {
   "cell_type": "code",
   "execution_count": 73,
   "metadata": {},
   "outputs": [
    {
     "data": {
      "text/plain": [
       "(array([  12.,   95.,  524., 1629., 2853., 2733., 1585.,  487.,   77.,\n",
       "           5.]),\n",
       " array([128.87804386, 130.08126018, 131.2844765 , 132.48769282,\n",
       "        133.69090914, 134.89412546, 136.09734178, 137.3005581 ,\n",
       "        138.50377442, 139.70699074, 140.91020706]),\n",
       " <a list of 10 Patch objects>)"
      ]
     },
     "execution_count": 73,
     "metadata": {},
     "output_type": "execute_result"
    },
    {
     "data": {
      "image/png": "[encoded data removed]",
      "text/plain": [
       "<Figure size 432x288 with 1 Axes>"
      ]
     },
     "metadata": {
      "needs_background": "light"
     },
     "output_type": "display_data"
    }
   ],
   "source": [
    "plt.hist(iqr_store)"
   ]
  },
  {
   "cell_type": "code",
   "execution_count": 74,
   "metadata": {},
   "outputs": [
    {
     "data": {
      "text/plain": [
       "99.97030303030233"
      ]
     },
     "execution_count": 74,
     "metadata": {},
     "output_type": "execute_result"
    }
   ],
   "source": [
    "np.mean(iqr_store) / 1.349"
   ]
  },
  {
   "cell_type": "code",
   "execution_count": 40,
   "metadata": {},
   "outputs": [
    {
     "data": {
      "text/plain": [
       "(array([ 1.,  2.,  1.,  0.,  0.,  0.,  1.,  0.,  0.,  0.,  1.,  1.,  1.,\n",
       "         5.,  2.,  3.,  3.,  7.,  4.,  4.,  9.,  6.,  9., 12., 15., 11.,\n",
       "         7., 15., 17., 14., 16., 17., 15., 19., 15., 20., 16., 19., 22.,\n",
       "        29., 24., 22., 23., 17., 28., 33., 27., 30., 31., 24., 27., 26.,\n",
       "        21., 23., 26., 27., 19., 10.,  8., 10., 13., 14., 13., 21., 18.,\n",
       "        19., 12., 10.,  6.,  3.,  7.,  7., 10.,  3.,  3.,  3.,  3.,  4.,\n",
       "         7.,  3.,  4.,  6.,  1.,  1.,  2.,  2.,  2.,  2.,  0.,  1.,  1.,\n",
       "         1.,  0.,  0.,  2.,  0.,  0.,  0.,  0.,  1.]),\n",
       " array([0.78223378, 0.78924907, 0.79626435, 0.80327964, 0.81029492,\n",
       "        0.81731021, 0.8243255 , 0.83134078, 0.83835607, 0.84537135,\n",
       "        0.85238664, 0.85940193, 0.86641721, 0.8734325 , 0.88044778,\n",
       "        0.88746307, 0.89447835, 0.90149364, 0.90850893, 0.91552421,\n",
       "        0.9225395 , 0.92955478, 0.93657007, 0.94358535, 0.95060064,\n",
       "        0.95761593, 0.96463121, 0.9716465 , 0.97866178, 0.98567707,\n",
       "        0.99269235, 0.99970764, 1.00672293, 1.01373821, 1.0207535 ,\n",
       "        1.02776878, 1.03478407, 1.04179936, 1.04881464, 1.05582993,\n",
       "        1.06284521, 1.0698605 , 1.07687578, 1.08389107, 1.09090636,\n",
       "        1.09792164, 1.10493693, 1.11195221, 1.1189675 , 1.12598278,\n",
       "        1.13299807, 1.14001336, 1.14702864, 1.15404393, 1.16105921,\n",
       "        1.1680745 , 1.17508979, 1.18210507, 1.18912036, 1.19613564,\n",
       "        1.20315093, 1.21016621, 1.2171815 , 1.22419679, 1.23121207,\n",
       "        1.23822736, 1.24524264, 1.25225793, 1.25927321, 1.2662885 ,\n",
       "        1.27330379, 1.28031907, 1.28733436, 1.29434964, 1.30136493,\n",
       "        1.30838022, 1.3153955 , 1.32241079, 1.32942607, 1.33644136,\n",
       "        1.34345664, 1.35047193, 1.35748722, 1.3645025 , 1.37151779,\n",
       "        1.37853307, 1.38554836, 1.39256364, 1.39957893, 1.40659422,\n",
       "        1.4136095 , 1.42062479, 1.42764007, 1.43465536, 1.44167064,\n",
       "        1.44868593, 1.45570122, 1.4627165 , 1.46973179, 1.47674707,\n",
       "        1.48376236]),\n",
       " <a list of 100 Patch objects>)"
      ]
     },
     "execution_count": 40,
     "metadata": {},
     "output_type": "execute_result"
    },
    {
     "data": {
      "image/png": "[encoded data removed]",
      "text/plain": [
       "<Figure size 432x288 with 1 Axes>"
      ]
     },
     "metadata": {
      "needs_background": "light"
     },
     "output_type": "display_data"
    }
   ],
   "source": [
    "plt.hist(helper.lognormal(mean=0.1,sigma=0.1,w=np.arange(1000)),bins=100)"
   ]
  },
  {
   "cell_type": "code",
   "execution_count": 49,
   "metadata": {},
   "outputs": [
    {
     "data": {
      "image/png": "[encoded data removed]",
      "text/plain": [
       "<Figure size 432x288 with 1 Axes>"
      ]
     },
     "metadata": {
      "needs_background": "light"
     },
     "output_type": "display_data"
    }
   ],
   "source": [
    "k = helper.lognormal(mean=0.1,sigma=0.1,w=np.arange(1000))\n",
    "plt.hist(k - k.mean(),bins=1000)\n",
    "plt.show()"
   ]
  },
  {
   "cell_type": "code",
   "execution_count": 55,
   "metadata": {},
   "outputs": [
    {
     "data": {
      "image/png": "[encoded data removed]",
      "text/plain": [
       "<Figure size 432x288 with 1 Axes>"
      ]
     },
     "metadata": {
      "needs_background": "light"
     },
     "output_type": "display_data"
    }
   ],
   "source": [
    "k = helper.lognormal(mean=0.1,sigma=1,w=np.arange(1000))\n",
    "plt.hist(k - k.mean(),bins=1000)\n",
    "plt.show()"
   ]
  },
  {
   "cell_type": "code",
   "execution_count": 56,
   "metadata": {},
   "outputs": [
    {
     "data": {
      "text/plain": [
       "1.495522724345386"
      ]
     },
     "execution_count": 56,
     "metadata": {},
     "output_type": "execute_result"
    }
   ],
   "source": [
    "helper.iqr(k)"
   ]
  },
  {
   "cell_type": "code",
   "execution_count": null,
   "metadata": {},
   "outputs": [],
   "source": []
  }
 ],
 "metadata": {
  "kernelspec": {
   "display_name": "Python 3",
   "language": "python",
   "name": "python3"
  },
  "language_info": {
   "codemirror_mode": {
    "name": "ipython",
    "version": 3
   },
   "file_extension": ".py",
   "mimetype": "text/x-python",
   "name": "python",
   "nbconvert_exporter": "python",
   "pygments_lexer": "ipython3",
   "version": "3.7.3"
  }
 },
 "nbformat": 4,
 "nbformat_minor": 4
}
