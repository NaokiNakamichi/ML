{
 "cells": [
  {
   "cell_type": "code",
   "execution_count": 1,
   "metadata": {},
   "outputs": [],
   "source": [
    "import numpy as np\n",
    "import random\n",
    "import multiprocessing as mproc\n",
    "import matplotlib.pyplot as plt\n",
    "import tqdm\n",
    "from tqdm.notebook import tqdm as tqdm\n",
    "import matplotlib.colors as colors\n",
    "from matplotlib.cm import ScalarMappable\n",
    "\n",
    "import model_opt\n",
    "import algo_GD\n",
    "import helper"
   ]
  },
  {
   "cell_type": "code",
   "execution_count": 2,
   "metadata": {},
   "outputs": [],
   "source": [
    "w_init = np.array([3,3])\n",
    "_t_max = 2\n",
    "f = model_opt.RosenBrock()"
   ]
  },
  {
   "cell_type": "code",
   "execution_count": 3,
   "metadata": {},
   "outputs": [
    {
     "data": {
      "text/plain": [
       "2909.138204883825"
      ]
     },
     "execution_count": 3,
     "metadata": {},
     "output_type": "execute_result"
    }
   ],
   "source": [
    "# b <= x_1 <= a , b <= x_2 <= a において一様にランダムな点をn回とり、勾配ノルムの平均を測定\n",
    "helper.grad_norm(model=f,a=3,b=-3,n=10000)"
   ]
  },
  {
   "cell_type": "code",
   "execution_count": 4,
   "metadata": {},
   "outputs": [],
   "source": [
    "if __name__ == \"__main__\":\n",
    "    \n",
    "    # 自分のマシンでコアが４or6\n",
    "    cpu_count = mproc.cpu_count()\n",
    "    mypool = mproc.Pool(cpu_count)\n",
    "    w = np.ones(cpu_count)\n",
    "    first_result = mypool.map(func=helper.pareto, iterable=w)\n",
    "    \n",
    "    mypool.close() # important for stopping memory leaks.\n",
    "    mypool.join() # wait for all workers to exit."
   ]
  },
  {
   "cell_type": "code",
   "execution_count": 5,
   "metadata": {},
   "outputs": [
    {
     "data": {
      "text/plain": [
       "[0.17094346604106647,\n",
       " 2.6457300014104437,\n",
       " 0.04866653317915892,\n",
       " 0.37238645221013367]"
      ]
     },
     "execution_count": 5,
     "metadata": {},
     "output_type": "execute_result"
    }
   ],
   "source": [
    "first_result"
   ]
  },
  {
   "cell_type": "code",
   "execution_count": 6,
   "metadata": {},
   "outputs": [],
   "source": [
    "x = np.arange(10)\n",
    "noise = helper.gauss(x)\n",
    "k = helper.iqr(noise)"
   ]
  },
  {
   "cell_type": "code",
   "execution_count": 7,
   "metadata": {},
   "outputs": [
    {
     "data": {
      "text/plain": [
       "1.7160222556427247"
      ]
     },
     "execution_count": 7,
     "metadata": {},
     "output_type": "execute_result"
    }
   ],
   "source": [
    "k"
   ]
  },
  {
   "cell_type": "code",
   "execution_count": 8,
   "metadata": {},
   "outputs": [],
   "source": [
    "iqr_store = []\n",
    "for i in range(1000):\n",
    "    x = np.arange(1000)\n",
    "    noise = helper.gauss(x,mean=0,sigma=1)\n",
    "    k = helper.iqr(noise)\n",
    "    iqr_store.append(k)"
   ]
  },
  {
   "cell_type": "code",
   "execution_count": 9,
   "metadata": {},
   "outputs": [
    {
     "data": {
      "text/plain": [
       "(array([  3.,  11.,  58., 135., 206., 240., 192., 109.,  34.,  12.]),\n",
       " array([1.17928847, 1.21014892, 1.24100938, 1.27186983, 1.30273028,\n",
       "        1.33359073, 1.36445118, 1.39531164, 1.42617209, 1.45703254,\n",
       "        1.48789299]),\n",
       " <a list of 10 Patch objects>)"
      ]
     },
     "execution_count": 9,
     "metadata": {},
     "output_type": "execute_result"
    },
    {
     "data": {
      "image/png": "[encoded data removed]",
      "text/plain": [
       "<Figure size 432x288 with 1 Axes>"
      ]
     },
     "metadata": {
      "needs_background": "light"
     },
     "output_type": "display_data"
    }
   ],
   "source": [
    "plt.hist(iqr_store)"
   ]
  },
  {
   "cell_type": "code",
   "execution_count": 10,
   "metadata": {},
   "outputs": [
    {
     "data": {
      "text/plain": [
       "0.9966657322287941"
      ]
     },
     "execution_count": 10,
     "metadata": {},
     "output_type": "execute_result"
    }
   ],
   "source": [
    "np.mean(iqr_store) / 1.349"
   ]
  },
  {
   "cell_type": "code",
   "execution_count": 11,
   "metadata": {},
   "outputs": [
    {
     "data": {
      "text/plain": [
       "(array([ 1.,  0.,  0.,  0.,  0.,  0.,  3.,  0.,  0.,  0.,  1.,  2.,  3.,\n",
       "         2.,  5.,  2.,  6.,  8.,  7.,  6., 12.,  9., 11., 19., 13., 18.,\n",
       "        16., 17., 19., 21., 15., 10., 25., 30., 16., 13., 26., 26., 28.,\n",
       "        24., 30., 31., 32., 27., 28., 22., 20., 24., 24., 26., 27., 33.,\n",
       "        18., 18., 10., 19., 18., 18., 10., 14., 13., 15., 14., 10.,  8.,\n",
       "         7.,  8.,  8.,  9.,  8.,  4.,  6.,  2.,  4.,  3.,  1.,  3.,  1.,\n",
       "         1.,  2.,  1.,  2.,  2.,  0.,  2.,  2.,  0.,  0.,  0.,  0.,  0.,\n",
       "         0.,  0.,  0.,  0.,  0.,  0.,  0.,  0.,  1.]),\n",
       " array([0.79294005, 0.80019316, 0.80744627, 0.81469938, 0.82195249,\n",
       "        0.8292056 , 0.83645871, 0.84371182, 0.85096493, 0.85821804,\n",
       "        0.86547115, 0.87272426, 0.87997737, 0.88723048, 0.89448359,\n",
       "        0.9017367 , 0.90898981, 0.91624292, 0.92349603, 0.93074914,\n",
       "        0.93800225, 0.94525536, 0.95250847, 0.95976157, 0.96701468,\n",
       "        0.97426779, 0.9815209 , 0.98877401, 0.99602712, 1.00328023,\n",
       "        1.01053334, 1.01778645, 1.02503956, 1.03229267, 1.03954578,\n",
       "        1.04679889, 1.054052  , 1.06130511, 1.06855822, 1.07581133,\n",
       "        1.08306444, 1.09031755, 1.09757066, 1.10482377, 1.11207688,\n",
       "        1.11932999, 1.1265831 , 1.13383621, 1.14108931, 1.14834242,\n",
       "        1.15559553, 1.16284864, 1.17010175, 1.17735486, 1.18460797,\n",
       "        1.19186108, 1.19911419, 1.2063673 , 1.21362041, 1.22087352,\n",
       "        1.22812663, 1.23537974, 1.24263285, 1.24988596, 1.25713907,\n",
       "        1.26439218, 1.27164529, 1.2788984 , 1.28615151, 1.29340462,\n",
       "        1.30065773, 1.30791084, 1.31516395, 1.32241705, 1.32967016,\n",
       "        1.33692327, 1.34417638, 1.35142949, 1.3586826 , 1.36593571,\n",
       "        1.37318882, 1.38044193, 1.38769504, 1.39494815, 1.40220126,\n",
       "        1.40945437, 1.41670748, 1.42396059, 1.4312137 , 1.43846681,\n",
       "        1.44571992, 1.45297303, 1.46022614, 1.46747925, 1.47473236,\n",
       "        1.48198547, 1.48923858, 1.49649169, 1.50374479, 1.5109979 ,\n",
       "        1.51825101]),\n",
       " <a list of 100 Patch objects>)"
      ]
     },
     "execution_count": 11,
     "metadata": {},
     "output_type": "execute_result"
    },
    {
     "data": {
      "image/png": "[encoded data removed]",
      "text/plain": [
       "<Figure size 432x288 with 1 Axes>"
      ]
     },
     "metadata": {
      "needs_background": "light"
     },
     "output_type": "display_data"
    }
   ],
   "source": [
    "plt.hist(helper.lognormal(mean=0.1,sigma=0.1,w=np.arange(1000)),bins=100)"
   ]
  },
  {
   "cell_type": "code",
   "execution_count": 12,
   "metadata": {},
   "outputs": [
    {
     "data": {
      "image/png": "[encoded data removed]",
      "text/plain": [
       "<Figure size 432x288 with 1 Axes>"
      ]
     },
     "metadata": {
      "needs_background": "light"
     },
     "output_type": "display_data"
    }
   ],
   "source": [
    "k = helper.lognormal(mean=0.1,sigma=0.1,w=np.arange(1000))\n",
    "plt.hist(k - k.mean(),bins=1000)\n",
    "plt.show()"
   ]
  },
  {
   "cell_type": "code",
   "execution_count": 13,
   "metadata": {},
   "outputs": [
    {
     "data": {
      "image/png": "[encoded data removed]",
      "text/plain": [
       "<Figure size 432x288 with 1 Axes>"
      ]
     },
     "metadata": {
      "needs_background": "light"
     },
     "output_type": "display_data"
    }
   ],
   "source": [
    "k = helper.lognormal(mean=0.1,sigma=1,w=np.arange(1000))\n",
    "plt.hist(k - k.mean(),bins=1000)\n",
    "plt.show()"
   ]
  },
  {
   "cell_type": "code",
   "execution_count": 14,
   "metadata": {},
   "outputs": [
    {
     "data": {
      "text/plain": [
       "1.5255495710081681"
      ]
     },
     "execution_count": 14,
     "metadata": {},
     "output_type": "execute_result"
    }
   ],
   "source": [
    "helper.iqr(k)"
   ]
  },
  {
   "cell_type": "code",
   "execution_count": 15,
   "metadata": {},
   "outputs": [],
   "source": [
    "w_init = np.array([3,3])\n",
    "_t_max = 3000\n",
    "f = model_opt.RosenBrock()\n",
    "\n",
    "\n",
    "w_star = f.w_star\n",
    "\n",
    "last_w_store = []\n",
    "iqr_store = []\n",
    "for i in range(10):\n",
    "    var = np.random.randint(1,300,1)[0]\n",
    "    noise = helper.gauss\n",
    "    f = model_opt.RosenBrock(noise=noise,var=var)\n",
    "    algo = algo_GD.SGD(w_init=w_init,t_max=_t_max,a=0.00078)\n",
    "    for i in algo:\n",
    "        algo.update(model=f)\n",
    "        \n",
    "    iqr_store.append(helper.iqr(algo.noise_store))\n",
    "    last_w_store.append(algo.w)\n",
    "        \n",
    "\n",
    "    "
   ]
  },
  {
   "cell_type": "code",
   "execution_count": 16,
   "metadata": {},
   "outputs": [
    {
     "data": {
      "text/plain": [
       "[array([ 0.04309793, -0.06107472]),\n",
       " array([-1.32926157,  1.87893815]),\n",
       " array([1.12095179, 1.10022413]),\n",
       " array([1.32508433, 2.12821853]),\n",
       " array([0.30729394, 0.2241119 ]),\n",
       " array([ 0.22370852, -0.13529255]),\n",
       " array([-1.05541499,  1.11498636]),\n",
       " array([0.59068072, 0.20539393]),\n",
       " array([-0.66240996,  0.83074539]),\n",
       " array([-0.60211499,  0.59819059])]"
      ]
     },
     "execution_count": 16,
     "metadata": {},
     "output_type": "execute_result"
    }
   ],
   "source": [
    "last_w_store"
   ]
  },
  {
   "cell_type": "code",
   "execution_count": 17,
   "metadata": {},
   "outputs": [
    {
     "data": {
      "text/plain": [
       "[63.73133723968289,\n",
       " 199.02084425204947,\n",
       " 175.55049871036118,\n",
       " 126.80564410085867,\n",
       " 200.49664306290975,\n",
       " 97.04369608347484,\n",
       " 48.86318929023942,\n",
       " 47.92452114666775,\n",
       " 354.55783578007345,\n",
       " 261.5057475416035]"
      ]
     },
     "execution_count": 17,
     "metadata": {},
     "output_type": "execute_result"
    }
   ],
   "source": [
    "iqr_store"
   ]
  },
  {
   "cell_type": "code",
   "execution_count": 19,
   "metadata": {},
   "outputs": [
    {
     "data": {
      "application/vnd.jupyter.widget-view+json": {
       "model_id": "9ce093d8baef4cb5a060f57e6f042acc",
       "version_major": 2,
       "version_minor": 0
      },
      "text/plain": [
       "HBox(children=(FloatProgress(value=0.0, max=10.0), HTML(value='')))"
      ]
     },
     "metadata": {},
     "output_type": "display_data"
    },
    {
     "name": "stdout",
     "output_type": "stream",
     "text": [
      "\n"
     ]
    }
   ],
   "source": [
    "for i in tqdm(range(10)):\n",
    "    pass"
   ]
  },
  {
   "cell_type": "code",
   "execution_count": null,
   "metadata": {},
   "outputs": [],
   "source": [
    "\n",
    "w_init = np.array([3,3])\n",
    "_t_max = 1000\n",
    "algo = algo_GD.SGD(w_init=w_init,t_max=_t_max,a=0.00078)\n",
    "w_star = f.w_star\n",
    "f = model_opt.RosenBrock(noise=noise,var=100)\n",
    "for i in tqdm(algo):\n",
    "    algo.update(model=f)\n",
    "    \n",
    "w_store = np.array(algo.wstore)\n",
    "grid_x_min = min(w_store.T[0].min(),w_star[0])-1\n",
    "grid_x_max = max(w_store.T[0].max(),w_star[0])+1\n",
    "grid_y_min = min(w_store.T[1].min(),w_star[1])-1\n",
    "grid_y_max = max(w_store.T[1].max(),w_star[1])+1\n",
    "xvals = np.arange(grid_x_min,grid_x_max, 0.1)\n",
    "yvals = np.arange(grid_y_min,grid_y_max, 0.1)\n",
    "X, Y = np.meshgrid(xvals, yvals)\n",
    "Z = f.f_opt([X,Y])\n",
    "\n",
    "fig, axes = plt.subplots(1,1, figsize=(6,6))\n",
    "axes.pcolor(X, Y, Z,cmap=plt.cm.rainbow)\n",
    "# wの軌跡\n",
    "axes.plot(w_store.T[0],w_store.T[1],c = \"k\",alpha=1,linewidth = 0.5)\n",
    "c = np.linspace(0, _t_max, len(w_store))\n",
    "axes.scatter(w_store.T[0],w_store.T[1],c=c,cmap = plt.cm.hot ,linewidths=0.01,alpha=1,s=10)\n",
    "axes.plot(w_store.T[0],w_store.T[1],c=\"k\",alpha=0.2,linewidth=1)\n",
    "# 始点(黄色)、終点（緑）、真値（赤）\n",
    "axes.plot(*w_store[0], 'ys', markersize=5)\n",
    "axes.plot(*w_store[-1], 'gs', markersize=5)\n",
    "axes.plot(*w_star, 'r*', markersize=8)\n",
    "\n",
    "#カラーバーの設定\n",
    "axpos = axes.get_position()\n",
    "cbar_ax = fig.add_axes([0.9, axpos.y0, 0.03, axpos.height])\n",
    "norm = colors.Normalize(vmin=Z.min(),vmax=Z.max())\n",
    "mappable = ScalarMappable(cmap=plt.cm.rainbow,norm=norm)\n",
    "mappable._A = []\n",
    "fig.colorbar(mappable, cax=cbar_ax)\n",
    "\n",
    "#余白の調整\n",
    "plt.subplots_adjust(right=0.85)\n",
    "plt.subplots_adjust(wspace=0.1)\n",
    "\n",
    "plt.show()"
   ]
  },
  {
   "cell_type": "code",
   "execution_count": null,
   "metadata": {},
   "outputs": [],
   "source": [
    "#ノイズを記録したもの。そのIQRについて調べている。\n",
    "noise_norm = np.array(algo.noise_store).flatten()\n",
    "helper.iqr(noise_norm)"
   ]
  },
  {
   "cell_type": "code",
   "execution_count": null,
   "metadata": {},
   "outputs": [],
   "source": []
  },
  {
   "cell_type": "code",
   "execution_count": null,
   "metadata": {},
   "outputs": [],
   "source": []
  }
 ],
 "metadata": {
  "kernelspec": {
   "display_name": "Python 3",
   "language": "python",
   "name": "python3"
  },
  "language_info": {
   "codemirror_mode": {
    "name": "ipython",
    "version": 3
   },
   "file_extension": ".py",
   "mimetype": "text/x-python",
   "name": "python",
   "nbconvert_exporter": "python",
   "pygments_lexer": "ipython3",
   "version": "3.7.3"
  }
 },
 "nbformat": 4,
 "nbformat_minor": 4
}
