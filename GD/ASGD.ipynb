{
 "cells": [
  {
   "cell_type": "code",
   "execution_count": 4,
   "metadata": {},
   "outputs": [],
   "source": [
    "import numpy as np\n",
    "from mpl_toolkits.mplot3d import Axes3D\n",
    "import matplotlib.pyplot as plt\n",
    "import matplotlib.colors as colors\n",
    "from matplotlib.cm import ScalarMappable\n",
    "from matplotlib import lines\n",
    "import matplotlib.cm as cm\n",
    "import tqdm\n",
    "from tqdm.notebook import tqdm as tqdm\n",
    "import multiprocessing as mproc\n",
    "import os\n",
    "import random\n",
    "\n",
    "import model_opt\n",
    "import data_generate\n",
    "import algo_GD\n",
    "\n",
    "_cmap = plt.cm.jet"
   ]
  },
  {
   "cell_type": "code",
   "execution_count": 2,
   "metadata": {},
   "outputs": [
    {
     "data": {
      "text/plain": "<Figure size 432x432 with 2 Axes>",
      "image/png": "[encoded data removed]"
     },
     "metadata": {
      "needs_background": "light"
     },
     "output_type": "display_data"
    }
   ],
   "source": [
    "w_init = np.array([3,3])\n",
    "_t_max = 2\n",
    "f = model_opt.RosenBrock()\n",
    "\n",
    "\n",
    "\n",
    "w_star = f.w_star\n",
    "w_mean = [[3,3]]\n",
    "w_store = np.array([[3,3]])\n",
    "for j in range(10000):\n",
    "    w_init = w_store[-1]\n",
    "    algo = algo_GD.SGD(w_init=w_init,t_max=_t_max,a=0.0005)\n",
    "    for i in algo:\n",
    "        algo.update(model=f)\n",
    "        \n",
    "    w_store = np.vstack((w_store,algo.wstore[-1]))\n",
    "    w_mean.append(np.mean(w_store,axis=0))\n",
    "    \n",
    "    \n",
    "\n",
    "grid_x_min = min(w_store.T[0].min(),w_star[0])-1\n",
    "grid_x_max = max(w_store.T[0].max(),w_star[0])+1\n",
    "grid_y_min = min(w_store.T[1].min(),w_star[1])-1\n",
    "grid_y_max = max(w_store.T[1].max(),w_star[1])+1\n",
    "xvals = np.arange(grid_x_min,grid_x_max, 0.1)\n",
    "yvals = np.arange(grid_y_min,grid_y_max, 0.1)\n",
    "X, Y = np.meshgrid(xvals, yvals)\n",
    "Z = f.f_opt([X,Y])\n",
    "\n",
    "fig, axes = plt.subplots(1,1, figsize=(6,6))\n",
    "axes.pcolor(X, Y, Z,cmap=plt.cm.rainbow)\n",
    "# wの軌跡\n",
    "axes.plot(w_store.T[0],w_store.T[1],c = \"k\",alpha=0.2,linewidth = 1)\n",
    "c = np.linspace(0, _t_max, len(w_store))\n",
    "axes.scatter(w_store.T[0],w_store.T[1],c=c,cmap = plt.cm.hot ,linewidths=0.01,alpha=1,s=10)\n",
    "\n",
    "# 始点(黄色)、終点（緑）、真値（赤）\n",
    "axes.plot(*w_store[0], 'ks', markersize=5,label=\"start\")\n",
    "axes.plot(*w_store[-1], 'gs', markersize=5,label=\"finish\")\n",
    "axes.plot(*w_star, 'r*', markersize=8,label=\"true value\")\n",
    "\n",
    "#カラーバーの設定\n",
    "axpos = axes.get_position()\n",
    "cbar_ax = fig.add_axes([0.9, axpos.y0, 0.03, axpos.height])\n",
    "norm = colors.Normalize(vmin=Z.min(),vmax=Z.max())\n",
    "mappable = ScalarMappable(cmap=plt.cm.rainbow,norm=norm)\n",
    "mappable._A = []\n",
    "fig.colorbar(mappable, cax=cbar_ax)\n",
    "\n",
    "#余白の調整\n",
    "plt.subplots_adjust(right=0.85)\n",
    "plt.subplots_adjust(wspace=0.1)\n",
    "\n",
    "plt.show()\n"
   ]
  },
  {
   "cell_type": "code",
   "execution_count": 3,
   "metadata": {},
   "outputs": [
    {
     "ename": "TypeError",
     "evalue": "__init__() got an unexpected keyword argument 'err'",
     "output_type": "error",
     "traceback": [
      "\u001B[0;31m---------------------------------------------------------------------------\u001B[0m",
      "\u001B[0;31mTypeError\u001B[0m                                 Traceback (most recent call last)",
      "\u001B[0;32m<ipython-input-3-5d3e859cf2e4>\u001B[0m in \u001B[0;36m<module>\u001B[0;34m\u001B[0m\n\u001B[0;32m----> 1\u001B[0;31m \u001B[0mf\u001B[0m \u001B[0;34m=\u001B[0m \u001B[0mmodel_opt\u001B[0m\u001B[0;34m.\u001B[0m\u001B[0mRosenBrock\u001B[0m\u001B[0;34m(\u001B[0m\u001B[0merr\u001B[0m \u001B[0;34m=\u001B[0m \u001B[0;36m0\u001B[0m\u001B[0;34m)\u001B[0m\u001B[0;34m\u001B[0m\u001B[0;34m\u001B[0m\u001B[0m\n\u001B[0m\u001B[1;32m      2\u001B[0m \u001B[0mw_store1\u001B[0m \u001B[0;34m=\u001B[0m \u001B[0mw_store\u001B[0m\u001B[0;34m\u001B[0m\u001B[0;34m\u001B[0m\u001B[0m\n\u001B[1;32m      3\u001B[0m \u001B[0mplt\u001B[0m\u001B[0;34m.\u001B[0m\u001B[0mplot\u001B[0m\u001B[0;34m(\u001B[0m\u001B[0mf\u001B[0m\u001B[0;34m.\u001B[0m\u001B[0mf_opt\u001B[0m\u001B[0;34m(\u001B[0m\u001B[0mw_store1\u001B[0m\u001B[0;34m.\u001B[0m\u001B[0mT\u001B[0m\u001B[0;34m)\u001B[0m\u001B[0;34m[\u001B[0m\u001B[0;36m10\u001B[0m\u001B[0;34m:\u001B[0m\u001B[0;34m]\u001B[0m\u001B[0;34m)\u001B[0m\u001B[0;34m\u001B[0m\u001B[0;34m\u001B[0m\u001B[0m\n\u001B[1;32m      4\u001B[0m \u001B[0mplt\u001B[0m\u001B[0;34m.\u001B[0m\u001B[0mxlim\u001B[0m\u001B[0;34m(\u001B[0m\u001B[0;36m10\u001B[0m\u001B[0;34m,\u001B[0m\u001B[0;36m10000\u001B[0m\u001B[0;34m)\u001B[0m\u001B[0;34m\u001B[0m\u001B[0;34m\u001B[0m\u001B[0m\n\u001B[1;32m      5\u001B[0m \u001B[0mplt\u001B[0m\u001B[0;34m.\u001B[0m\u001B[0mxlabel\u001B[0m\u001B[0;34m(\u001B[0m\u001B[0;34m\"step\"\u001B[0m\u001B[0;34m)\u001B[0m\u001B[0;34m\u001B[0m\u001B[0;34m\u001B[0m\u001B[0m\n",
      "\u001B[0;31mTypeError\u001B[0m: __init__() got an unexpected keyword argument 'err'"
     ]
    }
   ],
   "source": [
    "\n",
    "\n",
    "f = model_opt.RosenBrock(err = 0)\n",
    "w_store1 = w_store\n",
    "plt.plot(f.f_opt(w_store1.T)[10:])\n",
    "plt.xlim(10,10000)\n",
    "plt.xlabel(\"step\")\n",
    "plt.title('expected loss')"
   ]
  },
  {
   "cell_type": "code",
   "execution_count": null,
   "metadata": {},
   "outputs": [],
   "source": [
    "w_store = np.array(w_mean)\n",
    "grid_x_min = min(w_store.T[0].min(),w_star[0])-1\n",
    "grid_x_max = max(w_store.T[0].max(),w_star[0])+1\n",
    "grid_y_min = min(w_store.T[1].min(),w_star[1])-1\n",
    "grid_y_max = max(w_store.T[1].max(),w_star[1])+1\n",
    "xvals = np.arange(grid_x_min,grid_x_max, 0.1)\n",
    "yvals = np.arange(grid_y_min,grid_y_max, 0.1)\n",
    "X, Y = np.meshgrid(xvals, yvals)\n",
    "Z = f.f_opt([X,Y])\n",
    "\n",
    "fig, axes = plt.subplots(1,1, figsize=(6,6))\n",
    "axes.pcolor(X, Y, Z,cmap=plt.cm.rainbow)\n",
    "# wの軌跡\n",
    "axes.plot(w_store.T[0],w_store.T[1],c = \"k\",alpha=0.2,linewidth = 1)\n",
    "c = np.linspace(0, _t_max, len(w_store))\n",
    "axes.scatter(w_store.T[0],w_store.T[1],c=c,cmap = plt.cm.hot ,linewidths=0.01,alpha=1,s=10)\n",
    "\n",
    "# 始点(黄色)、終点（緑）、真値（赤）\n",
    "axes.plot(*w_store[0], 'ks', markersize=5)\n",
    "axes.plot(*w_store[-1], 'gs', markersize=5)\n",
    "axes.plot(*w_star, 'r*', markersize=8)\n",
    "\n",
    "#カラーバーの設定\n",
    "axpos = axes.get_position()\n",
    "cbar_ax = fig.add_axes([0.9, axpos.y0, 0.03, axpos.height])\n",
    "norm = colors.Normalize(vmin=Z.min(),vmax=Z.max())\n",
    "mappable = ScalarMappable(cmap=plt.cm.rainbow,norm=norm)\n",
    "mappable._A = []\n",
    "fig.colorbar(mappable, cax=cbar_ax)\n",
    "\n",
    "#余白の調整\n",
    "plt.subplots_adjust(right=0.85)\n",
    "plt.subplots_adjust(wspace=0.1)\n",
    "\n",
    "plt.show()"
   ]
  },
  {
   "cell_type": "code",
   "execution_count": null,
   "metadata": {},
   "outputs": [],
   "source": []
  },
  {
   "cell_type": "code",
   "execution_count": null,
   "metadata": {},
   "outputs": [],
   "source": [
    "f = model_opt.RosenBrock(err = 0)\n",
    "w_store2 = w_store\n",
    "plt.plot(f.f_opt(w_store2.T)[10:])\n",
    "plt.xlim(100,10000)\n",
    "plt.ylim(0,10)\n",
    "plt.xlabel(\"step\")\n",
    "plt.title('expected loss')\n",
    "\n",
    "# plt.plot(*w_store[0], 'ks', markersize=5,label=\"start\")\n",
    "# plt.plot(*w_store[-1], 'gs', markersize=5,label=\"finish\")\n",
    "# plt.plot(*w_star, 'r*', markersize=8,label=\"true value\")\n",
    "\n",
    "# plt.legend()"
   ]
  },
  {
   "cell_type": "code",
   "execution_count": null,
   "metadata": {},
   "outputs": [],
   "source": [
    "w_store2.T"
   ]
  },
  {
   "cell_type": "code",
   "execution_count": null,
   "metadata": {
    "pycharm": {
     "name": "#%%\n"
    }
   },
   "outputs": [],
   "source": [
    "w_store2\n",
    "\n",
    "\n"
   ]
  }
 ],
 "metadata": {
  "kernelspec": {
   "display_name": "Python 3",
   "language": "python",
   "name": "python3"
  },
  "language_info": {
   "codemirror_mode": {
    "name": "ipython",
    "version": 3
   },
   "file_extension": ".py",
   "mimetype": "text/x-python",
   "name": "python",
   "nbconvert_exporter": "python",
   "pygments_lexer": "ipython3",
   "version": "3.7.3"
  }
 },
 "nbformat": 4,
 "nbformat_minor": 4
}