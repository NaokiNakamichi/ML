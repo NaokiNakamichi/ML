{
 "cells": [
  {
   "cell_type": "code",
   "execution_count": 1,
   "metadata": {},
   "outputs": [],
   "source": [
    "import numpy as np\n",
    "from mpl_toolkits.mplot3d import Axes3D\n",
    "import matplotlib.pyplot as plt\n",
    "import matplotlib.colors as colors\n",
    "from matplotlib.cm import ScalarMappable\n",
    "from matplotlib import lines\n",
    "import matplotlib.cm as cm\n",
    "import tqdm\n",
    "from tqdm.notebook import tqdm as tqdm\n",
    "import multiprocessing as mproc\n",
    "import os\n",
    "import random\n",
    "\n",
    "import model_opt\n",
    "import data_generate\n",
    "import algo_GD\n",
    "\n",
    "_cmap = plt.cm.jet"
   ]
  },
  {
   "cell_type": "code",
   "execution_count": 3,
   "metadata": {},
   "outputs": [
    {
     "ename": "NameError",
     "evalue": "name 'noisevalue' is not defined",
     "output_type": "error",
     "traceback": [
      "\u001b[0;31m---------------------------------------------------------------------------\u001b[0m",
      "\u001b[0;31mNameError\u001b[0m                                 Traceback (most recent call last)",
      "\u001b[0;32m<ipython-input-3-ff3607d8e1f0>\u001b[0m in \u001b[0;36m<module>\u001b[0;34m\u001b[0m\n\u001b[1;32m     12\u001b[0m     \u001b[0malgo\u001b[0m \u001b[0;34m=\u001b[0m \u001b[0malgo_GD\u001b[0m\u001b[0;34m.\u001b[0m\u001b[0mSGD\u001b[0m\u001b[0;34m(\u001b[0m\u001b[0mw_init\u001b[0m\u001b[0;34m=\u001b[0m\u001b[0mw_init\u001b[0m\u001b[0;34m,\u001b[0m\u001b[0mt_max\u001b[0m\u001b[0;34m=\u001b[0m\u001b[0m_t_max\u001b[0m\u001b[0;34m,\u001b[0m\u001b[0ma\u001b[0m\u001b[0;34m=\u001b[0m\u001b[0;36m0.0005\u001b[0m\u001b[0;34m)\u001b[0m\u001b[0;34m\u001b[0m\u001b[0;34m\u001b[0m\u001b[0m\n\u001b[1;32m     13\u001b[0m     \u001b[0;32mfor\u001b[0m \u001b[0mi\u001b[0m \u001b[0;32min\u001b[0m \u001b[0malgo\u001b[0m\u001b[0;34m:\u001b[0m\u001b[0;34m\u001b[0m\u001b[0;34m\u001b[0m\u001b[0m\n\u001b[0;32m---> 14\u001b[0;31m         \u001b[0malgo\u001b[0m\u001b[0;34m.\u001b[0m\u001b[0mupdate\u001b[0m\u001b[0;34m(\u001b[0m\u001b[0mmodel\u001b[0m\u001b[0;34m=\u001b[0m\u001b[0mf\u001b[0m\u001b[0;34m)\u001b[0m\u001b[0;34m\u001b[0m\u001b[0;34m\u001b[0m\u001b[0m\n\u001b[0m\u001b[1;32m     15\u001b[0m \u001b[0;34m\u001b[0m\u001b[0m\n\u001b[1;32m     16\u001b[0m     \u001b[0mw_store\u001b[0m \u001b[0;34m=\u001b[0m \u001b[0mnp\u001b[0m\u001b[0;34m.\u001b[0m\u001b[0mvstack\u001b[0m\u001b[0;34m(\u001b[0m\u001b[0;34m(\u001b[0m\u001b[0mw_store\u001b[0m\u001b[0;34m,\u001b[0m\u001b[0malgo\u001b[0m\u001b[0;34m.\u001b[0m\u001b[0mwstore\u001b[0m\u001b[0;34m[\u001b[0m\u001b[0;34m-\u001b[0m\u001b[0;36m1\u001b[0m\u001b[0;34m]\u001b[0m\u001b[0;34m)\u001b[0m\u001b[0;34m)\u001b[0m\u001b[0;34m\u001b[0m\u001b[0;34m\u001b[0m\u001b[0m\n",
      "\u001b[0;32m~/ML/GD/algos.py\u001b[0m in \u001b[0;36mupdate\u001b[0;34m(self, model, data, label)\u001b[0m\n\u001b[1;32m     34\u001b[0m \u001b[0;34m\u001b[0m\u001b[0m\n\u001b[1;32m     35\u001b[0m     \u001b[0;32mdef\u001b[0m \u001b[0mupdate\u001b[0m\u001b[0;34m(\u001b[0m\u001b[0mself\u001b[0m\u001b[0;34m,\u001b[0m\u001b[0mmodel\u001b[0m\u001b[0;34m,\u001b[0m\u001b[0mdata\u001b[0m\u001b[0;34m=\u001b[0m\u001b[0;32mNone\u001b[0m\u001b[0;34m,\u001b[0m\u001b[0mlabel\u001b[0m\u001b[0;34m=\u001b[0m\u001b[0;32mNone\u001b[0m\u001b[0;34m)\u001b[0m\u001b[0;34m:\u001b[0m\u001b[0;34m\u001b[0m\u001b[0;34m\u001b[0m\u001b[0m\n\u001b[0;32m---> 36\u001b[0;31m         \u001b[0mnewdir\u001b[0m\u001b[0;34m,\u001b[0m\u001b[0mnoise_value\u001b[0m \u001b[0;34m=\u001b[0m \u001b[0mself\u001b[0m\u001b[0;34m.\u001b[0m\u001b[0mnewdir\u001b[0m\u001b[0;34m(\u001b[0m\u001b[0mmodel\u001b[0m\u001b[0;34m=\u001b[0m\u001b[0mmodel\u001b[0m\u001b[0;34m,\u001b[0m \u001b[0mdata\u001b[0m\u001b[0;34m=\u001b[0m\u001b[0mdata\u001b[0m\u001b[0;34m,\u001b[0m \u001b[0mlabel\u001b[0m\u001b[0;34m=\u001b[0m\u001b[0mlabel\u001b[0m\u001b[0;34m)\u001b[0m\u001b[0;34m\u001b[0m\u001b[0;34m\u001b[0m\u001b[0m\n\u001b[0m\u001b[1;32m     37\u001b[0m         \u001b[0mself\u001b[0m\u001b[0;34m.\u001b[0m\u001b[0mnoise_store\u001b[0m\u001b[0;34m.\u001b[0m\u001b[0mappend\u001b[0m\u001b[0;34m(\u001b[0m\u001b[0mnoise_value\u001b[0m\u001b[0;34m)\u001b[0m\u001b[0;34m\u001b[0m\u001b[0;34m\u001b[0m\u001b[0m\n\u001b[1;32m     38\u001b[0m         \u001b[0mself\u001b[0m\u001b[0;34m.\u001b[0m\u001b[0mw\u001b[0m \u001b[0;34m=\u001b[0m \u001b[0mself\u001b[0m\u001b[0;34m.\u001b[0m\u001b[0mw\u001b[0m \u001b[0;34m-\u001b[0m \u001b[0mself\u001b[0m\u001b[0;34m.\u001b[0m\u001b[0ma\u001b[0m \u001b[0;34m*\u001b[0m \u001b[0mnewdir\u001b[0m\u001b[0;34m\u001b[0m\u001b[0;34m\u001b[0m\u001b[0m\n",
      "\u001b[0;32m~/ML/GD/algo_GD.py\u001b[0m in \u001b[0;36mnewdir\u001b[0;34m(self, model, data, label)\u001b[0m\n\u001b[1;32m     38\u001b[0m         \u001b[0;32melse\u001b[0m\u001b[0;34m:\u001b[0m\u001b[0;34m\u001b[0m\u001b[0;34m\u001b[0m\u001b[0m\n\u001b[1;32m     39\u001b[0m             \u001b[0mgrad\u001b[0m\u001b[0;34m,\u001b[0m \u001b[0mnoise_value\u001b[0m \u001b[0;34m=\u001b[0m \u001b[0mmodel\u001b[0m\u001b[0;34m.\u001b[0m\u001b[0mg_opt\u001b[0m\u001b[0;34m(\u001b[0m\u001b[0mw\u001b[0m \u001b[0;34m=\u001b[0m \u001b[0mself\u001b[0m\u001b[0;34m.\u001b[0m\u001b[0mw\u001b[0m\u001b[0;34m)\u001b[0m\u001b[0;34m\u001b[0m\u001b[0;34m\u001b[0m\u001b[0m\n\u001b[0;32m---> 40\u001b[0;31m             \u001b[0;32mreturn\u001b[0m \u001b[0mgrad\u001b[0m\u001b[0;34m,\u001b[0m \u001b[0mnoisevalue\u001b[0m\u001b[0;34m\u001b[0m\u001b[0;34m\u001b[0m\u001b[0m\n\u001b[0m",
      "\u001b[0;31mNameError\u001b[0m: name 'noisevalue' is not defined"
     ]
    }
   ],
   "source": [
    "w_init = np.array([3,3])\n",
    "_t_max = 2\n",
    "f = model_opt.RosenBrock()\n",
    "\n",
    "\n",
    "\n",
    "w_star = f.w_star\n",
    "w_mean = [[3,3]]\n",
    "w_store = np.array([[3,3]])\n",
    "for j in range(10000):\n",
    "    w_init = w_store[-1]\n",
    "    algo = algo_GD.SGD(w_init=w_init,t_max=_t_max,a=0.0005)\n",
    "    for i in algo:\n",
    "        algo.update(model=f)\n",
    "        \n",
    "    w_store = np.vstack((w_store,algo.wstore[-1]))\n",
    "    w_mean.append(np.mean(w_store,axis=0))\n",
    "    \n",
    "    \n",
    "\n",
    "grid_x_min = min(w_store.T[0].min(),w_star[0])-1\n",
    "grid_x_max = max(w_store.T[0].max(),w_star[0])+1\n",
    "grid_y_min = min(w_store.T[1].min(),w_star[1])-1\n",
    "grid_y_max = max(w_store.T[1].max(),w_star[1])+1\n",
    "xvals = np.arange(grid_x_min,grid_x_max, 0.1)\n",
    "yvals = np.arange(grid_y_min,grid_y_max, 0.1)\n",
    "X, Y = np.meshgrid(xvals, yvals)\n",
    "Z = f.f_opt([X,Y])\n",
    "\n",
    "fig, axes = plt.subplots(1,1, figsize=(6,6))\n",
    "axes.pcolor(X, Y, Z,cmap=plt.cm.rainbow)\n",
    "# wの軌跡\n",
    "axes.plot(w_store.T[0],w_store.T[1],c = \"k\",alpha=0.2,linewidth = 1)\n",
    "c = np.linspace(0, _t_max, len(w_store))\n",
    "axes.scatter(w_store.T[0],w_store.T[1],c=c,cmap = plt.cm.hot ,linewidths=0.01,alpha=1,s=10)\n",
    "\n",
    "# 始点(黄色)、終点（緑）、真値（赤）\n",
    "axes.plot(*w_store[0], 'ks', markersize=5,label=\"start\")\n",
    "axes.plot(*w_store[-1], 'gs', markersize=5,label=\"finish\")\n",
    "axes.plot(*w_star, 'r*', markersize=8,label=\"true value\")\n",
    "\n",
    "#カラーバーの設定\n",
    "axpos = axes.get_position()\n",
    "cbar_ax = fig.add_axes([0.9, axpos.y0, 0.03, axpos.height])\n",
    "norm = colors.Normalize(vmin=Z.min(),vmax=Z.max())\n",
    "mappable = ScalarMappable(cmap=plt.cm.rainbow,norm=norm)\n",
    "mappable._A = []\n",
    "fig.colorbar(mappable, cax=cbar_ax)\n",
    "\n",
    "#余白の調整\n",
    "plt.subplots_adjust(right=0.85)\n",
    "plt.subplots_adjust(wspace=0.1)\n",
    "\n",
    "plt.show()\n"
   ]
  },
  {
   "cell_type": "code",
   "execution_count": null,
   "metadata": {},
   "outputs": [],
   "source": [
    "\n",
    "\n",
    "f = model_opt.RosenBrock(err = 0)\n",
    "w_store1 = w_store\n",
    "plt.plot(f.f_opt(w_store1.T)[10:])\n",
    "plt.xlim(10,10000)\n",
    "plt.xlabel(\"step\")\n",
    "plt.title('expected loss')"
   ]
  },
  {
   "cell_type": "code",
   "execution_count": null,
   "metadata": {},
   "outputs": [],
   "source": [
    "w_store = np.array(w_mean)\n",
    "grid_x_min = min(w_store.T[0].min(),w_star[0])-1\n",
    "grid_x_max = max(w_store.T[0].max(),w_star[0])+1\n",
    "grid_y_min = min(w_store.T[1].min(),w_star[1])-1\n",
    "grid_y_max = max(w_store.T[1].max(),w_star[1])+1\n",
    "xvals = np.arange(grid_x_min,grid_x_max, 0.1)\n",
    "yvals = np.arange(grid_y_min,grid_y_max, 0.1)\n",
    "X, Y = np.meshgrid(xvals, yvals)\n",
    "Z = f.f_opt([X,Y])\n",
    "\n",
    "fig, axes = plt.subplots(1,1, figsize=(6,6))\n",
    "axes.pcolor(X, Y, Z,cmap=plt.cm.rainbow)\n",
    "# wの軌跡\n",
    "axes.plot(w_store.T[0],w_store.T[1],c = \"k\",alpha=0.2,linewidth = 1)\n",
    "c = np.linspace(0, _t_max, len(w_store))\n",
    "axes.scatter(w_store.T[0],w_store.T[1],c=c,cmap = plt.cm.hot ,linewidths=0.01,alpha=1,s=10)\n",
    "\n",
    "# 始点(黄色)、終点（緑）、真値（赤）\n",
    "axes.plot(*w_store[0], 'ks', markersize=5)\n",
    "axes.plot(*w_store[-1], 'gs', markersize=5)\n",
    "axes.plot(*w_star, 'r*', markersize=8)\n",
    "\n",
    "#カラーバーの設定\n",
    "axpos = axes.get_position()\n",
    "cbar_ax = fig.add_axes([0.9, axpos.y0, 0.03, axpos.height])\n",
    "norm = colors.Normalize(vmin=Z.min(),vmax=Z.max())\n",
    "mappable = ScalarMappable(cmap=plt.cm.rainbow,norm=norm)\n",
    "mappable._A = []\n",
    "fig.colorbar(mappable, cax=cbar_ax)\n",
    "\n",
    "#余白の調整\n",
    "plt.subplots_adjust(right=0.85)\n",
    "plt.subplots_adjust(wspace=0.1)\n",
    "\n",
    "plt.show()"
   ]
  },
  {
   "cell_type": "code",
   "execution_count": null,
   "metadata": {},
   "outputs": [],
   "source": []
  },
  {
   "cell_type": "code",
   "execution_count": null,
   "metadata": {},
   "outputs": [],
   "source": [
    "f = model_opt.RosenBrock(err = 0)\n",
    "w_store2 = w_store\n",
    "plt.plot(f.f_opt(w_store2.T)[10:])\n",
    "plt.xlim(100,10000)\n",
    "plt.ylim(0,10)\n",
    "plt.xlabel(\"step\")\n",
    "plt.title('expected loss')\n",
    "\n",
    "# plt.plot(*w_store[0], 'ks', markersize=5,label=\"start\")\n",
    "# plt.plot(*w_store[-1], 'gs', markersize=5,label=\"finish\")\n",
    "# plt.plot(*w_star, 'r*', markersize=8,label=\"true value\")\n",
    "\n",
    "# plt.legend()"
   ]
  },
  {
   "cell_type": "code",
   "execution_count": null,
   "metadata": {},
   "outputs": [],
   "source": [
    "w_store2.T"
   ]
  },
  {
   "cell_type": "code",
   "execution_count": null,
   "metadata": {},
   "outputs": [],
   "source": [
    "w_store2"
   ]
  },
  {
   "cell_type": "code",
   "execution_count": null,
   "metadata": {},
   "outputs": [],
   "source": []
  }
 ],
 "metadata": {
  "kernelspec": {
   "display_name": "Python 3",
   "language": "python",
   "name": "python3"
  },
  "language_info": {
   "codemirror_mode": {
    "name": "ipython",
    "version": 3
   },
   "file_extension": ".py",
   "mimetype": "text/x-python",
   "name": "python",
   "nbconvert_exporter": "python",
   "pygments_lexer": "ipython3",
   "version": "3.7.3"
  }
 },
 "nbformat": 4,
 "nbformat_minor": 4
}
