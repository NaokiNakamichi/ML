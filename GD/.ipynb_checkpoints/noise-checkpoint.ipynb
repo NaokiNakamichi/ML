{
 "cells": [
  {
   "cell_type": "code",
   "execution_count": 1,
   "metadata": {},
   "outputs": [],
   "source": [
    "import numpy as np\n",
    "import random\n",
    "import multiprocessing as mproc\n",
    "\n",
    "import model_opt\n",
    "import data_generate\n",
    "import algo_GD\n",
    "import helper"
   ]
  },
  {
   "cell_type": "code",
   "execution_count": 2,
   "metadata": {},
   "outputs": [],
   "source": [
    "noise = helper.pareto\n",
    "f = model_opt.RosenBrock(err = 100,noise=noise)\n",
    "w = np.array([3,3])"
   ]
  },
  {
   "cell_type": "code",
   "execution_count": 3,
   "metadata": {},
   "outputs": [],
   "source": [
    "f.noise\n",
    "_t_max = 2\n",
    "algo = algo_GD.SGD(w_init=w,t_max=_t_max,a=0.0007)"
   ]
  },
  {
   "cell_type": "code",
   "execution_count": 4,
   "metadata": {},
   "outputs": [],
   "source": [
    "algo.update(model=f)"
   ]
  },
  {
   "cell_type": "code",
   "execution_count": 5,
   "metadata": {},
   "outputs": [
    {
     "data": {
      "text/plain": [
       "array([-2.04322287,  3.83957713])"
      ]
     },
     "execution_count": 5,
     "metadata": {},
     "output_type": "execute_result"
    }
   ],
   "source": [
    "algo.w"
   ]
  },
  {
   "cell_type": "code",
   "execution_count": null,
   "metadata": {},
   "outputs": [],
   "source": []
  },
  {
   "cell_type": "code",
   "execution_count": 6,
   "metadata": {},
   "outputs": [],
   "source": [
    "if __name__ == \"__main__\":\n",
    "    \n",
    "    # 自分のマシンでコアが４or6\n",
    "    cpu_count = mproc.cpu_count()\n",
    "    mypool = mproc.Pool(cpu_count)\n",
    "    w = np.ones(cpu_count)\n",
    "    first_result = mypool.map(func=helper.pareto, iterable=w)\n",
    "    \n",
    "    mypool.close() # important for stopping memory leaks.\n",
    "    mypool.join() # wait for all workers to exit."
   ]
  },
  {
   "cell_type": "code",
   "execution_count": 7,
   "metadata": {},
   "outputs": [
    {
     "data": {
      "text/plain": [
       "[12.353766638015527,\n",
       " 1.0897520844336195,\n",
       " 0.032646098690027214,\n",
       " 4.0439951331741595,\n",
       " 14.904402321958269,\n",
       " 663.5345035117004]"
      ]
     },
     "execution_count": 7,
     "metadata": {},
     "output_type": "execute_result"
    }
   ],
   "source": [
    "first_result"
   ]
  },
  {
   "cell_type": "code",
   "execution_count": null,
   "metadata": {},
   "outputs": [],
   "source": []
  }
 ],
 "metadata": {
  "kernelspec": {
   "display_name": "Python 3",
   "language": "python",
   "name": "python3"
  },
  "language_info": {
   "codemirror_mode": {
    "name": "ipython",
    "version": 3
   },
   "file_extension": ".py",
   "mimetype": "text/x-python",
   "name": "python",
   "nbconvert_exporter": "python",
   "pygments_lexer": "ipython3",
   "version": "3.7.3"
  }
 },
 "nbformat": 4,
 "nbformat_minor": 4
}
