{
 "cells": [
  {
   "cell_type": "code",
   "execution_count": 1,
   "metadata": {},
   "outputs": [],
   "source": [
    "import numpy as np\n",
    "import random\n",
    "import multiprocessing as mproc\n",
    "import matplotlib.pyplot as plt\n",
    "import tqdm\n",
    "from tqdm.notebook import tqdm as tqdm\n",
    "import matplotlib.colors as colors\n",
    "from matplotlib.cm import ScalarMappable\n",
    "\n",
    "import model_opt\n",
    "import algo_GD\n",
    "import helper"
   ]
  },
  {
   "cell_type": "code",
   "execution_count": 2,
   "metadata": {},
   "outputs": [],
   "source": [
    "noise = helper.gauss\n",
    "f = model_opt.RosenBrock(noise=noise)\n",
    "w = np.array([3,3])"
   ]
  },
  {
   "cell_type": "code",
   "execution_count": 3,
   "metadata": {},
   "outputs": [],
   "source": [
    "f.noise\n",
    "_t_max = 2\n",
    "algo = algo_GD.SGD(w_init=w,t_max=_t_max,a=0.0007)"
   ]
  },
  {
   "cell_type": "code",
   "execution_count": 4,
   "metadata": {},
   "outputs": [],
   "source": [
    "algo.update(model=f)"
   ]
  },
  {
   "cell_type": "code",
   "execution_count": 5,
   "metadata": {},
   "outputs": [
    {
     "data": {
      "text/plain": [
       "array([-2.04178338,  3.83912195])"
      ]
     },
     "execution_count": 5,
     "metadata": {},
     "output_type": "execute_result"
    }
   ],
   "source": [
    "algo.w"
   ]
  },
  {
   "cell_type": "code",
   "execution_count": 6,
   "metadata": {},
   "outputs": [
    {
     "data": {
      "text/plain": [
       "3454.6513871390216"
      ]
     },
     "execution_count": 6,
     "metadata": {},
     "output_type": "execute_result"
    }
   ],
   "source": [
    "helper.grad_norm(model=f,a=3,b=-3,n=100)"
   ]
  },
  {
   "cell_type": "code",
   "execution_count": 7,
   "metadata": {},
   "outputs": [],
   "source": [
    "if __name__ == \"__main__\":\n",
    "    \n",
    "    # 自分のマシンでコアが４or6\n",
    "    cpu_count = mproc.cpu_count()\n",
    "    mypool = mproc.Pool(cpu_count)\n",
    "    w = np.ones(cpu_count)\n",
    "    first_result = mypool.map(func=helper.pareto, iterable=w)\n",
    "    \n",
    "    mypool.close() # important for stopping memory leaks.\n",
    "    mypool.join() # wait for all workers to exit."
   ]
  },
  {
   "cell_type": "code",
   "execution_count": 8,
   "metadata": {},
   "outputs": [
    {
     "data": {
      "text/plain": [
       "[1.8216491960255699,\n",
       " 0.1232031046920512,\n",
       " 0.10786276836093944,\n",
       " 2.6187776659394717,\n",
       " 3.0218082468704015,\n",
       " 12.675470460439456]"
      ]
     },
     "execution_count": 8,
     "metadata": {},
     "output_type": "execute_result"
    }
   ],
   "source": [
    "first_result"
   ]
  },
  {
   "cell_type": "code",
   "execution_count": 9,
   "metadata": {},
   "outputs": [],
   "source": [
    "x = np.arange(10)\n",
    "noise = helper.gauss(x)\n",
    "k = helper.iqr(noise)"
   ]
  },
  {
   "cell_type": "code",
   "execution_count": 10,
   "metadata": {},
   "outputs": [
    {
     "data": {
      "text/plain": [
       "1.8987361246868142"
      ]
     },
     "execution_count": 10,
     "metadata": {},
     "output_type": "execute_result"
    }
   ],
   "source": [
    "k"
   ]
  },
  {
   "cell_type": "code",
   "execution_count": 11,
   "metadata": {},
   "outputs": [],
   "source": [
    "iqr_store = []\n",
    "for i in range(1000):\n",
    "    x = np.arange(1000)\n",
    "    noise = helper.gauss(x,mean=0,sigma=1)\n",
    "    k = helper.iqr(noise)\n",
    "    iqr_store.append(k)"
   ]
  },
  {
   "cell_type": "code",
   "execution_count": 12,
   "metadata": {},
   "outputs": [
    {
     "data": {
      "text/plain": [
       "(array([  31.,  157.,  646., 1763., 2729., 2568., 1485.,  504.,  100.,\n",
       "          17.]),\n",
       " array([1.29283032, 1.30431792, 1.31580551, 1.3272931 , 1.33878069,\n",
       "        1.35026828, 1.36175587, 1.37324347, 1.38473106, 1.39621865,\n",
       "        1.40770624]),\n",
       " <a list of 10 Patch objects>)"
      ]
     },
     "execution_count": 12,
     "metadata": {},
     "output_type": "execute_result"
    },
    {
     "data": {
      "image/png": "[encoded data removed]",
      "text/plain": [
       "<Figure size 432x288 with 1 Axes>"
      ]
     },
     "metadata": {
      "needs_background": "light"
     },
     "output_type": "display_data"
    }
   ],
   "source": [
    "plt.hist(iqr_store)"
   ]
  },
  {
   "cell_type": "code",
   "execution_count": 13,
   "metadata": {},
   "outputs": [
    {
     "data": {
      "text/plain": [
       "0.9999853912444348"
      ]
     },
     "execution_count": 13,
     "metadata": {},
     "output_type": "execute_result"
    }
   ],
   "source": [
    "np.mean(iqr_store) / 1.349"
   ]
  },
  {
   "cell_type": "code",
   "execution_count": 14,
   "metadata": {},
   "outputs": [
    {
     "data": {
      "text/plain": [
       "(array([ 3.,  0.,  0.,  0.,  0.,  1.,  2.,  1.,  1.,  2.,  2.,  6.,  2.,\n",
       "         2.,  3.,  4.,  3.,  8.,  7., 16., 17., 11., 16., 18., 16., 13.,\n",
       "        22., 23., 32., 27., 16., 33., 16., 15., 20., 23., 27., 26., 31.,\n",
       "        17., 30., 32., 30., 24., 23., 22., 23., 24., 12., 23., 20., 22.,\n",
       "        13., 13., 15., 16., 14., 19.,  9.,  7., 14.,  9., 14.,  7., 13.,\n",
       "        10.,  6.,  5.,  3.,  6.,  4.,  2.,  2.,  3.,  0.,  7.,  3.,  1.,\n",
       "         3.,  3.,  1.,  1.,  1.,  2.,  0.,  0.,  1.,  0.,  2.,  0.,  2.,\n",
       "         0.,  0.,  0.,  0.,  0.,  0.,  1.,  0.,  1.]),\n",
       " array([0.80664139, 0.81399781, 0.82135422, 0.82871063, 0.83606704,\n",
       "        0.84342346, 0.85077987, 0.85813628, 0.8654927 , 0.87284911,\n",
       "        0.88020552, 0.88756193, 0.89491835, 0.90227476, 0.90963117,\n",
       "        0.91698758, 0.924344  , 0.93170041, 0.93905682, 0.94641324,\n",
       "        0.95376965, 0.96112606, 0.96848247, 0.97583889, 0.9831953 ,\n",
       "        0.99055171, 0.99790812, 1.00526454, 1.01262095, 1.01997736,\n",
       "        1.02733377, 1.03469019, 1.0420466 , 1.04940301, 1.05675943,\n",
       "        1.06411584, 1.07147225, 1.07882866, 1.08618508, 1.09354149,\n",
       "        1.1008979 , 1.10825431, 1.11561073, 1.12296714, 1.13032355,\n",
       "        1.13767996, 1.14503638, 1.15239279, 1.1597492 , 1.16710562,\n",
       "        1.17446203, 1.18181844, 1.18917485, 1.19653127, 1.20388768,\n",
       "        1.21124409, 1.2186005 , 1.22595692, 1.23331333, 1.24066974,\n",
       "        1.24802616, 1.25538257, 1.26273898, 1.27009539, 1.27745181,\n",
       "        1.28480822, 1.29216463, 1.29952104, 1.30687746, 1.31423387,\n",
       "        1.32159028, 1.32894669, 1.33630311, 1.34365952, 1.35101593,\n",
       "        1.35837235, 1.36572876, 1.37308517, 1.38044158, 1.387798  ,\n",
       "        1.39515441, 1.40251082, 1.40986723, 1.41722365, 1.42458006,\n",
       "        1.43193647, 1.43929289, 1.4466493 , 1.45400571, 1.46136212,\n",
       "        1.46871854, 1.47607495, 1.48343136, 1.49078777, 1.49814419,\n",
       "        1.5055006 , 1.51285701, 1.52021342, 1.52756984, 1.53492625,\n",
       "        1.54228266]),\n",
       " <a list of 100 Patch objects>)"
      ]
     },
     "execution_count": 14,
     "metadata": {},
     "output_type": "execute_result"
    },
    {
     "data": {
      "image/png": "[encoded data removed]",
      "text/plain": [
       "<Figure size 432x288 with 1 Axes>"
      ]
     },
     "metadata": {
      "needs_background": "light"
     },
     "output_type": "display_data"
    }
   ],
   "source": [
    "plt.hist(helper.lognormal(mean=0.1,sigma=0.1,w=np.arange(1000)),bins=100)"
   ]
  },
  {
   "cell_type": "code",
   "execution_count": 15,
   "metadata": {},
   "outputs": [
    {
     "data": {
      "image/png": "[encoded data removed]",
      "text/plain": [
       "<Figure size 432x288 with 1 Axes>"
      ]
     },
     "metadata": {
      "needs_background": "light"
     },
     "output_type": "display_data"
    }
   ],
   "source": [
    "k = helper.lognormal(mean=0.1,sigma=0.1,w=np.arange(1000))\n",
    "plt.hist(k - k.mean(),bins=1000)\n",
    "plt.show()"
   ]
  },
  {
   "cell_type": "code",
   "execution_count": 16,
   "metadata": {},
   "outputs": [
    {
     "data": {
      "image/png": "[encoded data removed]",
      "text/plain": [
       "<Figure size 432x288 with 1 Axes>"
      ]
     },
     "metadata": {
      "needs_background": "light"
     },
     "output_type": "display_data"
    }
   ],
   "source": [
    "k = helper.lognormal(mean=0.1,sigma=1,w=np.arange(1000))\n",
    "plt.hist(k - k.mean(),bins=1000)\n",
    "plt.show()"
   ]
  },
  {
   "cell_type": "code",
   "execution_count": 17,
   "metadata": {},
   "outputs": [
    {
     "data": {
      "text/plain": [
       "1.5637453714368577"
      ]
     },
     "execution_count": 17,
     "metadata": {},
     "output_type": "execute_result"
    }
   ],
   "source": [
    "helper.iqr(k)"
   ]
  },
  {
   "cell_type": "code",
   "execution_count": 18,
   "metadata": {},
   "outputs": [],
   "source": [
    "w_init = np.array([3,3])\n",
    "_t_max = 1000\n",
    "f = model_opt.RosenBrock()\n",
    "\n",
    "\n",
    "w_star = f.w_star\n",
    "\n",
    "last_w_store = []\n",
    "for i in range(5):\n",
    "    var = np.random.randint(0,500,1)\n",
    "    noise = helper.gauss\n",
    "    f = model_opt.RosenBrock(noise=noise,var=100)\n",
    "    algo = algo_GD.SGD(w_init=w_init,t_max=_t_max,a=0.00078)\n",
    "    for i in algo:\n",
    "        algo.update(model=f)\n",
    "        \n",
    "    last_w_store.append(algo.w)\n",
    "        \n",
    "\n",
    "    "
   ]
  },
  {
   "cell_type": "code",
   "execution_count": 19,
   "metadata": {},
   "outputs": [
    {
     "data": {
      "text/plain": [
       "[array([0.95525077, 0.56643351]),\n",
       " array([0.74794619, 0.27449607]),\n",
       " array([0.98767203, 1.14480453]),\n",
       " array([-0.12151819, -0.11905295]),\n",
       " array([-0.43675896,  0.33186637])]"
      ]
     },
     "execution_count": 19,
     "metadata": {},
     "output_type": "execute_result"
    }
   ],
   "source": [
    "last_w_store"
   ]
  },
  {
   "cell_type": "code",
   "execution_count": 20,
   "metadata": {},
   "outputs": [
    {
     "ename": "SyntaxError",
     "evalue": "invalid syntax (<ipython-input-20-def7ad3ca50b>, line 1)",
     "output_type": "error",
     "traceback": [
      "\u001b[0;36m  File \u001b[0;32m\"<ipython-input-20-def7ad3ca50b>\"\u001b[0;36m, line \u001b[0;32m1\u001b[0m\n\u001b[0;31m    algo.\u001b[0m\n\u001b[0m         ^\u001b[0m\n\u001b[0;31mSyntaxError\u001b[0m\u001b[0;31m:\u001b[0m invalid syntax\n"
     ]
    }
   ],
   "source": []
  },
  {
   "cell_type": "code",
   "execution_count": null,
   "metadata": {},
   "outputs": [],
   "source": []
  },
  {
   "cell_type": "code",
   "execution_count": 28,
   "metadata": {},
   "outputs": [
    {
     "data": {
      "application/vnd.jupyter.widget-view+json": {
       "model_id": "8396380c4bad4a00ae76949038fda53f",
       "version_major": 2,
       "version_minor": 0
      },
      "text/plain": [
       "HBox(children=(FloatProgress(value=1.0, bar_style='info', max=1.0), HTML(value='')))"
      ]
     },
     "metadata": {},
     "output_type": "display_data"
    },
    {
     "name": "stdout",
     "output_type": "stream",
     "text": [
      "\n"
     ]
    },
    {
     "data": {
      "image/png": "[encoded data removed]",
      "text/plain": [
       "<Figure size 432x432 with 2 Axes>"
      ]
     },
     "metadata": {
      "needs_background": "light"
     },
     "output_type": "display_data"
    }
   ],
   "source": [
    "\n",
    "w_init = np.array([3,3])\n",
    "_t_max = 1000\n",
    "algo = algo_GD.SGD(w_init=w_init,t_max=_t_max,a=0.00078)\n",
    "w_star = f.w_star\n",
    "f = model_opt.RosenBrock(noise=noise,var=100)\n",
    "for i in tqdm(algo):\n",
    "    algo.update(model=f)\n",
    "    \n",
    "w_store = np.array(algo.wstore)\n",
    "grid_x_min = min(w_store.T[0].min(),w_star[0])-1\n",
    "grid_x_max = max(w_store.T[0].max(),w_star[0])+1\n",
    "grid_y_min = min(w_store.T[1].min(),w_star[1])-1\n",
    "grid_y_max = max(w_store.T[1].max(),w_star[1])+1\n",
    "xvals = np.arange(grid_x_min,grid_x_max, 0.1)\n",
    "yvals = np.arange(grid_y_min,grid_y_max, 0.1)\n",
    "X, Y = np.meshgrid(xvals, yvals)\n",
    "Z = f.f_opt([X,Y])\n",
    "\n",
    "fig, axes = plt.subplots(1,1, figsize=(6,6))\n",
    "axes.pcolor(X, Y, Z,cmap=plt.cm.rainbow)\n",
    "# wの軌跡\n",
    "axes.plot(w_store.T[0],w_store.T[1],c = \"k\",alpha=1,linewidth = 0.5)\n",
    "c = np.linspace(0, _t_max, len(w_store))\n",
    "axes.scatter(w_store.T[0],w_store.T[1],c=c,cmap = plt.cm.hot ,linewidths=0.01,alpha=1,s=10)\n",
    "axes.plot(w_store.T[0],w_store.T[1],c=\"k\",alpha=0.2,linewidth=1)\n",
    "# 始点(黄色)、終点（緑）、真値（赤）\n",
    "axes.plot(*w_store[0], 'ys', markersize=5)\n",
    "axes.plot(*w_store[-1], 'gs', markersize=5)\n",
    "axes.plot(*w_star, 'r*', markersize=8)\n",
    "\n",
    "#カラーバーの設定\n",
    "axpos = axes.get_position()\n",
    "cbar_ax = fig.add_axes([0.9, axpos.y0, 0.03, axpos.height])\n",
    "norm = colors.Normalize(vmin=Z.min(),vmax=Z.max())\n",
    "mappable = ScalarMappable(cmap=plt.cm.rainbow,norm=norm)\n",
    "mappable._A = []\n",
    "fig.colorbar(mappable, cax=cbar_ax)\n",
    "\n",
    "#余白の調整\n",
    "plt.subplots_adjust(right=0.85)\n",
    "plt.subplots_adjust(wspace=0.1)\n",
    "\n",
    "plt.show()"
   ]
  },
  {
   "cell_type": "code",
   "execution_count": 43,
   "metadata": {},
   "outputs": [
    {
     "name": "stdout",
     "output_type": "stream",
     "text": [
      "(2000,)\n"
     ]
    },
    {
     "data": {
      "text/plain": [
       "136.947454596772"
      ]
     },
     "execution_count": 43,
     "metadata": {},
     "output_type": "execute_result"
    }
   ],
   "source": [
    "\n",
    "noise_norm = np.array(algo.noise_store).flatten()\n",
    "helper.iqr(noise_norm)"
   ]
  },
  {
   "cell_type": "code",
   "execution_count": 44,
   "metadata": {},
   "outputs": [
    {
     "data": {
      "text/plain": [
       "(array([ 2.,  2.,  1.,  3.,  0.,  0.,  2.,  2.,  3.,  1.,  5.,  3.,  4.,\n",
       "         7., 10.,  5.,  7.,  4.,  7.,  5., 12.,  9., 15.,  7., 13., 24.,\n",
       "        24., 25., 20., 27., 31., 33., 23., 40., 38., 40., 43., 34., 39.,\n",
       "        53., 53., 54., 55., 49., 44., 56., 63., 62., 35., 45., 51., 52.,\n",
       "        56., 55., 47., 36., 37., 48., 38., 42., 35., 48., 45., 33., 23.,\n",
       "        24., 15., 21., 23., 22., 12., 12., 14.,  7., 11., 13.,  6.,  4.,\n",
       "         4., 10.,  2.,  1.,  2.,  3.,  0.,  0.,  2.,  0.,  1.,  1.,  1.,\n",
       "         2.,  0.,  0.,  1.,  0.,  0.,  0.,  0.,  1.]),\n",
       " array([-3.14677764e+02, -3.07984912e+02, -3.01292059e+02, -2.94599207e+02,\n",
       "        -2.87906355e+02, -2.81213502e+02, -2.74520650e+02, -2.67827798e+02,\n",
       "        -2.61134945e+02, -2.54442093e+02, -2.47749240e+02, -2.41056388e+02,\n",
       "        -2.34363536e+02, -2.27670683e+02, -2.20977831e+02, -2.14284979e+02,\n",
       "        -2.07592126e+02, -2.00899274e+02, -1.94206421e+02, -1.87513569e+02,\n",
       "        -1.80820717e+02, -1.74127864e+02, -1.67435012e+02, -1.60742160e+02,\n",
       "        -1.54049307e+02, -1.47356455e+02, -1.40663603e+02, -1.33970750e+02,\n",
       "        -1.27277898e+02, -1.20585045e+02, -1.13892193e+02, -1.07199341e+02,\n",
       "        -1.00506488e+02, -9.38136359e+01, -8.71207835e+01, -8.04279312e+01,\n",
       "        -7.37350788e+01, -6.70422264e+01, -6.03493741e+01, -5.36565217e+01,\n",
       "        -4.69636693e+01, -4.02708169e+01, -3.35779646e+01, -2.68851122e+01,\n",
       "        -2.01922598e+01, -1.34994074e+01, -6.80655508e+00, -1.13702705e-01,\n",
       "         6.57914967e+00,  1.32720020e+01,  1.99648544e+01,  2.66577068e+01,\n",
       "         3.33505592e+01,  4.00434115e+01,  4.67362639e+01,  5.34291163e+01,\n",
       "         6.01219686e+01,  6.68148210e+01,  7.35076734e+01,  8.02005258e+01,\n",
       "         8.68933781e+01,  9.35862305e+01,  1.00279083e+02,  1.06971935e+02,\n",
       "         1.13664788e+02,  1.20357640e+02,  1.27050492e+02,  1.33743345e+02,\n",
       "         1.40436197e+02,  1.47129049e+02,  1.53821902e+02,  1.60514754e+02,\n",
       "         1.67207607e+02,  1.73900459e+02,  1.80593311e+02,  1.87286164e+02,\n",
       "         1.93979016e+02,  2.00671868e+02,  2.07364721e+02,  2.14057573e+02,\n",
       "         2.20750426e+02,  2.27443278e+02,  2.34136130e+02,  2.40828983e+02,\n",
       "         2.47521835e+02,  2.54214687e+02,  2.60907540e+02,  2.67600392e+02,\n",
       "         2.74293245e+02,  2.80986097e+02,  2.87678949e+02,  2.94371802e+02,\n",
       "         3.01064654e+02,  3.07757506e+02,  3.14450359e+02,  3.21143211e+02,\n",
       "         3.27836064e+02,  3.34528916e+02,  3.41221768e+02,  3.47914621e+02,\n",
       "         3.54607473e+02]),\n",
       " <a list of 100 Patch objects>)"
      ]
     },
     "execution_count": 44,
     "metadata": {},
     "output_type": "execute_result"
    },
    {
     "data": {
      "image/png": "[encoded data removed]",
      "text/plain": [
       "<Figure size 432x288 with 1 Axes>"
      ]
     },
     "metadata": {
      "needs_background": "light"
     },
     "output_type": "display_data"
    }
   ],
   "source": [
    "plt.hist(noise_norm,bins=100)"
   ]
  },
  {
   "cell_type": "code",
   "execution_count": null,
   "metadata": {},
   "outputs": [],
   "source": []
  }
 ],
 "metadata": {
  "kernelspec": {
   "display_name": "Python 3",
   "language": "python",
   "name": "python3"
  },
  "language_info": {
   "codemirror_mode": {
    "name": "ipython",
    "version": 3
   },
   "file_extension": ".py",
   "mimetype": "text/x-python",
   "name": "python",
   "nbconvert_exporter": "python",
   "pygments_lexer": "ipython3",
   "version": "3.7.3"
  }
 },
 "nbformat": 4,
 "nbformat_minor": 4
}
