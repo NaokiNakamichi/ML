{
 "cells": [
  {
   "cell_type": "code",
   "execution_count": 3,
   "metadata": {},
   "outputs": [],
   "source": [
    "import model_opt\n",
    "import algo_GD\n",
    "import noise\n",
    "import numpy as np\n",
    "from tqdm.notebook import tqdm as tqdm\n",
    "import multiprocessing as mproc"
   ]
  },
  {
   "cell_type": "code",
   "execution_count": 6,
   "metadata": {},
   "outputs": [],
   "source": [
    "def f(x):\n",
    "    np.random.seed()\n",
    "    k = np.random.randint(10)\n",
    "    return x*x + k"
   ]
  },
  {
   "cell_type": "code",
   "execution_count": 8,
   "metadata": {},
   "outputs": [
    {
     "name": "stdout",
     "output_type": "stream",
     "text": [
      "[3, 10, 11, 21, 25, 37]\n"
     ]
    }
   ],
   "source": [
    "\n",
    "if __name__ == \"__main__\":\n",
    "\n",
    "    # 自分のマシンでコアが４or6\n",
    "    cpu_count = mproc.cpu_count()\n",
    "\n",
    "    mypool = mproc.Pool(cpu_count)\n",
    "    k = mypool.map(func=f, iterable=[1,2,3,4,5,6])\n",
    "    print(k)\n",
    "\n",
    "    # Memory management.\n",
    "    mypool.close() # important for stopping memory leaks.\n",
    "    mypool.join() # wait for all workers to exit."
   ]
  },
  {
   "cell_type": "code",
   "execution_count": null,
   "metadata": {},
   "outputs": [],
   "source": []
  }
 ],
 "metadata": {
  "kernelspec": {
   "display_name": "Python 3",
   "language": "python",
   "name": "python3"
  },
  "language_info": {
   "codemirror_mode": {
    "name": "ipython",
    "version": 3
   },
   "file_extension": ".py",
   "mimetype": "text/x-python",
   "name": "python",
   "nbconvert_exporter": "python",
   "pygments_lexer": "ipython3",
   "version": "3.7.3"
  }
 },
 "nbformat": 4,
 "nbformat_minor": 4
}
