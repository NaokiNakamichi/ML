{
 "cells": [
  {
   "cell_type": "code",
   "execution_count": 27,
   "metadata": {},
   "outputs": [],
   "source": [
    "import numpy as np\n",
    "import random\n",
    "import multiprocessing as mproc\n",
    "import matplotlib.pyplot as plt\n",
    "import tqdm\n",
    "from tqdm.notebook import tqdm as tqdm\n",
    "import matplotlib.colors as colors\n",
    "from matplotlib.cm import ScalarMappable\n",
    "import pandas as pd\n",
    "\n",
    "import model_opt\n",
    "import algo_GD\n",
    "import helper"
   ]
  },
  {
   "cell_type": "code",
   "execution_count": 11,
   "metadata": {},
   "outputs": [
    {
     "data": {
      "application/vnd.jupyter.widget-view+json": {
       "model_id": "bb85f0e1fddf4769bc1550d3e4c68936",
       "version_major": 2,
       "version_minor": 0
      },
      "text/plain": [
       "HBox(children=(FloatProgress(value=0.0), HTML(value='')))"
      ]
     },
     "metadata": {},
     "output_type": "display_data"
    },
    {
     "name": "stdout",
     "output_type": "stream",
     "text": [
      "\n"
     ]
    }
   ],
   "source": [
    "w_init = np.array([3,3])\n",
    "_t_max = 3000\n",
    "f = model_opt.RosenBrock()\n",
    "\n",
    "\n",
    "w_star = f.w_star\n",
    "\n",
    "last_w_store = []\n",
    "iqr_store = []\n",
    "for i in tqdm(range(100)):\n",
    "    var = np.random.randint(1,300,1)[0]\n",
    "    noise = helper.gauss\n",
    "    f = model_opt.RosenBrock(noise=noise,var=var)\n",
    "    algo = algo_GD.SGD(w_init=w_init,t_max=_t_max,a=0.00078)\n",
    "    for i in algo:\n",
    "        algo.update(model=f)\n",
    "        \n",
    "    iqr_store.append(helper.iqr(algo.noise_store))\n",
    "    last_w_store.append(algo.w)"
   ]
  },
  {
   "cell_type": "code",
   "execution_count": 3,
   "metadata": {},
   "outputs": [
    {
     "data": {
      "text/plain": [
       "[365.01741556860236, 111.08618302588658, 324.05525577985316]"
      ]
     },
     "execution_count": 3,
     "metadata": {},
     "output_type": "execute_result"
    }
   ],
   "source": [
    "iqr_store"
   ]
  },
  {
   "cell_type": "code",
   "execution_count": 4,
   "metadata": {},
   "outputs": [
    {
     "data": {
      "text/plain": [
       "(array([1, 0, 0, 0, 0, 0, 0, 0, 1, 1]),\n",
       " array([111.08618303, 136.47930628, 161.87242953, 187.26555279,\n",
       "        212.65867604, 238.0517993 , 263.44492255, 288.83804581,\n",
       "        314.23116906, 339.62429231, 365.01741557]))"
      ]
     },
     "execution_count": 4,
     "metadata": {},
     "output_type": "execute_result"
    }
   ],
   "source": [
    "np.histogram(iqr_store)"
   ]
  },
  {
   "cell_type": "code",
   "execution_count": 5,
   "metadata": {},
   "outputs": [
    {
     "data": {
      "text/plain": [
       "(array([1., 0., 0., 0., 0., 0., 0., 0., 0., 0., 0., 0., 0., 0., 0., 0., 0.,\n",
       "        0., 0., 0., 0., 0., 0., 0., 0., 0., 0., 0., 0., 0., 0., 0., 0., 0.,\n",
       "        0., 0., 0., 0., 0., 0., 0., 0., 0., 0., 0., 0., 0., 0., 0., 0., 0.,\n",
       "        0., 0., 0., 0., 0., 0., 0., 0., 0., 0., 0., 0., 0., 0., 0., 0., 0.,\n",
       "        0., 0., 0., 0., 0., 0., 0., 0., 0., 0., 0., 0., 0., 0., 0., 1., 0.,\n",
       "        0., 0., 0., 0., 0., 0., 0., 0., 0., 0., 0., 0., 0., 0., 1.]),\n",
       " array([111.08618303, 113.62549535, 116.16480768, 118.70412   ,\n",
       "        121.24343233, 123.78274465, 126.32205698, 128.8613693 ,\n",
       "        131.40068163, 133.93999395, 136.47930628, 139.01861861,\n",
       "        141.55793093, 144.09724326, 146.63655558, 149.17586791,\n",
       "        151.71518023, 154.25449256, 156.79380488, 159.33311721,\n",
       "        161.87242953, 164.41174186, 166.95105419, 169.49036651,\n",
       "        172.02967884, 174.56899116, 177.10830349, 179.64761581,\n",
       "        182.18692814, 184.72624046, 187.26555279, 189.80486511,\n",
       "        192.34417744, 194.88348976, 197.42280209, 199.96211442,\n",
       "        202.50142674, 205.04073907, 207.58005139, 210.11936372,\n",
       "        212.65867604, 215.19798837, 217.73730069, 220.27661302,\n",
       "        222.81592534, 225.35523767, 227.89455   , 230.43386232,\n",
       "        232.97317465, 235.51248697, 238.0517993 , 240.59111162,\n",
       "        243.13042395, 245.66973627, 248.2090486 , 250.74836092,\n",
       "        253.28767325, 255.82698558, 258.3662979 , 260.90561023,\n",
       "        263.44492255, 265.98423488, 268.5235472 , 271.06285953,\n",
       "        273.60217185, 276.14148418, 278.6807965 , 281.22010883,\n",
       "        283.75942115, 286.29873348, 288.83804581, 291.37735813,\n",
       "        293.91667046, 296.45598278, 298.99529511, 301.53460743,\n",
       "        304.07391976, 306.61323208, 309.15254441, 311.69185673,\n",
       "        314.23116906, 316.77048139, 319.30979371, 321.84910604,\n",
       "        324.38841836, 326.92773069, 329.46704301, 332.00635534,\n",
       "        334.54566766, 337.08497999, 339.62429231, 342.16360464,\n",
       "        344.70291697, 347.24222929, 349.78154162, 352.32085394,\n",
       "        354.86016627, 357.39947859, 359.93879092, 362.47810324,\n",
       "        365.01741557]),\n",
       " <a list of 100 Patch objects>)"
      ]
     },
     "execution_count": 5,
     "metadata": {},
     "output_type": "execute_result"
    },
    {
     "data": {
      "image/png": "[encoded data removed]",
      "text/plain": [
       "<Figure size 432x288 with 1 Axes>"
      ]
     },
     "metadata": {
      "needs_background": "light"
     },
     "output_type": "display_data"
    }
   ],
   "source": [
    "plt.hist(iqr_store,bins=100)"
   ]
  },
  {
   "cell_type": "code",
   "execution_count": 6,
   "metadata": {},
   "outputs": [
    {
     "data": {
      "text/plain": [
       "<matplotlib.collections.PathCollection at 0x115e3e080>"
      ]
     },
     "execution_count": 6,
     "metadata": {},
     "output_type": "execute_result"
    },
    {
     "data": {
      "image/png": "[encoded data removed]",
      "text/plain": [
       "<Figure size 432x288 with 1 Axes>"
      ]
     },
     "metadata": {
      "needs_background": "light"
     },
     "output_type": "display_data"
    }
   ],
   "source": [
    "plt.scatter(*np.array(last_w_store).T)"
   ]
  },
  {
   "cell_type": "code",
   "execution_count": 7,
   "metadata": {},
   "outputs": [],
   "source": [
    "s = np.where(np.array(iqr_store) < 50)"
   ]
  },
  {
   "cell_type": "code",
   "execution_count": 8,
   "metadata": {},
   "outputs": [
    {
     "data": {
      "text/plain": [
       "array([], shape=(0, 2), dtype=float64)"
      ]
     },
     "execution_count": 8,
     "metadata": {},
     "output_type": "execute_result"
    }
   ],
   "source": [
    "np.array(last_w_store)[s[0]]"
   ]
  },
  {
   "cell_type": "code",
   "execution_count": 10,
   "metadata": {},
   "outputs": [
    {
     "data": {
      "text/plain": [
       "array([1])"
      ]
     },
     "execution_count": 10,
     "metadata": {},
     "output_type": "execute_result"
    }
   ],
   "source": [
    "helper.get_index_bins(np.array(iqr_store),300,0)"
   ]
  },
  {
   "cell_type": "code",
   "execution_count": 12,
   "metadata": {},
   "outputs": [
    {
     "data": {
      "text/plain": [
       "402.41776187672195"
      ]
     },
     "execution_count": 12,
     "metadata": {},
     "output_type": "execute_result"
    }
   ],
   "source": [
    "np.max(iqr_store)-np.min(iqr_store) "
   ]
  },
  {
   "cell_type": "code",
   "execution_count": 17,
   "metadata": {},
   "outputs": [
    {
     "data": {
      "text/plain": [
       "array([  4.13147228,  48.84455693,  93.55764158, 138.27072624,\n",
       "       182.98381089, 227.69689554, 272.40998019, 317.12306485,\n",
       "       361.8361495 , 406.54923415])"
      ]
     },
     "execution_count": 17,
     "metadata": {},
     "output_type": "execute_result"
    }
   ],
   "source": [
    "np.linspace(np.min(iqr_store),np.max(iqr_store),10)"
   ]
  },
  {
   "cell_type": "code",
   "execution_count": 26,
   "metadata": {},
   "outputs": [
    {
     "data": {
      "text/plain": [
       "[<matplotlib.lines.Line2D at 0x118806358>]"
      ]
     },
     "execution_count": 26,
     "metadata": {},
     "output_type": "execute_result"
    },
    {
     "data": {
      "image/png": "[encoded data removed]",
      "text/plain": [
       "<Figure size 432x288 with 1 Axes>"
      ]
     },
     "metadata": {
      "needs_background": "light"
     },
     "output_type": "display_data"
    }
   ],
   "source": [
    "k = 4\n",
    "fig, axes = plt.subplots(1,1, figsize=(6,6))\n",
    "for i in range(k-1):\n",
    "    c = np.linspace(np.min(iqr_store),np.max(iqr_store),k)\n",
    "    index = helper.get_index_bins(np.array(iqr_store),c[i+1],c[i])\n",
    "    plt.scatter(*np.array(last_w_store)[index].T)\n",
    "plt.plot(*w_star, 'r*', markersize=14)"
   ]
  },
  {
   "cell_type": "code",
   "execution_count": 36,
   "metadata": {},
   "outputs": [
    {
     "data": {
      "text/plain": [
       "(2,)"
      ]
     },
     "execution_count": 36,
     "metadata": {},
     "output_type": "execute_result"
    }
   ],
   "source": [
    "last_w_store = np.array(last_w_store)\n",
    "last_w_store[0,:].shape"
   ]
  },
  {
   "cell_type": "code",
   "execution_count": 45,
   "metadata": {},
   "outputs": [],
   "source": [
    "import datetime\n",
    "dt_now = datetime.datetime.now()\n",
    "\n",
    "data = np.array([iqr_store,last_w_store[:,0],last_w_store[:,1]]).T\n",
    "df = pd.DataFrame(data=data, columns=['iqr', 'w_0', 'w_1'])\n",
    "\n"
   ]
  },
  {
   "cell_type": "code",
   "execution_count": 39,
   "metadata": {},
   "outputs": [
    {
     "data": {
      "text/html": [
       "<div>\n",
       "<style scoped>\n",
       "    .dataframe tbody tr th:only-of-type {\n",
       "        vertical-align: middle;\n",
       "    }\n",
       "\n",
       "    .dataframe tbody tr th {\n",
       "        vertical-align: top;\n",
       "    }\n",
       "\n",
       "    .dataframe thead th {\n",
       "        text-align: right;\n",
       "    }\n",
       "</style>\n",
       "<table border=\"1\" class=\"dataframe\">\n",
       "  <thead>\n",
       "    <tr style=\"text-align: right;\">\n",
       "      <th></th>\n",
       "      <th>iqr</th>\n",
       "      <th>w_0</th>\n",
       "      <th>w_1</th>\n",
       "    </tr>\n",
       "  </thead>\n",
       "  <tbody>\n",
       "    <tr>\n",
       "      <th>0</th>\n",
       "      <td>234.833361</td>\n",
       "      <td>0.300072</td>\n",
       "      <td>0.049386</td>\n",
       "    </tr>\n",
       "    <tr>\n",
       "      <th>1</th>\n",
       "      <td>54.923819</td>\n",
       "      <td>-0.854100</td>\n",
       "      <td>0.670801</td>\n",
       "    </tr>\n",
       "    <tr>\n",
       "      <th>2</th>\n",
       "      <td>83.343389</td>\n",
       "      <td>1.031557</td>\n",
       "      <td>0.950823</td>\n",
       "    </tr>\n",
       "    <tr>\n",
       "      <th>3</th>\n",
       "      <td>187.562024</td>\n",
       "      <td>-1.569977</td>\n",
       "      <td>1.748261</td>\n",
       "    </tr>\n",
       "    <tr>\n",
       "      <th>4</th>\n",
       "      <td>186.296513</td>\n",
       "      <td>-0.184366</td>\n",
       "      <td>-0.120980</td>\n",
       "    </tr>\n",
       "    <tr>\n",
       "      <th>...</th>\n",
       "      <td>...</td>\n",
       "      <td>...</td>\n",
       "      <td>...</td>\n",
       "    </tr>\n",
       "    <tr>\n",
       "      <th>95</th>\n",
       "      <td>284.271081</td>\n",
       "      <td>0.712341</td>\n",
       "      <td>0.279397</td>\n",
       "    </tr>\n",
       "    <tr>\n",
       "      <th>96</th>\n",
       "      <td>252.112137</td>\n",
       "      <td>0.029933</td>\n",
       "      <td>0.145854</td>\n",
       "    </tr>\n",
       "    <tr>\n",
       "      <th>97</th>\n",
       "      <td>399.987419</td>\n",
       "      <td>1.107400</td>\n",
       "      <td>1.674665</td>\n",
       "    </tr>\n",
       "    <tr>\n",
       "      <th>98</th>\n",
       "      <td>389.882810</td>\n",
       "      <td>1.781445</td>\n",
       "      <td>2.291669</td>\n",
       "    </tr>\n",
       "    <tr>\n",
       "      <th>99</th>\n",
       "      <td>188.181088</td>\n",
       "      <td>0.091943</td>\n",
       "      <td>0.272900</td>\n",
       "    </tr>\n",
       "  </tbody>\n",
       "</table>\n",
       "<p>100 rows × 3 columns</p>\n",
       "</div>"
      ],
      "text/plain": [
       "           iqr       w_0       w_1\n",
       "0   234.833361  0.300072  0.049386\n",
       "1    54.923819 -0.854100  0.670801\n",
       "2    83.343389  1.031557  0.950823\n",
       "3   187.562024 -1.569977  1.748261\n",
       "4   186.296513 -0.184366 -0.120980\n",
       "..         ...       ...       ...\n",
       "95  284.271081  0.712341  0.279397\n",
       "96  252.112137  0.029933  0.145854\n",
       "97  399.987419  1.107400  1.674665\n",
       "98  389.882810  1.781445  2.291669\n",
       "99  188.181088  0.091943  0.272900\n",
       "\n",
       "[100 rows x 3 columns]"
      ]
     },
     "execution_count": 39,
     "metadata": {},
     "output_type": "execute_result"
    }
   ],
   "source": [
    "df.to_csv('exp_result/gauss_noise_last_w  {}.csv'.format(dt_now),header=True)"
   ]
  }
 ],
 "metadata": {
  "kernelspec": {
   "display_name": "Python 3",
   "language": "python",
   "name": "python3"
  },
  "language_info": {
   "codemirror_mode": {
    "name": "ipython",
    "version": 3
   },
   "file_extension": ".py",
   "mimetype": "text/x-python",
   "name": "python",
   "nbconvert_exporter": "python",
   "pygments_lexer": "ipython3",
   "version": "3.7.3"
  }
 },
 "nbformat": 4,
 "nbformat_minor": 4
}
