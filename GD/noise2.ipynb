{
 "cells": [
  {
   "cell_type": "code",
   "execution_count": 1,
   "metadata": {},
   "outputs": [],
   "source": [
    "import numpy as np\n",
    "import random\n",
    "import multiprocessing as mproc\n",
    "import matplotlib.pyplot as plt\n",
    "import tqdm\n",
    "from tqdm.notebook import tqdm as tqdm\n",
    "import matplotlib.colors as colors\n",
    "from matplotlib.cm import ScalarMappable\n",
    "import pandas as pd\n",
    "\n",
    "import model_opt\n",
    "import algo_GD\n",
    "import helper"
   ]
  },
  {
   "cell_type": "code",
   "execution_count": 2,
   "metadata": {},
   "outputs": [
    {
     "data": {
      "text/plain": "HBox(children=(FloatProgress(value=0.0), HTML(value='')))",
      "application/vnd.jupyter.widget-view+json": {
       "version_major": 2,
       "version_minor": 0,
       "model_id": "a48a20e1310f496dad50839059731a8e"
      }
     },
     "metadata": {},
     "output_type": "display_data"
    },
    {
     "name": "stderr",
     "output_type": "stream",
     "text": [
      "/Users/naoki/ML/GD/model_opt.py:373: RuntimeWarning: overflow encountered in double_scalars\n",
      "  tmp[i] = 100 * (-4) * w[i] * (w[i+1] - w[i] ** 2) + 2 * (w[i] - 1)\n",
      "/Users/naoki/ML/GD/model_opt.py:375: RuntimeWarning: overflow encountered in double_scalars\n",
      "  tmp[i] = 100 * 2 * (w[i] - w[i-1] ** 2)\n",
      "/Users/naoki/ML/GD/model_opt.py:373: RuntimeWarning: invalid value encountered in double_scalars\n",
      "  tmp[i] = 100 * (-4) * w[i] * (w[i+1] - w[i] ** 2) + 2 * (w[i] - 1)\n",
      "/Users/naoki/ML/GD/model_opt.py:375: RuntimeWarning: invalid value encountered in double_scalars\n",
      "  tmp[i] = 100 * 2 * (w[i] - w[i-1] ** 2)\n"
     ]
    },
    {
     "name": "stdout",
     "output_type": "stream",
     "text": [
      "\n"
     ]
    }
   ],
   "source": [
    "w_init = np.array([3,3])\n",
    "_t_max = 3000\n",
    "f = model_opt.RosenBrock()\n",
    "\n",
    "\n",
    "w_star = f.w_star\n",
    "\n",
    "last_w_store = []\n",
    "iqr_store = []\n",
    "for i in tqdm(range(100)):\n",
    "    var = np.random.randint(1,300,1)[0]\n",
    "    noise = helper.gauss\n",
    "    f = model_opt.RosenBrock(noise=noise,var=var)\n",
    "    algo = algo_GD.SGD(w_init=w_init,t_max=_t_max,a=0.00078)\n",
    "    for i in algo:\n",
    "        algo.update(model=f)\n",
    "        \n",
    "    iqr_store.append(helper.iqr(algo.noise_store))\n",
    "    last_w_store.append(algo.w)"
   ]
  },
  {
   "cell_type": "code",
   "execution_count": 4,
   "metadata": {},
   "outputs": [
    {
     "data": {
      "text/plain": "[16.38834025276079,\n 69.57222690751193,\n 250.178844959149,\n 339.9360555372923,\n 352.1624589865812,\n 134.85146822509546,\n 291.2518035010092,\n 40.21029254232772,\n 87.93048978748152,\n 368.9228358683007,\n 285.96367134513184,\n 343.96021988082975,\n 90.97930507066542,\n 32.508771247999604,\n 159.99079829918867,\n 242.24421924690034,\n 122.261363083994,\n 232.12272769340336,\n 83.94102139901995,\n 238.40418064226628,\n 195.5793643747192,\n 124.70121832061747,\n 152.5949263384707,\n 376.80043467844877,\n 57.42416975619453,\n 349.6410347761822,\n 328.740179930934,\n 82.94424917377616,\n 275.01543183700363,\n 352.68769706180535,\n 240.6359618417965,\n 357.9678409069595,\n 217.63539891795173,\n 250.47703109234382,\n 311.1874605458615,\n 44.7862235747159,\n 223.79299974752644,\n 281.26667337925505,\n 136.6293959014143,\n 27.96199403866389,\n 1.353041831954294,\n 390.94868100781645,\n 307.69368403883016,\n 246.18395989217987,\n 248.9611869042435,\n 133.84562179811294,\n 147.0311304386195,\n 152.15122679040235,\n 76.22039767806504,\n 28.340787116356775,\n 130.55607327321513,\n 342.49159410004,\n 255.71578805927805,\n 177.68251478488753,\n 28.329590409281536,\n 62.65096207873447,\n 303.33003659395047,\n 235.01294636346285,\n 8.102896005896731,\n 204.7956150907666,\n 264.64541478465804,\n 1.314349451288253,\n 383.99001263372185,\n 373.3071969422683,\n 105.58077801740797,\n 190.50906974898254,\n 355.82559895506347,\n 318.77238652548635,\n 234.73408507194634,\n 221.41214195917453,\n 148.04951968490468,\n 89.90203630510135,\n 67.17042332615245,\n 413.0874529335543,\n 235.96608269801916,\n 260.3057542620902,\n 327.36769303617643,\n 327.7392275909906,\n 162.11206568715764,\n 104.49872450285451,\n 341.54955730213385,\n 372.0239052790563,\n 335.0909799763999,\n 311.22165445543294,\n 191.46319968287975,\n 241.55620286744966,\n 130.65149265623106,\n 290.9409998303747,\n 338.0386020366985,\n 318.16201733788046,\n 42.142638904036524,\n 143.896524719328,\n 211.10040257724216,\n 270.2804313290355,\n 250.59803221217325,\n 28.234857744270386,\n 114.075795860471,\n 266.5225424367906,\n 118.34136976427301,\n 116.50842150789437]"
     },
     "execution_count": 4,
     "metadata": {},
     "output_type": "execute_result"
    }
   ],
   "source": [
    "iqr_store"
   ]
  },
  {
   "cell_type": "code",
   "execution_count": 5,
   "metadata": {},
   "outputs": [
    {
     "data": {
      "text/plain": "(array([11,  7, 11, 12,  5, 13, 12, 11, 12,  6]),\n array([  1.31434945,  42.4916598 ,  83.66897015, 124.8462805 ,\n        166.02359084, 207.20090119, 248.37821154, 289.55552189,\n        330.73283224, 371.91014259, 413.08745293]))"
     },
     "execution_count": 5,
     "metadata": {},
     "output_type": "execute_result"
    }
   ],
   "source": [
    "np.histogram(iqr_store)"
   ]
  },
  {
   "cell_type": "code",
   "execution_count": 6,
   "metadata": {},
   "outputs": [
    {
     "data": {
      "text/plain": "(array([2., 1., 0., 1., 0., 0., 4., 1., 0., 2., 1., 0., 0., 1., 1., 1., 1.,\n        0., 1., 1., 1., 3., 0., 0., 0., 2., 0., 2., 1., 2., 0., 2., 3., 0.,\n        1., 2., 2., 0., 1., 1., 0., 0., 1., 0., 0., 1., 1., 1., 0., 1., 1.,\n        0., 1., 1., 1., 0., 4., 1., 3., 1., 4., 1., 1., 1., 1., 1., 1., 1.,\n        0., 1., 2., 0., 0., 1., 1., 2., 1., 1., 0., 3., 0., 2., 3., 1., 1.,\n        2., 2., 0., 0., 1., 2., 1., 1., 0., 1., 0., 0., 0., 0., 1.]),\n array([  1.31434945,   5.43208049,   9.54981152,  13.66754256,\n         17.78527359,  21.90300463,  26.02073566,  30.1384667 ,\n         34.25619773,  38.37392876,  42.4916598 ,  46.60939083,\n         50.72712187,  54.8448529 ,  58.96258394,  63.08031497,\n         67.19804601,  71.31577704,  75.43350808,  79.55123911,\n         83.66897015,  87.78670118,  91.90443222,  96.02216325,\n        100.13989429, 104.25762532, 108.37535636, 112.49308739,\n        116.61081843, 120.72854946, 124.8462805 , 128.96401153,\n        133.08174257, 137.1994736 , 141.31720464, 145.43493567,\n        149.5526667 , 153.67039774, 157.78812877, 161.90585981,\n        166.02359084, 170.14132188, 174.25905291, 178.37678395,\n        182.49451498, 186.61224602, 190.72997705, 194.84770809,\n        198.96543912, 203.08317016, 207.20090119, 211.31863223,\n        215.43636326, 219.5540943 , 223.67182533, 227.78955637,\n        231.9072874 , 236.02501844, 240.14274947, 244.26048051,\n        248.37821154, 252.49594258, 256.61367361, 260.73140465,\n        264.84913568, 268.96686671, 273.08459775, 277.20232878,\n        281.32005982, 285.43779085, 289.55552189, 293.67325292,\n        297.79098396, 301.90871499, 306.02644603, 310.14417706,\n        314.2619081 , 318.37963913, 322.49737017, 326.6151012 ,\n        330.73283224, 334.85056327, 338.96829431, 343.08602534,\n        347.20375638, 351.32148741, 355.43921845, 359.55694948,\n        363.67468052, 367.79241155, 371.91014259, 376.02787362,\n        380.14560465, 384.26333569, 388.38106672, 392.49879776,\n        396.61652879, 400.73425983, 404.85199086, 408.9697219 ,\n        413.08745293]),\n <a list of 100 Patch objects>)"
     },
     "execution_count": 6,
     "metadata": {},
     "output_type": "execute_result"
    },
    {
     "data": {
      "text/plain": "<Figure size 432x288 with 1 Axes>",
      "image/png": "[encoded data removed]"
     },
     "metadata": {
      "needs_background": "light"
     },
     "output_type": "display_data"
    }
   ],
   "source": [
    "plt.hist(iqr_store,bins=100)"
   ]
  },
  {
   "cell_type": "code",
   "execution_count": 7,
   "metadata": {},
   "outputs": [
    {
     "data": {
      "text/plain": "<matplotlib.collections.PathCollection at 0x11c05d908>"
     },
     "execution_count": 7,
     "metadata": {},
     "output_type": "execute_result"
    },
    {
     "data": {
      "text/plain": "<Figure size 432x288 with 1 Axes>",
      "image/png": "[encoded data removed]"
     },
     "metadata": {
      "needs_background": "light"
     },
     "output_type": "display_data"
    }
   ],
   "source": [
    "plt.scatter(*np.array(last_w_store).T)"
   ]
  },
  {
   "cell_type": "code",
   "execution_count": 8,
   "metadata": {},
   "outputs": [],
   "source": [
    "s = np.where(np.array(iqr_store) < 50)"
   ]
  },
  {
   "cell_type": "code",
   "execution_count": 9,
   "metadata": {},
   "outputs": [
    {
     "data": {
      "text/plain": "array([[0.48975919, 0.21537275],\n       [0.19190803, 0.02370073],\n       [0.85617352, 0.764229  ],\n       [0.60827339, 0.34663604],\n       [0.41229726, 0.17006169],\n       [0.44849914, 0.19966714],\n       [0.63635738, 0.37100735],\n       [0.60463963, 0.32939085],\n       [0.5766885 , 0.33133514],\n       [0.45713454, 0.20444051],\n       [1.0190858 , 1.06970946],\n       [0.70474668, 0.46708322]])"
     },
     "execution_count": 9,
     "metadata": {},
     "output_type": "execute_result"
    }
   ],
   "source": [
    "np.array(last_w_store)[s[0]]"
   ]
  },
  {
   "cell_type": "code",
   "execution_count": 10,
   "metadata": {},
   "outputs": [
    {
     "data": {
      "text/plain": "array([ 0,  1,  2,  5,  6,  7,  8, 10, 12, 13, 14, 15, 16, 17, 18, 19, 20,\n       21, 22, 24, 27, 28, 30, 32, 33, 35, 36, 37, 38, 39, 40, 43, 44, 45,\n       46, 47, 48, 49, 50, 52, 53, 54, 55, 57, 58, 59, 60, 61, 64, 65, 68,\n       69, 70, 71, 72, 74, 75, 78, 79, 84, 85, 86, 87, 90, 91, 92, 93, 94,\n       95, 96, 97, 98, 99])"
     },
     "execution_count": 10,
     "metadata": {},
     "output_type": "execute_result"
    }
   ],
   "source": [
    "helper.get_index_bins(np.array(iqr_store),300,0)"
   ]
  },
  {
   "cell_type": "code",
   "execution_count": 11,
   "metadata": {},
   "outputs": [
    {
     "data": {
      "text/plain": "411.77310348226604"
     },
     "execution_count": 11,
     "metadata": {},
     "output_type": "execute_result"
    }
   ],
   "source": [
    "np.max(iqr_store)-np.min(iqr_store) "
   ]
  },
  {
   "cell_type": "code",
   "execution_count": 12,
   "metadata": {},
   "outputs": [
    {
     "data": {
      "text/plain": "array([  1.31434945,  47.0669165 ,  92.81948356, 138.57205061,\n       184.32461767, 230.07718472, 275.82975177, 321.58231883,\n       367.33488588, 413.08745293])"
     },
     "execution_count": 12,
     "metadata": {},
     "output_type": "execute_result"
    }
   ],
   "source": [
    "np.linspace(np.min(iqr_store),np.max(iqr_store),10)"
   ]
  },
  {
   "cell_type": "code",
   "execution_count": 13,
   "metadata": {},
   "outputs": [
    {
     "data": {
      "text/plain": "[<matplotlib.lines.Line2D at 0x106a05550>]"
     },
     "execution_count": 13,
     "metadata": {},
     "output_type": "execute_result"
    },
    {
     "data": {
      "text/plain": "<Figure size 432x432 with 1 Axes>",
      "image/png": "[encoded data removed]"
     },
     "metadata": {
      "needs_background": "light"
     },
     "output_type": "display_data"
    }
   ],
   "source": [
    "k = 4\n",
    "fig, axes = plt.subplots(1,1, figsize=(6,6))\n",
    "for i in range(k-1):\n",
    "    c = np.linspace(np.min(iqr_store),np.max(iqr_store),k)\n",
    "    index = helper.get_index_bins(np.array(iqr_store),c[i+1],c[i])\n",
    "    plt.scatter(*np.array(last_w_store)[index].T)\n",
    "plt.plot(*w_star, 'r*', markersize=14)"
   ]
  },
  {
   "cell_type": "code",
   "execution_count": 14,
   "metadata": {},
   "outputs": [
    {
     "data": {
      "text/plain": "(2,)"
     },
     "execution_count": 14,
     "metadata": {},
     "output_type": "execute_result"
    }
   ],
   "source": [
    "last_w_store = np.array(last_w_store)\n",
    "last_w_store[0,:].shape"
   ]
  },
  {
   "cell_type": "code",
   "execution_count": 15,
   "metadata": {},
   "outputs": [],
   "source": [
    "import datetime\n",
    "dt_now = datetime.datetime.now()\n",
    "\n",
    "data = np.array([iqr_store,last_w_store[:,0],last_w_store[:,1]]).T\n",
    "df = pd.DataFrame(data=data, columns=['iqr', 'w_0', 'w_1'])\n",
    "\n"
   ]
  },
  {
   "cell_type": "code",
   "execution_count": 16,
   "metadata": {},
   "outputs": [],
   "source": [
    "df.to_csv('exp_result/gauss_noise_last_w  {}.csv'.format(dt_now),header=True)"
   ]
  },
  {
   "cell_type": "code",
   "execution_count": null,
   "metadata": {},
   "outputs": [],
   "source": []
  }
 ],
 "metadata": {
  "kernelspec": {
   "display_name": "Python 3",
   "language": "python",
   "name": "python3"
  },
  "language_info": {
   "codemirror_mode": {
    "name": "ipython",
    "version": 3
   },
   "file_extension": ".py",
   "mimetype": "text/x-python",
   "name": "python",
   "nbconvert_exporter": "python",
   "pygments_lexer": "ipython3",
   "version": "3.7.3"
  }
 },
 "nbformat": 4,
 "nbformat_minor": 4
}