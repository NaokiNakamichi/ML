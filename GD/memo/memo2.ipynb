{
 "cells": [
  {
   "cell_type": "code",
   "execution_count": 1,
   "metadata": {
    "collapsed": true
   },
   "outputs": [],
   "source": [
    "import numpy as np\n",
    "import matplotlib.pyplot as plt\n",
    "import pandas as pd\n",
    "from tqdm.notebook import tqdm\n",
    "\n",
    "from ML2_lib import loss\n",
    "from ML2_lib import noise\n",
    "from ML2_lib import algo_sgd\n",
    "from ML2_lib import valid\n"
   ]
  },
  {
   "cell_type": "code",
   "execution_count": 2,
   "outputs": [
    {
     "data": {
      "text/plain": "  0%|          | 0/100 [00:00<?, ?it/s]",
      "application/vnd.jupyter.widget-view+json": {
       "version_major": 2,
       "version_minor": 0,
       "model_id": "237034b28f864d70803a45e40b1b23d7"
      }
     },
     "metadata": {},
     "output_type": "display_data"
    }
   ],
   "source": [
    "trial_num = 100 #試行回数\n",
    "result_gauss = [] #パラメータの最終結果　トライアル数*分割数k*特徴量次元\n",
    "result_loss_gauss = [] # 過剰期待損失の最終結果　トライアル数*分割数k\n",
    "check_k_num = 50 # 分割数　1 ~ check_k_num\n",
    "rng = np.random.default_rng()\n",
    "w_star = 1\n",
    "X_mean = 5\n",
    "X_var = 2\n",
    "X_test = rng.normal(loc=X_mean,size=10000,scale=X_var)\n",
    "E_test = noise.Gauss(sigma=2.2,dim=X_test.shape[0],n=1).generate()\n",
    "Y_test = E_test + X_test\n",
    "\n",
    "\n",
    "for _ in tqdm(range(trial_num)):\n",
    "\n",
    "\n",
    "    w_per_trial = [] # モデルを貯めていく、必要かどうか\n",
    "    loss_store = [] # 過剰期待損失を貯めていく\n",
    "    a = 0.01 # 学習率\n",
    "    c = 5 # wの初期値がとりうる範囲\n",
    "    n = 500 # データセットのサンプル数\n",
    "    b = 2.2 # ノイズの分散\n",
    "    # 初期値wの決定\n",
    "    w = rng.uniform(w_star-c,w_star+c)\n",
    "    for k in range(1,check_k_num+1):\n",
    "        core_store = []\n",
    "        model_store = []\n",
    "        valid_loss_store = []\n",
    "\n",
    "\n",
    "\n",
    "        son = loss.LinearQuadraticLoss()\n",
    "        for _ in range(k):\n",
    "            # nがデータセットのサンプル数、train_numはその半分\n",
    "            train_num = n // 2\n",
    "            # core_num は　k分割した後のサンプル数、\n",
    "            core_num = train_num  // k\n",
    "            X = rng.normal(loc=X_mean,size=core_num,scale=X_var)\n",
    "            Y = noise.Gauss(sigma=b,dim=X.shape[0],n=1).generate() + X\n",
    "            data = [X,Y]\n",
    "\n",
    "            core = algo_sgd.SGD(w_init=w,a=a,t_max=core_num-1,data=data)\n",
    "            for _ in core:\n",
    "                core.update(son)\n",
    "            core_store.append(core)\n",
    "            # :TODO fix axis\n",
    "            model_store.append(np.mean(core.wstore))\n",
    "\n",
    "\n",
    "        # ここまでで学習は終了,モデルの候補がk個ある\n",
    "        # ここからモデルの選択\n",
    "        valid_num = n // 2\n",
    "        rng = np.random.default_rng()\n",
    "        X = rng.normal(loc=X_mean,size=valid_num,scale=X_var)\n",
    "        Y = noise.Gauss(sigma=b,dim=X.shape[0],n=1).generate() + X\n",
    "        tmp_loss = []\n",
    "\n",
    "        # for文を使っているので要修正\n",
    "        for i in range(k):\n",
    "            for j in range(k):\n",
    "                core_num = valid_num // k\n",
    "                try:\n",
    "                    tmp_loss.append(son.f(Y[j:j+core_num],X[j:j+core_num],model_store[i]))\n",
    "                except:\n",
    "                    raise ValueError()\n",
    "            valid_loss_store.append(valid.median_of_means(seq=np.array(tmp_loss),n_blocks=3))\n",
    "\n",
    "        index = np.argmin(valid_loss_store)\n",
    "        w_rv = model_store[index]\n",
    "        w_per_trial.append(w_rv)\n",
    "        loss_store.append(np.mean(son.f(y=Y_test,x=X_test,w=w_rv))- np.mean(0.5*(E_test**2)))\n",
    "\n",
    "    result_gauss.append(np.array(w_per_trial))\n",
    "    result_loss_gauss.append(np.array(loss_store))\n",
    "\n",
    "\n",
    "result_gauss = np.array(result_gauss)\n",
    "result_loss_gauss = np.array(result_loss_gauss)\n",
    "\n",
    "\n",
    "\n",
    "\n"
   ],
   "metadata": {
    "collapsed": false,
    "pycharm": {
     "name": "#%%\n"
    }
   }
  },
  {
   "cell_type": "code",
   "execution_count": 2,
   "outputs": [],
   "source": [],
   "metadata": {
    "collapsed": false,
    "pycharm": {
     "name": "#%%\n"
    }
   }
  },
  {
   "cell_type": "code",
   "execution_count": 3,
   "outputs": [
    {
     "data": {
      "text/plain": "<Figure size 720x576 with 1 Axes>",
      "image/png": "[encoded data removed]"
     },
     "metadata": {
      "needs_background": "light"
     },
     "output_type": "display_data"
    }
   ],
   "source": [
    "columns=['1', '2', '4','5','10','20','40','50']\n",
    "fig = plt.figure(figsize=(10.0, 8.0))\n",
    "ax1 = fig.add_subplot(111)\n",
    "\n",
    "bp1 = ax1.boxplot(result_loss_gauss[:,[0,1,3,4,9,19,39,49]])\n",
    "ax1.set_xticklabels(columns,fontsize=20)\n",
    "ax1.set_title('R(w)-R^*',fontsize=20)\n",
    "ax1.set_xlabel('k')\n",
    "\n",
    "plt.show()"
   ],
   "metadata": {
    "collapsed": false,
    "pycharm": {
     "name": "#%%\n"
    }
   }
  },
  {
   "cell_type": "code",
   "execution_count": 4,
   "outputs": [],
   "source": [
    "df = pd.DataFrame(result_loss_gauss[:,[0,1,3,4,9,19,39,49]],columns=columns)"
   ],
   "metadata": {
    "collapsed": false,
    "pycharm": {
     "name": "#%%\n"
    }
   }
  },
  {
   "cell_type": "code",
   "execution_count": 5,
   "outputs": [
    {
     "data": {
      "text/plain": "                1           2           4           5          10  \\\ncount  100.000000  100.000000  100.000000  100.000000  100.000000   \nmean     0.032167    0.062927    0.214822    0.329524    1.326847   \nstd      0.036965    0.071949    0.273620    0.388417    1.526048   \nmin      0.000071    0.000031   -0.000001    0.000032    0.000091   \n25%      0.008146    0.007802    0.021581    0.037291    0.088234   \n50%      0.018670    0.033854    0.106354    0.152608    0.856072   \n75%      0.038186    0.095035    0.338635    0.539512    1.950584   \nmax      0.212381    0.339759    1.635884    1.659971    7.654727   \n\n                 20          40          50  \ncount  1.000000e+02  100.000000  100.000000  \nmean   5.673897e+00   20.957736   29.271370  \nstd    6.321607e+00   21.845030   31.246890  \nmin   -6.576482e-08    0.000067    0.000308  \n25%    6.938023e-01    2.272341    2.825623  \n50%    3.671319e+00   13.133094   19.025606  \n75%    7.930731e+00   34.330413   50.030598  \nmax    3.169371e+01   82.019390  127.207758  ",
      "text/html": "<div>\n<style scoped>\n    .dataframe tbody tr th:only-of-type {\n        vertical-align: middle;\n    }\n\n    .dataframe tbody tr th {\n        vertical-align: top;\n    }\n\n    .dataframe thead th {\n        text-align: right;\n    }\n</style>\n<table border=\"1\" class=\"dataframe\">\n  <thead>\n    <tr style=\"text-align: right;\">\n      <th></th>\n      <th>1</th>\n      <th>2</th>\n      <th>4</th>\n      <th>5</th>\n      <th>10</th>\n      <th>20</th>\n      <th>40</th>\n      <th>50</th>\n    </tr>\n  </thead>\n  <tbody>\n    <tr>\n      <th>count</th>\n      <td>100.000000</td>\n      <td>100.000000</td>\n      <td>100.000000</td>\n      <td>100.000000</td>\n      <td>100.000000</td>\n      <td>1.000000e+02</td>\n      <td>100.000000</td>\n      <td>100.000000</td>\n    </tr>\n    <tr>\n      <th>mean</th>\n      <td>0.032167</td>\n      <td>0.062927</td>\n      <td>0.214822</td>\n      <td>0.329524</td>\n      <td>1.326847</td>\n      <td>5.673897e+00</td>\n      <td>20.957736</td>\n      <td>29.271370</td>\n    </tr>\n    <tr>\n      <th>std</th>\n      <td>0.036965</td>\n      <td>0.071949</td>\n      <td>0.273620</td>\n      <td>0.388417</td>\n      <td>1.526048</td>\n      <td>6.321607e+00</td>\n      <td>21.845030</td>\n      <td>31.246890</td>\n    </tr>\n    <tr>\n      <th>min</th>\n      <td>0.000071</td>\n      <td>0.000031</td>\n      <td>-0.000001</td>\n      <td>0.000032</td>\n      <td>0.000091</td>\n      <td>-6.576482e-08</td>\n      <td>0.000067</td>\n      <td>0.000308</td>\n    </tr>\n    <tr>\n      <th>25%</th>\n      <td>0.008146</td>\n      <td>0.007802</td>\n      <td>0.021581</td>\n      <td>0.037291</td>\n      <td>0.088234</td>\n      <td>6.938023e-01</td>\n      <td>2.272341</td>\n      <td>2.825623</td>\n    </tr>\n    <tr>\n      <th>50%</th>\n      <td>0.018670</td>\n      <td>0.033854</td>\n      <td>0.106354</td>\n      <td>0.152608</td>\n      <td>0.856072</td>\n      <td>3.671319e+00</td>\n      <td>13.133094</td>\n      <td>19.025606</td>\n    </tr>\n    <tr>\n      <th>75%</th>\n      <td>0.038186</td>\n      <td>0.095035</td>\n      <td>0.338635</td>\n      <td>0.539512</td>\n      <td>1.950584</td>\n      <td>7.930731e+00</td>\n      <td>34.330413</td>\n      <td>50.030598</td>\n    </tr>\n    <tr>\n      <th>max</th>\n      <td>0.212381</td>\n      <td>0.339759</td>\n      <td>1.635884</td>\n      <td>1.659971</td>\n      <td>7.654727</td>\n      <td>3.169371e+01</td>\n      <td>82.019390</td>\n      <td>127.207758</td>\n    </tr>\n  </tbody>\n</table>\n</div>"
     },
     "execution_count": 5,
     "metadata": {},
     "output_type": "execute_result"
    }
   ],
   "source": [
    "df.describe()"
   ],
   "metadata": {
    "collapsed": false,
    "pycharm": {
     "name": "#%%\n"
    }
   }
  },
  {
   "cell_type": "code",
   "execution_count": 6,
   "outputs": [
    {
     "data": {
      "text/plain": "  0%|          | 0/100 [00:00<?, ?it/s]",
      "application/vnd.jupyter.widget-view+json": {
       "version_major": 2,
       "version_minor": 0,
       "model_id": "ade62839764442f0a76305b135c9d3d0"
      }
     },
     "metadata": {},
     "output_type": "display_data"
    }
   ],
   "source": [
    "# lognormal\n",
    "\n",
    "trial_num = 100 #試行回数\n",
    "result_log_normal = [] #パラメータの最終結果　トライアル数*分割数k*特徴量次元\n",
    "result_loss_log_normal = [] # 過剰期待損失の最終結果　トライアル数*分割数k\n",
    "check_k_num = 50 # 分割数　1 ~ check_k_num\n",
    "rng = np.random.default_rng()\n",
    "w_star = 1\n",
    "X_mean = 5\n",
    "X_var = 2\n",
    "X_test = rng.normal(loc=X_mean,size=10000,scale=X_var)\n",
    "E_test = noise.LogNormal(sigma=1.75,dim=X_test.shape[0],n=1).generate()\n",
    "Y_test = E_test + X_test\n",
    "\n",
    "\n",
    "for _ in tqdm(range(trial_num)):\n",
    "\n",
    "\n",
    "    w_per_trial = [] # モデルを貯めていく、必要かどうか\n",
    "    loss_store = [] # 過剰期待損失を貯めていく\n",
    "    a = 0.01 # 学習率\n",
    "    c = 5 # wの初期値がとりうる範囲\n",
    "    n = 500 # データセットのサンプル数\n",
    "    b = 1.75 # ノイズの分散\n",
    "    # 初期値wの決定\n",
    "    w = rng.uniform(w_star-c,w_star+c)\n",
    "    for k in range(1,check_k_num+1):\n",
    "        core_store = []\n",
    "        model_store = []\n",
    "        valid_loss_store = []\n",
    "\n",
    "\n",
    "\n",
    "        son = loss.LinearQuadraticLoss()\n",
    "        for _ in range(k):\n",
    "            # nがデータセットのサンプル数、train_numはその半分\n",
    "            train_num = n // 2\n",
    "            # core_num は　k分割した後のサンプル数、\n",
    "            core_num = train_num  // k\n",
    "            X = rng.normal(loc=X_mean,size=core_num,scale=X_var)\n",
    "            Y = noise.LogNormal(sigma=b,dim=X.shape[0],n=1).generate() + X\n",
    "            data = [X,Y]\n",
    "\n",
    "            core = algo_sgd.SGD(w_init=w,a=a,t_max=core_num-1,data=data)\n",
    "            for _ in core:\n",
    "                core.update(son)\n",
    "            core_store.append(core)\n",
    "            # 平均のaxis　要修正\n",
    "            model_store.append(np.mean(core.wstore))\n",
    "\n",
    "\n",
    "        # ここまでで学習は終了,モデルの候補がk個ある\n",
    "        # ここからモデルの選択\n",
    "        valid_num = n // 2\n",
    "        rng = np.random.default_rng()\n",
    "        X = rng.normal(loc=X_mean,size=valid_num,scale=X_var)\n",
    "        Y = noise.LogNormal(sigma=b,dim=X.shape[0],n=1).generate() + X\n",
    "        tmp_loss = []\n",
    "        # for文を使っているので要修正\n",
    "        for i in range(k):\n",
    "            for j in range(k):\n",
    "                core_num = valid_num // k\n",
    "                tmp_loss.append(son.f(Y[j:j+core_num],X[j:j+core_num],model_store[i]))\n",
    "            valid_loss_store.append(valid.median_of_means(seq=np.array(tmp_loss),n_blocks=3))\n",
    "\n",
    "        index = np.argmin(valid_loss_store)\n",
    "        w_rv = model_store[index]\n",
    "        w_per_trial.append(w_rv)\n",
    "        loss_store.append(np.mean(son.f(y=Y_test,x=X_test,w=w_rv))- np.mean(0.5*(E_test**2)))\n",
    "\n",
    "    result_log_normal.append(np.array(w_per_trial))\n",
    "    result_loss_log_normal.append(np.array(loss_store))\n",
    "\n",
    "\n",
    "result_log_normal = np.array(result_log_normal)\n",
    "result_loss_log_normal = np.array(result_loss_log_normal)\n",
    "\n"
   ],
   "metadata": {
    "collapsed": false,
    "pycharm": {
     "name": "#%%\n"
    }
   }
  },
  {
   "cell_type": "code",
   "execution_count": 7,
   "outputs": [
    {
     "data": {
      "text/plain": "<Figure size 720x576 with 1 Axes>",
      "image/png": "[encoded data removed]"
     },
     "metadata": {
      "needs_background": "light"
     },
     "output_type": "display_data"
    }
   ],
   "source": [
    "columns=['1', '2', '4','5','10','20','40','50']\n",
    "fig = plt.figure(figsize=(10.0, 8.0))\n",
    "ax1 = fig.add_subplot(111)\n",
    "\n",
    "bp1 = ax1.boxplot(result_loss_log_normal[:,[0,1,3,4,9,19,39,49]])\n",
    "ax1.set_xticklabels(columns,fontsize=20)\n",
    "ax1.set_title('R(w)-R^*',fontsize=20)\n",
    "ax1.set_xlabel('k')\n",
    "\n",
    "plt.show()"
   ],
   "metadata": {
    "collapsed": false,
    "pycharm": {
     "name": "#%%\n"
    }
   }
  },
  {
   "cell_type": "code",
   "execution_count": 8,
   "outputs": [
    {
     "data": {
      "text/plain": "                1           2           4           5          10          20  \\\ncount  100.000000  100.000000  100.000000  100.000000  100.000000  100.000000   \nmean     0.163941    0.197929    0.552757    0.818466    1.881552    7.036461   \nstd      0.350823    0.277805    1.140049    1.897683    2.515721    7.871338   \nmin     -0.004826   -0.004804   -0.004598   -0.004744   -0.004449   -0.001085   \n25%      0.006540    0.032311    0.046995    0.066985    0.152168    1.033311   \n50%      0.043528    0.111888    0.188382    0.339313    0.888165    4.460096   \n75%      0.141197    0.263430    0.634991    0.987315    2.492560    9.482259   \nmax      2.558522    1.589896    9.776855   17.960860   11.469796   42.891403   \n\n               40          50  \ncount  100.000000  100.000000  \nmean    22.359234   31.254685  \nstd     25.928155   34.270718  \nmin     -0.000563   -0.003889  \n25%      2.799579    5.966454  \n50%     11.758810   17.731260  \n75%     31.673146   48.122771  \nmax    111.038446  169.507875  ",
      "text/html": "<div>\n<style scoped>\n    .dataframe tbody tr th:only-of-type {\n        vertical-align: middle;\n    }\n\n    .dataframe tbody tr th {\n        vertical-align: top;\n    }\n\n    .dataframe thead th {\n        text-align: right;\n    }\n</style>\n<table border=\"1\" class=\"dataframe\">\n  <thead>\n    <tr style=\"text-align: right;\">\n      <th></th>\n      <th>1</th>\n      <th>2</th>\n      <th>4</th>\n      <th>5</th>\n      <th>10</th>\n      <th>20</th>\n      <th>40</th>\n      <th>50</th>\n    </tr>\n  </thead>\n  <tbody>\n    <tr>\n      <th>count</th>\n      <td>100.000000</td>\n      <td>100.000000</td>\n      <td>100.000000</td>\n      <td>100.000000</td>\n      <td>100.000000</td>\n      <td>100.000000</td>\n      <td>100.000000</td>\n      <td>100.000000</td>\n    </tr>\n    <tr>\n      <th>mean</th>\n      <td>0.163941</td>\n      <td>0.197929</td>\n      <td>0.552757</td>\n      <td>0.818466</td>\n      <td>1.881552</td>\n      <td>7.036461</td>\n      <td>22.359234</td>\n      <td>31.254685</td>\n    </tr>\n    <tr>\n      <th>std</th>\n      <td>0.350823</td>\n      <td>0.277805</td>\n      <td>1.140049</td>\n      <td>1.897683</td>\n      <td>2.515721</td>\n      <td>7.871338</td>\n      <td>25.928155</td>\n      <td>34.270718</td>\n    </tr>\n    <tr>\n      <th>min</th>\n      <td>-0.004826</td>\n      <td>-0.004804</td>\n      <td>-0.004598</td>\n      <td>-0.004744</td>\n      <td>-0.004449</td>\n      <td>-0.001085</td>\n      <td>-0.000563</td>\n      <td>-0.003889</td>\n    </tr>\n    <tr>\n      <th>25%</th>\n      <td>0.006540</td>\n      <td>0.032311</td>\n      <td>0.046995</td>\n      <td>0.066985</td>\n      <td>0.152168</td>\n      <td>1.033311</td>\n      <td>2.799579</td>\n      <td>5.966454</td>\n    </tr>\n    <tr>\n      <th>50%</th>\n      <td>0.043528</td>\n      <td>0.111888</td>\n      <td>0.188382</td>\n      <td>0.339313</td>\n      <td>0.888165</td>\n      <td>4.460096</td>\n      <td>11.758810</td>\n      <td>17.731260</td>\n    </tr>\n    <tr>\n      <th>75%</th>\n      <td>0.141197</td>\n      <td>0.263430</td>\n      <td>0.634991</td>\n      <td>0.987315</td>\n      <td>2.492560</td>\n      <td>9.482259</td>\n      <td>31.673146</td>\n      <td>48.122771</td>\n    </tr>\n    <tr>\n      <th>max</th>\n      <td>2.558522</td>\n      <td>1.589896</td>\n      <td>9.776855</td>\n      <td>17.960860</td>\n      <td>11.469796</td>\n      <td>42.891403</td>\n      <td>111.038446</td>\n      <td>169.507875</td>\n    </tr>\n  </tbody>\n</table>\n</div>"
     },
     "execution_count": 8,
     "metadata": {},
     "output_type": "execute_result"
    }
   ],
   "source": [
    "df = pd.DataFrame(result_loss_log_normal[:,[0,1,3,4,9,19,39,49]],columns=columns)\n",
    "\n",
    "df.describe()"
   ],
   "metadata": {
    "collapsed": false,
    "pycharm": {
     "name": "#%%\n"
    }
   }
  },
  {
   "cell_type": "code",
   "execution_count": 8,
   "outputs": [],
   "source": [],
   "metadata": {
    "collapsed": false,
    "pycharm": {
     "name": "#%%\n"
    }
   }
  },
  {
   "cell_type": "code",
   "execution_count": 8,
   "outputs": [],
   "source": [],
   "metadata": {
    "collapsed": false,
    "pycharm": {
     "name": "#%%\n"
    }
   }
  }
 ],
 "metadata": {
  "kernelspec": {
   "display_name": "Python 3",
   "language": "python",
   "name": "python3"
  },
  "language_info": {
   "codemirror_mode": {
    "name": "ipython",
    "version": 2
   },
   "file_extension": ".py",
   "mimetype": "text/x-python",
   "name": "python",
   "nbconvert_exporter": "python",
   "pygments_lexer": "ipython2",
   "version": "2.7.6"
  }
 },
 "nbformat": 4,
 "nbformat_minor": 0
}