{
 "cells": [
  {
   "cell_type": "code",
   "execution_count": 10,
   "metadata": {
    "collapsed": true
   },
   "outputs": [],
   "source": [
    "import numpy as np\n",
    "import matplotlib.pyplot as plt\n",
    "import pandas as pd\n",
    "from tqdm.notebook import tqdm\n",
    "\n",
    "from ML2_lib import loss\n",
    "from ML2_lib import noise\n",
    "from ML2_lib import algo_sgd\n",
    "from ML2_lib import valid\n"
   ]
  },
  {
   "cell_type": "code",
   "execution_count": 11,
   "outputs": [
    {
     "data": {
      "text/plain": "  0%|          | 0/100 [00:00<?, ?it/s]",
      "application/vnd.jupyter.widget-view+json": {
       "version_major": 2,
       "version_minor": 0,
       "model_id": "ae62f6a2ebd64f84bd496b4a2611e92a"
      }
     },
     "metadata": {},
     "output_type": "display_data"
    }
   ],
   "source": [
    "trial_num = 100 #試行回数\n",
    "result_gauss = [] #パラメータの最終結果　トライアル数*分割数k*特徴量次元\n",
    "result_loss_gauss = [] # 過剰期待損失の最終結果　トライアル数*分割数k\n",
    "check_k_num = 50 # 分割数　1 ~ check_k_num\n",
    "rng = np.random.default_rng()\n",
    "w_star = 1\n",
    "X_mean = 5\n",
    "X_var = 2\n",
    "X_test = rng.normal(loc=X_mean,size=10,scale=X_var)\n",
    "Y_test = noise.Gauss(sigma=2.2,dim=X_test.shape[0],n=1).generate() + X_test\n",
    "\n",
    "\n",
    "for _ in tqdm(range(trial_num)):\n",
    "\n",
    "\n",
    "    w_per_trial = [] # モデルを貯めていく、必要かどうか\n",
    "    loss_store = [] # 過剰期待損失を貯めていく\n",
    "    a = 0.01 # 学習率\n",
    "    c = 5 # wの初期値がとりうる範囲\n",
    "    n = 500 # データセットのサンプル数\n",
    "    b = 2.2 # ノイズの分散\n",
    "    # 初期値wの決定\n",
    "    w = rng.uniform(w_star-c,w_star+c)\n",
    "    for k in range(1,check_k_num+1):\n",
    "        core_store = []\n",
    "        model_store = []\n",
    "        valid_loss_store = []\n",
    "\n",
    "\n",
    "\n",
    "        son = loss.LinearQuadraticLoss()\n",
    "        for _ in range(k):\n",
    "            # nがデータセットのサンプル数、train_numはその半分\n",
    "            train_num = n // 2\n",
    "            # core_num は　k分割した後のサンプル数、\n",
    "            core_num = train_num  // k\n",
    "            X = rng.normal(loc=X_mean,size=core_num,scale=X_var)\n",
    "            Y = noise.Gauss(sigma=b,dim=X.shape[0],n=1).generate() + X\n",
    "            data = [X,Y]\n",
    "\n",
    "            core = algo_sgd.SGD(w_init=w,a=a,t_max=core_num-1,data=data)\n",
    "            for _ in core:\n",
    "                core.update(son)\n",
    "            core_store.append(core)\n",
    "            # :TODO fix axis\n",
    "            model_store.append(np.mean(core.wstore))\n",
    "\n",
    "\n",
    "        # ここまでで学習は終了,モデルの候補がk個ある\n",
    "        # ここからモデルの選択\n",
    "        valid_num = n // 2\n",
    "        rng = np.random.default_rng()\n",
    "        X = rng.normal(loc=X_mean,size=valid_num,scale=X_var)\n",
    "        Y = noise.Gauss(sigma=b,dim=X.shape[0],n=1).generate() + X\n",
    "        tmp_loss = []\n",
    "\n",
    "        # for文を使っているので要修正\n",
    "        for i in range(k):\n",
    "            for j in range(k):\n",
    "                core_num = valid_num // k\n",
    "                try:\n",
    "                    tmp_loss.append(son.f(Y[j:j+core_num],X[j:j+core_num],model_store[i]))\n",
    "                except:\n",
    "                    raise ValueError()\n",
    "            valid_loss_store.append(valid.median_of_means(seq=np.array(tmp_loss),n_blocks=3))\n",
    "\n",
    "        index = np.argmin(valid_loss_store)\n",
    "        w_rv = model_store[index]\n",
    "        loss_k = np.mean(son.f(y=Y_test,x=X_test,w=w_rv))\n",
    "        w_per_trial.append(w_rv)\n",
    "        loss_store.append(loss_k)\n",
    "\n",
    "    result_gauss.append(np.array(w_per_trial))\n",
    "    result_loss_gauss.append(np.array(loss_store))\n",
    "\n",
    "\n",
    "result_gauss = np.array(result_gauss)\n",
    "result_loss_gauss = np.array(result_loss_gauss)\n",
    "\n",
    "\n",
    "\n",
    "\n"
   ],
   "metadata": {
    "collapsed": false,
    "pycharm": {
     "name": "#%%\n"
    }
   }
  },
  {
   "cell_type": "code",
   "execution_count": 11,
   "outputs": [],
   "source": [],
   "metadata": {
    "collapsed": false,
    "pycharm": {
     "name": "#%%\n"
    }
   }
  },
  {
   "cell_type": "code",
   "execution_count": 12,
   "outputs": [
    {
     "data": {
      "text/plain": "<Figure size 720x576 with 1 Axes>",
      "image/png": "[encoded data removed]"
     },
     "metadata": {
      "needs_background": "light"
     },
     "output_type": "display_data"
    }
   ],
   "source": [
    "columns=['1', '2', '4','5','10','20','40','50']\n",
    "fig = plt.figure(figsize=(10.0, 8.0))\n",
    "ax1 = fig.add_subplot(111)\n",
    "\n",
    "bp1 = ax1.boxplot(result_loss_gauss[:,[0,1,3,4,9,19,39,49]])\n",
    "ax1.set_xticklabels(columns,fontsize=20)\n",
    "ax1.set_title('R(w)-R^*',fontsize=20)\n",
    "ax1.set_xlabel('k')\n",
    "\n",
    "plt.show()"
   ],
   "metadata": {
    "collapsed": false,
    "pycharm": {
     "name": "#%%\n"
    }
   }
  },
  {
   "cell_type": "code",
   "execution_count": 13,
   "outputs": [],
   "source": [
    "df = pd.DataFrame(result_loss_gauss[:,[0,1,3,4,9,19,39,49]],columns=columns)"
   ],
   "metadata": {
    "collapsed": false,
    "pycharm": {
     "name": "#%%\n"
    }
   }
  },
  {
   "cell_type": "code",
   "execution_count": 14,
   "outputs": [
    {
     "data": {
      "text/plain": "                1           2           4           5          10          20  \\\ncount  100.000000  100.000000  100.000000  100.000000  100.000000  100.000000   \nmean     1.369548    1.402560    1.620872    1.657567    2.801230    7.079564   \nstd      0.162014    0.267529    0.616808    0.648367    2.098405    6.871714   \nmin      1.172326    1.172355    1.172286    1.172277    1.172278    1.175945   \n25%      1.223436    1.207921    1.228937    1.232906    1.390491    1.970402   \n50%      1.325751    1.298579    1.318748    1.389846    1.928877    4.311540   \n75%      1.471953    1.529148    1.726868    1.793334    3.390172   10.182181   \nmax      1.914905    2.626126    3.640168    4.138036   11.984127   32.858111   \n\n               40          50  \ncount  100.000000  100.000000  \nmean    27.120287   34.797983  \nstd     26.939922   35.412474  \nmin      1.172604    1.175376  \n25%      4.604303    8.214115  \n50%     20.351805   24.077214  \n75%     41.297818   48.214873  \nmax    128.837422  148.447835  ",
      "text/html": "<div>\n<style scoped>\n    .dataframe tbody tr th:only-of-type {\n        vertical-align: middle;\n    }\n\n    .dataframe tbody tr th {\n        vertical-align: top;\n    }\n\n    .dataframe thead th {\n        text-align: right;\n    }\n</style>\n<table border=\"1\" class=\"dataframe\">\n  <thead>\n    <tr style=\"text-align: right;\">\n      <th></th>\n      <th>1</th>\n      <th>2</th>\n      <th>4</th>\n      <th>5</th>\n      <th>10</th>\n      <th>20</th>\n      <th>40</th>\n      <th>50</th>\n    </tr>\n  </thead>\n  <tbody>\n    <tr>\n      <th>count</th>\n      <td>100.000000</td>\n      <td>100.000000</td>\n      <td>100.000000</td>\n      <td>100.000000</td>\n      <td>100.000000</td>\n      <td>100.000000</td>\n      <td>100.000000</td>\n      <td>100.000000</td>\n    </tr>\n    <tr>\n      <th>mean</th>\n      <td>1.369548</td>\n      <td>1.402560</td>\n      <td>1.620872</td>\n      <td>1.657567</td>\n      <td>2.801230</td>\n      <td>7.079564</td>\n      <td>27.120287</td>\n      <td>34.797983</td>\n    </tr>\n    <tr>\n      <th>std</th>\n      <td>0.162014</td>\n      <td>0.267529</td>\n      <td>0.616808</td>\n      <td>0.648367</td>\n      <td>2.098405</td>\n      <td>6.871714</td>\n      <td>26.939922</td>\n      <td>35.412474</td>\n    </tr>\n    <tr>\n      <th>min</th>\n      <td>1.172326</td>\n      <td>1.172355</td>\n      <td>1.172286</td>\n      <td>1.172277</td>\n      <td>1.172278</td>\n      <td>1.175945</td>\n      <td>1.172604</td>\n      <td>1.175376</td>\n    </tr>\n    <tr>\n      <th>25%</th>\n      <td>1.223436</td>\n      <td>1.207921</td>\n      <td>1.228937</td>\n      <td>1.232906</td>\n      <td>1.390491</td>\n      <td>1.970402</td>\n      <td>4.604303</td>\n      <td>8.214115</td>\n    </tr>\n    <tr>\n      <th>50%</th>\n      <td>1.325751</td>\n      <td>1.298579</td>\n      <td>1.318748</td>\n      <td>1.389846</td>\n      <td>1.928877</td>\n      <td>4.311540</td>\n      <td>20.351805</td>\n      <td>24.077214</td>\n    </tr>\n    <tr>\n      <th>75%</th>\n      <td>1.471953</td>\n      <td>1.529148</td>\n      <td>1.726868</td>\n      <td>1.793334</td>\n      <td>3.390172</td>\n      <td>10.182181</td>\n      <td>41.297818</td>\n      <td>48.214873</td>\n    </tr>\n    <tr>\n      <th>max</th>\n      <td>1.914905</td>\n      <td>2.626126</td>\n      <td>3.640168</td>\n      <td>4.138036</td>\n      <td>11.984127</td>\n      <td>32.858111</td>\n      <td>128.837422</td>\n      <td>148.447835</td>\n    </tr>\n  </tbody>\n</table>\n</div>"
     },
     "execution_count": 14,
     "metadata": {},
     "output_type": "execute_result"
    }
   ],
   "source": [
    "df.describe()"
   ],
   "metadata": {
    "collapsed": false,
    "pycharm": {
     "name": "#%%\n"
    }
   }
  },
  {
   "cell_type": "code",
   "execution_count": 28,
   "outputs": [
    {
     "data": {
      "text/plain": "  0%|          | 0/100 [00:00<?, ?it/s]",
      "application/vnd.jupyter.widget-view+json": {
       "version_major": 2,
       "version_minor": 0,
       "model_id": "f641a4c12dfb4ce2a8881207641334df"
      }
     },
     "metadata": {},
     "output_type": "display_data"
    }
   ],
   "source": [
    "# lognormal\n",
    "\n",
    "trial_num = 100 #試行回数\n",
    "result_log_normal = [] #パラメータの最終結果　トライアル数*分割数k*特徴量次元\n",
    "result_loss_log_normal = [] # 過剰期待損失の最終結果　トライアル数*分割数k\n",
    "check_k_num = 50 # 分割数　1 ~ check_k_num\n",
    "rng = np.random.default_rng()\n",
    "w_star = 1\n",
    "X_mean = 5\n",
    "X_var = 2\n",
    "X_test = rng.normal(loc=X_mean,size=10,scale=X_var)\n",
    "Y_test = noise.LogNormal(sigma=1.75,dim=X_test.shape[0],n=1).generate() + X_test\n",
    "\n",
    "\n",
    "for _ in tqdm(range(trial_num)):\n",
    "\n",
    "\n",
    "    w_per_trial = [] # モデルを貯めていく、必要かどうか\n",
    "    loss_store = [] # 過剰期待損失を貯めていく\n",
    "    a = 0.01 # 学習率\n",
    "    c = 5 # wの初期値がとりうる範囲\n",
    "    n = 500 # データセットのサンプル数\n",
    "    b = 1.75 # ノイズの分散\n",
    "    # 初期値wの決定\n",
    "    w = rng.uniform(w_star-c,w_star+c)\n",
    "    for k in range(1,check_k_num+1):\n",
    "        core_store = []\n",
    "        model_store = []\n",
    "        valid_loss_store = []\n",
    "\n",
    "\n",
    "\n",
    "        son = loss.LinearQuadraticLoss()\n",
    "        for _ in range(k):\n",
    "            # nがデータセットのサンプル数、train_numはその半分\n",
    "            train_num = n // 2\n",
    "            # core_num は　k分割した後のサンプル数、\n",
    "            core_num = train_num  // k\n",
    "            X = rng.normal(loc=X_mean,size=core_num,scale=X_var)\n",
    "            Y = noise.LogNormal(sigma=b,dim=X.shape[0],n=1).generate() + X\n",
    "            data = [X,Y]\n",
    "\n",
    "            core = algo_sgd.SGD(w_init=w,a=a,t_max=core_num-1,data=data)\n",
    "            for _ in core:\n",
    "                core.update(son)\n",
    "            core_store.append(core)\n",
    "            # 平均のaxis　要修正\n",
    "            model_store.append(np.mean(core.wstore))\n",
    "\n",
    "\n",
    "        # ここまでで学習は終了,モデルの候補がk個ある\n",
    "        # ここからモデルの選択\n",
    "        valid_num = n // 2\n",
    "        rng = np.random.default_rng()\n",
    "        X = rng.normal(loc=X_mean,size=valid_num,scale=X_var)\n",
    "        Y = noise.LogNormal(sigma=b,dim=X.shape[0],n=1).generate() + X\n",
    "        tmp_loss = []\n",
    "        # for文を使っているので要修正\n",
    "        for i in range(k):\n",
    "            for j in range(k):\n",
    "                core_num = valid_num // k\n",
    "                tmp_loss.append(son.f(Y[j:j+core_num],X[j:j+core_num],model_store[i]))\n",
    "            valid_loss_store.append(valid.median_of_means(seq=np.array(tmp_loss),n_blocks=3))\n",
    "\n",
    "        index = np.argmin(valid_loss_store)\n",
    "        w_rv = model_store[index]\n",
    "        loss_k = np.mean(son.f(y=Y_test,x=X_test,w=w_rv))\n",
    "        w_per_trial.append(w_rv)\n",
    "        loss_store.append(loss_k)\n",
    "\n",
    "    result_log_normal.append(np.array(w_per_trial))\n",
    "    result_loss_log_normal.append(np.array(loss_store))\n",
    "\n",
    "\n",
    "result_log_normal = np.array(result_log_normal)\n",
    "result_loss_log_normal = np.array(result_loss_log_normal)\n",
    "\n",
    "\n",
    "\n",
    "\n"
   ],
   "metadata": {
    "collapsed": false,
    "pycharm": {
     "name": "#%%\n"
    }
   }
  },
  {
   "cell_type": "code",
   "execution_count": 15,
   "outputs": [],
   "source": [],
   "metadata": {
    "collapsed": false,
    "pycharm": {
     "name": "#%%\n"
    }
   }
  },
  {
   "cell_type": "code",
   "execution_count": 29,
   "outputs": [
    {
     "data": {
      "text/plain": "<Figure size 720x576 with 1 Axes>",
      "image/png": "[encoded data removed]"
     },
     "metadata": {
      "needs_background": "light"
     },
     "output_type": "display_data"
    }
   ],
   "source": [
    "columns=['1', '2', '4','5','10','20','40','50']\n",
    "fig = plt.figure(figsize=(10.0, 8.0))\n",
    "ax1 = fig.add_subplot(111)\n",
    "\n",
    "bp1 = ax1.boxplot(result_loss_log_normal[:,[0,1,3,4,9,19,39,49]])\n",
    "ax1.set_xticklabels(columns,fontsize=20)\n",
    "ax1.set_title('R(w)-R^*',fontsize=20)\n",
    "ax1.set_xlabel('k')\n",
    "\n",
    "plt.show()"
   ],
   "metadata": {
    "collapsed": false,
    "pycharm": {
     "name": "#%%\n"
    }
   }
  },
  {
   "cell_type": "code",
   "execution_count": 30,
   "outputs": [],
   "source": [
    "df = pd.DataFrame(result_loss_log_normal[:,[0,1,3,4,9,19,39,49]],columns=columns)"
   ],
   "metadata": {
    "collapsed": false,
    "pycharm": {
     "name": "#%%\n"
    }
   }
  },
  {
   "cell_type": "code",
   "execution_count": 31,
   "outputs": [
    {
     "data": {
      "text/plain": "                1           2           4           5          10          20  \\\ncount  100.000000  100.000000  100.000000  100.000000  100.000000  100.000000   \nmean     3.464605    3.431417    3.869461    4.167666    5.578670   11.244074   \nstd      1.075337    0.238720    2.067207    1.755287    3.084202    8.797445   \nmin      3.215535    3.215542    3.215792    3.215533    3.215645    3.216792   \n25%      3.229415    3.251903    3.320700    3.262464    3.469643    5.008199   \n50%      3.312553    3.332936    3.490507    3.535188    4.429623    8.210417   \n75%      3.411900    3.495593    3.760599    4.436662    6.410817   15.019655   \nmax     13.930227    4.202917   23.693336   16.507726   19.877417   51.214403   \n\n               40          50  \ncount  100.000000  100.000000  \nmean    32.649999   35.109701  \nstd     34.375195   33.951872  \nmin      3.221393    3.217924  \n25%      8.640500   10.194757  \n50%     19.996094   22.381582  \n75%     47.051727   50.742452  \nmax    185.388452  150.954887  ",
      "text/html": "<div>\n<style scoped>\n    .dataframe tbody tr th:only-of-type {\n        vertical-align: middle;\n    }\n\n    .dataframe tbody tr th {\n        vertical-align: top;\n    }\n\n    .dataframe thead th {\n        text-align: right;\n    }\n</style>\n<table border=\"1\" class=\"dataframe\">\n  <thead>\n    <tr style=\"text-align: right;\">\n      <th></th>\n      <th>1</th>\n      <th>2</th>\n      <th>4</th>\n      <th>5</th>\n      <th>10</th>\n      <th>20</th>\n      <th>40</th>\n      <th>50</th>\n    </tr>\n  </thead>\n  <tbody>\n    <tr>\n      <th>count</th>\n      <td>100.000000</td>\n      <td>100.000000</td>\n      <td>100.000000</td>\n      <td>100.000000</td>\n      <td>100.000000</td>\n      <td>100.000000</td>\n      <td>100.000000</td>\n      <td>100.000000</td>\n    </tr>\n    <tr>\n      <th>mean</th>\n      <td>3.464605</td>\n      <td>3.431417</td>\n      <td>3.869461</td>\n      <td>4.167666</td>\n      <td>5.578670</td>\n      <td>11.244074</td>\n      <td>32.649999</td>\n      <td>35.109701</td>\n    </tr>\n    <tr>\n      <th>std</th>\n      <td>1.075337</td>\n      <td>0.238720</td>\n      <td>2.067207</td>\n      <td>1.755287</td>\n      <td>3.084202</td>\n      <td>8.797445</td>\n      <td>34.375195</td>\n      <td>33.951872</td>\n    </tr>\n    <tr>\n      <th>min</th>\n      <td>3.215535</td>\n      <td>3.215542</td>\n      <td>3.215792</td>\n      <td>3.215533</td>\n      <td>3.215645</td>\n      <td>3.216792</td>\n      <td>3.221393</td>\n      <td>3.217924</td>\n    </tr>\n    <tr>\n      <th>25%</th>\n      <td>3.229415</td>\n      <td>3.251903</td>\n      <td>3.320700</td>\n      <td>3.262464</td>\n      <td>3.469643</td>\n      <td>5.008199</td>\n      <td>8.640500</td>\n      <td>10.194757</td>\n    </tr>\n    <tr>\n      <th>50%</th>\n      <td>3.312553</td>\n      <td>3.332936</td>\n      <td>3.490507</td>\n      <td>3.535188</td>\n      <td>4.429623</td>\n      <td>8.210417</td>\n      <td>19.996094</td>\n      <td>22.381582</td>\n    </tr>\n    <tr>\n      <th>75%</th>\n      <td>3.411900</td>\n      <td>3.495593</td>\n      <td>3.760599</td>\n      <td>4.436662</td>\n      <td>6.410817</td>\n      <td>15.019655</td>\n      <td>47.051727</td>\n      <td>50.742452</td>\n    </tr>\n    <tr>\n      <th>max</th>\n      <td>13.930227</td>\n      <td>4.202917</td>\n      <td>23.693336</td>\n      <td>16.507726</td>\n      <td>19.877417</td>\n      <td>51.214403</td>\n      <td>185.388452</td>\n      <td>150.954887</td>\n    </tr>\n  </tbody>\n</table>\n</div>"
     },
     "execution_count": 31,
     "metadata": {},
     "output_type": "execute_result"
    }
   ],
   "source": [
    "df.describe()"
   ],
   "metadata": {
    "collapsed": false,
    "pycharm": {
     "name": "#%%\n"
    }
   }
  },
  {
   "cell_type": "code",
   "execution_count": 32,
   "outputs": [
    {
     "data": {
      "text/plain": "           1         2         4         5         10         20         40  \\\n0  13.930227  3.220231  3.223476  3.217094   3.215645  13.651132   7.114574   \n1   3.397638  3.320893  3.624154  3.433366   4.246777   7.683009   3.956613   \n2   3.236547  3.249476  3.235602  3.248618   5.381383   6.611605  21.632794   \n3   3.218784  3.292132  3.249106  3.304575   3.578829   3.311748   5.070103   \n4   3.767854  3.478013  4.949883  6.281518  13.997195   5.218760  43.706543   \n\n           50  \n0   26.853048  \n1    4.700743  \n2   29.165660  \n3    3.805886  \n4  110.371897  ",
      "text/html": "<div>\n<style scoped>\n    .dataframe tbody tr th:only-of-type {\n        vertical-align: middle;\n    }\n\n    .dataframe tbody tr th {\n        vertical-align: top;\n    }\n\n    .dataframe thead th {\n        text-align: right;\n    }\n</style>\n<table border=\"1\" class=\"dataframe\">\n  <thead>\n    <tr style=\"text-align: right;\">\n      <th></th>\n      <th>1</th>\n      <th>2</th>\n      <th>4</th>\n      <th>5</th>\n      <th>10</th>\n      <th>20</th>\n      <th>40</th>\n      <th>50</th>\n    </tr>\n  </thead>\n  <tbody>\n    <tr>\n      <th>0</th>\n      <td>13.930227</td>\n      <td>3.220231</td>\n      <td>3.223476</td>\n      <td>3.217094</td>\n      <td>3.215645</td>\n      <td>13.651132</td>\n      <td>7.114574</td>\n      <td>26.853048</td>\n    </tr>\n    <tr>\n      <th>1</th>\n      <td>3.397638</td>\n      <td>3.320893</td>\n      <td>3.624154</td>\n      <td>3.433366</td>\n      <td>4.246777</td>\n      <td>7.683009</td>\n      <td>3.956613</td>\n      <td>4.700743</td>\n    </tr>\n    <tr>\n      <th>2</th>\n      <td>3.236547</td>\n      <td>3.249476</td>\n      <td>3.235602</td>\n      <td>3.248618</td>\n      <td>5.381383</td>\n      <td>6.611605</td>\n      <td>21.632794</td>\n      <td>29.165660</td>\n    </tr>\n    <tr>\n      <th>3</th>\n      <td>3.218784</td>\n      <td>3.292132</td>\n      <td>3.249106</td>\n      <td>3.304575</td>\n      <td>3.578829</td>\n      <td>3.311748</td>\n      <td>5.070103</td>\n      <td>3.805886</td>\n    </tr>\n    <tr>\n      <th>4</th>\n      <td>3.767854</td>\n      <td>3.478013</td>\n      <td>4.949883</td>\n      <td>6.281518</td>\n      <td>13.997195</td>\n      <td>5.218760</td>\n      <td>43.706543</td>\n      <td>110.371897</td>\n    </tr>\n  </tbody>\n</table>\n</div>"
     },
     "execution_count": 32,
     "metadata": {},
     "output_type": "execute_result"
    }
   ],
   "source": [],
   "metadata": {
    "collapsed": false,
    "pycharm": {
     "name": "#%%\n"
    }
   }
  },
  {
   "cell_type": "code",
   "execution_count": 18,
   "outputs": [],
   "source": [],
   "metadata": {
    "collapsed": false,
    "pycharm": {
     "name": "#%%\n"
    }
   }
  }
 ],
 "metadata": {
  "kernelspec": {
   "display_name": "Python 3",
   "language": "python",
   "name": "python3"
  },
  "language_info": {
   "codemirror_mode": {
    "name": "ipython",
    "version": 2
   },
   "file_extension": ".py",
   "mimetype": "text/x-python",
   "name": "python",
   "nbconvert_exporter": "python",
   "pygments_lexer": "ipython2",
   "version": "2.7.6"
  }
 },
 "nbformat": 4,
 "nbformat_minor": 0
}