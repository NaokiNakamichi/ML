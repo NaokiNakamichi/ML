{
 "cells": [
  {
   "cell_type": "code",
   "execution_count": 1,
   "metadata": {
    "collapsed": true
   },
   "outputs": [],
   "source": [
    "import numpy as np\n",
    "import matplotlib.pyplot as plt\n",
    "import pandas as pd\n",
    "from tqdm.notebook import tqdm\n",
    "\n",
    "from ML2_lib import loss\n",
    "from ML2_lib import noise\n",
    "from ML2_lib import algo_sgd\n",
    "from ML2_lib import valid"
   ]
  },
  {
   "cell_type": "code",
   "execution_count": 2,
   "outputs": [
    {
     "data": {
      "text/plain": "51.7"
     },
     "execution_count": 2,
     "metadata": {},
     "output_type": "execute_result"
    }
   ],
   "source": [
    "A = np.arange(100)\n",
    "valid.median_of_means(n_blocks=10,seq=A)"
   ],
   "metadata": {
    "collapsed": false,
    "pycharm": {
     "name": "#%%\n"
    }
   }
  },
  {
   "cell_type": "code",
   "execution_count": 41,
   "outputs": [
    {
     "data": {
      "text/plain": "  0%|          | 0/100 [00:00<?, ?it/s]",
      "application/vnd.jupyter.widget-view+json": {
       "version_major": 2,
       "version_minor": 0,
       "model_id": "be521d52a96e454aae7f46355ef65791"
      }
     },
     "metadata": {},
     "output_type": "display_data"
    },
    {
     "name": "stdout",
     "output_type": "stream",
     "text": [
      "1.104774735406372\n",
      "1.1249877851960246\n",
      "0.7799533165856167\n",
      "1.0758626735029362\n",
      "1.0601198051873075\n",
      "0.9223850815213969\n",
      "0.9773191180134068\n",
      "0.9540050354335569\n",
      "1.1117165082060039\n",
      "1.041763425907312\n",
      "1.103710549876089\n",
      "0.8350177170632317\n",
      "1.113490062253465\n",
      "0.9563145176144571\n",
      "0.9305402506568464\n",
      "0.789267436747086\n",
      "1.196908345849951\n",
      "0.9019628504582122\n",
      "1.1281510613148966\n",
      "1.3439485209263498\n",
      "1.3583913899740159\n",
      "1.3631283457686239\n",
      "1.6588745595134593\n",
      "0.6985026590662261\n",
      "1.2371794333188697\n",
      "1.3106796962579217\n",
      "1.537791661214631\n",
      "1.5831748316329706\n",
      "1.3333443241733234\n",
      "1.6097426285445007\n",
      "1.8528029446695786\n",
      "1.8710310827099244\n",
      "0.9053487161728944\n",
      "2.0340673377387337\n",
      "1.8021971708552034\n",
      "1.8600462633040404\n",
      "1.7677672206789588\n",
      "1.0940006384149545\n",
      "1.4679238828456331\n",
      "1.7098424604212257\n",
      "1.996276547143519\n",
      "1.0048339201546157\n",
      "3.1427265302742446\n",
      "2.649301856359427\n",
      "0.657012598182781\n",
      "2.721902812637989\n",
      "2.176190147061518\n",
      "1.927579833150683\n",
      "3.061352724995323\n",
      "1.1333230319445144\n",
      "1.9921067690775673\n",
      "2.175822985035579\n",
      "2.1769852936115557\n",
      "2.8571658283642\n",
      "2.425858201890681\n",
      "0.44556037122096237\n",
      "2.3813295784137374\n",
      "2.3333376406461475\n",
      "1.7424987374017733\n",
      "2.2580922337212774\n",
      "2.4451314501479735\n",
      "2.110107282212236\n",
      "3.416485025610312\n",
      "3.416485025610312\n",
      "3.416485025610312\n",
      "3.416485025610312\n",
      "3.416485025610312\n",
      "3.416485025610312\n",
      "3.416485025610312\n",
      "3.416485025610312\n",
      "3.416485025610312\n",
      "3.416485025610312\n",
      "3.416485025610312\n",
      "3.416485025610312\n",
      "3.416485025610312\n",
      "3.416485025610312\n",
      "3.416485025610312\n",
      "3.416485025610312\n",
      "3.416485025610312\n",
      "3.416485025610312\n",
      "3.416485025610312\n",
      "3.416485025610312\n",
      "3.416485025610312\n",
      "3.416485025610312\n",
      "3.416485025610312\n",
      "3.416485025610312\n",
      "3.416485025610312\n",
      "3.416485025610312\n",
      "3.416485025610312\n",
      "3.416485025610312\n",
      "3.416485025610312\n"
     ]
    },
    {
     "ename": "KeyboardInterrupt",
     "evalue": "",
     "output_type": "error",
     "traceback": [
      "\u001B[0;31m---------------------------------------------------------------------------\u001B[0m",
      "\u001B[0;31mKeyboardInterrupt\u001B[0m                         Traceback (most recent call last)",
      "\u001B[0;32m<ipython-input-41-8f5c864eb432>\u001B[0m in \u001B[0;36m<module>\u001B[0;34m\u001B[0m\n\u001B[1;32m     58\u001B[0m             \u001B[0;32mfor\u001B[0m \u001B[0mj\u001B[0m \u001B[0;32min\u001B[0m \u001B[0mrange\u001B[0m\u001B[0;34m(\u001B[0m\u001B[0mk\u001B[0m\u001B[0;34m)\u001B[0m\u001B[0;34m:\u001B[0m\u001B[0;34m\u001B[0m\u001B[0;34m\u001B[0m\u001B[0m\n\u001B[1;32m     59\u001B[0m                 \u001B[0mcore_num\u001B[0m \u001B[0;34m=\u001B[0m \u001B[0mvalid_num\u001B[0m \u001B[0;34m//\u001B[0m \u001B[0mk\u001B[0m\u001B[0;34m\u001B[0m\u001B[0;34m\u001B[0m\u001B[0m\n\u001B[0;32m---> 60\u001B[0;31m                 \u001B[0mtmp_loss\u001B[0m\u001B[0;34m.\u001B[0m\u001B[0mappend\u001B[0m\u001B[0;34m(\u001B[0m\u001B[0mson\u001B[0m\u001B[0;34m.\u001B[0m\u001B[0mf\u001B[0m\u001B[0;34m(\u001B[0m\u001B[0mY\u001B[0m\u001B[0;34m[\u001B[0m\u001B[0mj\u001B[0m\u001B[0;34m:\u001B[0m\u001B[0mj\u001B[0m\u001B[0;34m+\u001B[0m\u001B[0mcore_num\u001B[0m\u001B[0;34m]\u001B[0m\u001B[0;34m,\u001B[0m\u001B[0mX\u001B[0m\u001B[0;34m[\u001B[0m\u001B[0mj\u001B[0m\u001B[0;34m:\u001B[0m\u001B[0mj\u001B[0m\u001B[0;34m+\u001B[0m\u001B[0mcore_num\u001B[0m\u001B[0;34m]\u001B[0m\u001B[0;34m,\u001B[0m\u001B[0mmodel_store\u001B[0m\u001B[0;34m[\u001B[0m\u001B[0mi\u001B[0m\u001B[0;34m]\u001B[0m\u001B[0;34m)\u001B[0m\u001B[0;34m)\u001B[0m\u001B[0;34m\u001B[0m\u001B[0;34m\u001B[0m\u001B[0m\n\u001B[0m\u001B[1;32m     61\u001B[0m             \u001B[0mvalid_loss_store\u001B[0m\u001B[0;34m.\u001B[0m\u001B[0mappend\u001B[0m\u001B[0;34m(\u001B[0m\u001B[0mvalid\u001B[0m\u001B[0;34m.\u001B[0m\u001B[0mmedian_of_means\u001B[0m\u001B[0;34m(\u001B[0m\u001B[0mseq\u001B[0m\u001B[0;34m=\u001B[0m\u001B[0mnp\u001B[0m\u001B[0;34m.\u001B[0m\u001B[0marray\u001B[0m\u001B[0;34m(\u001B[0m\u001B[0mtmp_loss\u001B[0m\u001B[0;34m)\u001B[0m\u001B[0;34m,\u001B[0m\u001B[0mn_blocks\u001B[0m\u001B[0;34m=\u001B[0m\u001B[0;36m3\u001B[0m\u001B[0;34m)\u001B[0m\u001B[0;34m)\u001B[0m\u001B[0;34m\u001B[0m\u001B[0;34m\u001B[0m\u001B[0m\n\u001B[1;32m     62\u001B[0m \u001B[0;34m\u001B[0m\u001B[0m\n",
      "\u001B[0;32m~/ML2/GD/ML2_lib/loss.py\u001B[0m in \u001B[0;36mf\u001B[0;34m(self, y, x, w)\u001B[0m\n\u001B[1;32m      7\u001B[0m \u001B[0;34m\u001B[0m\u001B[0m\n\u001B[1;32m      8\u001B[0m     \u001B[0;32mdef\u001B[0m \u001B[0mf\u001B[0m\u001B[0;34m(\u001B[0m\u001B[0mself\u001B[0m\u001B[0;34m,\u001B[0m \u001B[0my\u001B[0m\u001B[0;34m,\u001B[0m \u001B[0mx\u001B[0m\u001B[0;34m,\u001B[0m \u001B[0mw\u001B[0m\u001B[0;34m)\u001B[0m\u001B[0;34m:\u001B[0m\u001B[0;34m\u001B[0m\u001B[0;34m\u001B[0m\u001B[0m\n\u001B[0;32m----> 9\u001B[0;31m         \u001B[0;32mreturn\u001B[0m \u001B[0;36m0.5\u001B[0m \u001B[0;34m*\u001B[0m \u001B[0;34m(\u001B[0m\u001B[0my\u001B[0m \u001B[0;34m-\u001B[0m \u001B[0mnp\u001B[0m\u001B[0;34m.\u001B[0m\u001B[0mdot\u001B[0m\u001B[0;34m(\u001B[0m\u001B[0mw\u001B[0m\u001B[0;34m,\u001B[0m \u001B[0mx\u001B[0m\u001B[0;34m)\u001B[0m\u001B[0;34m)\u001B[0m \u001B[0;34m**\u001B[0m \u001B[0;36m2\u001B[0m\u001B[0;34m\u001B[0m\u001B[0;34m\u001B[0m\u001B[0m\n\u001B[0m\u001B[1;32m     10\u001B[0m \u001B[0;34m\u001B[0m\u001B[0m\n\u001B[1;32m     11\u001B[0m     \u001B[0;32mdef\u001B[0m \u001B[0mg\u001B[0m\u001B[0;34m(\u001B[0m\u001B[0mself\u001B[0m\u001B[0;34m,\u001B[0m \u001B[0my\u001B[0m\u001B[0;34m,\u001B[0m \u001B[0mx\u001B[0m\u001B[0;34m,\u001B[0m \u001B[0mw\u001B[0m\u001B[0;34m)\u001B[0m\u001B[0;34m:\u001B[0m\u001B[0;34m\u001B[0m\u001B[0;34m\u001B[0m\u001B[0m\n",
      "\u001B[0;31mKeyboardInterrupt\u001B[0m: "
     ]
    }
   ],
   "source": [
    "trial_num = 100 #試行回数\n",
    "result_gauss = [] #パラメータの最終結果　トライアル数*分割数k*特徴量次元\n",
    "result_loss_gauss = [] # 過剰期待損失の最終結果　トライアル数*分割数k\n",
    "check_k_num = 100 # 分割数　1 ~ check_k_num\n",
    "rng = np.random.default_rng()\n",
    "w_star = 1\n",
    "X_mean = 5\n",
    "X_var = 2\n",
    "X_test = rng.normal(loc=X_mean,size=10,scale=X_var)\n",
    "Y_test = noise.Gauss(sigma=2.2,dim=X_test.shape[0],n=1).generate() + X_test\n",
    "\n",
    "\n",
    "for _ in tqdm(range(trial_num)):\n",
    "\n",
    "\n",
    "    w_per_trial = [] # モデルを貯めていく、必要かどうか\n",
    "    loss_store = [] # 過剰期待損失を貯めていく\n",
    "    a = 0.01 # 学習率\n",
    "    c = 5 # wの初期値がとりうる範囲\n",
    "    n = 250 # データセットのサンプル数\n",
    "    b = 2.2 # ノイズの分散\n",
    "    # 初期値wの決定\n",
    "    w = rng.uniform(w_star-c,w_star+c)\n",
    "    for k in range(1,check_k_num+1):\n",
    "        core_store = []\n",
    "        model_store = []\n",
    "        valid_loss_store = []\n",
    "\n",
    "\n",
    "\n",
    "        son = loss.LinearQuadraticLoss()\n",
    "        for _ in range(k):\n",
    "            # nがデータセットのサンプル数、train_numはその半分\n",
    "            train_num = n // 2\n",
    "            # core_num は　k分割した後のサンプル数、\n",
    "            core_num = train_num  // k\n",
    "            X = rng.normal(loc=X_mean,size=core_num,scale=X_var)\n",
    "            Y = noise.Gauss(sigma=b,dim=X.shape[0],n=1).generate() + X\n",
    "            data = [X,Y]\n",
    "\n",
    "            core = algo_sgd.SGD(w_init=w,a=a,t_max=core_num-1,data=data)\n",
    "            for _ in core:\n",
    "                core.update(son)\n",
    "            core_store.append(core)\n",
    "            model_store.append(core.w)\n",
    "\n",
    "\n",
    "        # ここまでで学習は終了,モデルの候補がk個ある\n",
    "        # ここからモデルの選択\n",
    "        valid_num = n // 2\n",
    "        rng = np.random.default_rng()\n",
    "        X = rng.normal(loc=X_mean,size=valid_num,scale=X_var)\n",
    "        Y = noise.Gauss(sigma=b,dim=X.shape[0],n=1).generate() + X\n",
    "        tmp_loss = []\n",
    "        # for文を使っているので要修正\n",
    "        for i in range(k):\n",
    "            for j in range(k):\n",
    "                core_num = valid_num // k\n",
    "                tmp_loss.append(son.f(Y[j:j+core_num],X[j:j+core_num],model_store[i]))\n",
    "            valid_loss_store.append(valid.median_of_means(seq=np.array(tmp_loss),n_blocks=3))\n",
    "\n",
    "        index = np.argmin(valid_loss_store)\n",
    "        w_rv = model_store[index]\n",
    "        loss_k = np.mean(son.f(y=Y_test,x=X_test,w=w_rv))\n",
    "        w_per_trial.append(w_rv)\n",
    "        loss_store.append(loss_k)\n",
    "\n",
    "    result_gauss.append(np.array(w_per_trial))\n",
    "    result_loss_gauss.append(np.array(loss_store))\n",
    "\n",
    "\n",
    "result_gauss = np.array(result_gauss)\n",
    "result_loss_gauss = np.array(result_loss_gauss)\n",
    "\n",
    "\n",
    "\n",
    "\n"
   ],
   "metadata": {
    "collapsed": false,
    "pycharm": {
     "name": "#%%\n"
    }
   }
  },
  {
   "cell_type": "code",
   "execution_count": 22,
   "outputs": [
    {
     "data": {
      "text/plain": "10.115612312243616"
     },
     "execution_count": 22,
     "metadata": {},
     "output_type": "execute_result"
    }
   ],
   "source": [],
   "metadata": {
    "collapsed": false,
    "pycharm": {
     "name": "#%%\n"
    }
   }
  },
  {
   "cell_type": "code",
   "execution_count": 36,
   "outputs": [
    {
     "data": {
      "text/plain": "<Figure size 720x576 with 1 Axes>",
      "image/png": "[encoded data removed]"
     },
     "metadata": {
      "needs_background": "light"
     },
     "output_type": "display_data"
    }
   ],
   "source": [
    "columns=['1', '2', '4','5','10','20','40','50']\n",
    "fig = plt.figure(figsize=(10.0, 8.0))\n",
    "ax1 = fig.add_subplot(111)\n",
    "\n",
    "bp1 = ax1.boxplot(result_loss_gauss[:,[0,1,3,4,9,19,39,49]])\n",
    "ax1.set_xticklabels(columns,fontsize=20)\n",
    "ax1.set_title('R(w)-R^*',fontsize=20)\n",
    "ax1.set_xlabel('k')\n",
    "\n",
    "plt.show()"
   ],
   "metadata": {
    "collapsed": false,
    "pycharm": {
     "name": "#%%\n"
    }
   }
  },
  {
   "cell_type": "code",
   "execution_count": 39,
   "outputs": [],
   "source": [
    "df = pd.DataFrame(result_loss_gauss[:,[0,1,3,4,9,19,39,49]],columns=columns)"
   ],
   "metadata": {
    "collapsed": false,
    "pycharm": {
     "name": "#%%\n"
    }
   }
  },
  {
   "cell_type": "code",
   "execution_count": 40,
   "outputs": [
    {
     "data": {
      "text/plain": "                1           2           4           5          10          20  \\\ncount  100.000000  100.000000  100.000000  100.000000  100.000000  100.000000   \nmean     4.588081    4.444776    4.455358    4.449367    4.464939    5.214407   \nstd      0.477657    0.236961    0.211068    0.206253    0.223199    1.655043   \nmin      4.302081    4.302080    4.302091    4.302105    4.302081    4.302393   \n25%      4.325956    4.315193    4.324308    4.317896    4.327352    4.367408   \n50%      4.408862    4.352743    4.371537    4.358210    4.384979    4.615471   \n75%      4.641713    4.448247    4.496378    4.484407    4.480308    5.370045   \nmax      6.573506    5.873218    5.325201    5.165473    5.527809   14.777752   \n\n               40          50  \ncount  100.000000  100.000000  \nmean    14.290769   25.300950  \nstd     13.900341   22.994895  \nmin      4.302976    4.304743  \n25%      4.738067    5.951841  \n50%      8.346427   16.270268  \n75%     18.340454   38.438803  \nmax     63.483777   95.269916  ",
      "text/html": "<div>\n<style scoped>\n    .dataframe tbody tr th:only-of-type {\n        vertical-align: middle;\n    }\n\n    .dataframe tbody tr th {\n        vertical-align: top;\n    }\n\n    .dataframe thead th {\n        text-align: right;\n    }\n</style>\n<table border=\"1\" class=\"dataframe\">\n  <thead>\n    <tr style=\"text-align: right;\">\n      <th></th>\n      <th>1</th>\n      <th>2</th>\n      <th>4</th>\n      <th>5</th>\n      <th>10</th>\n      <th>20</th>\n      <th>40</th>\n      <th>50</th>\n    </tr>\n  </thead>\n  <tbody>\n    <tr>\n      <th>count</th>\n      <td>100.000000</td>\n      <td>100.000000</td>\n      <td>100.000000</td>\n      <td>100.000000</td>\n      <td>100.000000</td>\n      <td>100.000000</td>\n      <td>100.000000</td>\n      <td>100.000000</td>\n    </tr>\n    <tr>\n      <th>mean</th>\n      <td>4.588081</td>\n      <td>4.444776</td>\n      <td>4.455358</td>\n      <td>4.449367</td>\n      <td>4.464939</td>\n      <td>5.214407</td>\n      <td>14.290769</td>\n      <td>25.300950</td>\n    </tr>\n    <tr>\n      <th>std</th>\n      <td>0.477657</td>\n      <td>0.236961</td>\n      <td>0.211068</td>\n      <td>0.206253</td>\n      <td>0.223199</td>\n      <td>1.655043</td>\n      <td>13.900341</td>\n      <td>22.994895</td>\n    </tr>\n    <tr>\n      <th>min</th>\n      <td>4.302081</td>\n      <td>4.302080</td>\n      <td>4.302091</td>\n      <td>4.302105</td>\n      <td>4.302081</td>\n      <td>4.302393</td>\n      <td>4.302976</td>\n      <td>4.304743</td>\n    </tr>\n    <tr>\n      <th>25%</th>\n      <td>4.325956</td>\n      <td>4.315193</td>\n      <td>4.324308</td>\n      <td>4.317896</td>\n      <td>4.327352</td>\n      <td>4.367408</td>\n      <td>4.738067</td>\n      <td>5.951841</td>\n    </tr>\n    <tr>\n      <th>50%</th>\n      <td>4.408862</td>\n      <td>4.352743</td>\n      <td>4.371537</td>\n      <td>4.358210</td>\n      <td>4.384979</td>\n      <td>4.615471</td>\n      <td>8.346427</td>\n      <td>16.270268</td>\n    </tr>\n    <tr>\n      <th>75%</th>\n      <td>4.641713</td>\n      <td>4.448247</td>\n      <td>4.496378</td>\n      <td>4.484407</td>\n      <td>4.480308</td>\n      <td>5.370045</td>\n      <td>18.340454</td>\n      <td>38.438803</td>\n    </tr>\n    <tr>\n      <th>max</th>\n      <td>6.573506</td>\n      <td>5.873218</td>\n      <td>5.325201</td>\n      <td>5.165473</td>\n      <td>5.527809</td>\n      <td>14.777752</td>\n      <td>63.483777</td>\n      <td>95.269916</td>\n    </tr>\n  </tbody>\n</table>\n</div>"
     },
     "execution_count": 40,
     "metadata": {},
     "output_type": "execute_result"
    }
   ],
   "source": [
    "df.describe()"
   ],
   "metadata": {
    "collapsed": false,
    "pycharm": {
     "name": "#%%\n"
    }
   }
  },
  {
   "cell_type": "code",
   "execution_count": null,
   "outputs": [],
   "source": [],
   "metadata": {
    "collapsed": false,
    "pycharm": {
     "name": "#%%\n"
    }
   }
  }
 ],
 "metadata": {
  "kernelspec": {
   "display_name": "Python 3",
   "language": "python",
   "name": "python3"
  },
  "language_info": {
   "codemirror_mode": {
    "name": "ipython",
    "version": 2
   },
   "file_extension": ".py",
   "mimetype": "text/x-python",
   "name": "python",
   "nbconvert_exporter": "python",
   "pygments_lexer": "ipython2",
   "version": "2.7.6"
  }
 },
 "nbformat": 4,
 "nbformat_minor": 0
}