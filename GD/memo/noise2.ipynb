{
 "cells": [
  {
   "cell_type": "code",
   "execution_count": 2,
   "metadata": {},
   "outputs": [
    {
     "name": "stdout",
     "output_type": "stream",
     "text": [
      "['/Users/naoki/ML/GD', '/Users/naoki/ML', '/Users/naoki/.local/share/virtualenvs/ML-LMvAiov7/lib/python37.zip', '/Users/naoki/.local/share/virtualenvs/ML-LMvAiov7/lib/python3.7', '/Users/naoki/.local/share/virtualenvs/ML-LMvAiov7/lib/python3.7/lib-dynload', '/usr/local/Cellar/python/3.7.3/Frameworks/Python.framework/Versions/3.7/lib/python3.7', '', '/Users/naoki/.local/share/virtualenvs/ML-LMvAiov7/lib/python3.7/site-packages', '/Users/naoki/.local/share/virtualenvs/ML-LMvAiov7/lib/python3.7/site-packages/IPython/extensions', '/Users/naoki/.ipython', '/Applications/PyCharm.app/Contents/plugins/python/helpers/pydev', '/Applications/PyCharm.app/Contents/plugins/python/helpers-pro/jupyter_debug']\n"
     ]
    }
   ],
   "source": [
    "import numpy as np\n",
    "import random\n",
    "import multiprocessing as mproc\n",
    "import matplotlib.pyplot as plt\n",
    "import tqdm\n",
    "from tqdm.notebook import tqdm as tqdm\n",
    "import matplotlib.colors as colors\n",
    "from matplotlib.cm import ScalarMappable\n",
    "import pandas as pd\n",
    "import sys\n",
    "print(sys.path)\n",
    "\n",
    "import model_opt\n",
    "import algo_GD\n",
    "import helper"
   ]
  },
  {
   "cell_type": "code",
   "execution_count": 3,
   "metadata": {},
   "outputs": [
    {
     "data": {
      "text/plain": "HBox(children=(FloatProgress(value=0.0, max=10.0), HTML(value='')))",
      "application/vnd.jupyter.widget-view+json": {
       "version_major": 2,
       "version_minor": 0,
       "model_id": "adf399c6df23478ca2606f53edd57444"
      }
     },
     "metadata": {},
     "output_type": "display_data"
    },
    {
     "name": "stdout",
     "output_type": "stream",
     "text": [
      "\n"
     ]
    }
   ],
   "source": [
    "w_init = np.array([3,3])\n",
    "_t_max = 3000\n",
    "f = model_opt.RosenBrock()\n",
    "\n",
    "\n",
    "w_star = f.w_star\n",
    "\n",
    "last_w_store = []\n",
    "iqr_store = []\n",
    "for i in tqdm(range(10)):\n",
    "    var = np.random.randint(1,300,1)[0]\n",
    "    noise = helper.gauss\n",
    "    f = model_opt.RosenBrock(noise=noise,var=var)\n",
    "    algo = algo_GD.SGD(w_init=w_init,t_max=_t_max,a=0.00078)\n",
    "    for i in algo:\n",
    "        algo.update(model=f)\n",
    "        \n",
    "    iqr_store.append(helper.iqr(algo.noise_store))\n",
    "    last_w_store.append(algo.w)"
   ]
  },
  {
   "cell_type": "code",
   "execution_count": 4,
   "metadata": {},
   "outputs": [
    {
     "data": {
      "text/plain": "[357.5095956354296,\n 33.267745715972474,\n 92.41859002057583,\n 5.422733882889485,\n 400.9896696546974,\n 116.5859116808866,\n 363.7146478671169,\n 370.4577928704033,\n 138.92764614926506,\n 54.545209766972924]"
     },
     "execution_count": 4,
     "metadata": {},
     "output_type": "execute_result"
    }
   ],
   "source": [
    "iqr_store"
   ]
  },
  {
   "cell_type": "code",
   "execution_count": 5,
   "metadata": {},
   "outputs": [
    {
     "data": {
      "text/plain": "(array([2, 1, 2, 1, 0, 0, 0, 0, 1, 3]),\n array([  5.42273388,  44.97942746,  84.53612104, 124.09281461,\n        163.64950819, 203.20620177, 242.76289535, 282.31958892,\n        321.8762825 , 361.43297608, 400.98966965]))"
     },
     "execution_count": 5,
     "metadata": {},
     "output_type": "execute_result"
    }
   ],
   "source": [
    "np.histogram(iqr_store)"
   ]
  },
  {
   "cell_type": "code",
   "execution_count": 6,
   "metadata": {},
   "outputs": [
    {
     "data": {
      "text/plain": "(array([1., 0., 0., 0., 0., 0., 0., 1., 0., 0., 0., 0., 1., 0., 0., 0., 0.,\n        0., 0., 0., 0., 1., 0., 0., 0., 0., 0., 0., 1., 0., 0., 0., 0., 1.,\n        0., 0., 0., 0., 0., 0., 0., 0., 0., 0., 0., 0., 0., 0., 0., 0., 0.,\n        0., 0., 0., 0., 0., 0., 0., 0., 0., 0., 0., 0., 0., 0., 0., 0., 0.,\n        0., 0., 0., 0., 0., 0., 0., 0., 0., 0., 0., 0., 0., 0., 0., 0., 0.,\n        0., 0., 0., 0., 1., 1., 0., 1., 0., 0., 0., 0., 0., 0., 1.]),\n array([  5.42273388,   9.37840324,  13.3340726 ,  17.28974196,\n         21.24541131,  25.20108067,  29.15675003,  33.11241939,\n         37.06808874,  41.0237581 ,  44.97942746,  48.93509682,\n         52.89076618,  56.84643553,  60.80210489,  64.75777425,\n         68.71344361,  72.66911296,  76.62478232,  80.58045168,\n         84.53612104,  88.49179039,  92.44745975,  96.40312911,\n        100.35879847, 104.31446783, 108.27013718, 112.22580654,\n        116.1814759 , 120.13714526, 124.09281461, 128.04848397,\n        132.00415333, 135.95982269, 139.91549205, 143.8711614 ,\n        147.82683076, 151.78250012, 155.73816948, 159.69383883,\n        163.64950819, 167.60517755, 171.56084691, 175.51651626,\n        179.47218562, 183.42785498, 187.38352434, 191.3391937 ,\n        195.29486305, 199.25053241, 203.20620177, 207.16187113,\n        211.11754048, 215.07320984, 219.0288792 , 222.98454856,\n        226.94021792, 230.89588727, 234.85155663, 238.80722599,\n        242.76289535, 246.7185647 , 250.67423406, 254.62990342,\n        258.58557278, 262.54124213, 266.49691149, 270.45258085,\n        274.40825021, 278.36391957, 282.31958892, 286.27525828,\n        290.23092764, 294.186597  , 298.14226635, 302.09793571,\n        306.05360507, 310.00927443, 313.96494378, 317.92061314,\n        321.8762825 , 325.83195186, 329.78762122, 333.74329057,\n        337.69895993, 341.65462929, 345.61029865, 349.565968  ,\n        353.52163736, 357.47730672, 361.43297608, 365.38864544,\n        369.34431479, 373.29998415, 377.25565351, 381.21132287,\n        385.16699222, 389.12266158, 393.07833094, 397.0340003 ,\n        400.98966965]),\n <a list of 100 Patch objects>)"
     },
     "execution_count": 6,
     "metadata": {},
     "output_type": "execute_result"
    },
    {
     "data": {
      "text/plain": "<Figure size 432x288 with 1 Axes>",
      "image/png": "[encoded data removed]"
     },
     "metadata": {
      "needs_background": "light"
     },
     "output_type": "display_data"
    }
   ],
   "source": [
    "plt.hist(iqr_store,bins=100)"
   ]
  },
  {
   "cell_type": "code",
   "execution_count": 7,
   "metadata": {},
   "outputs": [
    {
     "data": {
      "text/plain": "<matplotlib.collections.PathCollection at 0x12260e9b0>"
     },
     "execution_count": 7,
     "metadata": {},
     "output_type": "execute_result"
    },
    {
     "data": {
      "text/plain": "<Figure size 432x288 with 1 Axes>",
      "image/png": "[encoded data removed]"
     },
     "metadata": {
      "needs_background": "light"
     },
     "output_type": "display_data"
    }
   ],
   "source": [
    "plt.scatter(*np.array(last_w_store).T)"
   ]
  },
  {
   "cell_type": "code",
   "execution_count": 8,
   "metadata": {},
   "outputs": [],
   "source": [
    "s = np.where(np.array(iqr_store) < 50)"
   ]
  },
  {
   "cell_type": "code",
   "execution_count": 9,
   "metadata": {},
   "outputs": [
    {
     "data": {
      "text/plain": "array([[0.33913753, 0.08996061],\n       [0.41426129, 0.16798484]])"
     },
     "execution_count": 9,
     "metadata": {},
     "output_type": "execute_result"
    }
   ],
   "source": [
    "np.array(last_w_store)[s[0]]"
   ]
  },
  {
   "cell_type": "code",
   "execution_count": 10,
   "metadata": {},
   "outputs": [
    {
     "data": {
      "text/plain": "array([1, 2, 3, 5, 8, 9])"
     },
     "execution_count": 10,
     "metadata": {},
     "output_type": "execute_result"
    }
   ],
   "source": [
    "helper.get_index_bins(np.array(iqr_store),300,0)"
   ]
  },
  {
   "cell_type": "code",
   "execution_count": 11,
   "metadata": {},
   "outputs": [
    {
     "data": {
      "text/plain": "395.56693577180795"
     },
     "execution_count": 11,
     "metadata": {},
     "output_type": "execute_result"
    }
   ],
   "source": [
    "np.max(iqr_store)-np.min(iqr_store) "
   ]
  },
  {
   "cell_type": "code",
   "execution_count": 12,
   "metadata": {},
   "outputs": [
    {
     "data": {
      "text/plain": "array([  5.42273388,  49.37461564,  93.32649739, 137.27837914,\n       181.23026089, 225.18214265, 269.1340244 , 313.08590615,\n       357.0377879 , 400.98966965])"
     },
     "execution_count": 12,
     "metadata": {},
     "output_type": "execute_result"
    }
   ],
   "source": [
    "np.linspace(np.min(iqr_store),np.max(iqr_store),10)"
   ]
  },
  {
   "cell_type": "code",
   "execution_count": 13,
   "metadata": {},
   "outputs": [
    {
     "data": {
      "text/plain": "[<matplotlib.lines.Line2D at 0x1203a3f98>]"
     },
     "execution_count": 13,
     "metadata": {},
     "output_type": "execute_result"
    },
    {
     "data": {
      "text/plain": "<Figure size 432x432 with 1 Axes>",
      "image/png": "[encoded data removed]"
     },
     "metadata": {
      "needs_background": "light"
     },
     "output_type": "display_data"
    }
   ],
   "source": [
    "k = 4\n",
    "fig, axes = plt.subplots(1,1, figsize=(6,6))\n",
    "for i in range(k-1):\n",
    "    c = np.linspace(np.min(iqr_store),np.max(iqr_store),k)\n",
    "    index = helper.get_index_bins(np.array(iqr_store),c[i+1],c[i])\n",
    "    plt.scatter(*np.array(last_w_store)[index].T)\n",
    "plt.plot(*w_star, 'r*', markersize=14)"
   ]
  },
  {
   "cell_type": "code",
   "execution_count": 14,
   "metadata": {},
   "outputs": [
    {
     "data": {
      "text/plain": "(2,)"
     },
     "execution_count": 14,
     "metadata": {},
     "output_type": "execute_result"
    }
   ],
   "source": [
    "last_w_store = np.array(last_w_store)\n",
    "last_w_store[0,:].shape"
   ]
  },
  {
   "cell_type": "code",
   "execution_count": 15,
   "metadata": {},
   "outputs": [],
   "source": [
    "import datetime\n",
    "dt_now = datetime.datetime.now()\n",
    "\n",
    "data = np.array([iqr_store,last_w_store[:,0],last_w_store[:,1]]).T\n",
    "df = pd.DataFrame(data=data, columns=['iqr', 'w_0', 'w_1'])\n",
    "\n"
   ]
  },
  {
   "cell_type": "code",
   "execution_count": 16,
   "metadata": {},
   "outputs": [],
   "source": [
    "df.to_csv('exp_result/gauss_noise_last_w  {}.csv'.format(dt_now),header=True)"
   ]
  },
  {
   "cell_type": "code",
   "execution_count": 17,
   "metadata": {},
   "outputs": [
    {
     "name": "stdout",
     "output_type": "stream",
     "text": [
      "hello\n",
      "2020-07-03 15:27:28.233698\n"
     ]
    }
   ],
   "source": [
    "print(\"hello\")\n",
    "print(dt_now)"
   ]
  },
  {
   "cell_type": "code",
   "execution_count": 16,
   "outputs": [],
   "source": [
    "\n"
   ],
   "metadata": {
    "collapsed": false,
    "pycharm": {
     "name": "#%%\n"
    }
   }
  }
 ],
 "metadata": {
  "kernelspec": {
   "display_name": "Python 3",
   "language": "python",
   "name": "python3"
  },
  "language_info": {
   "codemirror_mode": {
    "name": "ipython",
    "version": 3
   },
   "file_extension": ".py",
   "mimetype": "text/x-python",
   "name": "python",
   "nbconvert_exporter": "python",
   "pygments_lexer": "ipython3",
   "version": "3.7.3"
  }
 },
 "nbformat": 4,
 "nbformat_minor": 4
}