{
 "cells": [
  {
   "cell_type": "code",
   "execution_count": 1,
   "metadata": {
    "collapsed": true
   },
   "outputs": [],
   "source": [
    "import numpy as np\n",
    "import matplotlib.pyplot as plt\n",
    "import pandas as pd\n",
    "from tqdm.notebook import tqdm\n",
    "\n",
    "from ML2_lib import loss\n",
    "from ML2_lib import noise\n",
    "from ML2_lib import algo_sgd\n",
    "from ML2_lib import valid\n"
   ]
  },
  {
   "cell_type": "code",
   "execution_count": 5,
   "outputs": [
    {
     "data": {
      "text/plain": "  0%|          | 0/100 [00:00<?, ?it/s]",
      "application/vnd.jupyter.widget-view+json": {
       "version_major": 2,
       "version_minor": 0,
       "model_id": "52b61edc6c1a41eea6ac6857df781224"
      }
     },
     "metadata": {},
     "output_type": "display_data"
    }
   ],
   "source": [
    "trial_num = 100 #試行回数\n",
    "result_gauss = [] #パラメータの最終結果　トライアル数*分割数k*特徴量次元\n",
    "result_loss_gauss = [] # 過剰期待損失の最終結果　トライアル数*分割数k\n",
    "check_k_num = 50 # 分割数　1 ~ check_k_num\n",
    "rng = np.random.default_rng()\n",
    "w_star = np.array([1])\n",
    "X_mean = 5\n",
    "X_var = 2\n",
    "a = 0.01 # 学習率\n",
    "c = 5 # wの初期値がとりうる範囲\n",
    "n = 500 # データセットのサンプル数\n",
    "b = 2.2 # ノイズの分散\n",
    "\n",
    "\n",
    "for _ in tqdm(range(trial_num)):\n",
    "\n",
    "\n",
    "    w_per_trial = [] # モデルを貯めていく、必要かどうか\n",
    "    loss_store = [] # 過剰期待損失を貯めていく\n",
    "    # ノイズの分散\n",
    "    # 初期値wの決定\n",
    "    w = rng.uniform(w_star-c,w_star+c)\n",
    "    for k in range(1,check_k_num+1):\n",
    "        core_store = []\n",
    "        model_store = []\n",
    "        valid_loss_store = []\n",
    "\n",
    "\n",
    "\n",
    "        son = loss.LinearQuadraticLoss()\n",
    "        for _ in range(k):\n",
    "            # nがデータセットのサンプル数、train_numはその半分\n",
    "            train_num = n // 2\n",
    "            # core_num は　k分割した後のサンプル数、\n",
    "            core_num = train_num  // k\n",
    "            X = rng.normal(loc=X_mean,size=core_num,scale=X_var)\n",
    "            E = noise.Gauss(sigma=b,dim=X.shape[0],n=1).generate()\n",
    "            Y = E + np.dot(w_star,X)\n",
    "            data = [X,Y]\n",
    "\n",
    "            core = algo_sgd.SGD(w_init=w,a=a,t_max=core_num-1,data=data)\n",
    "            for _ in core:\n",
    "                core.update(son)\n",
    "            core_store.append(core)\n",
    "            # :TODO fix axis\n",
    "            model_store.append(np.mean(core.wstore))\n",
    "\n",
    "\n",
    "        # ここまでで学習は終了,モデルの候補がk個ある\n",
    "        # ここからモデルの選択\n",
    "        valid_num = n // 2\n",
    "        rng = np.random.default_rng()\n",
    "        X = rng.normal(loc=X_mean,size=valid_num,scale=X_var)\n",
    "        E = noise.Gauss(sigma=b,dim=X.shape[0],n=1).generate()\n",
    "        Y = E + np.dot(w_star,X)\n",
    "        tmp_loss = []\n",
    "\n",
    "        # for文を使っているので要修正\n",
    "        for i in range(k):\n",
    "            for j in range(k):\n",
    "                core_num = valid_num // k\n",
    "                try:\n",
    "                    tmp_loss.append(son.f(Y[j:j+core_num],X[j:j+core_num],model_store[i]))\n",
    "                except:\n",
    "                    raise ValueError()\n",
    "            valid_loss_store.append(valid.median_of_means(seq=np.array(tmp_loss),n_blocks=3))\n",
    "\n",
    "        index = np.argmin(valid_loss_store)\n",
    "        w_rv = model_store[index]\n",
    "        w_per_trial.append(w_rv)\n",
    "        # 過剰期待損失　E[(<(w-w^*),X>)^2]　Xが正規分布の場合　E[X^2] = X_mean^2 + X_var^2 * 単位行列\n",
    "        E_X = np.diag(np.ones(w_star.shape[0])* (X_var**2)  + (X_mean**2))\n",
    "        excess_risk = np.dot(np.dot(E_X,w_rv),w_rv) + np.dot(np.dot(E_X,w_star),w_star) - 2 * np.dot(np.dot(E_X,w_star),w_rv)\n",
    "        loss_store.append(excess_risk[0][0])\n",
    "\n",
    "    result_gauss.append(np.array(w_per_trial))\n",
    "    result_loss_gauss.append(np.array(loss_store))\n",
    "\n",
    "\n",
    "result_gauss = np.array(result_gauss)\n",
    "result_loss_gauss = np.array(result_loss_gauss)\n",
    "\n",
    "\n",
    "\n",
    "\n"
   ],
   "metadata": {
    "collapsed": false,
    "pycharm": {
     "name": "#%%\n"
    }
   }
  },
  {
   "cell_type": "code",
   "execution_count": 2,
   "outputs": [],
   "source": [],
   "metadata": {
    "collapsed": false,
    "pycharm": {
     "name": "#%%\n"
    }
   }
  },
  {
   "cell_type": "code",
   "execution_count": 6,
   "outputs": [
    {
     "data": {
      "text/plain": "<Figure size 720x576 with 1 Axes>",
      "image/png": "[encoded data removed]"
     },
     "metadata": {
      "needs_background": "light"
     },
     "output_type": "display_data"
    }
   ],
   "source": [
    "columns=['1', '2', '4','5','10','20','40','50']\n",
    "fig = plt.figure(figsize=(10.0, 8.0))\n",
    "ax1 = fig.add_subplot(111)\n",
    "\n",
    "bp1 = ax1.boxplot(result_loss_gauss[:,[0,1,3,4,9,19,39,49]])\n",
    "ax1.set_xticklabels(columns,fontsize=20)\n",
    "ax1.set_title('R(w)-R^*',fontsize=20)\n",
    "ax1.set_xlabel('k')\n",
    "\n",
    "plt.show()"
   ],
   "metadata": {
    "collapsed": false,
    "pycharm": {
     "name": "#%%\n"
    }
   }
  },
  {
   "cell_type": "code",
   "execution_count": 7,
   "outputs": [],
   "source": [
    "df = pd.DataFrame(result_loss_gauss[:,[0,1,3,4,9,19,39,49]],columns=columns)"
   ],
   "metadata": {
    "collapsed": false,
    "pycharm": {
     "name": "#%%\n"
    }
   }
  },
  {
   "cell_type": "code",
   "execution_count": 8,
   "outputs": [
    {
     "data": {
      "text/plain": "                1           2             4           5          10  \\\ncount  100.000000  100.000000  1.000000e+02  100.000000  100.000000   \nmean     0.067128    0.139658  4.562205e-01    0.693915    2.648118   \nstd      0.083298    0.184317  4.850512e-01    0.832224    3.332791   \nmin      0.000155    0.000029  3.960016e-08    0.000184    0.000176   \n25%      0.007252    0.012231  1.113090e-01    0.054738    0.320520   \n50%      0.039786    0.074784  2.880707e-01    0.371614    1.451187   \n75%      0.095403    0.190145  6.494165e-01    1.036890    3.915420   \nmax      0.469190    1.020588  2.468202e+00    3.601953   21.184294   \n\n               20          40          50  \ncount  100.000000  100.000000  100.000000  \nmean    11.444665   40.701274   59.365201  \nstd     12.525421   41.849355   62.246225  \nmin      0.005526    0.000012    0.032240  \n25%      1.969515    5.021053   13.825434  \n50%      6.743761   29.120502   37.115622  \n75%     18.306729   67.966495   94.137730  \nmax     53.219982  194.630916  294.505695  ",
      "text/html": "<div>\n<style scoped>\n    .dataframe tbody tr th:only-of-type {\n        vertical-align: middle;\n    }\n\n    .dataframe tbody tr th {\n        vertical-align: top;\n    }\n\n    .dataframe thead th {\n        text-align: right;\n    }\n</style>\n<table border=\"1\" class=\"dataframe\">\n  <thead>\n    <tr style=\"text-align: right;\">\n      <th></th>\n      <th>1</th>\n      <th>2</th>\n      <th>4</th>\n      <th>5</th>\n      <th>10</th>\n      <th>20</th>\n      <th>40</th>\n      <th>50</th>\n    </tr>\n  </thead>\n  <tbody>\n    <tr>\n      <th>count</th>\n      <td>100.000000</td>\n      <td>100.000000</td>\n      <td>1.000000e+02</td>\n      <td>100.000000</td>\n      <td>100.000000</td>\n      <td>100.000000</td>\n      <td>100.000000</td>\n      <td>100.000000</td>\n    </tr>\n    <tr>\n      <th>mean</th>\n      <td>0.067128</td>\n      <td>0.139658</td>\n      <td>4.562205e-01</td>\n      <td>0.693915</td>\n      <td>2.648118</td>\n      <td>11.444665</td>\n      <td>40.701274</td>\n      <td>59.365201</td>\n    </tr>\n    <tr>\n      <th>std</th>\n      <td>0.083298</td>\n      <td>0.184317</td>\n      <td>4.850512e-01</td>\n      <td>0.832224</td>\n      <td>3.332791</td>\n      <td>12.525421</td>\n      <td>41.849355</td>\n      <td>62.246225</td>\n    </tr>\n    <tr>\n      <th>min</th>\n      <td>0.000155</td>\n      <td>0.000029</td>\n      <td>3.960016e-08</td>\n      <td>0.000184</td>\n      <td>0.000176</td>\n      <td>0.005526</td>\n      <td>0.000012</td>\n      <td>0.032240</td>\n    </tr>\n    <tr>\n      <th>25%</th>\n      <td>0.007252</td>\n      <td>0.012231</td>\n      <td>1.113090e-01</td>\n      <td>0.054738</td>\n      <td>0.320520</td>\n      <td>1.969515</td>\n      <td>5.021053</td>\n      <td>13.825434</td>\n    </tr>\n    <tr>\n      <th>50%</th>\n      <td>0.039786</td>\n      <td>0.074784</td>\n      <td>2.880707e-01</td>\n      <td>0.371614</td>\n      <td>1.451187</td>\n      <td>6.743761</td>\n      <td>29.120502</td>\n      <td>37.115622</td>\n    </tr>\n    <tr>\n      <th>75%</th>\n      <td>0.095403</td>\n      <td>0.190145</td>\n      <td>6.494165e-01</td>\n      <td>1.036890</td>\n      <td>3.915420</td>\n      <td>18.306729</td>\n      <td>67.966495</td>\n      <td>94.137730</td>\n    </tr>\n    <tr>\n      <th>max</th>\n      <td>0.469190</td>\n      <td>1.020588</td>\n      <td>2.468202e+00</td>\n      <td>3.601953</td>\n      <td>21.184294</td>\n      <td>53.219982</td>\n      <td>194.630916</td>\n      <td>294.505695</td>\n    </tr>\n  </tbody>\n</table>\n</div>"
     },
     "execution_count": 8,
     "metadata": {},
     "output_type": "execute_result"
    }
   ],
   "source": [
    "df.describe()"
   ],
   "metadata": {
    "collapsed": false,
    "pycharm": {
     "name": "#%%\n"
    }
   }
  },
  {
   "cell_type": "code",
   "execution_count": 10,
   "outputs": [
    {
     "data": {
      "text/plain": "  0%|          | 0/100 [00:00<?, ?it/s]",
      "application/vnd.jupyter.widget-view+json": {
       "version_major": 2,
       "version_minor": 0,
       "model_id": "e5b99e8e27eb4c63bb9f4402cffb5b17"
      }
     },
     "metadata": {},
     "output_type": "display_data"
    }
   ],
   "source": [
    "# lognormal\n",
    "\n",
    "trial_num = 100 #試行回数\n",
    "result_log_normal = [] #パラメータの最終結果　トライアル数*分割数k*特徴量次元\n",
    "result_loss_log_normal = [] # 過剰期待損失の最終結果　トライアル数*分割数k\n",
    "check_k_num = 50 # 分割数　1 ~ check_k_num\n",
    "rng = np.random.default_rng()\n",
    "w_star = np.array([1])\n",
    "X_mean = 5\n",
    "X_var = 2\n",
    "a = 0.01 # 学習率\n",
    "c = 5 # wの初期値がとりうる範囲\n",
    "n = 500 # データセットのサンプル数\n",
    "b = 1.75 # ノイズの分散\n",
    "\n",
    "for _ in tqdm(range(trial_num)):\n",
    "\n",
    "\n",
    "    w_per_trial = [] # モデルを貯めていく、必要かどうか\n",
    "    loss_store = [] # 過剰期待損失を貯めていく\n",
    "    # 初期値wの決定\n",
    "    w = rng.uniform(w_star-c,w_star+c)\n",
    "    for k in range(1,check_k_num+1):\n",
    "        core_store = []\n",
    "        model_store = []\n",
    "        valid_loss_store = []\n",
    "\n",
    "\n",
    "\n",
    "        son = loss.LinearQuadraticLoss()\n",
    "        for _ in range(k):\n",
    "            # nがデータセットのサンプル数、train_numはその半分\n",
    "            train_num = n // 2\n",
    "            # core_num は　k分割した後のサンプル数、\n",
    "            core_num = train_num  // k\n",
    "            X = rng.normal(loc=X_mean,size=core_num,scale=X_var)\n",
    "            E = noise.Gauss(sigma=b,dim=X.shape[0],n=1).generate()\n",
    "            Y = E + np.dot(w_star,X)\n",
    "            data = [X,Y]\n",
    "\n",
    "            core = algo_sgd.SGD(w_init=w,a=a,t_max=core_num-1,data=data)\n",
    "            for _ in core:\n",
    "                core.update(son)\n",
    "            core_store.append(core)\n",
    "            # 平均のaxis　要修正\n",
    "            model_store.append(np.mean(core.wstore))\n",
    "\n",
    "\n",
    "        # ここまでで学習は終了,モデルの候補がk個ある\n",
    "        # ここからモデルの選択\n",
    "        valid_num = n // 2\n",
    "        rng = np.random.default_rng()\n",
    "        X = rng.normal(loc=X_mean,size=valid_num,scale=X_var)\n",
    "        E = noise.Gauss(sigma=b,dim=X.shape[0],n=1).generate()\n",
    "        Y = E + np.dot(w_star,X)\n",
    "        tmp_loss = []\n",
    "        # for文を使っているので要修正\n",
    "        for i in range(k):\n",
    "            for j in range(k):\n",
    "                core_num = valid_num // k\n",
    "                tmp_loss.append(son.f(Y[j:j+core_num],X[j:j+core_num],model_store[i]))\n",
    "            valid_loss_store.append(valid.median_of_means(seq=np.array(tmp_loss),n_blocks=3))\n",
    "\n",
    "        index = np.argmin(valid_loss_store)\n",
    "        w_rv = model_store[index]\n",
    "        w_per_trial.append(w_rv)\n",
    "        # 過剰期待損失　E[(<(w-w^*),X>)^2]　Xが正規分布の場合　E[X^2] = X_mean^2 + X_var^2 * 単位行列\n",
    "        E_X = np.diag(np.ones(w_star.shape[0])* (X_var**2)  + (X_mean**2))\n",
    "        excess_risk = np.dot(np.dot(E_X,w_rv),w_rv) + np.dot(np.dot(E_X,w_star),w_star) - 2 * np.dot(np.dot(E_X,w_star),w_rv)\n",
    "        loss_store.append(excess_risk[0][0])\n",
    "\n",
    "    result_log_normal.append(np.array(w_per_trial))\n",
    "    result_loss_log_normal.append(np.array(loss_store))\n",
    "\n",
    "\n",
    "result_log_normal = np.array(result_log_normal)\n",
    "result_loss_log_normal = np.array(result_loss_log_normal)\n",
    "\n"
   ],
   "metadata": {
    "collapsed": false,
    "pycharm": {
     "name": "#%%\n"
    }
   }
  },
  {
   "cell_type": "code",
   "execution_count": 11,
   "outputs": [
    {
     "data": {
      "text/plain": "<Figure size 720x576 with 1 Axes>",
      "image/png": "[encoded data removed]"
     },
     "metadata": {
      "needs_background": "light"
     },
     "output_type": "display_data"
    }
   ],
   "source": [
    "columns=['1', '2', '4','5','10','20','40','50']\n",
    "fig = plt.figure(figsize=(10.0, 8.0))\n",
    "ax1 = fig.add_subplot(111)\n",
    "\n",
    "bp1 = ax1.boxplot(result_loss_log_normal[:,[0,1,3,4,9,19,39,49]])\n",
    "ax1.set_xticklabels(columns,fontsize=20)\n",
    "ax1.set_title('R(w)-R^*',fontsize=20)\n",
    "ax1.set_xlabel('k')\n",
    "\n",
    "plt.show()"
   ],
   "metadata": {
    "collapsed": false,
    "pycharm": {
     "name": "#%%\n"
    }
   }
  },
  {
   "cell_type": "code",
   "execution_count": 12,
   "outputs": [
    {
     "data": {
      "text/plain": "                1           2           4           5          10          20  \\\ncount  100.000000  100.000000  100.000000  100.000000  100.000000  100.000000   \nmean     1.843082    1.242918    2.233530    3.536950    6.402201   14.538264   \nstd      6.072137    1.899758    3.111277    6.448107    8.478546   15.147228   \nmin      0.000062    0.000562    0.002064    0.000107    0.000005    0.001529   \n25%      0.152150    0.153631    0.253930    0.306038    0.556737    2.053379   \n50%      0.474256    0.706164    0.858568    1.373626    3.205427    8.583786   \n75%      1.098690    1.507700    3.001009    3.740960    9.677875   23.587065   \nmax     47.111045   13.061436   16.307706   43.598844   54.674518   78.081946   \n\n               40          50  \ncount  100.000000  100.000000  \nmean    55.875754   72.906149  \nstd     64.008517   77.494874  \nmin      0.004020    0.031885  \n25%     10.179020   15.900117  \n50%     28.695388   40.859026  \n75%     83.376567  108.111629  \nmax    319.906456  361.259842  ",
      "text/html": "<div>\n<style scoped>\n    .dataframe tbody tr th:only-of-type {\n        vertical-align: middle;\n    }\n\n    .dataframe tbody tr th {\n        vertical-align: top;\n    }\n\n    .dataframe thead th {\n        text-align: right;\n    }\n</style>\n<table border=\"1\" class=\"dataframe\">\n  <thead>\n    <tr style=\"text-align: right;\">\n      <th></th>\n      <th>1</th>\n      <th>2</th>\n      <th>4</th>\n      <th>5</th>\n      <th>10</th>\n      <th>20</th>\n      <th>40</th>\n      <th>50</th>\n    </tr>\n  </thead>\n  <tbody>\n    <tr>\n      <th>count</th>\n      <td>100.000000</td>\n      <td>100.000000</td>\n      <td>100.000000</td>\n      <td>100.000000</td>\n      <td>100.000000</td>\n      <td>100.000000</td>\n      <td>100.000000</td>\n      <td>100.000000</td>\n    </tr>\n    <tr>\n      <th>mean</th>\n      <td>1.843082</td>\n      <td>1.242918</td>\n      <td>2.233530</td>\n      <td>3.536950</td>\n      <td>6.402201</td>\n      <td>14.538264</td>\n      <td>55.875754</td>\n      <td>72.906149</td>\n    </tr>\n    <tr>\n      <th>std</th>\n      <td>6.072137</td>\n      <td>1.899758</td>\n      <td>3.111277</td>\n      <td>6.448107</td>\n      <td>8.478546</td>\n      <td>15.147228</td>\n      <td>64.008517</td>\n      <td>77.494874</td>\n    </tr>\n    <tr>\n      <th>min</th>\n      <td>0.000062</td>\n      <td>0.000562</td>\n      <td>0.002064</td>\n      <td>0.000107</td>\n      <td>0.000005</td>\n      <td>0.001529</td>\n      <td>0.004020</td>\n      <td>0.031885</td>\n    </tr>\n    <tr>\n      <th>25%</th>\n      <td>0.152150</td>\n      <td>0.153631</td>\n      <td>0.253930</td>\n      <td>0.306038</td>\n      <td>0.556737</td>\n      <td>2.053379</td>\n      <td>10.179020</td>\n      <td>15.900117</td>\n    </tr>\n    <tr>\n      <th>50%</th>\n      <td>0.474256</td>\n      <td>0.706164</td>\n      <td>0.858568</td>\n      <td>1.373626</td>\n      <td>3.205427</td>\n      <td>8.583786</td>\n      <td>28.695388</td>\n      <td>40.859026</td>\n    </tr>\n    <tr>\n      <th>75%</th>\n      <td>1.098690</td>\n      <td>1.507700</td>\n      <td>3.001009</td>\n      <td>3.740960</td>\n      <td>9.677875</td>\n      <td>23.587065</td>\n      <td>83.376567</td>\n      <td>108.111629</td>\n    </tr>\n    <tr>\n      <th>max</th>\n      <td>47.111045</td>\n      <td>13.061436</td>\n      <td>16.307706</td>\n      <td>43.598844</td>\n      <td>54.674518</td>\n      <td>78.081946</td>\n      <td>319.906456</td>\n      <td>361.259842</td>\n    </tr>\n  </tbody>\n</table>\n</div>"
     },
     "execution_count": 12,
     "metadata": {},
     "output_type": "execute_result"
    }
   ],
   "source": [
    "df = pd.DataFrame(result_loss_log_normal[:,[0,1,3,4,9,19,39,49]],columns=columns)\n",
    "\n",
    "df.describe()"
   ],
   "metadata": {
    "collapsed": false,
    "pycharm": {
     "name": "#%%\n"
    }
   }
  },
  {
   "cell_type": "code",
   "execution_count": 8,
   "outputs": [],
   "source": [],
   "metadata": {
    "collapsed": false,
    "pycharm": {
     "name": "#%%\n"
    }
   }
  },
  {
   "cell_type": "code",
   "execution_count": 8,
   "outputs": [],
   "source": [],
   "metadata": {
    "collapsed": false,
    "pycharm": {
     "name": "#%%\n"
    }
   }
  }
 ],
 "metadata": {
  "kernelspec": {
   "display_name": "Python 3",
   "language": "python",
   "name": "python3"
  },
  "language_info": {
   "codemirror_mode": {
    "name": "ipython",
    "version": 2
   },
   "file_extension": ".py",
   "mimetype": "text/x-python",
   "name": "python",
   "nbconvert_exporter": "python",
   "pygments_lexer": "ipython2",
   "version": "2.7.6"
  }
 },
 "nbformat": 4,
 "nbformat_minor": 0
}