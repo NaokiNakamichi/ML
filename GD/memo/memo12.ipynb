{
 "cells": [
  {
   "cell_type": "code",
   "execution_count": 2,
   "metadata": {
    "collapsed": true
   },
   "outputs": [],
   "source": [
    "import matplotlib.pyplot as plt\n",
    "import pandas as pd\n",
    "import numpy as np\n",
    "\n",
    "from ML2_lib import loss\n",
    "from ML2_lib import plot_set\n",
    "from ML2_lib import RVSGD_exp\n",
    "from ML2_lib import additive_noise"
   ]
  },
  {
   "cell_type": "code",
   "execution_count": 3,
   "outputs": [],
   "source": [
    "d = 2\n",
    "trial_num = 100\n",
    "lr = 0.001\n",
    "noise = \"student_t\"\n",
    "c = 1\n",
    "w_init = np.array([2,2])\n",
    "E_var = 5\n",
    "n = 10000\n",
    "k_list = [0,1,3,4,9]"
   ],
   "metadata": {
    "collapsed": false,
    "pycharm": {
     "name": "#%%\n"
    }
   }
  },
  {
   "cell_type": "code",
   "execution_count": 3,
   "outputs": [],
   "source": [],
   "metadata": {
    "collapsed": false,
    "pycharm": {
     "name": "#%%\n"
    }
   }
  },
  {
   "cell_type": "code",
   "execution_count": 4,
   "outputs": [],
   "source": [
    "\n",
    "hoge = additive_noise.Noise(dim=10000, mean=0, sigma=2.2, n=1)"
   ],
   "metadata": {
    "collapsed": false,
    "pycharm": {
     "name": "#%%\n"
    }
   }
  },
  {
   "cell_type": "code",
   "execution_count": 5,
   "outputs": [],
   "source": [
    "s_t = hoge.normal()"
   ],
   "metadata": {
    "collapsed": false,
    "pycharm": {
     "name": "#%%\n"
    }
   }
  },
  {
   "cell_type": "code",
   "execution_count": 6,
   "outputs": [
    {
     "data": {
      "text/plain": "<Figure size 432x288 with 1 Axes>",
      "image/png": "[encoded data removed]"
     },
     "metadata": {
      "needs_background": "light"
     },
     "output_type": "display_data"
    }
   ],
   "source": [
    "\n",
    "h = plt.hist(s_t,bins=100)"
   ],
   "metadata": {
    "collapsed": false,
    "pycharm": {
     "name": "#%%\n"
    }
   }
  },
  {
   "cell_type": "code",
   "execution_count": 7,
   "outputs": [],
   "source": [
    "hoge = additive_noise.Noise(dim=1000, mean=0, sigma=1.75, n=1)\n",
    "s = hoge.lognormal()"
   ],
   "metadata": {
    "collapsed": false,
    "pycharm": {
     "name": "#%%\n"
    }
   }
  },
  {
   "cell_type": "code",
   "execution_count": 8,
   "outputs": [
    {
     "data": {
      "text/plain": "(array([558., 159.,  60.,  47.,  35.,  21.,  11.,  11.,  13.,   6.,  13.,\n          7.,   5.,   1.,   3.,   6.,   5.,   1.,   1.,   2.,   3.,   4.,\n          3.,   1.,   2.,   2.,   0.,   0.,   2.,   1.,   0.,   2.,   0.,\n          0.,   0.,   1.,   1.,   0.,   0.,   0.,   1.,   0.,   1.,   0.,\n          0.,   2.,   0.,   0.,   0.,   1.,   0.,   0.,   0.,   0.,   0.,\n          1.,   1.,   1.,   0.,   0.,   0.,   0.,   0.,   0.,   0.,   0.,\n          0.,   1.,   0.,   0.,   0.,   1.,   0.,   0.,   0.,   0.,   0.,\n          0.,   0.,   0.,   1.,   0.,   0.,   0.,   0.,   0.,   0.,   0.,\n          0.,   0.,   0.,   0.,   0.,   0.,   1.,   0.,   0.,   0.,   0.,\n          1.]),\n array([ -4.6213443 ,  -3.29629464,  -1.97124498,  -0.64619531,\n          0.67885435,   2.00390401,   3.32895367,   4.65400334,\n          5.979053  ,   7.30410266,   8.62915232,   9.95420199,\n         11.27925165,  12.60430131,  13.92935098,  15.25440064,\n         16.5794503 ,  17.90449996,  19.22954963,  20.55459929,\n         21.87964895,  23.20469861,  24.52974828,  25.85479794,\n         27.1798476 ,  28.50489726,  29.82994693,  31.15499659,\n         32.48004625,  33.80509591,  35.13014558,  36.45519524,\n         37.7802449 ,  39.10529457,  40.43034423,  41.75539389,\n         43.08044355,  44.40549322,  45.73054288,  47.05559254,\n         48.3806422 ,  49.70569187,  51.03074153,  52.35579119,\n         53.68084085,  55.00589052,  56.33094018,  57.65598984,\n         58.9810395 ,  60.30608917,  61.63113883,  62.95618849,\n         64.28123816,  65.60628782,  66.93133748,  68.25638714,\n         69.58143681,  70.90648647,  72.23153613,  73.55658579,\n         74.88163546,  76.20668512,  77.53173478,  78.85678444,\n         80.18183411,  81.50688377,  82.83193343,  84.1569831 ,\n         85.48203276,  86.80708242,  88.13213208,  89.45718175,\n         90.78223141,  92.10728107,  93.43233073,  94.7573804 ,\n         96.08243006,  97.40747972,  98.73252938, 100.05757905,\n        101.38262871, 102.70767837, 104.03272803, 105.3577777 ,\n        106.68282736, 108.00787702, 109.33292669, 110.65797635,\n        111.98302601, 113.30807567, 114.63312534, 115.958175  ,\n        117.28322466, 118.60827432, 119.93332399, 121.25837365,\n        122.58342331, 123.90847297, 125.23352264, 126.5585723 ,\n        127.88362196]),\n <BarContainer object of 100 artists>)"
     },
     "execution_count": 8,
     "metadata": {},
     "output_type": "execute_result"
    },
    {
     "data": {
      "text/plain": "<Figure size 432x288 with 1 Axes>",
      "image/png": "[encoded data removed]"
     },
     "metadata": {
      "needs_background": "light"
     },
     "output_type": "display_data"
    }
   ],
   "source": [
    "\n",
    "plt.hist(s,bins=100)"
   ],
   "metadata": {
    "collapsed": false,
    "pycharm": {
     "name": "#%%\n"
    }
   }
  },
  {
   "cell_type": "code",
   "execution_count": 46,
   "outputs": [
    {
     "data": {
      "text/plain": "-0.001855806293547073"
     },
     "execution_count": 46,
     "metadata": {},
     "output_type": "execute_result"
    }
   ],
   "source": [
    "np.mean(s_t)"
   ],
   "metadata": {
    "collapsed": false,
    "pycharm": {
     "name": "#%%\n"
    }
   }
  },
  {
   "cell_type": "code",
   "execution_count": null,
   "outputs": [],
   "source": [],
   "metadata": {
    "collapsed": false,
    "pycharm": {
     "name": "#%%\n"
    }
   }
  }
 ],
 "metadata": {
  "kernelspec": {
   "display_name": "Python 3",
   "language": "python",
   "name": "python3"
  },
  "language_info": {
   "codemirror_mode": {
    "name": "ipython",
    "version": 2
   },
   "file_extension": ".py",
   "mimetype": "text/x-python",
   "name": "python",
   "nbconvert_exporter": "python",
   "pygments_lexer": "ipython2",
   "version": "2.7.6"
  }
 },
 "nbformat": 4,
 "nbformat_minor": 0
}