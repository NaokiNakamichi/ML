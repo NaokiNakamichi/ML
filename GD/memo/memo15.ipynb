{
 "cells": [
  {
   "cell_type": "code",
   "execution_count": 1,
   "metadata": {
    "collapsed": true
   },
   "outputs": [],
   "source": [
    "import glob\n",
    "import pandas as pd"
   ]
  },
  {
   "cell_type": "code",
   "execution_count": 2,
   "outputs": [],
   "source": [
    "\n",
    "files = glob.glob(\"../exp/simulation/remote_exp/remote_save_result/Rosenbrock_2d_total10:09:12:11:42/*\")\n",
    "for file in files:\n",
    "    df = pd.read_csv(file)"
   ],
   "metadata": {
    "collapsed": false,
    "pycharm": {
     "name": "#%%\n"
    }
   }
  },
  {
   "cell_type": "code",
   "execution_count": 3,
   "outputs": [
    {
     "data": {
      "text/plain": "         1         2         4        5        10        20\n0 -3.93475 -3.974885 -0.715053 -4.32753 -3.465912 -1.758212",
      "text/html": "<div>\n<style scoped>\n    .dataframe tbody tr th:only-of-type {\n        vertical-align: middle;\n    }\n\n    .dataframe tbody tr th {\n        vertical-align: top;\n    }\n\n    .dataframe thead th {\n        text-align: right;\n    }\n</style>\n<table border=\"1\" class=\"dataframe\">\n  <thead>\n    <tr style=\"text-align: right;\">\n      <th></th>\n      <th>1</th>\n      <th>2</th>\n      <th>4</th>\n      <th>5</th>\n      <th>10</th>\n      <th>20</th>\n    </tr>\n  </thead>\n  <tbody>\n    <tr>\n      <th>0</th>\n      <td>-3.93475</td>\n      <td>-3.974885</td>\n      <td>-0.715053</td>\n      <td>-4.32753</td>\n      <td>-3.465912</td>\n      <td>-1.758212</td>\n    </tr>\n  </tbody>\n</table>\n</div>"
     },
     "execution_count": 3,
     "metadata": {},
     "output_type": "execute_result"
    }
   ],
   "source": [
    "df"
   ],
   "metadata": {
    "collapsed": false,
    "pycharm": {
     "name": "#%%\n"
    }
   }
  },
  {
   "cell_type": "code",
   "execution_count": 4,
   "outputs": [
    {
     "name": "stderr",
     "output_type": "stream",
     "text": [
      "  0%|          | 0/3 [00:00<?, ?it/s]\n",
      "  0%|          | 0/3 [00:00<?, ?it/s]\u001B[A\n",
      " 33%|███▎      | 1/3 [00:06<00:12,  6.34s/it]\u001B[A\n",
      " 67%|██████▋   | 2/3 [00:15<00:07,  7.85s/it]\u001B[A\n",
      "100%|██████████| 3/3 [00:22<00:00,  7.46s/it]\u001B[A\n",
      " 33%|███▎      | 1/3 [00:22<00:44, 22.37s/it]\n",
      "  0%|          | 0/3 [00:00<?, ?it/s]\u001B[A\n",
      " 33%|███▎      | 1/3 [00:06<00:12,  6.27s/it]\u001B[A\n",
      " 67%|██████▋   | 2/3 [00:18<00:09,  9.52s/it]\u001B[A\n",
      "100%|██████████| 3/3 [00:24<00:00,  8.22s/it]\u001B[A\n",
      " 67%|██████▋   | 2/3 [00:47<00:23, 23.72s/it]\n",
      "  0%|          | 0/3 [00:00<?, ?it/s]\u001B[A\n",
      " 33%|███▎      | 1/3 [00:07<00:14,  7.18s/it]\u001B[A\n",
      " 67%|██████▋   | 2/3 [00:13<00:06,  6.86s/it]\u001B[A\n",
      "100%|██████████| 3/3 [00:22<00:00,  7.65s/it]\u001B[A\n",
      "100%|██████████| 3/3 [01:10<00:00, 23.34s/it]\n"
     ]
    }
   ],
   "source": [
    "import os, sys\n",
    "\n",
    "import numpy as np\n",
    "\n",
    "from ML2_lib import loss\n",
    "from ML2_lib import RV_SGDAve\n",
    "\n",
    "import pandas as pd\n",
    "import datetime\n",
    "from tqdm import tqdm\n",
    "args = sys.argv\n",
    "d = 2\n",
    "trial_num = 2\n",
    "lr = 0.001\n",
    "\n",
    "c = 1\n",
    "\n",
    "n = 100\n",
    "k_list = [0, 1, 3, 4, 9, 19]\n",
    "# ノイズの種類（勾配）\n",
    "noise_type_list = [\"lognormal\", \"normal\", \"student_t\"]\n",
    "\n",
    "E_var = 1.75\n",
    "# ノイズの分散（勾配）\n",
    "def noise_var(noise_type):\n",
    "    if noise_type == \"lognormal\":\n",
    "        return [1.2,1.75,1.9]\n",
    "    elif noise_type == \"normal\":\n",
    "        return [1.5,1.9,2.2]\n",
    "    elif noise_type == \"student_t\":\n",
    "        return [1.5,3,5]\n",
    "    else:\n",
    "        raise ValueError(\"lognormalかnormalかsutdent_tで\")\n",
    "\n",
    "\n",
    "# 検証時に加える関数値にノイズの種類\n",
    "noise_type_f = \"lognormal\"\n",
    "f_E_var = 1.75\n",
    "\n",
    "# 初期値\n",
    "w_init_list_0 = [-10, 0, 10]\n",
    "w_init_list_1 = [-10, 0, 10]\n",
    "\n",
    "k_string = [f\"{i + 1}\" for i in k_list]\n",
    "\n",
    "now = datetime.datetime.now()\n",
    "\n",
    "\n",
    "for noise_type in tqdm(noise_type_list):\n",
    "    noise_var_list = noise_var(noise_type)\n",
    "    for E_var in noise_var_list:\n",
    "        for w_init_0 in w_init_list_0:\n",
    "            for w_init_1 in w_init_list_1:\n",
    "                son = loss.RosenBrock(d=d, noise_type=noise_type, E_var=E_var, f_E_var=f_E_var, noise_type_f=noise_type_f)\n",
    "                RV = RV_SGDAve.RVSGDByW(model_opt=son, c=c, n=n, lr=lr)\n",
    "                w_init = np.array([w_init_0, w_init_1])\n",
    "                _, result = RV.many_trails(trial_num=trial_num, max_k=k_list[-1] + 1, w_init=w_init)\n",
    "                title = f\"RVSGD Rosenbrock trial = {trial_num} noise = {noise_type} D = {d}_sample_num{n} noise var = {E_var}　w_init = {w_init} f_noise{noise_type_f} f_noise_E{f_E_var}\"\n",
    "                df = pd.DataFrame(result[:, k_list], columns=k_string)\n"
   ],
   "metadata": {
    "collapsed": false,
    "pycharm": {
     "name": "#%%\n"
    }
   }
  },
  {
   "cell_type": "code",
   "execution_count": 5,
   "outputs": [
    {
     "data": {
      "text/plain": "               1              2              4              5             10  \\\n0  106450.007616  225323.185815  396943.287135  441920.269514  600091.403483   \n1  106447.913778  225326.017718  396944.036690  441921.153495  600091.261678   \n\n              20  \n0  746977.353001  \n1  746976.248069  ",
      "text/html": "<div>\n<style scoped>\n    .dataframe tbody tr th:only-of-type {\n        vertical-align: middle;\n    }\n\n    .dataframe tbody tr th {\n        vertical-align: top;\n    }\n\n    .dataframe thead th {\n        text-align: right;\n    }\n</style>\n<table border=\"1\" class=\"dataframe\">\n  <thead>\n    <tr style=\"text-align: right;\">\n      <th></th>\n      <th>1</th>\n      <th>2</th>\n      <th>4</th>\n      <th>5</th>\n      <th>10</th>\n      <th>20</th>\n    </tr>\n  </thead>\n  <tbody>\n    <tr>\n      <th>0</th>\n      <td>106450.007616</td>\n      <td>225323.185815</td>\n      <td>396943.287135</td>\n      <td>441920.269514</td>\n      <td>600091.403483</td>\n      <td>746977.353001</td>\n    </tr>\n    <tr>\n      <th>1</th>\n      <td>106447.913778</td>\n      <td>225326.017718</td>\n      <td>396944.036690</td>\n      <td>441921.153495</td>\n      <td>600091.261678</td>\n      <td>746976.248069</td>\n    </tr>\n  </tbody>\n</table>\n</div>"
     },
     "execution_count": 5,
     "metadata": {},
     "output_type": "execute_result"
    }
   ],
   "source": [
    "\n",
    "df"
   ],
   "metadata": {
    "collapsed": false,
    "pycharm": {
     "name": "#%%\n"
    }
   }
  },
  {
   "cell_type": "code",
   "execution_count": 5,
   "outputs": [],
   "source": [],
   "metadata": {
    "collapsed": false,
    "pycharm": {
     "name": "#%%\n"
    }
   }
  }
 ],
 "metadata": {
  "kernelspec": {
   "display_name": "Python 3",
   "language": "python",
   "name": "python3"
  },
  "language_info": {
   "codemirror_mode": {
    "name": "ipython",
    "version": 2
   },
   "file_extension": ".py",
   "mimetype": "text/x-python",
   "name": "python",
   "nbconvert_exporter": "python",
   "pygments_lexer": "ipython2",
   "version": "2.7.6"
  }
 },
 "nbformat": 4,
 "nbformat_minor": 0
}