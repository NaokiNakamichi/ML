{
 "cells": [
  {
   "cell_type": "code",
   "execution_count": 1,
   "metadata": {},
   "outputs": [],
   "source": [
    "import numpy as np\n",
    "import random\n",
    "import multiprocessing as mproc\n",
    "import matplotlib.pyplot as plt\n",
    "import tqdm\n",
    "from tqdm.notebook import tqdm as tqdm\n",
    "import matplotlib.colors as colors\n",
    "from matplotlib.cm import ScalarMappable\n",
    "\n",
    "import model_opt\n",
    "import algo_GD\n",
    "import helper"
   ]
  },
  {
   "cell_type": "code",
   "execution_count": 2,
   "metadata": {},
   "outputs": [],
   "source": [
    "w_init = np.array([3,3])\n",
    "_t_max = 2\n",
    "f = model_opt.RosenBrock()"
   ]
  },
  {
   "cell_type": "code",
   "execution_count": 3,
   "metadata": {},
   "outputs": [
    {
     "data": {
      "text/plain": "1722.8777592855827"
     },
     "execution_count": 3,
     "metadata": {},
     "output_type": "execute_result"
    }
   ],
   "source": [
    "# b <= x_1 <= a , b <= x_2 <= a において一様にランダムな点をn回とり、勾配ノルムの平均を測定\n",
    "helper.grad_norm(model=f,a=3,b=-3,n=10000)"
   ]
  },
  {
   "cell_type": "code",
   "execution_count": 3,
   "metadata": {},
   "outputs": [],
   "source": []
  },
  {
   "cell_type": "code",
   "execution_count": 4,
   "metadata": {},
   "outputs": [],
   "source": [
    "x = np.arange(10)\n",
    "noise = helper.gauss(x)\n",
    "k = helper.iqr(noise)"
   ]
  },
  {
   "cell_type": "code",
   "execution_count": 5,
   "metadata": {},
   "outputs": [
    {
     "data": {
      "text/plain": "array([-1.11322397e+00, -1.30368473e+01, -7.50764655e-03,  1.32018066e+00,\n       -1.72965346e+00,  7.56398636e-02, -1.29607517e+00, -7.69734975e-01,\n        3.84933881e-01,  8.87777199e-01])"
     },
     "execution_count": 5,
     "metadata": {},
     "output_type": "execute_result"
    }
   ],
   "source": [
    "helper.student_t(x,1)"
   ]
  },
  {
   "cell_type": "code",
   "execution_count": 15,
   "metadata": {},
   "outputs": [
    {
     "ename": "AttributeError",
     "evalue": "module 'helper' has no attribute 'student_t'",
     "output_type": "error",
     "traceback": [
      "\u001B[0;31m---------------------------------------------------------------------------\u001B[0m",
      "\u001B[0;31mAttributeError\u001B[0m                            Traceback (most recent call last)",
      "\u001B[0;32m<ipython-input-15-ca03c2c3ec2f>\u001B[0m in \u001B[0;36m<module>\u001B[0;34m\u001B[0m\n\u001B[1;32m      2\u001B[0m \u001B[0;32mfor\u001B[0m \u001B[0mi\u001B[0m \u001B[0;32min\u001B[0m \u001B[0mrange\u001B[0m\u001B[0;34m(\u001B[0m\u001B[0;36m1000\u001B[0m\u001B[0;34m)\u001B[0m\u001B[0;34m:\u001B[0m\u001B[0;34m\u001B[0m\u001B[0;34m\u001B[0m\u001B[0m\n\u001B[1;32m      3\u001B[0m     \u001B[0mx\u001B[0m \u001B[0;34m=\u001B[0m \u001B[0mnp\u001B[0m\u001B[0;34m.\u001B[0m\u001B[0marange\u001B[0m\u001B[0;34m(\u001B[0m\u001B[0;36m1000\u001B[0m\u001B[0;34m)\u001B[0m\u001B[0;34m\u001B[0m\u001B[0;34m\u001B[0m\u001B[0m\n\u001B[0;32m----> 4\u001B[0;31m     \u001B[0mnoise\u001B[0m \u001B[0;34m=\u001B[0m \u001B[0mhelper\u001B[0m\u001B[0;34m.\u001B[0m\u001B[0mstudent_t\u001B[0m\u001B[0;34m(\u001B[0m\u001B[0mx\u001B[0m\u001B[0;34m,\u001B[0m\u001B[0;36m10\u001B[0m\u001B[0;34m)\u001B[0m\u001B[0;34m\u001B[0m\u001B[0;34m\u001B[0m\u001B[0m\n\u001B[0m\u001B[1;32m      5\u001B[0m     \u001B[0mk\u001B[0m \u001B[0;34m=\u001B[0m \u001B[0mhelper\u001B[0m\u001B[0;34m.\u001B[0m\u001B[0miqr\u001B[0m\u001B[0;34m(\u001B[0m\u001B[0mnoise\u001B[0m\u001B[0;34m)\u001B[0m\u001B[0;34m\u001B[0m\u001B[0;34m\u001B[0m\u001B[0m\n\u001B[1;32m      6\u001B[0m     \u001B[0miqr_store\u001B[0m\u001B[0;34m.\u001B[0m\u001B[0mappend\u001B[0m\u001B[0;34m(\u001B[0m\u001B[0mk\u001B[0m\u001B[0;34m)\u001B[0m\u001B[0;34m\u001B[0m\u001B[0;34m\u001B[0m\u001B[0m\n",
      "\u001B[0;31mAttributeError\u001B[0m: module 'helper' has no attribute 'student_t'"
     ]
    }
   ],
   "source": [
    "iqr_store = []\n",
    "for i in range(1000):\n",
    "    x = np.arange(1000)\n",
    "    noise = helper.student_t(x,10)\n",
    "    k = helper.iqr(noise)\n",
    "    iqr_store.append(k)"
   ]
  },
  {
   "cell_type": "code",
   "execution_count": 7,
   "metadata": {},
   "outputs": [
    {
     "data": {
      "text/plain": [
       "(array([  5.,  13.,  62., 125., 213., 222., 175., 120.,  46.,  19.]),\n",
       " array([1.23750541, 1.26748713, 1.29746885, 1.32745056, 1.35743228,\n",
       "        1.387414  , 1.41739572, 1.44737744, 1.47735916, 1.50734088,\n",
       "        1.53732259]),\n",
       " <a list of 10 Patch objects>)"
      ]
     },
     "execution_count": 7,
     "metadata": {},
     "output_type": "execute_result"
    },
    {
     "data": {
      "image/png": "[encoded data removed]",
      "text/plain": [
       "<Figure size 432x288 with 1 Axes>"
      ]
     },
     "metadata": {
      "needs_background": "light"
     },
     "output_type": "display_data"
    }
   ],
   "source": [
    "plt.hist(iqr_store)"
   ]
  },
  {
   "cell_type": "code",
   "execution_count": 6,
   "metadata": {},
   "outputs": [
    {
     "ename": "NameError",
     "evalue": "name 'iqr_store' is not defined",
     "output_type": "error",
     "traceback": [
      "\u001B[0;31m---------------------------------------------------------------------------\u001B[0m",
      "\u001B[0;31mNameError\u001B[0m                                 Traceback (most recent call last)",
      "\u001B[0;32m<ipython-input-6-780be5e7a507>\u001B[0m in \u001B[0;36m<module>\u001B[0;34m\u001B[0m\n\u001B[0;32m----> 1\u001B[0;31m \u001B[0mnp\u001B[0m\u001B[0;34m.\u001B[0m\u001B[0mmean\u001B[0m\u001B[0;34m(\u001B[0m\u001B[0miqr_store\u001B[0m\u001B[0;34m)\u001B[0m \u001B[0;34m/\u001B[0m \u001B[0;36m1.349\u001B[0m\u001B[0;34m\u001B[0m\u001B[0;34m\u001B[0m\u001B[0m\n\u001B[0m\u001B[1;32m      2\u001B[0m \u001B[0;34m\u001B[0m\u001B[0m\n",
      "\u001B[0;31mNameError\u001B[0m: name 'iqr_store' is not defined"
     ]
    }
   ],
   "source": [
    "np.mean(iqr_store) / 1.349"
   ]
  },
  {
   "cell_type": "code",
   "execution_count": 7,
   "metadata": {},
   "outputs": [
    {
     "data": {
      "text/plain": "(array([102., 153., 142., 117.,  89.,  70.,  49.,  38.,  26.,  26.,  29.,\n         23.,  12.,  11.,  14.,   8.,   9.,   8.,   6.,   4.,   7.,   5.,\n          6.,   3.,   4.,   6.,   3.,   1.,   0.,   1.,   2.,   2.,   0.,\n          2.,   1.,   3.,   3.,   1.,   1.,   2.,   1.,   0.,   0.,   1.,\n          1.,   0.,   0.,   0.,   0.,   2.,   1.,   1.,   1.,   0.,   0.,\n          0.,   0.,   0.,   0.,   0.,   1.,   0.,   0.,   0.,   0.,   0.,\n          0.,   0.,   0.,   0.,   0.,   0.,   0.,   0.,   0.,   0.,   0.,\n          0.,   0.,   0.,   0.,   0.,   0.,   0.,   1.,   0.,   0.,   0.,\n          0.,   0.,   0.,   0.,   0.,   0.,   0.,   0.,   0.,   0.,   0.,\n          1.]),\n array([ 0.05919319,  0.3065564 ,  0.5539196 ,  0.8012828 ,  1.04864601,\n         1.29600921,  1.54337241,  1.79073561,  2.03809882,  2.28546202,\n         2.53282522,  2.78018843,  3.02755163,  3.27491483,  3.52227803,\n         3.76964124,  4.01700444,  4.26436764,  4.51173084,  4.75909405,\n         5.00645725,  5.25382045,  5.50118366,  5.74854686,  5.99591006,\n         6.24327326,  6.49063647,  6.73799967,  6.98536287,  7.23272608,\n         7.48008928,  7.72745248,  7.97481568,  8.22217889,  8.46954209,\n         8.71690529,  8.9642685 ,  9.2116317 ,  9.4589949 ,  9.7063581 ,\n         9.95372131, 10.20108451, 10.44844771, 10.69581091, 10.94317412,\n        11.19053732, 11.43790052, 11.68526373, 11.93262693, 12.17999013,\n        12.42735333, 12.67471654, 12.92207974, 13.16944294, 13.41680615,\n        13.66416935, 13.91153255, 14.15889575, 14.40625896, 14.65362216,\n        14.90098536, 15.14834856, 15.39571177, 15.64307497, 15.89043817,\n        16.13780138, 16.38516458, 16.63252778, 16.87989098, 17.12725419,\n        17.37461739, 17.62198059, 17.8693438 , 18.116707  , 18.3640702 ,\n        18.6114334 , 18.85879661, 19.10615981, 19.35352301, 19.60088621,\n        19.84824942, 20.09561262, 20.34297582, 20.59033903, 20.83770223,\n        21.08506543, 21.33242863, 21.57979184, 21.82715504, 22.07451824,\n        22.32188145, 22.56924465, 22.81660785, 23.06397105, 23.31133426,\n        23.55869746, 23.80606066, 24.05342386, 24.30078707, 24.54815027,\n        24.79551347]),\n <a list of 100 Patch objects>)"
     },
     "execution_count": 7,
     "metadata": {},
     "output_type": "execute_result"
    },
    {
     "data": {
      "text/plain": "<Figure size 432x288 with 1 Axes>",
      "image/png": "[encoded data removed]"
     },
     "metadata": {
      "needs_background": "light"
     },
     "output_type": "display_data"
    }
   ],
   "source": [
    "plt.hist(helper.log_normal(mean=0,sigma=1,w=np.arange(1000)),bins=100)"
   ]
  },
  {
   "cell_type": "code",
   "execution_count": 8,
   "metadata": {
    "pycharm": {
     "name": "#%%\n"
    }
   },
   "outputs": [
    {
     "data": {
      "text/plain": "(array([1.000e+00, 1.000e+00, 0.000e+00, 0.000e+00, 0.000e+00, 2.000e+00,\n        3.000e+00, 4.000e+00, 9.000e+00, 8.000e+00, 1.800e+01, 1.800e+01,\n        1.800e+01, 3.200e+01, 3.700e+01, 5.800e+01, 6.800e+01, 8.000e+01,\n        1.180e+02, 1.490e+02, 1.740e+02, 2.160e+02, 2.820e+02, 3.340e+02,\n        4.630e+02, 4.770e+02, 6.240e+02, 7.200e+02, 8.400e+02, 9.960e+02,\n        1.158e+03, 1.317e+03, 1.478e+03, 1.592e+03, 1.881e+03, 2.027e+03,\n        2.233e+03, 2.443e+03, 2.719e+03, 2.855e+03, 3.031e+03, 3.179e+03,\n        3.290e+03, 3.533e+03, 3.423e+03, 3.606e+03, 3.689e+03, 3.717e+03,\n        3.705e+03, 3.681e+03, 3.519e+03, 3.369e+03, 3.195e+03, 3.049e+03,\n        2.891e+03, 2.641e+03, 2.558e+03, 2.297e+03, 2.178e+03, 1.890e+03,\n        1.809e+03, 1.517e+03, 1.414e+03, 1.231e+03, 1.046e+03, 9.240e+02,\n        7.600e+02, 6.780e+02, 5.120e+02, 4.920e+02, 3.430e+02, 2.710e+02,\n        2.600e+02, 1.910e+02, 1.650e+02, 1.250e+02, 7.900e+01, 4.600e+01,\n        6.400e+01, 4.300e+01, 2.900e+01, 2.700e+01, 1.800e+01, 1.600e+01,\n        1.200e+01, 9.000e+00, 9.000e+00, 2.000e+00, 4.000e+00, 2.000e+00,\n        0.000e+00, 2.000e+00, 1.000e+00, 1.000e+00, 1.000e+00, 1.000e+00,\n        0.000e+00, 1.000e+00, 0.000e+00, 1.000e+00]),\n array([-4.34522781, -4.253178  , -4.16112818, -4.06907837, -3.97702856,\n        -3.88497874, -3.79292893, -3.70087911, -3.6088293 , -3.51677948,\n        -3.42472967, -3.33267986, -3.24063004, -3.14858023, -3.05653041,\n        -2.9644806 , -2.87243078, -2.78038097, -2.68833115, -2.59628134,\n        -2.50423153, -2.41218171, -2.3201319 , -2.22808208, -2.13603227,\n        -2.04398245, -1.95193264, -1.85988283, -1.76783301, -1.6757832 ,\n        -1.58373338, -1.49168357, -1.39963375, -1.30758394, -1.21553413,\n        -1.12348431, -1.0314345 , -0.93938468, -0.84733487, -0.75528505,\n        -0.66323524, -0.57118542, -0.47913561, -0.3870858 , -0.29503598,\n        -0.20298617, -0.11093635, -0.01888654,  0.07316328,  0.16521309,\n         0.2572629 ,  0.34931272,  0.44136253,  0.53341235,  0.62546216,\n         0.71751198,  0.80956179,  0.90161161,  0.99366142,  1.08571123,\n         1.17776105,  1.26981086,  1.36186068,  1.45391049,  1.54596031,\n         1.63801012,  1.73005993,  1.82210975,  1.91415956,  2.00620938,\n         2.09825919,  2.19030901,  2.28235882,  2.37440864,  2.46645845,\n         2.55850826,  2.65055808,  2.74260789,  2.83465771,  2.92670752,\n         3.01875734,  3.11080715,  3.20285696,  3.29490678,  3.38695659,\n         3.47900641,  3.57105622,  3.66310604,  3.75515585,  3.84720567,\n         3.93925548,  4.03130529,  4.12335511,  4.21540492,  4.30745474,\n         4.39950455,  4.49155437,  4.58360418,  4.67565399,  4.76770381,\n         4.85975362]),\n <a list of 100 Patch objects>)"
     },
     "execution_count": 8,
     "metadata": {},
     "output_type": "execute_result"
    },
    {
     "data": {
      "text/plain": "<Figure size 432x288 with 1 Axes>",
      "image/png": "[encoded data removed]"
     },
     "metadata": {
      "needs_background": "light"
     },
     "output_type": "display_data"
    }
   ],
   "source": [
    "plt.hist(helper.student_t(w=np.arange(100000),v=10000),bins=100)\n"
   ]
  },
  {
   "cell_type": "code",
   "execution_count": 14,
   "metadata": {},
   "outputs": [
    {
     "data": {
      "image/png": "[encoded data removed]",
      "text/plain": [
       "<Figure size 432x288 with 1 Axes>"
      ]
     },
     "metadata": {
      "needs_background": "light"
     },
     "output_type": "display_data"
    }
   ],
   "source": [
    "k = helper.lognormal(mean=0,sigma=1,w=np.arange(1000))\n",
    "plt.hist(k - k.mean(),bins=1000)\n",
    "plt.show()"
   ]
  },
  {
   "cell_type": "code",
   "execution_count": null,
   "metadata": {},
   "outputs": [],
   "source": [
    "k = helper.lognormal(mean=0.1,sigma=1,w=np.arange(1000))\n",
    "plt.hist(k - k.mean(),bins=1000)\n",
    "plt.show()"
   ]
  },
  {
   "cell_type": "code",
   "execution_count": null,
   "metadata": {},
   "outputs": [],
   "source": [
    "helper.iqr(k)"
   ]
  },
  {
   "cell_type": "code",
   "execution_count": 9,
   "metadata": {},
   "outputs": [],
   "source": [
    "w_init = np.array([3,3])\n",
    "_t_max = 3000\n",
    "f = model_opt.RosenBrock()\n",
    "\n",
    "\n",
    "w_star = f.w_star\n",
    "\n",
    "last_w_store = []\n",
    "iqr_store = []\n",
    "for i in range(10):\n",
    "    var = np.random.randint(1,300,1)[0]\n",
    "    noise = helper.gauss\n",
    "    f = model_opt.RosenBrock(noise=noise,var=var)\n",
    "    algo = algo_GD.SGD(w_init=w_init,t_max=_t_max,a=0.00078)\n",
    "    for i in algo:\n",
    "        algo.update(model=f)\n",
    "        \n",
    "    iqr_store.append(helper.iqr(algo.noise_store))\n",
    "    last_w_store.append(algo.w)\n",
    "        \n",
    "\n",
    "    "
   ]
  },
  {
   "cell_type": "code",
   "execution_count": 10,
   "metadata": {},
   "outputs": [
    {
     "data": {
      "text/plain": "[array([-1.07535462,  1.08195926]),\n array([-0.06728406,  0.21109443]),\n array([-1.04351299,  1.26862383]),\n array([0.10434869, 0.11291966]),\n array([-0.12512311,  0.43234487]),\n array([0.556907  , 0.80694259]),\n array([ 0.23268692, -0.03220321]),\n array([-0.99132509,  0.29783177]),\n array([ 0.44541436, -0.01125352]),\n array([0.62022937, 0.35269991])]"
     },
     "execution_count": 10,
     "metadata": {},
     "output_type": "execute_result"
    }
   ],
   "source": [
    "last_w_store"
   ]
  },
  {
   "cell_type": "code",
   "execution_count": null,
   "metadata": {},
   "outputs": [],
   "source": [
    "\n",
    "w_init = np.array([3,3])\n",
    "_t_max = 1000\n",
    "algo = algo_GD.SGD(w_init=w_init,t_max=_t_max,a=0.00078)\n",
    "w_star = f.w_star\n",
    "f = model_opt.RosenBrock(noise=noise,var=100)\n",
    "for i in tqdm(algo):\n",
    "    algo.update(model=f)\n",
    "    \n",
    "w_store = np.array(algo.wstore)\n",
    "grid_x_min = min(w_store.T[0].min(),w_star[0])-1\n",
    "grid_x_max = max(w_store.T[0].max(),w_star[0])+1\n",
    "grid_y_min = min(w_store.T[1].min(),w_star[1])-1\n",
    "grid_y_max = max(w_store.T[1].max(),w_star[1])+1\n",
    "xvals = np.arange(grid_x_min,grid_x_max, 0.1)\n",
    "yvals = np.arange(grid_y_min,grid_y_max, 0.1)\n",
    "X, Y = np.meshgrid(xvals, yvals)\n",
    "Z = f.f_opt([X,Y])\n",
    "\n",
    "fig, axes = plt.subplots(1,1, figsize=(6,6))\n",
    "axes.pcolor(X, Y, Z,cmap=plt.cm.rainbow)\n",
    "# wの軌跡\n",
    "axes.plot(w_store.T[0],w_store.T[1],c = \"k\",alpha=1,linewidth = 0.5)\n",
    "c = np.linspace(0, _t_max, len(w_store))\n",
    "axes.scatter(w_store.T[0],w_store.T[1],c=c,cmap = plt.cm.hot ,linewidths=0.01,alpha=1,s=10)\n",
    "axes.plot(w_store.T[0],w_store.T[1],c=\"k\",alpha=0.2,linewidth=1)\n",
    "# 始点(黄色)、終点（緑）、真値（赤）\n",
    "axes.plot(*w_store[0], 'ys', markersize=5)\n",
    "axes.plot(*w_store[-1], 'gs', markersize=5)\n",
    "axes.plot(*w_star, 'r*', markersize=8)\n",
    "\n",
    "#カラーバーの設定\n",
    "axpos = axes.get_position()\n",
    "cbar_ax = fig.add_axes([0.9, axpos.y0, 0.03, axpos.height])\n",
    "norm = colors.Normalize(vmin=Z.min(),vmax=Z.max())\n",
    "mappable = ScalarMappable(cmap=plt.cm.rainbow,norm=norm)\n",
    "mappable._A = []\n",
    "fig.colorbar(mappable, cax=cbar_ax)\n",
    "\n",
    "#余白の調整\n",
    "plt.subplots_adjust(right=0.85)\n",
    "plt.subplots_adjust(wspace=0.1)\n",
    "\n",
    "plt.show()"
   ]
  },
  {
   "cell_type": "code",
   "execution_count": null,
   "metadata": {},
   "outputs": [],
   "source": [
    "#ノイズを記録したもの。そのIQRについて調べている。\n",
    "noise_norm = np.array(algo.noise_store).flatten()\n",
    "helper.iqr(noise_norm)"
   ]
  },
  {
   "cell_type": "code",
   "execution_count": null,
   "metadata": {},
   "outputs": [],
   "source": [
    "print(k)\n"
   ]
  },
  {
   "cell_type": "code",
   "execution_count": null,
   "metadata": {},
   "outputs": [],
   "source": []
  }
 ],
 "metadata": {
  "kernelspec": {
   "display_name": "Python 3",
   "language": "python",
   "name": "python3"
  },
  "language_info": {
   "codemirror_mode": {
    "name": "ipython",
    "version": 3
   },
   "file_extension": ".py",
   "mimetype": "text/x-python",
   "name": "python",
   "nbconvert_exporter": "python",
   "pygments_lexer": "ipython3",
   "version": "3.7.3"
  }
 },
 "nbformat": 4,
 "nbformat_minor": 4
}