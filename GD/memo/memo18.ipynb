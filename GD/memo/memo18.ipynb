{
 "cells": [
  {
   "cell_type": "code",
   "execution_count": 20,
   "metadata": {
    "collapsed": true
   },
   "outputs": [],
   "source": [
    "import matplotlib.pyplot as plt\n",
    "import pandas as pd\n",
    "import numpy as np\n",
    "\n",
    "from ML2_lib import models\n",
    "from ML2_lib import SGDByTorch\n",
    "import torch.nn.functional as F\n",
    "import torch\n",
    "from sklearn.preprocessing import LabelBinarizer\n"
   ]
  },
  {
   "cell_type": "code",
   "execution_count": 21,
   "outputs": [
    {
     "data": {
      "text/plain": "       0                  1       2            3   4                    5   \\\n0      39          State-gov   77516    Bachelors  13        Never-married   \n1      50   Self-emp-not-inc   83311    Bachelors  13   Married-civ-spouse   \n2      38            Private  215646      HS-grad   9             Divorced   \n3      53            Private  234721         11th   7   Married-civ-spouse   \n4      28            Private  338409    Bachelors  13   Married-civ-spouse   \n...    ..                ...     ...          ...  ..                  ...   \n32556  27            Private  257302   Assoc-acdm  12   Married-civ-spouse   \n32557  40            Private  154374      HS-grad   9   Married-civ-spouse   \n32558  58            Private  151910      HS-grad   9              Widowed   \n32559  22            Private  201490      HS-grad   9        Never-married   \n32560  52       Self-emp-inc  287927      HS-grad   9   Married-civ-spouse   \n\n                       6               7       8        9      10  11  12  \\\n0            Adm-clerical   Not-in-family   White     Male   2174   0  40   \n1         Exec-managerial         Husband   White     Male      0   0  13   \n2       Handlers-cleaners   Not-in-family   White     Male      0   0  40   \n3       Handlers-cleaners         Husband   Black     Male      0   0  40   \n4          Prof-specialty            Wife   Black   Female      0   0  40   \n...                   ...             ...     ...      ...    ...  ..  ..   \n32556        Tech-support            Wife   White   Female      0   0  38   \n32557   Machine-op-inspct         Husband   White     Male      0   0  40   \n32558        Adm-clerical       Unmarried   White   Female      0   0  40   \n32559        Adm-clerical       Own-child   White     Male      0   0  20   \n32560     Exec-managerial            Wife   White   Female  15024   0  40   \n\n                   13      14  \n0       United-States   <=50K  \n1       United-States   <=50K  \n2       United-States   <=50K  \n3       United-States   <=50K  \n4                Cuba   <=50K  \n...               ...     ...  \n32556   United-States   <=50K  \n32557   United-States    >50K  \n32558   United-States   <=50K  \n32559   United-States   <=50K  \n32560   United-States    >50K  \n\n[32561 rows x 15 columns]",
      "text/html": "<div>\n<style scoped>\n    .dataframe tbody tr th:only-of-type {\n        vertical-align: middle;\n    }\n\n    .dataframe tbody tr th {\n        vertical-align: top;\n    }\n\n    .dataframe thead th {\n        text-align: right;\n    }\n</style>\n<table border=\"1\" class=\"dataframe\">\n  <thead>\n    <tr style=\"text-align: right;\">\n      <th></th>\n      <th>0</th>\n      <th>1</th>\n      <th>2</th>\n      <th>3</th>\n      <th>4</th>\n      <th>5</th>\n      <th>6</th>\n      <th>7</th>\n      <th>8</th>\n      <th>9</th>\n      <th>10</th>\n      <th>11</th>\n      <th>12</th>\n      <th>13</th>\n      <th>14</th>\n    </tr>\n  </thead>\n  <tbody>\n    <tr>\n      <th>0</th>\n      <td>39</td>\n      <td>State-gov</td>\n      <td>77516</td>\n      <td>Bachelors</td>\n      <td>13</td>\n      <td>Never-married</td>\n      <td>Adm-clerical</td>\n      <td>Not-in-family</td>\n      <td>White</td>\n      <td>Male</td>\n      <td>2174</td>\n      <td>0</td>\n      <td>40</td>\n      <td>United-States</td>\n      <td>&lt;=50K</td>\n    </tr>\n    <tr>\n      <th>1</th>\n      <td>50</td>\n      <td>Self-emp-not-inc</td>\n      <td>83311</td>\n      <td>Bachelors</td>\n      <td>13</td>\n      <td>Married-civ-spouse</td>\n      <td>Exec-managerial</td>\n      <td>Husband</td>\n      <td>White</td>\n      <td>Male</td>\n      <td>0</td>\n      <td>0</td>\n      <td>13</td>\n      <td>United-States</td>\n      <td>&lt;=50K</td>\n    </tr>\n    <tr>\n      <th>2</th>\n      <td>38</td>\n      <td>Private</td>\n      <td>215646</td>\n      <td>HS-grad</td>\n      <td>9</td>\n      <td>Divorced</td>\n      <td>Handlers-cleaners</td>\n      <td>Not-in-family</td>\n      <td>White</td>\n      <td>Male</td>\n      <td>0</td>\n      <td>0</td>\n      <td>40</td>\n      <td>United-States</td>\n      <td>&lt;=50K</td>\n    </tr>\n    <tr>\n      <th>3</th>\n      <td>53</td>\n      <td>Private</td>\n      <td>234721</td>\n      <td>11th</td>\n      <td>7</td>\n      <td>Married-civ-spouse</td>\n      <td>Handlers-cleaners</td>\n      <td>Husband</td>\n      <td>Black</td>\n      <td>Male</td>\n      <td>0</td>\n      <td>0</td>\n      <td>40</td>\n      <td>United-States</td>\n      <td>&lt;=50K</td>\n    </tr>\n    <tr>\n      <th>4</th>\n      <td>28</td>\n      <td>Private</td>\n      <td>338409</td>\n      <td>Bachelors</td>\n      <td>13</td>\n      <td>Married-civ-spouse</td>\n      <td>Prof-specialty</td>\n      <td>Wife</td>\n      <td>Black</td>\n      <td>Female</td>\n      <td>0</td>\n      <td>0</td>\n      <td>40</td>\n      <td>Cuba</td>\n      <td>&lt;=50K</td>\n    </tr>\n    <tr>\n      <th>...</th>\n      <td>...</td>\n      <td>...</td>\n      <td>...</td>\n      <td>...</td>\n      <td>...</td>\n      <td>...</td>\n      <td>...</td>\n      <td>...</td>\n      <td>...</td>\n      <td>...</td>\n      <td>...</td>\n      <td>...</td>\n      <td>...</td>\n      <td>...</td>\n      <td>...</td>\n    </tr>\n    <tr>\n      <th>32556</th>\n      <td>27</td>\n      <td>Private</td>\n      <td>257302</td>\n      <td>Assoc-acdm</td>\n      <td>12</td>\n      <td>Married-civ-spouse</td>\n      <td>Tech-support</td>\n      <td>Wife</td>\n      <td>White</td>\n      <td>Female</td>\n      <td>0</td>\n      <td>0</td>\n      <td>38</td>\n      <td>United-States</td>\n      <td>&lt;=50K</td>\n    </tr>\n    <tr>\n      <th>32557</th>\n      <td>40</td>\n      <td>Private</td>\n      <td>154374</td>\n      <td>HS-grad</td>\n      <td>9</td>\n      <td>Married-civ-spouse</td>\n      <td>Machine-op-inspct</td>\n      <td>Husband</td>\n      <td>White</td>\n      <td>Male</td>\n      <td>0</td>\n      <td>0</td>\n      <td>40</td>\n      <td>United-States</td>\n      <td>&gt;50K</td>\n    </tr>\n    <tr>\n      <th>32558</th>\n      <td>58</td>\n      <td>Private</td>\n      <td>151910</td>\n      <td>HS-grad</td>\n      <td>9</td>\n      <td>Widowed</td>\n      <td>Adm-clerical</td>\n      <td>Unmarried</td>\n      <td>White</td>\n      <td>Female</td>\n      <td>0</td>\n      <td>0</td>\n      <td>40</td>\n      <td>United-States</td>\n      <td>&lt;=50K</td>\n    </tr>\n    <tr>\n      <th>32559</th>\n      <td>22</td>\n      <td>Private</td>\n      <td>201490</td>\n      <td>HS-grad</td>\n      <td>9</td>\n      <td>Never-married</td>\n      <td>Adm-clerical</td>\n      <td>Own-child</td>\n      <td>White</td>\n      <td>Male</td>\n      <td>0</td>\n      <td>0</td>\n      <td>20</td>\n      <td>United-States</td>\n      <td>&lt;=50K</td>\n    </tr>\n    <tr>\n      <th>32560</th>\n      <td>52</td>\n      <td>Self-emp-inc</td>\n      <td>287927</td>\n      <td>HS-grad</td>\n      <td>9</td>\n      <td>Married-civ-spouse</td>\n      <td>Exec-managerial</td>\n      <td>Wife</td>\n      <td>White</td>\n      <td>Female</td>\n      <td>15024</td>\n      <td>0</td>\n      <td>40</td>\n      <td>United-States</td>\n      <td>&gt;50K</td>\n    </tr>\n  </tbody>\n</table>\n<p>32561 rows × 15 columns</p>\n</div>"
     },
     "execution_count": 21,
     "metadata": {},
     "output_type": "execute_result"
    }
   ],
   "source": [
    "pd.read_csv(\"data/adult/adult_classification.csv\", header=None)"
   ],
   "metadata": {
    "collapsed": false,
    "pycharm": {
     "name": "#%%\n"
    }
   }
  },
  {
   "cell_type": "code",
   "execution_count": 22,
   "outputs": [],
   "source": [
    "def make_col_names():\n",
    "    col_names = []\n",
    "    continuous_dict = {}\n",
    "    for i, line in enumerate(open(\"data/adult/adult_classification.names\", \"r\"), 1):\n",
    "        # :TODO この96は何？\n",
    "        if i > 96:\n",
    "            line = line.rstrip()\n",
    "            name = line.split(\":\")[0]\n",
    "            col_names.append(name)\n",
    "            line = line.replace(\" \", \"\").replace(\".\", \"\")\n",
    "            continuous = line.split(\":\")[1] == \"continuous\"\n",
    "            continuous_dict[name] = continuous\n",
    "    col_names.append(\"label\")\n",
    "    continuous_dict[\"label\"] = False\n",
    "    return col_names, continuous_dict"
   ],
   "metadata": {
    "collapsed": false,
    "pycharm": {
     "name": "#%%\n"
    }
   }
  },
  {
   "cell_type": "code",
   "execution_count": 23,
   "outputs": [
    {
     "data": {
      "text/plain": "['age',\n 'workclass',\n 'fnlwgt',\n 'education',\n 'education-num',\n 'marital-status',\n 'occupation',\n 'relationship',\n 'race',\n 'sex',\n 'capital-gain',\n 'capital-loss',\n 'hours-per-week',\n 'native-country',\n 'label']"
     },
     "execution_count": 23,
     "metadata": {},
     "output_type": "execute_result"
    }
   ],
   "source": [
    "n_id = 0\n",
    "col_names, continuous_dicts = make_col_names()\n",
    "col_names"
   ],
   "metadata": {
    "collapsed": false,
    "pycharm": {
     "name": "#%%\n"
    }
   }
  },
  {
   "cell_type": "code",
   "execution_count": 24,
   "outputs": [],
   "source": [
    "def load_data(filename, col_names, n, skiprows=None):\n",
    "    df = pd.read_csv(filename, header=None, index_col=None, skiprows=skiprows)\n",
    "    # Display the number of records before delete missing valeus.\n",
    "    print(\"the number of {} records:{}\\n\".format(filename, len(df.index)))\n",
    "    df.columns = col_names\n",
    "\n",
    "    # Replace the missing value's character to np.nan.\n",
    "    df = df.applymap(lambda d: np.nan if d == \" ?\" else d)\n",
    "\n",
    "    # Unify the different written forms.\n",
    "    df = df.applymap(lambda d: \" <=50K\" if d == \" <=50K.\" else d)\n",
    "    df = df.applymap(lambda d: \" >50K\" if d == \" >50K.\" else d)\n",
    "\n",
    "    # Display the information about missing values and\n",
    "    print(\"missing value info:\\n{}\\n\".format(df.isnull().sum(axis=0)))\n",
    "    df = df.dropna(axis=0)\n",
    "\n",
    "    # the number of records after delete missing valeus.\n",
    "    print(\"the number of {} records after trimming:{}\\n\".format(filename, len(df.index)))\n",
    "    ids = list(np.arange(n, n + len(df.index)))\n",
    "    df[\"ID\"] = np.array(ids)\n",
    "    n = n + len(df.index)\n",
    "    return df, n\n",
    "\n"
   ],
   "metadata": {
    "collapsed": false,
    "pycharm": {
     "name": "#%%\n"
    }
   }
  },
  {
   "cell_type": "code",
   "execution_count": 25,
   "outputs": [
    {
     "name": "stdout",
     "output_type": "stream",
     "text": [
      "the number of data/adult/adult_classification.csv records:32561\n",
      "\n",
      "missing value info:\n",
      "age                  0\n",
      "workclass         1836\n",
      "fnlwgt               0\n",
      "education            0\n",
      "education-num        0\n",
      "marital-status       0\n",
      "occupation        1843\n",
      "relationship         0\n",
      "race                 0\n",
      "sex                  0\n",
      "capital-gain         0\n",
      "capital-loss         0\n",
      "hours-per-week       0\n",
      "native-country     583\n",
      "label                0\n",
      "dtype: int64\n",
      "\n",
      "the number of data/adult/adult_classification.csv records after trimming:30162\n",
      "\n",
      "the number of data/adult/adult_classification.test records:16281\n",
      "\n",
      "missing value info:\n",
      "age                 0\n",
      "workclass         963\n",
      "fnlwgt              0\n",
      "education           0\n",
      "education-num       0\n",
      "marital-status      0\n",
      "occupation        966\n",
      "relationship        0\n",
      "race                0\n",
      "sex                 0\n",
      "capital-gain        0\n",
      "capital-loss        0\n",
      "hours-per-week      0\n",
      "native-country    274\n",
      "label               0\n",
      "dtype: int64\n",
      "\n",
      "the number of data/adult/adult_classification.test records after trimming:15060\n",
      "\n"
     ]
    }
   ],
   "source": [
    "df_train, n_id_train = load_data(\"data/adult/adult_classification.csv\", col_names, n_id)\n",
    "df_test, n_id_test = load_data(\"data/adult/adult_classification.test\", col_names, n_id_train, skiprows=1)"
   ],
   "metadata": {
    "collapsed": false,
    "pycharm": {
     "name": "#%%\n"
    }
   }
  },
  {
   "cell_type": "code",
   "execution_count": 26,
   "outputs": [],
   "source": [
    "def get_not_continuous_columns(continuous_dict):\n",
    "    categorical_names = [k for k, v in continuous_dict.items() if not v]\n",
    "    return categorical_names"
   ],
   "metadata": {
    "collapsed": false,
    "pycharm": {
     "name": "#%%\n"
    }
   }
  },
  {
   "cell_type": "code",
   "execution_count": 27,
   "outputs": [],
   "source": [
    "def print_labelinfo(labelnames):\n",
    "    for i in range(len(labelnames)):\n",
    "        print(\"label{}:{}\".format(i, labelnames[i]))"
   ],
   "metadata": {
    "collapsed": false,
    "pycharm": {
     "name": "#%%\n"
    }
   }
  },
  {
   "cell_type": "code",
   "execution_count": 28,
   "outputs": [],
   "source": [
    "def convert_data(df_train, df_test, n_id_train, n_id_test, continuous_dicts):\n",
    "    categorical_names = get_not_continuous_columns(continuous_dicts)\n",
    "    df = pd.concat((df_train, df_test), axis=0)\n",
    "\n",
    "    # Get the dummy for the categorical data.\n",
    "    for name in categorical_names:\n",
    "        print(name)\n",
    "        if name == \"label\":\n",
    "            # ここではOneHotEncordingではなくLabelEncording\n",
    "            # F .nll_lossの関係で\n",
    "            lb = LabelBinarizer()\n",
    "            dummy_df = lb.fit_transform(df[name])\n",
    "            df[\"label\"] = dummy_df\n",
    "        else:\n",
    "            dummy_df = pd.get_dummies(df[name])\n",
    "            df = pd.concat((df, dummy_df), axis=1)\n",
    "            df = df.drop(name, axis=1)\n",
    "\n",
    "    # Convert the data type.\n",
    "    for name in df.columns:\n",
    "        df[name] = df[name].astype(float)\n",
    "\n",
    "    # Reguralize the data.\n",
    "    for name in df.columns:\n",
    "        if name == \"ID\":\n",
    "            df[name] = df[name]\n",
    "        else:\n",
    "            df[name] = (df[name] - df[name].min()) / (df[name].max() - df[name].min())\n",
    "\n",
    "    df_train = df[df[\"ID\"] < n_id_train].drop(\"ID\", axis=1)\n",
    "    df_test = df[df[\"ID\"] >= n_id_train].drop(\"ID\", axis=1)\n",
    "\n",
    "    y_train = df_train[\"label\"].values\n",
    "    y_test = df_test[\"label\"].values\n",
    "    X_train = df_train.drop(\"label\", axis=1).values\n",
    "    X_test = df_test.drop(\"label\", axis=1).values\n",
    "    return X_train, y_train, X_test, y_test"
   ],
   "metadata": {
    "collapsed": false,
    "pycharm": {
     "name": "#%%\n"
    }
   }
  },
  {
   "cell_type": "code",
   "execution_count": 29,
   "outputs": [
    {
     "name": "stdout",
     "output_type": "stream",
     "text": [
      "workclass\n",
      "education\n",
      "marital-status\n",
      "occupation\n",
      "relationship\n",
      "race\n",
      "sex\n",
      "native-country\n",
      "label\n",
      "X_train:(30162, 104) y_train:(30162,) X_test:(15060, 104) y_test:(15060,)\n"
     ]
    }
   ],
   "source": [
    "X_train, y_train, X_test, y_test = convert_data(df_train, df_test, n_id_train, n_id_test, continuous_dicts)\n",
    "print(\"X_train:{} y_train:{} X_test:{} y_test:{}\".format(X_train.shape, y_train.shape, X_test.shape, y_test.shape))"
   ],
   "metadata": {
    "collapsed": false,
    "pycharm": {
     "name": "#%%\n"
    }
   }
  },
  {
   "cell_type": "code",
   "execution_count": 30,
   "outputs": [],
   "source": [
    "w_dim = X_train.shape[1]\n",
    "class_num = int(max(y_train) + 1)\n",
    "unit_num = 5\n",
    "model = models.LinearClassification(w_num=w_dim,c_num=class_num)"
   ],
   "metadata": {
    "collapsed": false,
    "pycharm": {
     "name": "#%%\n"
    }
   }
  },
  {
   "cell_type": "code",
   "execution_count": 31,
   "outputs": [],
   "source": [
    "hoge = SGDByTorch.SGDTorchCheck(lr=0.1)"
   ],
   "metadata": {
    "collapsed": false,
    "pycharm": {
     "name": "#%%\n"
    }
   }
  },
  {
   "cell_type": "code",
   "execution_count": 32,
   "outputs": [
    {
     "name": "stdout",
     "output_type": "stream",
     "text": [
      "step : 0\n",
      "[[11044   316]\n",
      " [ 3667    33]]\n",
      "              precision    recall  f1-score   support\n",
      "\n",
      "           0       0.75      0.97      0.85     11360\n",
      "           1       0.09      0.01      0.02      3700\n",
      "\n",
      "    accuracy                           0.74     15060\n",
      "   macro avg       0.42      0.49      0.43     15060\n",
      "weighted avg       0.59      0.74      0.64     15060\n",
      "\n",
      "正解率 : 0.7355245683930943\n",
      "正解率 : 6.305810451507568\n",
      "step : 1000\n",
      "[[9674 1686]\n",
      " [1864 1836]]\n",
      "              precision    recall  f1-score   support\n",
      "\n",
      "           0       0.84      0.85      0.84     11360\n",
      "           1       0.52      0.50      0.51      3700\n",
      "\n",
      "    accuracy                           0.76     15060\n",
      "   macro avg       0.68      0.67      0.68     15060\n",
      "weighted avg       0.76      0.76      0.76     15060\n",
      "\n",
      "正解率 : 0.7642762284196547\n",
      "正解率 : 0.8463947772979736\n",
      "step : 2000\n",
      "[[10560   800]\n",
      " [ 2511  1189]]\n",
      "              precision    recall  f1-score   support\n",
      "\n",
      "           0       0.81      0.93      0.86     11360\n",
      "           1       0.60      0.32      0.42      3700\n",
      "\n",
      "    accuracy                           0.78     15060\n",
      "   macro avg       0.70      0.63      0.64     15060\n",
      "weighted avg       0.76      0.78      0.75     15060\n",
      "\n",
      "正解率 : 0.7801460823373174\n",
      "正解率 : 0.7875996828079224\n",
      "step : 3000\n",
      "[[9005 2355]\n",
      " [1120 2580]]\n",
      "              precision    recall  f1-score   support\n",
      "\n",
      "           0       0.89      0.79      0.84     11360\n",
      "           1       0.52      0.70      0.60      3700\n",
      "\n",
      "    accuracy                           0.77     15060\n",
      "   macro avg       0.71      0.74      0.72     15060\n",
      "weighted avg       0.80      0.77      0.78     15060\n",
      "\n",
      "正解率 : 0.7692563081009296\n",
      "正解率 : 0.5988178849220276\n",
      "step : 4000\n",
      "[[10223  1137]\n",
      " [ 1851  1849]]\n",
      "              precision    recall  f1-score   support\n",
      "\n",
      "           0       0.85      0.90      0.87     11360\n",
      "           1       0.62      0.50      0.55      3700\n",
      "\n",
      "    accuracy                           0.80     15060\n",
      "   macro avg       0.73      0.70      0.71     15060\n",
      "weighted avg       0.79      0.80      0.79     15060\n",
      "\n",
      "正解率 : 0.801593625498008\n",
      "正解率 : 0.5020789504051208\n",
      "step : 5000\n",
      "[[10374   986]\n",
      " [ 2015  1685]]\n",
      "              precision    recall  f1-score   support\n",
      "\n",
      "           0       0.84      0.91      0.87     11360\n",
      "           1       0.63      0.46      0.53      3700\n",
      "\n",
      "    accuracy                           0.80     15060\n",
      "   macro avg       0.73      0.68      0.70     15060\n",
      "weighted avg       0.79      0.80      0.79     15060\n",
      "\n",
      "正解率 : 0.800730411686587\n",
      "正解率 : 0.5013642907142639\n",
      "step : 6000\n",
      "[[10576   784]\n",
      " [ 2034  1666]]\n",
      "              precision    recall  f1-score   support\n",
      "\n",
      "           0       0.84      0.93      0.88     11360\n",
      "           1       0.68      0.45      0.54      3700\n",
      "\n",
      "    accuracy                           0.81     15060\n",
      "   macro avg       0.76      0.69      0.71     15060\n",
      "weighted avg       0.80      0.81      0.80     15060\n",
      "\n",
      "正解率 : 0.8128818061088977\n",
      "正解率 : 0.46240589022636414\n",
      "step : 7000\n",
      "[[10917   443]\n",
      " [ 2580  1120]]\n",
      "              precision    recall  f1-score   support\n",
      "\n",
      "           0       0.81      0.96      0.88     11360\n",
      "           1       0.72      0.30      0.43      3700\n",
      "\n",
      "    accuracy                           0.80     15060\n",
      "   macro avg       0.76      0.63      0.65     15060\n",
      "weighted avg       0.79      0.80      0.77     15060\n",
      "\n",
      "正解率 : 0.799269588313413\n",
      "正解率 : 0.46708035469055176\n",
      "step : 8000\n",
      "[[10256  1104]\n",
      " [ 1723  1977]]\n",
      "              precision    recall  f1-score   support\n",
      "\n",
      "           0       0.86      0.90      0.88     11360\n",
      "           1       0.64      0.53      0.58      3700\n",
      "\n",
      "    accuracy                           0.81     15060\n",
      "   macro avg       0.75      0.72      0.73     15060\n",
      "weighted avg       0.80      0.81      0.81     15060\n",
      "\n",
      "正解率 : 0.8122841965471448\n",
      "正解率 : 0.42093709111213684\n",
      "step : 9000\n",
      "[[9482 1878]\n",
      " [1129 2571]]\n",
      "              precision    recall  f1-score   support\n",
      "\n",
      "           0       0.89      0.83      0.86     11360\n",
      "           1       0.58      0.69      0.63      3700\n",
      "\n",
      "    accuracy                           0.80     15060\n",
      "   macro avg       0.74      0.76      0.75     15060\n",
      "weighted avg       0.82      0.80      0.81     15060\n",
      "\n",
      "正解率 : 0.800332005312085\n",
      "正解率 : 0.45300212502479553\n",
      "step : 10000\n",
      "[[10538   822]\n",
      " [ 1937  1763]]\n",
      "              precision    recall  f1-score   support\n",
      "\n",
      "           0       0.84      0.93      0.88     11360\n",
      "           1       0.68      0.48      0.56      3700\n",
      "\n",
      "    accuracy                           0.82     15060\n",
      "   macro avg       0.76      0.70      0.72     15060\n",
      "weighted avg       0.80      0.82      0.80     15060\n",
      "\n",
      "正解率 : 0.8167994687915007\n",
      "正解率 : 0.40454578399658203\n",
      "step : 11000\n",
      "[[10430   930]\n",
      " [ 1763  1937]]\n",
      "              precision    recall  f1-score   support\n",
      "\n",
      "           0       0.86      0.92      0.89     11360\n",
      "           1       0.68      0.52      0.59      3700\n",
      "\n",
      "    accuracy                           0.82     15060\n",
      "   macro avg       0.77      0.72      0.74     15060\n",
      "weighted avg       0.81      0.82      0.81     15060\n",
      "\n",
      "正解率 : 0.8211819389110225\n",
      "正解率 : 0.4015618860721588\n",
      "step : 12000\n",
      "[[9837 1523]\n",
      " [1231 2469]]\n",
      "              precision    recall  f1-score   support\n",
      "\n",
      "           0       0.89      0.87      0.88     11360\n",
      "           1       0.62      0.67      0.64      3700\n",
      "\n",
      "    accuracy                           0.82     15060\n",
      "   macro avg       0.75      0.77      0.76     15060\n",
      "weighted avg       0.82      0.82      0.82     15060\n",
      "\n",
      "正解率 : 0.8171314741035857\n",
      "正解率 : 0.4036329984664917\n",
      "step : 13000\n",
      "[[10329  1031]\n",
      " [ 1582  2118]]\n",
      "              precision    recall  f1-score   support\n",
      "\n",
      "           0       0.87      0.91      0.89     11360\n",
      "           1       0.67      0.57      0.62      3700\n",
      "\n",
      "    accuracy                           0.83     15060\n",
      "   macro avg       0.77      0.74      0.75     15060\n",
      "weighted avg       0.82      0.83      0.82     15060\n",
      "\n",
      "正解率 : 0.8264940239043824\n",
      "正解率 : 0.39628344774246216\n",
      "step : 14000\n",
      "[[10723   637]\n",
      " [ 2162  1538]]\n",
      "              precision    recall  f1-score   support\n",
      "\n",
      "           0       0.83      0.94      0.88     11360\n",
      "           1       0.71      0.42      0.52      3700\n",
      "\n",
      "    accuracy                           0.81     15060\n",
      "   macro avg       0.77      0.68      0.70     15060\n",
      "weighted avg       0.80      0.81      0.80     15060\n",
      "\n",
      "正解率 : 0.8141434262948207\n",
      "正解率 : 0.4195764660835266\n",
      "step : 15000\n",
      "[[10565   795]\n",
      " [ 1737  1963]]\n",
      "              precision    recall  f1-score   support\n",
      "\n",
      "           0       0.86      0.93      0.89     11360\n",
      "           1       0.71      0.53      0.61      3700\n",
      "\n",
      "    accuracy                           0.83     15060\n",
      "   macro avg       0.79      0.73      0.75     15060\n",
      "weighted avg       0.82      0.83      0.82     15060\n",
      "\n",
      "正解率 : 0.8318725099601594\n",
      "正解率 : 0.3824700117111206\n",
      "step : 16000\n",
      "[[9959 1401]\n",
      " [1249 2451]]\n",
      "              precision    recall  f1-score   support\n",
      "\n",
      "           0       0.89      0.88      0.88     11360\n",
      "           1       0.64      0.66      0.65      3700\n",
      "\n",
      "    accuracy                           0.82     15060\n",
      "   macro avg       0.76      0.77      0.77     15060\n",
      "weighted avg       0.83      0.82      0.83     15060\n",
      "\n",
      "正解率 : 0.8240371845949536\n",
      "正解率 : 0.39315342903137207\n",
      "step : 17000\n",
      "[[10934   426]\n",
      " [ 2368  1332]]\n",
      "              precision    recall  f1-score   support\n",
      "\n",
      "           0       0.82      0.96      0.89     11360\n",
      "           1       0.76      0.36      0.49      3700\n",
      "\n",
      "    accuracy                           0.81     15060\n",
      "   macro avg       0.79      0.66      0.69     15060\n",
      "weighted avg       0.81      0.81      0.79     15060\n",
      "\n",
      "正解率 : 0.8144754316069057\n",
      "正解率 : 0.4279628098011017\n",
      "step : 18000\n",
      "[[9454 1906]\n",
      " [ 953 2747]]\n",
      "              precision    recall  f1-score   support\n",
      "\n",
      "           0       0.91      0.83      0.87     11360\n",
      "           1       0.59      0.74      0.66      3700\n",
      "\n",
      "    accuracy                           0.81     15060\n",
      "   macro avg       0.75      0.79      0.76     15060\n",
      "weighted avg       0.83      0.81      0.82     15060\n",
      "\n",
      "正解率 : 0.8101593625498008\n",
      "正解率 : 0.4132503569126129\n",
      "step : 19000\n",
      "[[9956 1404]\n",
      " [1262 2438]]\n",
      "              precision    recall  f1-score   support\n",
      "\n",
      "           0       0.89      0.88      0.88     11360\n",
      "           1       0.63      0.66      0.65      3700\n",
      "\n",
      "    accuracy                           0.82     15060\n",
      "   macro avg       0.76      0.77      0.76     15060\n",
      "weighted avg       0.83      0.82      0.82     15060\n",
      "\n",
      "正解率 : 0.8229747675962815\n",
      "正解率 : 0.39273715019226074\n",
      "step : 20000\n",
      "[[8806 2554]\n",
      " [ 698 3002]]\n",
      "              precision    recall  f1-score   support\n",
      "\n",
      "           0       0.93      0.78      0.84     11360\n",
      "           1       0.54      0.81      0.65      3700\n",
      "\n",
      "    accuracy                           0.78     15060\n",
      "   macro avg       0.73      0.79      0.75     15060\n",
      "weighted avg       0.83      0.78      0.80     15060\n",
      "\n",
      "正解率 : 0.7840637450199203\n",
      "正解率 : 0.47149503231048584\n",
      "step : 21000\n",
      "[[10905   455]\n",
      " [ 2442  1258]]\n",
      "              precision    recall  f1-score   support\n",
      "\n",
      "           0       0.82      0.96      0.88     11360\n",
      "           1       0.73      0.34      0.46      3700\n",
      "\n",
      "    accuracy                           0.81     15060\n",
      "   macro avg       0.78      0.65      0.67     15060\n",
      "weighted avg       0.80      0.81      0.78     15060\n",
      "\n",
      "正解率 : 0.8076361221779549\n",
      "正解率 : 0.4757356345653534\n",
      "step : 22000\n",
      "[[10456   904]\n",
      " [ 1641  2059]]\n",
      "              precision    recall  f1-score   support\n",
      "\n",
      "           0       0.86      0.92      0.89     11360\n",
      "           1       0.69      0.56      0.62      3700\n",
      "\n",
      "    accuracy                           0.83     15060\n",
      "   macro avg       0.78      0.74      0.75     15060\n",
      "weighted avg       0.82      0.83      0.82     15060\n",
      "\n",
      "正解率 : 0.8310092961487384\n",
      "正解率 : 0.38452962040901184\n",
      "step : 23000\n",
      "[[10732   628]\n",
      " [ 1928  1772]]\n",
      "              precision    recall  f1-score   support\n",
      "\n",
      "           0       0.85      0.94      0.89     11360\n",
      "           1       0.74      0.48      0.58      3700\n",
      "\n",
      "    accuracy                           0.83     15060\n",
      "   macro avg       0.79      0.71      0.74     15060\n",
      "weighted avg       0.82      0.83      0.82     15060\n",
      "\n",
      "正解率 : 0.8302788844621514\n",
      "正解率 : 0.40420329570770264\n",
      "step : 24000\n",
      "[[10059  1301]\n",
      " [ 1336  2364]]\n",
      "              precision    recall  f1-score   support\n",
      "\n",
      "           0       0.88      0.89      0.88     11360\n",
      "           1       0.65      0.64      0.64      3700\n",
      "\n",
      "    accuracy                           0.82     15060\n",
      "   macro avg       0.76      0.76      0.76     15060\n",
      "weighted avg       0.82      0.82      0.82     15060\n",
      "\n",
      "正解率 : 0.8249003984063745\n",
      "正解率 : 0.37684595584869385\n",
      "step : 25000\n",
      "[[9896 1464]\n",
      " [1203 2497]]\n",
      "              precision    recall  f1-score   support\n",
      "\n",
      "           0       0.89      0.87      0.88     11360\n",
      "           1       0.63      0.67      0.65      3700\n",
      "\n",
      "    accuracy                           0.82     15060\n",
      "   macro avg       0.76      0.77      0.77     15060\n",
      "weighted avg       0.83      0.82      0.82     15060\n",
      "\n",
      "正解率 : 0.8229083665338646\n",
      "正解率 : 0.3754270076751709\n",
      "step : 26000\n",
      "[[10519   841]\n",
      " [ 1689  2011]]\n",
      "              precision    recall  f1-score   support\n",
      "\n",
      "           0       0.86      0.93      0.89     11360\n",
      "           1       0.71      0.54      0.61      3700\n",
      "\n",
      "    accuracy                           0.83     15060\n",
      "   macro avg       0.78      0.73      0.75     15060\n",
      "weighted avg       0.82      0.83      0.82     15060\n",
      "\n",
      "正解率 : 0.8320053120849934\n",
      "正解率 : 0.3751745820045471\n",
      "step : 27000\n",
      "[[10844   516]\n",
      " [ 2161  1539]]\n",
      "              precision    recall  f1-score   support\n",
      "\n",
      "           0       0.83      0.95      0.89     11360\n",
      "           1       0.75      0.42      0.53      3700\n",
      "\n",
      "    accuracy                           0.82     15060\n",
      "   macro avg       0.79      0.69      0.71     15060\n",
      "weighted avg       0.81      0.82      0.80     15060\n",
      "\n",
      "正解率 : 0.8222443559096946\n",
      "正解率 : 0.4295753836631775\n",
      "step : 28000\n",
      "[[10594   766]\n",
      " [ 1750  1950]]\n",
      "              precision    recall  f1-score   support\n",
      "\n",
      "           0       0.86      0.93      0.89     11360\n",
      "           1       0.72      0.53      0.61      3700\n",
      "\n",
      "    accuracy                           0.83     15060\n",
      "   macro avg       0.79      0.73      0.75     15060\n",
      "weighted avg       0.82      0.83      0.82     15060\n",
      "\n",
      "正解率 : 0.8329349269588313\n",
      "正解率 : 0.38407498598098755\n",
      "step : 29000\n",
      "[[10178  1182]\n",
      " [ 1344  2356]]\n",
      "              precision    recall  f1-score   support\n",
      "\n",
      "           0       0.88      0.90      0.89     11360\n",
      "           1       0.67      0.64      0.65      3700\n",
      "\n",
      "    accuracy                           0.83     15060\n",
      "   macro avg       0.77      0.77      0.77     15060\n",
      "weighted avg       0.83      0.83      0.83     15060\n",
      "\n",
      "正解率 : 0.8322709163346613\n",
      "正解率 : 0.3682783842086792\n",
      "step : 30000\n",
      "[[10994   366]\n",
      " [ 2441  1259]]\n",
      "              precision    recall  f1-score   support\n",
      "\n",
      "           0       0.82      0.97      0.89     11360\n",
      "           1       0.77      0.34      0.47      3700\n",
      "\n",
      "    accuracy                           0.81     15060\n",
      "   macro avg       0.80      0.65      0.68     15060\n",
      "weighted avg       0.81      0.81      0.79     15060\n",
      "\n",
      "正解率 : 0.8136122177954848\n",
      "正解率 : 0.443616658449173\n"
     ]
    }
   ],
   "source": [
    "sgd_model, loss_stack, test_loss_stack,accuracy_stack = hoge.learn(x=X_train, y=y_train, model=model,class_num=class_num,X_test=X_test,Y_test=y_test)\n"
   ],
   "metadata": {
    "collapsed": false,
    "pycharm": {
     "name": "#%%\n"
    }
   }
  },
  {
   "cell_type": "code",
   "execution_count": 33,
   "outputs": [
    {
     "data": {
      "text/plain": "<Figure size 720x576 with 1 Axes>",
      "image/png": "[encoded data removed]"
     },
     "metadata": {
      "needs_background": "light"
     },
     "output_type": "display_data"
    }
   ],
   "source": [
    "\n",
    "fig = plt.figure(figsize=(10.0, 8.0))\n",
    "ax1 = fig.add_subplot(111)\n",
    "\n",
    "ax1.set_title(\"train data NLL Loss\")\n",
    "\n",
    "ax1.plot(loss_stack)\n",
    "ax1.set_xlabel(\"step\")\n",
    "plt.show()"
   ],
   "metadata": {
    "collapsed": false,
    "pycharm": {
     "name": "#%%\n"
    }
   }
  },
  {
   "cell_type": "code",
   "execution_count": 34,
   "outputs": [
    {
     "data": {
      "text/plain": "<Figure size 720x576 with 1 Axes>",
      "image/png": "[encoded data removed]"
     },
     "metadata": {
      "needs_background": "light"
     },
     "output_type": "display_data"
    }
   ],
   "source": [
    "fig = plt.figure(figsize=(10.0, 8.0))\n",
    "ax1 = fig.add_subplot(111)\n",
    "ax1.set_title(\"test data NLL Loss\")\n",
    "\n",
    "ax1.plot(test_loss_stack)\n",
    "ax1.set_xlabel(\"step\")\n",
    "plt.show()"
   ],
   "metadata": {
    "collapsed": false,
    "pycharm": {
     "name": "#%%\n"
    }
   }
  },
  {
   "cell_type": "code",
   "execution_count": 35,
   "outputs": [
    {
     "data": {
      "text/plain": "<Figure size 720x576 with 1 Axes>",
      "image/png": "[encoded data removed]"
     },
     "metadata": {
      "needs_background": "light"
     },
     "output_type": "display_data"
    }
   ],
   "source": [
    "fig = plt.figure(figsize=(10.0, 8.0))\n",
    "ax1 = fig.add_subplot(111)\n",
    "ax1.set_title(\"test data accuracy\")\n",
    "\n",
    "ax1.plot(accuracy_stack)\n",
    "ax1.set_xlabel(\"step\")\n",
    "plt.show()"
   ],
   "metadata": {
    "collapsed": false,
    "pycharm": {
     "name": "#%%\n"
    }
   }
  },
  {
   "cell_type": "code",
   "execution_count": 36,
   "outputs": [
    {
     "data": {
      "text/plain": "LinearClassification(\n  (fc1): Linear(in_features=104, out_features=2, bias=True)\n)"
     },
     "execution_count": 36,
     "metadata": {},
     "output_type": "execute_result"
    }
   ],
   "source": [
    "sgd_model\n",
    "\n"
   ],
   "metadata": {
    "collapsed": false,
    "pycharm": {
     "name": "#%%\n"
    }
   }
  },
  {
   "cell_type": "code",
   "execution_count": 37,
   "outputs": [
    {
     "data": {
      "text/plain": "tensor([[-5.3797e-04, -7.5280e+00],\n        [-6.1749e-02, -2.8154e+00],\n        [-9.0963e-01, -5.1529e-01],\n        ...,\n        [-5.9591e-01, -8.0086e-01],\n        [-4.7446e-02, -3.0718e+00],\n        [-2.6068e+00, -7.6635e-02]], grad_fn=<LogSoftmaxBackward>)"
     },
     "execution_count": 37,
     "metadata": {},
     "output_type": "execute_result"
    }
   ],
   "source": [
    "sgd_model(torch.Tensor(X_test).float())"
   ],
   "metadata": {
    "collapsed": false,
    "pycharm": {
     "name": "#%%\n"
    }
   }
  },
  {
   "cell_type": "code",
   "execution_count": 38,
   "outputs": [
    {
     "data": {
      "text/plain": "(array([11360,     0,     0,     0,     0,     0,     0,     0,     0,\n         3700]),\n array([0. , 0.1, 0.2, 0.3, 0.4, 0.5, 0.6, 0.7, 0.8, 0.9, 1. ]))"
     },
     "execution_count": 38,
     "metadata": {},
     "output_type": "execute_result"
    }
   ],
   "source": [
    "\n",
    "np.histogram(y_test)"
   ],
   "metadata": {
    "collapsed": false,
    "pycharm": {
     "name": "#%%\n"
    }
   }
  },
  {
   "cell_type": "code",
   "execution_count": 38,
   "outputs": [],
   "source": [],
   "metadata": {
    "collapsed": false,
    "pycharm": {
     "name": "#%%\n"
    }
   }
  }
 ],
 "metadata": {
  "kernelspec": {
   "display_name": "Python 3",
   "language": "python",
   "name": "python3"
  },
  "language_info": {
   "codemirror_mode": {
    "name": "ipython",
    "version": 2
   },
   "file_extension": ".py",
   "mimetype": "text/x-python",
   "name": "python",
   "nbconvert_exporter": "python",
   "pygments_lexer": "ipython2",
   "version": "2.7.6"
  }
 },
 "nbformat": 4,
 "nbformat_minor": 0
}