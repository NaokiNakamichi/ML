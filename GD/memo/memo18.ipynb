{
 "cells": [
  {
   "cell_type": "code",
   "execution_count": 1,
   "metadata": {
    "collapsed": true
   },
   "outputs": [],
   "source": [
    "import matplotlib.pyplot as plt\n",
    "import pandas as pd\n",
    "import numpy as np\n",
    "\n",
    "from ML2_lib import models\n",
    "from ML2_lib import SGDByTorch\n",
    "import torch.nn.functional as F\n",
    "import torch\n",
    "from sklearn.preprocessing import LabelBinarizer\n"
   ]
  },
  {
   "cell_type": "code",
   "execution_count": 2,
   "outputs": [
    {
     "data": {
      "text/plain": "       0                  1       2            3   4                    5   \\\n0      39          State-gov   77516    Bachelors  13        Never-married   \n1      50   Self-emp-not-inc   83311    Bachelors  13   Married-civ-spouse   \n2      38            Private  215646      HS-grad   9             Divorced   \n3      53            Private  234721         11th   7   Married-civ-spouse   \n4      28            Private  338409    Bachelors  13   Married-civ-spouse   \n...    ..                ...     ...          ...  ..                  ...   \n32556  27            Private  257302   Assoc-acdm  12   Married-civ-spouse   \n32557  40            Private  154374      HS-grad   9   Married-civ-spouse   \n32558  58            Private  151910      HS-grad   9              Widowed   \n32559  22            Private  201490      HS-grad   9        Never-married   \n32560  52       Self-emp-inc  287927      HS-grad   9   Married-civ-spouse   \n\n                       6               7       8        9      10  11  12  \\\n0            Adm-clerical   Not-in-family   White     Male   2174   0  40   \n1         Exec-managerial         Husband   White     Male      0   0  13   \n2       Handlers-cleaners   Not-in-family   White     Male      0   0  40   \n3       Handlers-cleaners         Husband   Black     Male      0   0  40   \n4          Prof-specialty            Wife   Black   Female      0   0  40   \n...                   ...             ...     ...      ...    ...  ..  ..   \n32556        Tech-support            Wife   White   Female      0   0  38   \n32557   Machine-op-inspct         Husband   White     Male      0   0  40   \n32558        Adm-clerical       Unmarried   White   Female      0   0  40   \n32559        Adm-clerical       Own-child   White     Male      0   0  20   \n32560     Exec-managerial            Wife   White   Female  15024   0  40   \n\n                   13      14  \n0       United-States   <=50K  \n1       United-States   <=50K  \n2       United-States   <=50K  \n3       United-States   <=50K  \n4                Cuba   <=50K  \n...               ...     ...  \n32556   United-States   <=50K  \n32557   United-States    >50K  \n32558   United-States   <=50K  \n32559   United-States   <=50K  \n32560   United-States    >50K  \n\n[32561 rows x 15 columns]",
      "text/html": "<div>\n<style scoped>\n    .dataframe tbody tr th:only-of-type {\n        vertical-align: middle;\n    }\n\n    .dataframe tbody tr th {\n        vertical-align: top;\n    }\n\n    .dataframe thead th {\n        text-align: right;\n    }\n</style>\n<table border=\"1\" class=\"dataframe\">\n  <thead>\n    <tr style=\"text-align: right;\">\n      <th></th>\n      <th>0</th>\n      <th>1</th>\n      <th>2</th>\n      <th>3</th>\n      <th>4</th>\n      <th>5</th>\n      <th>6</th>\n      <th>7</th>\n      <th>8</th>\n      <th>9</th>\n      <th>10</th>\n      <th>11</th>\n      <th>12</th>\n      <th>13</th>\n      <th>14</th>\n    </tr>\n  </thead>\n  <tbody>\n    <tr>\n      <th>0</th>\n      <td>39</td>\n      <td>State-gov</td>\n      <td>77516</td>\n      <td>Bachelors</td>\n      <td>13</td>\n      <td>Never-married</td>\n      <td>Adm-clerical</td>\n      <td>Not-in-family</td>\n      <td>White</td>\n      <td>Male</td>\n      <td>2174</td>\n      <td>0</td>\n      <td>40</td>\n      <td>United-States</td>\n      <td>&lt;=50K</td>\n    </tr>\n    <tr>\n      <th>1</th>\n      <td>50</td>\n      <td>Self-emp-not-inc</td>\n      <td>83311</td>\n      <td>Bachelors</td>\n      <td>13</td>\n      <td>Married-civ-spouse</td>\n      <td>Exec-managerial</td>\n      <td>Husband</td>\n      <td>White</td>\n      <td>Male</td>\n      <td>0</td>\n      <td>0</td>\n      <td>13</td>\n      <td>United-States</td>\n      <td>&lt;=50K</td>\n    </tr>\n    <tr>\n      <th>2</th>\n      <td>38</td>\n      <td>Private</td>\n      <td>215646</td>\n      <td>HS-grad</td>\n      <td>9</td>\n      <td>Divorced</td>\n      <td>Handlers-cleaners</td>\n      <td>Not-in-family</td>\n      <td>White</td>\n      <td>Male</td>\n      <td>0</td>\n      <td>0</td>\n      <td>40</td>\n      <td>United-States</td>\n      <td>&lt;=50K</td>\n    </tr>\n    <tr>\n      <th>3</th>\n      <td>53</td>\n      <td>Private</td>\n      <td>234721</td>\n      <td>11th</td>\n      <td>7</td>\n      <td>Married-civ-spouse</td>\n      <td>Handlers-cleaners</td>\n      <td>Husband</td>\n      <td>Black</td>\n      <td>Male</td>\n      <td>0</td>\n      <td>0</td>\n      <td>40</td>\n      <td>United-States</td>\n      <td>&lt;=50K</td>\n    </tr>\n    <tr>\n      <th>4</th>\n      <td>28</td>\n      <td>Private</td>\n      <td>338409</td>\n      <td>Bachelors</td>\n      <td>13</td>\n      <td>Married-civ-spouse</td>\n      <td>Prof-specialty</td>\n      <td>Wife</td>\n      <td>Black</td>\n      <td>Female</td>\n      <td>0</td>\n      <td>0</td>\n      <td>40</td>\n      <td>Cuba</td>\n      <td>&lt;=50K</td>\n    </tr>\n    <tr>\n      <th>...</th>\n      <td>...</td>\n      <td>...</td>\n      <td>...</td>\n      <td>...</td>\n      <td>...</td>\n      <td>...</td>\n      <td>...</td>\n      <td>...</td>\n      <td>...</td>\n      <td>...</td>\n      <td>...</td>\n      <td>...</td>\n      <td>...</td>\n      <td>...</td>\n      <td>...</td>\n    </tr>\n    <tr>\n      <th>32556</th>\n      <td>27</td>\n      <td>Private</td>\n      <td>257302</td>\n      <td>Assoc-acdm</td>\n      <td>12</td>\n      <td>Married-civ-spouse</td>\n      <td>Tech-support</td>\n      <td>Wife</td>\n      <td>White</td>\n      <td>Female</td>\n      <td>0</td>\n      <td>0</td>\n      <td>38</td>\n      <td>United-States</td>\n      <td>&lt;=50K</td>\n    </tr>\n    <tr>\n      <th>32557</th>\n      <td>40</td>\n      <td>Private</td>\n      <td>154374</td>\n      <td>HS-grad</td>\n      <td>9</td>\n      <td>Married-civ-spouse</td>\n      <td>Machine-op-inspct</td>\n      <td>Husband</td>\n      <td>White</td>\n      <td>Male</td>\n      <td>0</td>\n      <td>0</td>\n      <td>40</td>\n      <td>United-States</td>\n      <td>&gt;50K</td>\n    </tr>\n    <tr>\n      <th>32558</th>\n      <td>58</td>\n      <td>Private</td>\n      <td>151910</td>\n      <td>HS-grad</td>\n      <td>9</td>\n      <td>Widowed</td>\n      <td>Adm-clerical</td>\n      <td>Unmarried</td>\n      <td>White</td>\n      <td>Female</td>\n      <td>0</td>\n      <td>0</td>\n      <td>40</td>\n      <td>United-States</td>\n      <td>&lt;=50K</td>\n    </tr>\n    <tr>\n      <th>32559</th>\n      <td>22</td>\n      <td>Private</td>\n      <td>201490</td>\n      <td>HS-grad</td>\n      <td>9</td>\n      <td>Never-married</td>\n      <td>Adm-clerical</td>\n      <td>Own-child</td>\n      <td>White</td>\n      <td>Male</td>\n      <td>0</td>\n      <td>0</td>\n      <td>20</td>\n      <td>United-States</td>\n      <td>&lt;=50K</td>\n    </tr>\n    <tr>\n      <th>32560</th>\n      <td>52</td>\n      <td>Self-emp-inc</td>\n      <td>287927</td>\n      <td>HS-grad</td>\n      <td>9</td>\n      <td>Married-civ-spouse</td>\n      <td>Exec-managerial</td>\n      <td>Wife</td>\n      <td>White</td>\n      <td>Female</td>\n      <td>15024</td>\n      <td>0</td>\n      <td>40</td>\n      <td>United-States</td>\n      <td>&gt;50K</td>\n    </tr>\n  </tbody>\n</table>\n<p>32561 rows × 15 columns</p>\n</div>"
     },
     "execution_count": 2,
     "metadata": {},
     "output_type": "execute_result"
    }
   ],
   "source": [
    "pd.read_csv(\"data/adult/adult_classification.csv\", header=None)"
   ],
   "metadata": {
    "collapsed": false,
    "pycharm": {
     "name": "#%%\n"
    }
   }
  },
  {
   "cell_type": "code",
   "execution_count": 3,
   "outputs": [],
   "source": [
    "def make_col_names():\n",
    "    col_names = []\n",
    "    continuous_dict = {}\n",
    "    for i, line in enumerate(open(\"data/adult/adult_classification.names\", \"r\"), 1):\n",
    "        if i > 96:\n",
    "            line = line.rstrip()\n",
    "            name = line.split(\":\")[0]\n",
    "            col_names.append(name)\n",
    "            line = line.replace(\" \", \"\").replace(\".\", \"\")\n",
    "            continuous = line.split(\":\")[1] == \"continuous\"\n",
    "            continuous_dict[name] = continuous\n",
    "    col_names.append(\"label\")\n",
    "    continuous_dict[\"label\"] = False\n",
    "    return col_names, continuous_dict"
   ],
   "metadata": {
    "collapsed": false,
    "pycharm": {
     "name": "#%%\n"
    }
   }
  },
  {
   "cell_type": "code",
   "execution_count": 4,
   "outputs": [
    {
     "data": {
      "text/plain": "['age',\n 'workclass',\n 'fnlwgt',\n 'education',\n 'education-num',\n 'marital-status',\n 'occupation',\n 'relationship',\n 'race',\n 'sex',\n 'capital-gain',\n 'capital-loss',\n 'hours-per-week',\n 'native-country',\n 'label']"
     },
     "execution_count": 4,
     "metadata": {},
     "output_type": "execute_result"
    }
   ],
   "source": [
    "n_id = 0\n",
    "col_names, continuous_dicts = make_col_names()\n",
    "col_names"
   ],
   "metadata": {
    "collapsed": false,
    "pycharm": {
     "name": "#%%\n"
    }
   }
  },
  {
   "cell_type": "code",
   "execution_count": 5,
   "outputs": [],
   "source": [
    "def load_data(filename, col_names, n, skiprows=None):\n",
    "    df = pd.read_csv(filename, header=None, index_col=None, skiprows=skiprows)\n",
    "    # Display the number of records before delete missing valeus.\n",
    "    print(\"the number of {} records:{}\\n\".format(filename, len(df.index)))\n",
    "    df.columns = col_names\n",
    "\n",
    "    # Replace the missing value's character to np.nan.\n",
    "    df = df.applymap(lambda d: np.nan if d == \" ?\" else d)\n",
    "\n",
    "    # Unify the different written forms.\n",
    "    df = df.applymap(lambda d: \" <=50K\" if d == \" <=50K.\" else d)\n",
    "    df = df.applymap(lambda d: \" >50K\" if d == \" >50K.\" else d)\n",
    "\n",
    "    # Display the information about missing values and\n",
    "    print(\"missing value info:\\n{}\\n\".format(df.isnull().sum(axis=0)))\n",
    "    df = df.dropna(axis=0)\n",
    "\n",
    "    # the number of records after delete missing valeus.\n",
    "    print(\"the number of {} records after trimming:{}\\n\".format(filename, len(df.index)))\n",
    "    ids = list(np.arange(n, n + len(df.index)))\n",
    "    df[\"ID\"] = np.array(ids)\n",
    "    n = n + len(df.index)\n",
    "    return df, n\n",
    "\n"
   ],
   "metadata": {
    "collapsed": false,
    "pycharm": {
     "name": "#%%\n"
    }
   }
  },
  {
   "cell_type": "code",
   "execution_count": 6,
   "outputs": [
    {
     "name": "stdout",
     "output_type": "stream",
     "text": [
      "the number of data/adult/adult_classification.csv records:32561\n",
      "\n",
      "missing value info:\n",
      "age                  0\n",
      "workclass         1836\n",
      "fnlwgt               0\n",
      "education            0\n",
      "education-num        0\n",
      "marital-status       0\n",
      "occupation        1843\n",
      "relationship         0\n",
      "race                 0\n",
      "sex                  0\n",
      "capital-gain         0\n",
      "capital-loss         0\n",
      "hours-per-week       0\n",
      "native-country     583\n",
      "label                0\n",
      "dtype: int64\n",
      "\n",
      "the number of data/adult/adult_classification.csv records after trimming:30162\n",
      "\n",
      "the number of data/adult/adult_classification.test records:16281\n",
      "\n",
      "missing value info:\n",
      "age                 0\n",
      "workclass         963\n",
      "fnlwgt              0\n",
      "education           0\n",
      "education-num       0\n",
      "marital-status      0\n",
      "occupation        966\n",
      "relationship        0\n",
      "race                0\n",
      "sex                 0\n",
      "capital-gain        0\n",
      "capital-loss        0\n",
      "hours-per-week      0\n",
      "native-country    274\n",
      "label               0\n",
      "dtype: int64\n",
      "\n",
      "the number of data/adult/adult_classification.test records after trimming:15060\n",
      "\n"
     ]
    }
   ],
   "source": [
    "df_train, n_id_train = load_data(\"data/adult/adult_classification.csv\", col_names, n_id)\n",
    "df_test, n_id_test = load_data(\"data/adult/adult_classification.test\", col_names, n_id_train, skiprows=1)"
   ],
   "metadata": {
    "collapsed": false,
    "pycharm": {
     "name": "#%%\n"
    }
   }
  },
  {
   "cell_type": "code",
   "execution_count": 7,
   "outputs": [],
   "source": [
    "def get_not_continuous_columns(continuous_dict):\n",
    "    categorical_names = [k for k, v in continuous_dict.items() if not v]\n",
    "    return categorical_names"
   ],
   "metadata": {
    "collapsed": false,
    "pycharm": {
     "name": "#%%\n"
    }
   }
  },
  {
   "cell_type": "code",
   "execution_count": 8,
   "outputs": [],
   "source": [
    "def print_labelinfo(labelnames):\n",
    "    for i in range(len(labelnames)):\n",
    "        print(\"label{}:{}\".format(i, labelnames[i]))"
   ],
   "metadata": {
    "collapsed": false,
    "pycharm": {
     "name": "#%%\n"
    }
   }
  },
  {
   "cell_type": "code",
   "execution_count": 9,
   "outputs": [],
   "source": [
    "def convert_data(df_train, df_test, n_id_train, n_id_test, continuous_dicts):\n",
    "    categorical_names = get_not_continuous_columns(continuous_dicts)\n",
    "    df = pd.concat((df_train, df_test), axis=0)\n",
    "\n",
    "    # Get the dummy for the categorical data.\n",
    "    for name in categorical_names:\n",
    "        print(name)\n",
    "        if name == \"label\":\n",
    "            # ここではOneHotEncordingではなくLabelEncording\n",
    "            # F .nll_lossの関係で\n",
    "            lb = LabelBinarizer()\n",
    "            dummy_df = lb.fit_transform(df[name])\n",
    "            df[\"label\"] = dummy_df\n",
    "        else:\n",
    "            dummy_df = pd.get_dummies(df[name])\n",
    "            df = pd.concat((df, dummy_df), axis=1)\n",
    "            df = df.drop(name, axis=1)\n",
    "\n",
    "    # Convert the data type.\n",
    "    for name in df.columns:\n",
    "        df[name] = df[name].astype(float)\n",
    "\n",
    "    # Reguralize the data.\n",
    "    for name in df.columns:\n",
    "        if name == \"ID\":\n",
    "            df[name] = df[name]\n",
    "        else:\n",
    "            df[name] = (df[name] - df[name].min()) / (df[name].max() - df[name].min())\n",
    "\n",
    "    df_train = df[df[\"ID\"] < n_id_train].drop(\"ID\", axis=1)\n",
    "    df_test = df[df[\"ID\"] >= n_id_train].drop(\"ID\", axis=1)\n",
    "\n",
    "    y_train = df_train[\"label\"].values\n",
    "    y_test = df_test[\"label\"].values\n",
    "    X_train = df_train.drop(\"label\", axis=1).values\n",
    "    X_test = df_test.drop(\"label\", axis=1).values\n",
    "    return X_train, y_train, X_test, y_test"
   ],
   "metadata": {
    "collapsed": false,
    "pycharm": {
     "name": "#%%\n"
    }
   }
  },
  {
   "cell_type": "code",
   "execution_count": 10,
   "outputs": [
    {
     "name": "stdout",
     "output_type": "stream",
     "text": [
      "workclass\n",
      "education\n",
      "marital-status\n",
      "occupation\n",
      "relationship\n",
      "race\n",
      "sex\n",
      "native-country\n",
      "label\n",
      "X_train:(30162, 104) y_train:(30162,) X_test:(15060, 104) y_test:(15060,)\n"
     ]
    }
   ],
   "source": [
    "X_train, y_train, X_test, y_test = convert_data(df_train, df_test, n_id_train, n_id_test, continuous_dicts)\n",
    "print(\"X_train:{} y_train:{} X_test:{} y_test:{}\".format(X_train.shape, y_train.shape, X_test.shape, y_test.shape))"
   ],
   "metadata": {
    "collapsed": false,
    "pycharm": {
     "name": "#%%\n"
    }
   }
  },
  {
   "cell_type": "code",
   "execution_count": 11,
   "outputs": [],
   "source": [
    "w_dim = X_train.shape[1]\n",
    "class_num = int(max(y_train) + 1)\n",
    "unit_num = 2\n",
    "model = models.Net(w_num=w_dim, c_num=class_num, unit_num=unit_num)"
   ],
   "metadata": {
    "collapsed": false,
    "pycharm": {
     "name": "#%%\n"
    }
   }
  },
  {
   "cell_type": "code",
   "execution_count": 12,
   "outputs": [],
   "source": [
    "hoge = SGDByTorch.SGDTorch(lr=0.1)"
   ],
   "metadata": {
    "collapsed": false,
    "pycharm": {
     "name": "#%%\n"
    }
   }
  },
  {
   "cell_type": "code",
   "execution_count": 13,
   "outputs": [
    {
     "name": "stdout",
     "output_type": "stream",
     "text": [
      "step : 0\n",
      "[[11354     6]\n",
      " [ 3694     6]]\n",
      "              precision    recall  f1-score   support\n",
      "\n",
      "           0       0.75      1.00      0.86     11360\n",
      "           1       0.50      0.00      0.00      3700\n",
      "\n",
      "    accuracy                           0.75     15060\n",
      "   macro avg       0.63      0.50      0.43     15060\n",
      "weighted avg       0.69      0.75      0.65     15060\n",
      "\n",
      "正解率 : 0.7543160690571049\n",
      "step : 1000\n",
      "[[    1 11359]\n",
      " [    1  3699]]\n",
      "              precision    recall  f1-score   support\n",
      "\n",
      "           0       0.50      0.00      0.00     11360\n",
      "           1       0.25      1.00      0.39      3700\n",
      "\n",
      "    accuracy                           0.25     15060\n",
      "   macro avg       0.37      0.50      0.20     15060\n",
      "weighted avg       0.44      0.25      0.10     15060\n",
      "\n",
      "正解率 : 0.2456839309428951\n",
      "step : 2000\n",
      "[[  395 10965]\n",
      " [   39  3661]]\n",
      "              precision    recall  f1-score   support\n",
      "\n",
      "           0       0.91      0.03      0.07     11360\n",
      "           1       0.25      0.99      0.40      3700\n",
      "\n",
      "    accuracy                           0.27     15060\n",
      "   macro avg       0.58      0.51      0.23     15060\n",
      "weighted avg       0.75      0.27      0.15     15060\n",
      "\n",
      "正解率 : 0.2693227091633466\n",
      "step : 3000\n",
      "[[10382   978]\n",
      " [ 2490  1210]]\n",
      "              precision    recall  f1-score   support\n",
      "\n",
      "           0       0.81      0.91      0.86     11360\n",
      "           1       0.55      0.33      0.41      3700\n",
      "\n",
      "    accuracy                           0.77     15060\n",
      "   macro avg       0.68      0.62      0.63     15060\n",
      "weighted avg       0.74      0.77      0.75     15060\n",
      "\n",
      "正解率 : 0.7697211155378486\n",
      "step : 4000\n",
      "[[11359     1]\n",
      " [ 3698     2]]\n",
      "              precision    recall  f1-score   support\n",
      "\n",
      "           0       0.75      1.00      0.86     11360\n",
      "           1       0.67      0.00      0.00      3700\n",
      "\n",
      "    accuracy                           0.75     15060\n",
      "   macro avg       0.71      0.50      0.43     15060\n",
      "weighted avg       0.73      0.75      0.65     15060\n",
      "\n",
      "正解率 : 0.7543824701195219\n",
      "step : 5000\n",
      "[[11346    14]\n",
      " [ 3684    16]]\n",
      "              precision    recall  f1-score   support\n",
      "\n",
      "           0       0.75      1.00      0.86     11360\n",
      "           1       0.53      0.00      0.01      3700\n",
      "\n",
      "    accuracy                           0.75     15060\n",
      "   macro avg       0.64      0.50      0.43     15060\n",
      "weighted avg       0.70      0.75      0.65     15060\n",
      "\n",
      "正解率 : 0.7544488711819389\n",
      "step : 6000\n",
      "[[ 1106 10254]\n",
      " [   28  3672]]\n",
      "              precision    recall  f1-score   support\n",
      "\n",
      "           0       0.98      0.10      0.18     11360\n",
      "           1       0.26      0.99      0.42      3700\n",
      "\n",
      "    accuracy                           0.32     15060\n",
      "   macro avg       0.62      0.54      0.30     15060\n",
      "weighted avg       0.80      0.32      0.24     15060\n",
      "\n",
      "正解率 : 0.31726427622841963\n",
      "step : 7000\n",
      "[[  108 11252]\n",
      " [    1  3699]]\n",
      "              precision    recall  f1-score   support\n",
      "\n",
      "           0       0.99      0.01      0.02     11360\n",
      "           1       0.25      1.00      0.40      3700\n",
      "\n",
      "    accuracy                           0.25     15060\n",
      "   macro avg       0.62      0.50      0.21     15060\n",
      "weighted avg       0.81      0.25      0.11     15060\n",
      "\n",
      "正解率 : 0.25278884462151396\n",
      "step : 8000\n",
      "[[4453 6907]\n",
      " [  95 3605]]\n",
      "              precision    recall  f1-score   support\n",
      "\n",
      "           0       0.98      0.39      0.56     11360\n",
      "           1       0.34      0.97      0.51      3700\n",
      "\n",
      "    accuracy                           0.54     15060\n",
      "   macro avg       0.66      0.68      0.53     15060\n",
      "weighted avg       0.82      0.54      0.55     15060\n",
      "\n",
      "正解率 : 0.5350597609561752\n",
      "step : 9000\n",
      "[[9553 1807]\n",
      " [1335 2365]]\n",
      "              precision    recall  f1-score   support\n",
      "\n",
      "           0       0.88      0.84      0.86     11360\n",
      "           1       0.57      0.64      0.60      3700\n",
      "\n",
      "    accuracy                           0.79     15060\n",
      "   macro avg       0.72      0.74      0.73     15060\n",
      "weighted avg       0.80      0.79      0.80     15060\n",
      "\n",
      "正解率 : 0.7913678618857902\n",
      "step : 10000\n",
      "[[10978   382]\n",
      " [ 2847   853]]\n",
      "              precision    recall  f1-score   support\n",
      "\n",
      "           0       0.79      0.97      0.87     11360\n",
      "           1       0.69      0.23      0.35      3700\n",
      "\n",
      "    accuracy                           0.79     15060\n",
      "   macro avg       0.74      0.60      0.61     15060\n",
      "weighted avg       0.77      0.79      0.74     15060\n",
      "\n",
      "正解率 : 0.7855909694555113\n",
      "step : 11000\n",
      "[[11338    22]\n",
      " [ 3678    22]]\n",
      "              precision    recall  f1-score   support\n",
      "\n",
      "           0       0.76      1.00      0.86     11360\n",
      "           1       0.50      0.01      0.01      3700\n",
      "\n",
      "    accuracy                           0.75     15060\n",
      "   macro avg       0.63      0.50      0.44     15060\n",
      "weighted avg       0.69      0.75      0.65     15060\n",
      "\n",
      "正解率 : 0.7543160690571049\n",
      "step : 12000\n",
      "[[10476   884]\n",
      " [ 2003  1697]]\n",
      "              precision    recall  f1-score   support\n",
      "\n",
      "           0       0.84      0.92      0.88     11360\n",
      "           1       0.66      0.46      0.54      3700\n",
      "\n",
      "    accuracy                           0.81     15060\n",
      "   macro avg       0.75      0.69      0.71     15060\n",
      "weighted avg       0.79      0.81      0.80     15060\n",
      "\n",
      "正解率 : 0.8083001328021249\n",
      "step : 13000\n",
      "[[4933 6427]\n",
      " [  92 3608]]\n",
      "              precision    recall  f1-score   support\n",
      "\n",
      "           0       0.98      0.43      0.60     11360\n",
      "           1       0.36      0.98      0.53      3700\n",
      "\n",
      "    accuracy                           0.57     15060\n",
      "   macro avg       0.67      0.70      0.56     15060\n",
      "weighted avg       0.83      0.57      0.58     15060\n",
      "\n",
      "正解率 : 0.5671314741035857\n",
      "step : 14000\n",
      "[[11319    41]\n",
      " [ 3606    94]]\n",
      "              precision    recall  f1-score   support\n",
      "\n",
      "           0       0.76      1.00      0.86     11360\n",
      "           1       0.70      0.03      0.05      3700\n",
      "\n",
      "    accuracy                           0.76     15060\n",
      "   macro avg       0.73      0.51      0.46     15060\n",
      "weighted avg       0.74      0.76      0.66     15060\n",
      "\n",
      "正解率 : 0.7578353253652058\n",
      "step : 15000\n",
      "[[9323 2037]\n",
      " [ 975 2725]]\n",
      "              precision    recall  f1-score   support\n",
      "\n",
      "           0       0.91      0.82      0.86     11360\n",
      "           1       0.57      0.74      0.64      3700\n",
      "\n",
      "    accuracy                           0.80     15060\n",
      "   macro avg       0.74      0.78      0.75     15060\n",
      "weighted avg       0.82      0.80      0.81     15060\n",
      "\n",
      "正解率 : 0.8\n",
      "step : 16000\n",
      "[[    2 11358]\n",
      " [    0  3700]]\n",
      "              precision    recall  f1-score   support\n",
      "\n",
      "           0       1.00      0.00      0.00     11360\n",
      "           1       0.25      1.00      0.39      3700\n",
      "\n",
      "    accuracy                           0.25     15060\n",
      "   macro avg       0.62      0.50      0.20     15060\n",
      "weighted avg       0.81      0.25      0.10     15060\n",
      "\n",
      "正解率 : 0.24581673306772908\n",
      "step : 17000\n",
      "[[11092   268]\n",
      " [ 2876   824]]\n",
      "              precision    recall  f1-score   support\n",
      "\n",
      "           0       0.79      0.98      0.88     11360\n",
      "           1       0.75      0.22      0.34      3700\n",
      "\n",
      "    accuracy                           0.79     15060\n",
      "   macro avg       0.77      0.60      0.61     15060\n",
      "weighted avg       0.78      0.79      0.75     15060\n",
      "\n",
      "正解率 : 0.7912350597609562\n",
      "step : 18000\n",
      "[[8249 3111]\n",
      " [ 571 3129]]\n",
      "              precision    recall  f1-score   support\n",
      "\n",
      "           0       0.94      0.73      0.82     11360\n",
      "           1       0.50      0.85      0.63      3700\n",
      "\n",
      "    accuracy                           0.76     15060\n",
      "   macro avg       0.72      0.79      0.72     15060\n",
      "weighted avg       0.83      0.76      0.77     15060\n",
      "\n",
      "正解率 : 0.7555112881806109\n",
      "step : 19000\n",
      "[[ 1153 10207]\n",
      " [    4  3696]]\n",
      "              precision    recall  f1-score   support\n",
      "\n",
      "           0       1.00      0.10      0.18     11360\n",
      "           1       0.27      1.00      0.42      3700\n",
      "\n",
      "    accuracy                           0.32     15060\n",
      "   macro avg       0.63      0.55      0.30     15060\n",
      "weighted avg       0.82      0.32      0.24     15060\n",
      "\n",
      "正解率 : 0.32197875166002654\n",
      "step : 20000\n",
      "[[  961 10399]\n",
      " [    3  3697]]\n",
      "              precision    recall  f1-score   support\n",
      "\n",
      "           0       1.00      0.08      0.16     11360\n",
      "           1       0.26      1.00      0.42      3700\n",
      "\n",
      "    accuracy                           0.31     15060\n",
      "   macro avg       0.63      0.54      0.29     15060\n",
      "weighted avg       0.82      0.31      0.22     15060\n",
      "\n",
      "正解率 : 0.3092961487383798\n",
      "step : 21000\n",
      "[[  412 10948]\n",
      " [    2  3698]]\n",
      "              precision    recall  f1-score   support\n",
      "\n",
      "           0       1.00      0.04      0.07     11360\n",
      "           1       0.25      1.00      0.40      3700\n",
      "\n",
      "    accuracy                           0.27     15060\n",
      "   macro avg       0.62      0.52      0.24     15060\n",
      "weighted avg       0.81      0.27      0.15     15060\n",
      "\n",
      "正解率 : 0.2729083665338645\n",
      "step : 22000\n",
      "[[ 1045 10315]\n",
      " [    3  3697]]\n",
      "              precision    recall  f1-score   support\n",
      "\n",
      "           0       1.00      0.09      0.17     11360\n",
      "           1       0.26      1.00      0.42      3700\n",
      "\n",
      "    accuracy                           0.31     15060\n",
      "   macro avg       0.63      0.55      0.29     15060\n",
      "weighted avg       0.82      0.31      0.23     15060\n",
      "\n",
      "正解率 : 0.3148738379814077\n",
      "step : 23000\n",
      "[[   92 11268]\n",
      " [    0  3700]]\n",
      "              precision    recall  f1-score   support\n",
      "\n",
      "           0       1.00      0.01      0.02     11360\n",
      "           1       0.25      1.00      0.40      3700\n",
      "\n",
      "    accuracy                           0.25     15060\n",
      "   macro avg       0.62      0.50      0.21     15060\n",
      "weighted avg       0.82      0.25      0.11     15060\n",
      "\n",
      "正解率 : 0.251792828685259\n",
      "step : 24000\n",
      "[[  124 11236]\n",
      " [    0  3700]]\n",
      "              precision    recall  f1-score   support\n",
      "\n",
      "           0       1.00      0.01      0.02     11360\n",
      "           1       0.25      1.00      0.40      3700\n",
      "\n",
      "    accuracy                           0.25     15060\n",
      "   macro avg       0.62      0.51      0.21     15060\n",
      "weighted avg       0.82      0.25      0.11     15060\n",
      "\n",
      "正解率 : 0.2539176626826029\n",
      "step : 25000\n",
      "[[  163 11197]\n",
      " [    0  3700]]\n",
      "              precision    recall  f1-score   support\n",
      "\n",
      "           0       1.00      0.01      0.03     11360\n",
      "           1       0.25      1.00      0.40      3700\n",
      "\n",
      "    accuracy                           0.26     15060\n",
      "   macro avg       0.62      0.51      0.21     15060\n",
      "weighted avg       0.82      0.26      0.12     15060\n",
      "\n",
      "正解率 : 0.2565073041168659\n",
      "step : 26000\n",
      "[[  180 11180]\n",
      " [    0  3700]]\n",
      "              precision    recall  f1-score   support\n",
      "\n",
      "           0       1.00      0.02      0.03     11360\n",
      "           1       0.25      1.00      0.40      3700\n",
      "\n",
      "    accuracy                           0.26     15060\n",
      "   macro avg       0.62      0.51      0.21     15060\n",
      "weighted avg       0.82      0.26      0.12     15060\n",
      "\n",
      "正解率 : 0.25763612217795484\n",
      "step : 27000\n",
      "[[  253 11107]\n",
      " [    0  3700]]\n",
      "              precision    recall  f1-score   support\n",
      "\n",
      "           0       1.00      0.02      0.04     11360\n",
      "           1       0.25      1.00      0.40      3700\n",
      "\n",
      "    accuracy                           0.26     15060\n",
      "   macro avg       0.62      0.51      0.22     15060\n",
      "weighted avg       0.82      0.26      0.13     15060\n",
      "\n",
      "正解率 : 0.2624833997343958\n",
      "step : 28000\n",
      "[[   41 11319]\n",
      " [    0  3700]]\n",
      "              precision    recall  f1-score   support\n",
      "\n",
      "           0       1.00      0.00      0.01     11360\n",
      "           1       0.25      1.00      0.40      3700\n",
      "\n",
      "    accuracy                           0.25     15060\n",
      "   macro avg       0.62      0.50      0.20     15060\n",
      "weighted avg       0.81      0.25      0.10     15060\n",
      "\n",
      "正解率 : 0.24840637450199204\n",
      "step : 29000\n",
      "[[  519 10841]\n",
      " [    1  3699]]\n",
      "              precision    recall  f1-score   support\n",
      "\n",
      "           0       1.00      0.05      0.09     11360\n",
      "           1       0.25      1.00      0.41      3700\n",
      "\n",
      "    accuracy                           0.28     15060\n",
      "   macro avg       0.63      0.52      0.25     15060\n",
      "weighted avg       0.82      0.28      0.17     15060\n",
      "\n",
      "正解率 : 0.2800796812749004\n",
      "step : 30000\n",
      "[[    4 11356]\n",
      " [    0  3700]]\n",
      "              precision    recall  f1-score   support\n",
      "\n",
      "           0       1.00      0.00      0.00     11360\n",
      "           1       0.25      1.00      0.39      3700\n",
      "\n",
      "    accuracy                           0.25     15060\n",
      "   macro avg       0.62      0.50      0.20     15060\n",
      "weighted avg       0.81      0.25      0.10     15060\n",
      "\n",
      "正解率 : 0.24594953519256307\n"
     ]
    }
   ],
   "source": [
    "sgd_model, stack, loss_stack, test_loss_stack,accuracy_stack = hoge.learn(x=X_train, y=y_train, model=model,class_num=class_num,X_test=X_test,Y_test=y_test)\n"
   ],
   "metadata": {
    "collapsed": false,
    "pycharm": {
     "name": "#%%\n"
    }
   }
  },
  {
   "cell_type": "code",
   "execution_count": 14,
   "outputs": [
    {
     "data": {
      "text/plain": "<Figure size 720x576 with 1 Axes>",
      "image/png": "[encoded data removed]"
     },
     "metadata": {
      "needs_background": "light"
     },
     "output_type": "display_data"
    }
   ],
   "source": [
    "\n",
    "fig = plt.figure(figsize=(10.0, 8.0))\n",
    "ax1 = fig.add_subplot(111)\n",
    "\n",
    "ax1.set_title(\"train data NLL Loss\")\n",
    "\n",
    "ax1.plot(loss_stack)\n",
    "ax1.set_xlabel(\"step\")\n",
    "plt.show()"
   ],
   "metadata": {
    "collapsed": false,
    "pycharm": {
     "name": "#%%\n"
    }
   }
  },
  {
   "cell_type": "code",
   "execution_count": 15,
   "outputs": [
    {
     "data": {
      "text/plain": "<Figure size 720x576 with 1 Axes>",
      "image/png": "[encoded data removed]"
     },
     "metadata": {
      "needs_background": "light"
     },
     "output_type": "display_data"
    }
   ],
   "source": [
    "fig = plt.figure(figsize=(10.0, 8.0))\n",
    "ax1 = fig.add_subplot(111)\n",
    "ax1.set_title(\"test data NLL Loss\")\n",
    "\n",
    "ax1.plot(test_loss_stack)\n",
    "ax1.set_xlabel(\"step\")\n",
    "plt.show()"
   ],
   "metadata": {
    "collapsed": false,
    "pycharm": {
     "name": "#%%\n"
    }
   }
  },
  {
   "cell_type": "code",
   "execution_count": 16,
   "outputs": [
    {
     "data": {
      "text/plain": "<Figure size 720x576 with 1 Axes>",
      "image/png": "[encoded data removed]"
     },
     "metadata": {
      "needs_background": "light"
     },
     "output_type": "display_data"
    }
   ],
   "source": [
    "fig = plt.figure(figsize=(10.0, 8.0))\n",
    "ax1 = fig.add_subplot(111)\n",
    "ax1.set_title(\"test data accuracy\")\n",
    "\n",
    "ax1.plot(accuracy_stack)\n",
    "ax1.set_xlabel(\"step\")\n",
    "plt.show()"
   ],
   "metadata": {
    "collapsed": false,
    "pycharm": {
     "name": "#%%\n"
    }
   }
  },
  {
   "cell_type": "code",
   "execution_count": 17,
   "outputs": [
    {
     "data": {
      "text/plain": "Net(\n  (fc1): Linear(in_features=104, out_features=2, bias=True)\n  (fc2): Linear(in_features=2, out_features=2, bias=True)\n  (fc3): Linear(in_features=2, out_features=2, bias=True)\n  (relu): ReLU()\n)"
     },
     "execution_count": 17,
     "metadata": {},
     "output_type": "execute_result"
    }
   ],
   "source": [
    "sgd_model\n",
    "\n"
   ],
   "metadata": {
    "collapsed": false,
    "pycharm": {
     "name": "#%%\n"
    }
   }
  },
  {
   "cell_type": "code",
   "execution_count": 18,
   "outputs": [
    {
     "data": {
      "text/plain": "tensor([[-34.3996, -30.9150],\n        [-48.3616, -40.6486],\n        [-50.2859, -41.2674],\n        ...,\n        [-49.8590, -40.4195],\n        [-39.6771, -32.5085],\n        [-52.0735, -40.7323]], grad_fn=<LogSoftmaxBackward>)"
     },
     "execution_count": 18,
     "metadata": {},
     "output_type": "execute_result"
    }
   ],
   "source": [
    "sgd_model(torch.Tensor(X_test).float())"
   ],
   "metadata": {
    "collapsed": false,
    "pycharm": {
     "name": "#%%\n"
    }
   }
  },
  {
   "cell_type": "code",
   "execution_count": 19,
   "outputs": [
    {
     "data": {
      "text/plain": "(array([11360,     0,     0,     0,     0,     0,     0,     0,     0,\n         3700]),\n array([0. , 0.1, 0.2, 0.3, 0.4, 0.5, 0.6, 0.7, 0.8, 0.9, 1. ]))"
     },
     "execution_count": 19,
     "metadata": {},
     "output_type": "execute_result"
    }
   ],
   "source": [
    "\n",
    "np.histogram(y_test)"
   ],
   "metadata": {
    "collapsed": false,
    "pycharm": {
     "name": "#%%\n"
    }
   }
  },
  {
   "cell_type": "code",
   "execution_count": 19,
   "outputs": [],
   "source": [],
   "metadata": {
    "collapsed": false,
    "pycharm": {
     "name": "#%%\n"
    }
   }
  }
 ],
 "metadata": {
  "kernelspec": {
   "display_name": "Python 3",
   "language": "python",
   "name": "python3"
  },
  "language_info": {
   "codemirror_mode": {
    "name": "ipython",
    "version": 2
   },
   "file_extension": ".py",
   "mimetype": "text/x-python",
   "name": "python",
   "nbconvert_exporter": "python",
   "pygments_lexer": "ipython2",
   "version": "2.7.6"
  }
 },
 "nbformat": 4,
 "nbformat_minor": 0
}