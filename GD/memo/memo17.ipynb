{
 "cells": [
  {
   "cell_type": "code",
   "execution_count": 21,
   "metadata": {
    "collapsed": true
   },
   "outputs": [],
   "source": [
    "import matplotlib.pyplot as plt\n",
    "import pandas as pd\n",
    "import numpy as np\n",
    "\n",
    "from ML2_lib import loss\n",
    "from ML2_lib import plot_set\n",
    "from ML2_lib import RVSGD_exp\n",
    "from ML2_lib import additive_noise"
   ]
  },
  {
   "cell_type": "code",
   "execution_count": 22,
   "outputs": [],
   "source": [
    "d = 2\n",
    "trial_num = 100\n",
    "lr = 0.001\n",
    "noise = \"student_t\"\n",
    "c = 1\n",
    "w_init = np.array([2,2])\n",
    "E_var = 5\n",
    "n = 10000\n",
    "k_list = [0,1,3,4,9]"
   ],
   "metadata": {
    "collapsed": false,
    "pycharm": {
     "name": "#%%\n"
    }
   }
  },
  {
   "cell_type": "code",
   "execution_count": 22,
   "outputs": [],
   "source": [],
   "metadata": {
    "collapsed": false,
    "pycharm": {
     "name": "#%%\n"
    }
   }
  },
  {
   "cell_type": "code",
   "execution_count": 36,
   "outputs": [],
   "source": [
    "\n",
    "hoge = additive_noise.Noise(dim=10000, mean=0, sigma=0.7, n=1)"
   ],
   "metadata": {
    "collapsed": false,
    "pycharm": {
     "name": "#%%\n"
    }
   }
  },
  {
   "cell_type": "code",
   "execution_count": 37,
   "outputs": [],
   "source": [
    "s_t = hoge.lognormal()"
   ],
   "metadata": {
    "collapsed": false,
    "pycharm": {
     "name": "#%%\n"
    }
   }
  },
  {
   "cell_type": "code",
   "execution_count": 38,
   "outputs": [
    {
     "data": {
      "text/plain": "<Figure size 432x288 with 1 Axes>",
      "image/png": "[encoded data removed]"
     },
     "metadata": {
      "needs_background": "light"
     },
     "output_type": "display_data"
    }
   ],
   "source": [
    "\n",
    "h = plt.hist(s_t,bins=100)"
   ],
   "metadata": {
    "collapsed": false,
    "pycharm": {
     "name": "#%%\n"
    }
   }
  },
  {
   "cell_type": "code",
   "execution_count": 7,
   "outputs": [],
   "source": [
    "hoge = additive_noise.Noise(dim=1000, mean=0, sigma=1.75, n=1)\n",
    "s = hoge.lognormal()"
   ],
   "metadata": {
    "collapsed": false,
    "pycharm": {
     "name": "#%%\n"
    }
   }
  },
  {
   "cell_type": "code",
   "execution_count": 26,
   "outputs": [
    {
     "data": {
      "text/plain": "(array([724., 123.,  42.,  29.,  22.,  11.,   6.,   7.,   6.,   2.,   1.,\n          2.,   2.,   1.,   1.,   1.,   2.,   2.,   2.,   0.,   1.,   1.,\n          0.,   0.,   0.,   0.,   0.,   1.,   0.,   0.,   0.,   1.,   0.,\n          1.,   0.,   0.,   1.,   0.,   0.,   0.,   0.,   1.,   0.,   0.,\n          0.,   0.,   0.,   0.,   0.,   2.,   0.,   0.,   0.,   0.,   1.,\n          0.,   0.,   0.,   0.,   0.,   0.,   0.,   0.,   0.,   0.,   0.,\n          0.,   1.,   0.,   1.,   0.,   0.,   0.,   0.,   0.,   0.,   0.,\n          1.,   0.,   0.,   0.,   0.,   0.,   0.,   0.,   0.,   0.,   0.,\n          0.,   0.,   0.,   0.,   0.,   0.,   0.,   0.,   0.,   0.,   0.,\n          1.]),\n array([ -4.62252851,  -1.66783462,   1.28685927,   4.24155315,\n          7.19624704,  10.15094092,  13.10563481,  16.06032869,\n         19.01502258,  21.96971646,  24.92441035,  27.87910423,\n         30.83379812,  33.78849201,  36.74318589,  39.69787978,\n         42.65257366,  45.60726755,  48.56196143,  51.51665532,\n         54.4713492 ,  57.42604309,  60.38073697,  63.33543086,\n         66.29012474,  69.24481863,  72.19951252,  75.1542064 ,\n         78.10890029,  81.06359417,  84.01828806,  86.97298194,\n         89.92767583,  92.88236971,  95.8370636 ,  98.79175748,\n        101.74645137, 104.70114526, 107.65583914, 110.61053303,\n        113.56522691, 116.5199208 , 119.47461468, 122.42930857,\n        125.38400245, 128.33869634, 131.29339022, 134.24808411,\n        137.202778  , 140.15747188, 143.11216577, 146.06685965,\n        149.02155354, 151.97624742, 154.93094131, 157.88563519,\n        160.84032908, 163.79502296, 166.74971685, 169.70441074,\n        172.65910462, 175.61379851, 178.56849239, 181.52318628,\n        184.47788016, 187.43257405, 190.38726793, 193.34196182,\n        196.2966557 , 199.25134959, 202.20604348, 205.16073736,\n        208.11543125, 211.07012513, 214.02481902, 216.9795129 ,\n        219.93420679, 222.88890067, 225.84359456, 228.79828844,\n        231.75298233, 234.70767621, 237.6623701 , 240.61706399,\n        243.57175787, 246.52645176, 249.48114564, 252.43583953,\n        255.39053341, 258.3452273 , 261.29992118, 264.25461507,\n        267.20930895, 270.16400284, 273.11869673, 276.07339061,\n        279.0280845 , 281.98277838, 284.93747227, 287.89216615,\n        290.84686004]),\n <BarContainer object of 100 artists>)"
     },
     "execution_count": 26,
     "metadata": {},
     "output_type": "execute_result"
    },
    {
     "data": {
      "text/plain": "<Figure size 432x288 with 1 Axes>",
      "image/png": "[encoded data removed]"
     },
     "metadata": {
      "needs_background": "light"
     },
     "output_type": "display_data"
    }
   ],
   "source": [
    "\n",
    "plt.hist(s,bins=100)"
   ],
   "metadata": {
    "collapsed": false,
    "pycharm": {
     "name": "#%%\n"
    }
   }
  },
  {
   "cell_type": "code",
   "execution_count": 27,
   "outputs": [
    {
     "data": {
      "text/plain": "0.0012905379311719657"
     },
     "execution_count": 27,
     "metadata": {},
     "output_type": "execute_result"
    }
   ],
   "source": [
    "np.mean(s_t)"
   ],
   "metadata": {
    "collapsed": false,
    "pycharm": {
     "name": "#%%\n"
    }
   }
  },
  {
   "cell_type": "code",
   "execution_count": 29,
   "outputs": [
    {
     "data": {
      "text/plain": "(array([1.000e+00, 0.000e+00, 0.000e+00, 0.000e+00, 0.000e+00, 0.000e+00,\n        0.000e+00, 0.000e+00, 0.000e+00, 0.000e+00, 0.000e+00, 0.000e+00,\n        0.000e+00, 0.000e+00, 0.000e+00, 0.000e+00, 0.000e+00, 0.000e+00,\n        1.000e+00, 0.000e+00, 0.000e+00, 0.000e+00, 0.000e+00, 0.000e+00,\n        0.000e+00, 0.000e+00, 1.000e+00, 1.000e+00, 0.000e+00, 1.000e+00,\n        0.000e+00, 2.000e+00, 0.000e+00, 3.000e+00, 1.000e+00, 0.000e+00,\n        1.000e+00, 0.000e+00, 3.000e+00, 1.000e+00, 9.000e+00, 3.000e+00,\n        3.000e+00, 3.000e+00, 3.000e+00, 1.500e+01, 1.500e+01, 2.000e+01,\n        3.800e+01, 4.400e+01, 7.500e+01, 1.440e+02, 2.170e+02, 3.850e+02,\n        6.590e+02, 1.054e+03, 1.689e+03, 1.808e+03, 1.479e+03, 9.380e+02,\n        5.710e+02, 3.310e+02, 1.920e+02, 1.030e+02, 5.900e+01, 3.800e+01,\n        1.400e+01, 2.200e+01, 1.000e+01, 8.000e+00, 4.000e+00, 4.000e+00,\n        9.000e+00, 5.000e+00, 1.000e+00, 2.000e+00, 3.000e+00, 1.000e+00,\n        0.000e+00, 1.000e+00, 1.000e+00, 0.000e+00, 1.000e+00, 0.000e+00,\n        0.000e+00, 0.000e+00, 0.000e+00, 0.000e+00, 0.000e+00, 0.000e+00,\n        1.000e+00, 0.000e+00, 0.000e+00, 1.000e+00, 0.000e+00, 0.000e+00,\n        0.000e+00, 0.000e+00, 0.000e+00, 1.000e+00]),\n array([-29.13462319, -28.6264055 , -28.1181878 , -27.60997011,\n        -27.10175241, -26.59353472, -26.08531702, -25.57709933,\n        -25.06888164, -24.56066394, -24.05244625, -23.54422855,\n        -23.03601086, -22.52779316, -22.01957547, -21.51135778,\n        -21.00314008, -20.49492239, -19.98670469, -19.478487  ,\n        -18.9702693 , -18.46205161, -17.95383392, -17.44561622,\n        -16.93739853, -16.42918083, -15.92096314, -15.41274544,\n        -14.90452775, -14.39631006, -13.88809236, -13.37987467,\n        -12.87165697, -12.36343928, -11.85522158, -11.34700389,\n        -10.8387862 , -10.3305685 ,  -9.82235081,  -9.31413311,\n         -8.80591542,  -8.29769772,  -7.78948003,  -7.28126234,\n         -6.77304464,  -6.26482695,  -5.75660925,  -5.24839156,\n         -4.74017386,  -4.23195617,  -3.72373848,  -3.21552078,\n         -2.70730309,  -2.19908539,  -1.6908677 ,  -1.18265   ,\n         -0.67443231,  -0.16621462,   0.34200308,   0.85022077,\n          1.35843847,   1.86665616,   2.37487386,   2.88309155,\n          3.39130924,   3.89952694,   4.40774463,   4.91596233,\n          5.42418002,   5.93239772,   6.44061541,   6.9488331 ,\n          7.4570508 ,   7.96526849,   8.47348619,   8.98170388,\n          9.48992157,   9.99813927,  10.50635696,  11.01457466,\n         11.52279235,  12.03101005,  12.53922774,  13.04744543,\n         13.55566313,  14.06388082,  14.57209852,  15.08031621,\n         15.58853391,  16.0967516 ,  16.60496929,  17.11318699,\n         17.62140468,  18.12962238,  18.63784007,  19.14605777,\n         19.65427546,  20.16249315,  20.67071085,  21.17892854,\n         21.68714624]),\n <BarContainer object of 100 artists>)"
     },
     "execution_count": 29,
     "metadata": {},
     "output_type": "execute_result"
    },
    {
     "data": {
      "text/plain": "<Figure size 432x288 with 1 Axes>",
      "image/png": "[encoded data removed]"
     },
     "metadata": {
      "needs_background": "light"
     },
     "output_type": "display_data"
    }
   ],
   "source": [
    "hoge = additive_noise.Noise(dim=10000, mean=0, sigma=3, n=1)\n",
    "s_t = hoge.student_t()\n",
    "plt.hist(s_t,bins=100)"
   ],
   "metadata": {
    "collapsed": false,
    "pycharm": {
     "name": "#%%\n"
    }
   }
  },
  {
   "cell_type": "code",
   "execution_count": null,
   "outputs": [],
   "source": [],
   "metadata": {
    "collapsed": false,
    "pycharm": {
     "name": "#%%\n"
    }
   }
  }
 ],
 "metadata": {
  "kernelspec": {
   "display_name": "Python 3",
   "language": "python",
   "name": "python3"
  },
  "language_info": {
   "codemirror_mode": {
    "name": "ipython",
    "version": 2
   },
   "file_extension": ".py",
   "mimetype": "text/x-python",
   "name": "python",
   "nbconvert_exporter": "python",
   "pygments_lexer": "ipython2",
   "version": "2.7.6"
  }
 },
 "nbformat": 4,
 "nbformat_minor": 0
}