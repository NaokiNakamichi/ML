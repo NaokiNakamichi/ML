{
 "cells": [
  {
   "cell_type": "code",
   "execution_count": 2,
   "metadata": {
    "collapsed": true
   },
   "outputs": [],
   "source": [
    "import matplotlib.pyplot as plt\n",
    "import pandas as pd\n",
    "import numpy as np\n",
    "\n",
    "from ML2_lib import loss\n",
    "from ML2_lib import plot_set\n",
    "from ML2_lib import RVSGD_exp\n",
    "from ML2_lib import additive_noise"
   ]
  },
  {
   "cell_type": "code",
   "execution_count": 3,
   "outputs": [],
   "source": [
    "d = 2\n",
    "trial_num = 100\n",
    "lr = 0.001\n",
    "noise = \"student_t\"\n",
    "c = 1\n",
    "w_init = np.array([2,2])\n",
    "E_var = 5\n",
    "n = 10000\n",
    "k_list = [0,1,3,4,9]"
   ],
   "metadata": {
    "collapsed": false,
    "pycharm": {
     "name": "#%%\n"
    }
   }
  },
  {
   "cell_type": "code",
   "execution_count": 3,
   "outputs": [],
   "source": [],
   "metadata": {
    "collapsed": false,
    "pycharm": {
     "name": "#%%\n"
    }
   }
  },
  {
   "cell_type": "code",
   "execution_count": 4,
   "outputs": [],
   "source": [
    "\n",
    "hoge = additive_noise.Noise(dim=10000, mean=0, sigma=2.2, n=1)"
   ],
   "metadata": {
    "collapsed": false,
    "pycharm": {
     "name": "#%%\n"
    }
   }
  },
  {
   "cell_type": "code",
   "execution_count": 5,
   "outputs": [],
   "source": [
    "s_t = hoge.normal()"
   ],
   "metadata": {
    "collapsed": false,
    "pycharm": {
     "name": "#%%\n"
    }
   }
  },
  {
   "cell_type": "code",
   "execution_count": 6,
   "outputs": [
    {
     "data": {
      "text/plain": "<Figure size 432x288 with 1 Axes>",
      "image/png": "[encoded data removed]"
     },
     "metadata": {
      "needs_background": "light"
     },
     "output_type": "display_data"
    }
   ],
   "source": [
    "\n",
    "h = plt.hist(s_t,bins=100)"
   ],
   "metadata": {
    "collapsed": false,
    "pycharm": {
     "name": "#%%\n"
    }
   }
  },
  {
   "cell_type": "code",
   "execution_count": 7,
   "outputs": [],
   "source": [
    "hoge = additive_noise.Noise(dim=1000, mean=0, sigma=1.75, n=1)\n",
    "s = hoge.lognormal()"
   ],
   "metadata": {
    "collapsed": false,
    "pycharm": {
     "name": "#%%\n"
    }
   }
  },
  {
   "cell_type": "code",
   "execution_count": 8,
   "outputs": [
    {
     "data": {
      "text/plain": "(array([724., 123.,  42.,  29.,  22.,  11.,   6.,   7.,   6.,   2.,   1.,\n          2.,   2.,   1.,   1.,   1.,   2.,   2.,   2.,   0.,   1.,   1.,\n          0.,   0.,   0.,   0.,   0.,   1.,   0.,   0.,   0.,   1.,   0.,\n          1.,   0.,   0.,   1.,   0.,   0.,   0.,   0.,   1.,   0.,   0.,\n          0.,   0.,   0.,   0.,   0.,   2.,   0.,   0.,   0.,   0.,   1.,\n          0.,   0.,   0.,   0.,   0.,   0.,   0.,   0.,   0.,   0.,   0.,\n          0.,   1.,   0.,   1.,   0.,   0.,   0.,   0.,   0.,   0.,   0.,\n          1.,   0.,   0.,   0.,   0.,   0.,   0.,   0.,   0.,   0.,   0.,\n          0.,   0.,   0.,   0.,   0.,   0.,   0.,   0.,   0.,   0.,   0.,\n          1.]),\n array([ -4.62252851,  -1.66783462,   1.28685927,   4.24155315,\n          7.19624704,  10.15094092,  13.10563481,  16.06032869,\n         19.01502258,  21.96971646,  24.92441035,  27.87910423,\n         30.83379812,  33.78849201,  36.74318589,  39.69787978,\n         42.65257366,  45.60726755,  48.56196143,  51.51665532,\n         54.4713492 ,  57.42604309,  60.38073697,  63.33543086,\n         66.29012474,  69.24481863,  72.19951252,  75.1542064 ,\n         78.10890029,  81.06359417,  84.01828806,  86.97298194,\n         89.92767583,  92.88236971,  95.8370636 ,  98.79175748,\n        101.74645137, 104.70114526, 107.65583914, 110.61053303,\n        113.56522691, 116.5199208 , 119.47461468, 122.42930857,\n        125.38400245, 128.33869634, 131.29339022, 134.24808411,\n        137.202778  , 140.15747188, 143.11216577, 146.06685965,\n        149.02155354, 151.97624742, 154.93094131, 157.88563519,\n        160.84032908, 163.79502296, 166.74971685, 169.70441074,\n        172.65910462, 175.61379851, 178.56849239, 181.52318628,\n        184.47788016, 187.43257405, 190.38726793, 193.34196182,\n        196.2966557 , 199.25134959, 202.20604348, 205.16073736,\n        208.11543125, 211.07012513, 214.02481902, 216.9795129 ,\n        219.93420679, 222.88890067, 225.84359456, 228.79828844,\n        231.75298233, 234.70767621, 237.6623701 , 240.61706399,\n        243.57175787, 246.52645176, 249.48114564, 252.43583953,\n        255.39053341, 258.3452273 , 261.29992118, 264.25461507,\n        267.20930895, 270.16400284, 273.11869673, 276.07339061,\n        279.0280845 , 281.98277838, 284.93747227, 287.89216615,\n        290.84686004]),\n <BarContainer object of 100 artists>)"
     },
     "execution_count": 8,
     "metadata": {},
     "output_type": "execute_result"
    },
    {
     "data": {
      "text/plain": "<Figure size 432x288 with 1 Axes>",
      "image/png": "[encoded data removed]"
     },
     "metadata": {
      "needs_background": "light"
     },
     "output_type": "display_data"
    }
   ],
   "source": [
    "\n",
    "plt.hist(s,bins=100)"
   ],
   "metadata": {
    "collapsed": false,
    "pycharm": {
     "name": "#%%\n"
    }
   }
  },
  {
   "cell_type": "code",
   "execution_count": 9,
   "outputs": [
    {
     "data": {
      "text/plain": "0.005797537827014122"
     },
     "execution_count": 9,
     "metadata": {},
     "output_type": "execute_result"
    }
   ],
   "source": [
    "np.mean(s_t)"
   ],
   "metadata": {
    "collapsed": false,
    "pycharm": {
     "name": "#%%\n"
    }
   }
  },
  {
   "cell_type": "code",
   "execution_count": 17,
   "outputs": [
    {
     "data": {
      "text/plain": "(array([1.000e+00, 0.000e+00, 0.000e+00, 0.000e+00, 0.000e+00, 0.000e+00,\n        0.000e+00, 0.000e+00, 0.000e+00, 0.000e+00, 0.000e+00, 0.000e+00,\n        0.000e+00, 0.000e+00, 0.000e+00, 0.000e+00, 1.000e+00, 0.000e+00,\n        0.000e+00, 0.000e+00, 0.000e+00, 2.000e+00, 0.000e+00, 0.000e+00,\n        0.000e+00, 1.000e+00, 0.000e+00, 0.000e+00, 0.000e+00, 1.000e+00,\n        2.000e+00, 4.000e+00, 0.000e+00, 0.000e+00, 4.000e+00, 1.000e+00,\n        3.000e+00, 6.000e+00, 7.000e+00, 1.200e+01, 1.800e+01, 2.900e+01,\n        7.000e+01, 2.350e+02, 1.722e+03, 6.976e+03, 6.230e+02, 1.300e+02,\n        5.400e+01, 2.200e+01, 1.700e+01, 1.600e+01, 9.000e+00, 8.000e+00,\n        9.000e+00, 1.000e+00, 4.000e+00, 1.000e+00, 2.000e+00, 1.000e+00,\n        1.000e+00, 0.000e+00, 1.000e+00, 1.000e+00, 0.000e+00, 0.000e+00,\n        0.000e+00, 1.000e+00, 0.000e+00, 0.000e+00, 0.000e+00, 0.000e+00,\n        0.000e+00, 1.000e+00, 0.000e+00, 0.000e+00, 0.000e+00, 0.000e+00,\n        0.000e+00, 0.000e+00, 1.000e+00, 0.000e+00, 0.000e+00, 0.000e+00,\n        1.000e+00, 0.000e+00, 0.000e+00, 0.000e+00, 0.000e+00, 0.000e+00,\n        0.000e+00, 0.000e+00, 0.000e+00, 0.000e+00, 0.000e+00, 0.000e+00,\n        0.000e+00, 0.000e+00, 0.000e+00, 1.000e+00]),\n array([-152.95389163, -149.57863693, -146.20338224, -142.82812755,\n        -139.45287285, -136.07761816, -132.70236346, -129.32710877,\n        -125.95185407, -122.57659938, -119.20134468, -115.82608999,\n        -112.45083529, -109.0755806 , -105.7003259 , -102.32507121,\n         -98.94981652,  -95.57456182,  -92.19930713,  -88.82405243,\n         -85.44879774,  -82.07354304,  -78.69828835,  -75.32303365,\n         -71.94777896,  -68.57252426,  -65.19726957,  -61.82201487,\n         -58.44676018,  -55.07150548,  -51.69625079,  -48.3209961 ,\n         -44.9457414 ,  -41.57048671,  -38.19523201,  -34.81997732,\n         -31.44472262,  -28.06946793,  -24.69421323,  -21.31895854,\n         -17.94370384,  -14.56844915,  -11.19319445,   -7.81793976,\n          -4.44268507,   -1.06743037,    2.30782432,    5.68307902,\n           9.05833371,   12.43358841,   15.8088431 ,   19.1840978 ,\n          22.55935249,   25.93460719,   29.30986188,   32.68511658,\n          36.06037127,   39.43562597,   42.81088066,   46.18613535,\n          49.56139005,   52.93664474,   56.31189944,   59.68715413,\n          63.06240883,   66.43766352,   69.81291822,   73.18817291,\n          76.56342761,   79.9386823 ,   83.313937  ,   86.68919169,\n          90.06444638,   93.43970108,   96.81495577,  100.19021047,\n         103.56546516,  106.94071986,  110.31597455,  113.69122925,\n         117.06648394,  120.44173864,  123.81699333,  127.19224803,\n         130.56750272,  133.94275742,  137.31801211,  140.6932668 ,\n         144.0685215 ,  147.44377619,  150.81903089,  154.19428558,\n         157.56954028,  160.94479497,  164.32004967,  167.69530436,\n         171.07055906,  174.44581375,  177.82106845,  181.19632314,\n         184.57157783]),\n <BarContainer object of 100 artists>)"
     },
     "execution_count": 17,
     "metadata": {},
     "output_type": "execute_result"
    },
    {
     "data": {
      "text/plain": "<Figure size 432x288 with 1 Axes>",
      "image/png": "[encoded data removed]"
     },
     "metadata": {
      "needs_background": "light"
     },
     "output_type": "display_data"
    }
   ],
   "source": [
    "hoge = additive_noise.Noise(dim=10000, mean=0, sigma=1.5, n=1)\n",
    "s_t = hoge.student_t()\n",
    "plt.hist(s_t,bins=100)"
   ],
   "metadata": {
    "collapsed": false,
    "pycharm": {
     "name": "#%%\n"
    }
   }
  },
  {
   "cell_type": "code",
   "execution_count": null,
   "outputs": [],
   "source": [],
   "metadata": {
    "collapsed": false,
    "pycharm": {
     "name": "#%%\n"
    }
   }
  }
 ],
 "metadata": {
  "kernelspec": {
   "display_name": "Python 3",
   "language": "python",
   "name": "python3"
  },
  "language_info": {
   "codemirror_mode": {
    "name": "ipython",
    "version": 2
   },
   "file_extension": ".py",
   "mimetype": "text/x-python",
   "name": "python",
   "nbconvert_exporter": "python",
   "pygments_lexer": "ipython2",
   "version": "2.7.6"
  }
 },
 "nbformat": 4,
 "nbformat_minor": 0
}