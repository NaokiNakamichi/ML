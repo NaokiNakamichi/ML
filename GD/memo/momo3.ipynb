{
 "cells": [
  {
   "cell_type": "code",
   "execution_count": 1,
   "metadata": {
    "collapsed": true
   },
   "outputs": [],
   "source": [
    "import numpy as np\n",
    "import miniball\n",
    "import matplotlib.pyplot as plt\n",
    "import pandas as pd\n",
    "from tqdm.notebook import tqdm\n",
    "\n",
    "from ML2_lib import loss\n",
    "from ML2_lib import noise\n",
    "from ML2_lib import algo_sgd\n",
    "from  ML2_lib import merge\n",
    "from ML2_lib import DC_SGD"
   ]
  },
  {
   "cell_type": "code",
   "execution_count": 2,
   "outputs": [],
   "source": [
    "# データ生成デモ Gauss\n",
    "X_mean = 5\n",
    "X_var = 2\n",
    "w_star = np.array([1])\n",
    "w_star = w_star.reshape(1,-1)\n",
    "d = w_star.shape[1]\n",
    "n = 1000\n",
    "rng = np.random.default_rng()\n",
    "X = rng.normal(loc=X_mean,size=(n,d),scale=X_var)\n",
    "E = rng.normal(loc=0,scale=1,size=(1,n))\n",
    "Y = np.dot(w_star,X.T) + E\n",
    "\n"
   ],
   "metadata": {
    "collapsed": false,
    "pycharm": {
     "name": "#%%\n"
    }
   }
  },
  {
   "cell_type": "code",
   "execution_count": 3,
   "outputs": [],
   "source": [
    "\n",
    "a = loss.LinearQuadraticLoss()\n",
    "w_init = np.zeros(d)\n",
    "data = [X,Y.T]\n",
    "lr = 0.01\n",
    "core = algo_sgd.SGD(w_init=w_init,a=lr,t_max=n-1,data=data)\n",
    "for _ in core:\n",
    "    core.update(a)\n"
   ],
   "metadata": {
    "collapsed": false,
    "pycharm": {
     "name": "#%%\n"
    }
   }
  },
  {
   "cell_type": "code",
   "execution_count": 4,
   "outputs": [
    {
     "data": {
      "text/plain": "array([1.03367851])"
     },
     "execution_count": 4,
     "metadata": {},
     "output_type": "execute_result"
    }
   ],
   "source": [
    "\n",
    "core.w\n"
   ],
   "metadata": {
    "collapsed": false,
    "pycharm": {
     "name": "#%%\n"
    }
   }
  },
  {
   "cell_type": "code",
   "execution_count": 5,
   "outputs": [
    {
     "data": {
      "text/plain": "  0%|          | 0/10 [00:00<?, ?it/s]",
      "application/vnd.jupyter.widget-view+json": {
       "version_major": 2,
       "version_minor": 0,
       "model_id": "4166ca1d1c4b405d845b46234fba318b"
      }
     },
     "metadata": {},
     "output_type": "display_data"
    },
    {
     "ename": "KeyboardInterrupt",
     "evalue": "",
     "output_type": "error",
     "traceback": [
      "\u001B[0;31m---------------------------------------------------------------------------\u001B[0m",
      "\u001B[0;31mKeyboardInterrupt\u001B[0m                         Traceback (most recent call last)",
      "\u001B[0;32m<ipython-input-5-26ea172397c0>\u001B[0m in \u001B[0;36m<module>\u001B[0;34m\u001B[0m\n\u001B[1;32m     38\u001B[0m \u001B[0;34m\u001B[0m\u001B[0m\n\u001B[1;32m     39\u001B[0m \u001B[0;34m\u001B[0m\u001B[0m\n\u001B[0;32m---> 40\u001B[0;31m         \u001B[0mw_dc\u001B[0m\u001B[0;34m,\u001B[0m\u001B[0m_\u001B[0m \u001B[0;34m=\u001B[0m \u001B[0mminiball\u001B[0m\u001B[0;34m.\u001B[0m\u001B[0mget_bounding_ball\u001B[0m\u001B[0;34m(\u001B[0m\u001B[0mnp\u001B[0m\u001B[0;34m.\u001B[0m\u001B[0marray\u001B[0m\u001B[0;34m(\u001B[0m\u001B[0mmodel_store\u001B[0m\u001B[0;34m)\u001B[0m\u001B[0;34m.\u001B[0m\u001B[0mreshape\u001B[0m\u001B[0;34m(\u001B[0m\u001B[0;34m(\u001B[0m\u001B[0;34m-\u001B[0m\u001B[0;36m1\u001B[0m\u001B[0;34m,\u001B[0m\u001B[0md\u001B[0m\u001B[0;34m)\u001B[0m\u001B[0;34m)\u001B[0m\u001B[0;34m,\u001B[0m \u001B[0mepsilon\u001B[0m\u001B[0;34m=\u001B[0m\u001B[0;36m1e-7\u001B[0m\u001B[0;34m)\u001B[0m\u001B[0;34m\u001B[0m\u001B[0;34m\u001B[0m\u001B[0m\n\u001B[0m\u001B[1;32m     41\u001B[0m         \u001B[0mw_dc\u001B[0m \u001B[0;34m=\u001B[0m \u001B[0mw_dc\u001B[0m\u001B[0;34m.\u001B[0m\u001B[0mreshape\u001B[0m\u001B[0;34m(\u001B[0m\u001B[0;36m1\u001B[0m\u001B[0;34m,\u001B[0m\u001B[0;34m-\u001B[0m\u001B[0;36m1\u001B[0m\u001B[0;34m)\u001B[0m\u001B[0;34m\u001B[0m\u001B[0;34m\u001B[0m\u001B[0m\n\u001B[1;32m     42\u001B[0m         \u001B[0mw_trial\u001B[0m\u001B[0;34m.\u001B[0m\u001B[0mappend\u001B[0m\u001B[0;34m(\u001B[0m\u001B[0mw_dc\u001B[0m\u001B[0;34m)\u001B[0m\u001B[0;34m\u001B[0m\u001B[0;34m\u001B[0m\u001B[0m\n",
      "\u001B[0;32m~/.pyenv/versions/3.8.6/envs/ML2/lib/python3.8/site-packages/miniball.py\u001B[0m in \u001B[0;36mget_bounding_ball\u001B[0;34m(S, epsilon, rng)\u001B[0m\n\u001B[1;32m    125\u001B[0m     \u001B[0mS\u001B[0m \u001B[0;34m=\u001B[0m \u001B[0mS\u001B[0m\u001B[0;34m.\u001B[0m\u001B[0mastype\u001B[0m\u001B[0;34m(\u001B[0m\u001B[0mfloat\u001B[0m\u001B[0;34m,\u001B[0m \u001B[0mcopy\u001B[0m\u001B[0;34m=\u001B[0m\u001B[0;32mFalse\u001B[0m\u001B[0;34m)\u001B[0m\u001B[0;34m\u001B[0m\u001B[0;34m\u001B[0m\u001B[0m\n\u001B[1;32m    126\u001B[0m     \u001B[0mroot\u001B[0m \u001B[0;34m=\u001B[0m \u001B[0mNode\u001B[0m\u001B[0;34m(\u001B[0m\u001B[0mrange\u001B[0m\u001B[0;34m(\u001B[0m\u001B[0mS\u001B[0m\u001B[0;34m.\u001B[0m\u001B[0mshape\u001B[0m\u001B[0;34m[\u001B[0m\u001B[0;36m0\u001B[0m\u001B[0;34m]\u001B[0m\u001B[0;34m)\u001B[0m\u001B[0;34m,\u001B[0m \u001B[0;34m[\u001B[0m\u001B[0;34m]\u001B[0m\u001B[0;34m)\u001B[0m\u001B[0;34m\u001B[0m\u001B[0;34m\u001B[0m\u001B[0m\n\u001B[0;32m--> 127\u001B[0;31m     \u001B[0mtraverse\u001B[0m\u001B[0;34m(\u001B[0m\u001B[0mroot\u001B[0m\u001B[0;34m)\u001B[0m\u001B[0;34m\u001B[0m\u001B[0;34m\u001B[0m\u001B[0m\n\u001B[0m\u001B[1;32m    128\u001B[0m     \u001B[0;32mreturn\u001B[0m \u001B[0mroot\u001B[0m\u001B[0;34m.\u001B[0m\u001B[0mD\u001B[0m\u001B[0;34m\u001B[0m\u001B[0;34m\u001B[0m\u001B[0m\n",
      "\u001B[0;32m~/.pyenv/versions/3.8.6/envs/ML2/lib/python3.8/site-packages/miniball.py\u001B[0m in \u001B[0;36mtraverse\u001B[0;34m(node)\u001B[0m\n\u001B[1;32m    114\u001B[0m                 \u001B[0mstack\u001B[0m\u001B[0;34m.\u001B[0m\u001B[0mextend\u001B[0m\u001B[0;34m(\u001B[0m\u001B[0;34m(\u001B[0m\u001B[0mnode\u001B[0m\u001B[0;34m,\u001B[0m \u001B[0mnode\u001B[0m\u001B[0;34m.\u001B[0m\u001B[0mleft\u001B[0m\u001B[0;34m)\u001B[0m\u001B[0;34m)\u001B[0m\u001B[0;34m\u001B[0m\u001B[0;34m\u001B[0m\u001B[0m\n\u001B[1;32m    115\u001B[0m             \u001B[0;32melif\u001B[0m \u001B[0mnode\u001B[0m\u001B[0;34m.\u001B[0m\u001B[0mright\u001B[0m \u001B[0;32mis\u001B[0m \u001B[0;32mNone\u001B[0m\u001B[0;34m:\u001B[0m\u001B[0;34m\u001B[0m\u001B[0;34m\u001B[0m\u001B[0m\n\u001B[0;32m--> 116\u001B[0;31m                 \u001B[0;32mif\u001B[0m \u001B[0mcircle_contains\u001B[0m\u001B[0;34m(\u001B[0m\u001B[0mnode\u001B[0m\u001B[0;34m.\u001B[0m\u001B[0mleft\u001B[0m\u001B[0;34m.\u001B[0m\u001B[0mD\u001B[0m\u001B[0;34m,\u001B[0m \u001B[0mS\u001B[0m\u001B[0;34m[\u001B[0m\u001B[0mnode\u001B[0m\u001B[0;34m.\u001B[0m\u001B[0mpivot\u001B[0m\u001B[0;34m]\u001B[0m\u001B[0;34m)\u001B[0m\u001B[0;34m:\u001B[0m\u001B[0;34m\u001B[0m\u001B[0;34m\u001B[0m\u001B[0m\n\u001B[0m\u001B[1;32m    117\u001B[0m                     \u001B[0mnode\u001B[0m\u001B[0;34m.\u001B[0m\u001B[0mD\u001B[0m \u001B[0;34m=\u001B[0m \u001B[0mnode\u001B[0m\u001B[0;34m.\u001B[0m\u001B[0mleft\u001B[0m\u001B[0;34m.\u001B[0m\u001B[0mD\u001B[0m\u001B[0;34m\u001B[0m\u001B[0;34m\u001B[0m\u001B[0m\n\u001B[1;32m    118\u001B[0m                 \u001B[0;32melse\u001B[0m\u001B[0;34m:\u001B[0m\u001B[0;34m\u001B[0m\u001B[0;34m\u001B[0m\u001B[0m\n",
      "\u001B[0;32m~/.pyenv/versions/3.8.6/envs/ML2/lib/python3.8/site-packages/miniball.py\u001B[0m in \u001B[0;36mcircle_contains\u001B[0;34m(D, p)\u001B[0m\n\u001B[1;32m     80\u001B[0m     \u001B[0;32mdef\u001B[0m \u001B[0mcircle_contains\u001B[0m\u001B[0;34m(\u001B[0m\u001B[0mD\u001B[0m\u001B[0;34m,\u001B[0m \u001B[0mp\u001B[0m\u001B[0;34m)\u001B[0m\u001B[0;34m:\u001B[0m\u001B[0;34m\u001B[0m\u001B[0;34m\u001B[0m\u001B[0m\n\u001B[1;32m     81\u001B[0m         \u001B[0mc\u001B[0m\u001B[0;34m,\u001B[0m \u001B[0mr2\u001B[0m \u001B[0;34m=\u001B[0m \u001B[0mD\u001B[0m\u001B[0;34m\u001B[0m\u001B[0;34m\u001B[0m\u001B[0m\n\u001B[0;32m---> 82\u001B[0;31m         \u001B[0;32mreturn\u001B[0m \u001B[0mnumpy\u001B[0m\u001B[0;34m.\u001B[0m\u001B[0msum\u001B[0m\u001B[0;34m(\u001B[0m\u001B[0;34m(\u001B[0m\u001B[0mp\u001B[0m \u001B[0;34m-\u001B[0m \u001B[0mc\u001B[0m\u001B[0;34m)\u001B[0m \u001B[0;34m**\u001B[0m \u001B[0;36m2\u001B[0m\u001B[0;34m)\u001B[0m \u001B[0;34m<=\u001B[0m \u001B[0mr2\u001B[0m\u001B[0;34m\u001B[0m\u001B[0;34m\u001B[0m\u001B[0m\n\u001B[0m\u001B[1;32m     83\u001B[0m \u001B[0;34m\u001B[0m\u001B[0m\n\u001B[1;32m     84\u001B[0m     \u001B[0;32mdef\u001B[0m \u001B[0mget_boundary\u001B[0m\u001B[0;34m(\u001B[0m\u001B[0mR\u001B[0m\u001B[0;34m)\u001B[0m\u001B[0;34m:\u001B[0m\u001B[0;34m\u001B[0m\u001B[0;34m\u001B[0m\u001B[0m\n",
      "\u001B[0;32m<__array_function__ internals>\u001B[0m in \u001B[0;36msum\u001B[0;34m(*args, **kwargs)\u001B[0m\n",
      "\u001B[0;32m~/.pyenv/versions/3.8.6/envs/ML2/lib/python3.8/site-packages/numpy/core/fromnumeric.py\u001B[0m in \u001B[0;36msum\u001B[0;34m(a, axis, dtype, out, keepdims, initial, where)\u001B[0m\n\u001B[1;32m   2245\u001B[0m         \u001B[0;32mreturn\u001B[0m \u001B[0mres\u001B[0m\u001B[0;34m\u001B[0m\u001B[0;34m\u001B[0m\u001B[0m\n\u001B[1;32m   2246\u001B[0m \u001B[0;34m\u001B[0m\u001B[0m\n\u001B[0;32m-> 2247\u001B[0;31m     return _wrapreduction(a, np.add, 'sum', axis, dtype, out, keepdims=keepdims,\n\u001B[0m\u001B[1;32m   2248\u001B[0m                           initial=initial, where=where)\n\u001B[1;32m   2249\u001B[0m \u001B[0;34m\u001B[0m\u001B[0m\n",
      "\u001B[0;32m~/.pyenv/versions/3.8.6/envs/ML2/lib/python3.8/site-packages/numpy/core/fromnumeric.py\u001B[0m in \u001B[0;36m_wrapreduction\u001B[0;34m(obj, ufunc, method, axis, dtype, out, **kwargs)\u001B[0m\n\u001B[1;32m     85\u001B[0m                 \u001B[0;32mreturn\u001B[0m \u001B[0mreduction\u001B[0m\u001B[0;34m(\u001B[0m\u001B[0maxis\u001B[0m\u001B[0;34m=\u001B[0m\u001B[0maxis\u001B[0m\u001B[0;34m,\u001B[0m \u001B[0mout\u001B[0m\u001B[0;34m=\u001B[0m\u001B[0mout\u001B[0m\u001B[0;34m,\u001B[0m \u001B[0;34m**\u001B[0m\u001B[0mpasskwargs\u001B[0m\u001B[0;34m)\u001B[0m\u001B[0;34m\u001B[0m\u001B[0;34m\u001B[0m\u001B[0m\n\u001B[1;32m     86\u001B[0m \u001B[0;34m\u001B[0m\u001B[0m\n\u001B[0;32m---> 87\u001B[0;31m     \u001B[0;32mreturn\u001B[0m \u001B[0mufunc\u001B[0m\u001B[0;34m.\u001B[0m\u001B[0mreduce\u001B[0m\u001B[0;34m(\u001B[0m\u001B[0mobj\u001B[0m\u001B[0;34m,\u001B[0m \u001B[0maxis\u001B[0m\u001B[0;34m,\u001B[0m \u001B[0mdtype\u001B[0m\u001B[0;34m,\u001B[0m \u001B[0mout\u001B[0m\u001B[0;34m,\u001B[0m \u001B[0;34m**\u001B[0m\u001B[0mpasskwargs\u001B[0m\u001B[0;34m)\u001B[0m\u001B[0;34m\u001B[0m\u001B[0;34m\u001B[0m\u001B[0m\n\u001B[0m\u001B[1;32m     88\u001B[0m \u001B[0;34m\u001B[0m\u001B[0m\n\u001B[1;32m     89\u001B[0m \u001B[0;34m\u001B[0m\u001B[0m\n",
      "\u001B[0;31mKeyboardInterrupt\u001B[0m: "
     ]
    }
   ],
   "source": [
    "\n",
    "trial_num = 10 #試行回数\n",
    "result_gauss = [] #パラメータの最終結果　トライアル数*分割数k*特徴量次元\n",
    "result_loss_gauss = [] # 過剰期待損失の最終結果　トライアル数*分割数k\n",
    "valid_k = 100 # 分割数　1 ~ valid_k\n",
    "\n",
    "X_mean = 5\n",
    "X_var = 2\n",
    "a = 0.01 # 学習率\n",
    "c = 5 # wの初期値がとりうる範囲\n",
    "n = 250 # データセットのサンプル数\n",
    "b = 2.2 # ノイズの分散\n",
    "w_star = np.array([1,2,3,4,5,6])\n",
    "w_star = w_star.reshape(1,-1)\n",
    "d = w_star.shape[1]\n",
    "\n",
    "for _ in tqdm(range(trial_num)):\n",
    "    w_init = w_star + rng.uniform(-c,c,size=d)\n",
    "\n",
    "    w_trial = [] # モデルを貯めていく、必要かどうか\n",
    "    loss_store = [] # 過剰期待損失を貯めていく\n",
    "    for k in range(1,valid_k+1):\n",
    "        core_store = []\n",
    "        model_store = []\n",
    "        son = loss.LinearQuadraticLoss()\n",
    "        for i in range(k):\n",
    "            core_num = n // k\n",
    "            rng = np.random.default_rng()\n",
    "            X = rng.normal(loc=X_mean,size=(n,d),scale=X_var)\n",
    "            E = rng.normal(loc=0,scale=b,size=(1,n))\n",
    "            Y = np.dot(w_star,X.T) + E\n",
    "            data = [X,Y.T]\n",
    "\n",
    "            core = algo_sgd.SGD(w_init=w_init,a=a,t_max=core_num-1,data=data)\n",
    "            for _ in core:\n",
    "                core.update(son)\n",
    "            core_store.append(core)\n",
    "            model_store.append(core.w)\n",
    "\n",
    "\n",
    "        w_dc,_ = miniball.get_bounding_ball(np.array(model_store).reshape((-1,d)), epsilon=1e-7)\n",
    "        w_dc = w_dc.reshape(1,-1)\n",
    "        w_trial.append(w_dc)\n",
    "        # 過剰期待損失　E[(<(w-w^*),X>)^2]　Xが正規分布の場合　E[X^2] = X_mean^2 + X_var^2 * 単位行列\n",
    "        E_X = np.diag(np.ones(w_dc.shape[0])* (X_var**2)  + (X_mean**2))\n",
    "        excess_risk = np.dot(np.dot(E_X,w_dc),w_dc.T) + np.dot(np.dot(E_X,w_star),w_star.T) - 2 * np.dot(np.dot(E_X,w_star),w_dc.T)\n",
    "        loss_store.append(excess_risk[0][0])\n",
    "    result_gauss.append(np.array(w_trial))\n",
    "    result_loss_gauss.append(np.array(loss_store))\n",
    "\n",
    "result_gauss = np.array(result_gauss)\n",
    "result_loss_gauss = np.array(result_loss_gauss)\n"
   ],
   "metadata": {
    "collapsed": false,
    "pycharm": {
     "name": "#%%\n"
    }
   }
  },
  {
   "cell_type": "code",
   "execution_count": null,
   "outputs": [],
   "source": [
    "fdic = {\n",
    "    \"size\" : 20,\n",
    "}\n",
    "\n",
    "columns=['1', '2', '4','5','10','20','40','50']\n",
    "fig = plt.figure(figsize=(10.0, 8.0))\n",
    "ax1 = fig.add_subplot(111)\n",
    "\n",
    "bp1 = ax1.boxplot(result_loss_gauss[:,[0,1,3,4,9,19,39,49]])\n",
    "ax1.set_xticklabels(columns,fontsize=20)\n",
    "ax1.set_title('R(w)-R^*',fontsize=20)\n",
    "ax1.set_xlabel('k',fontdict=fdic)\n",
    "\n",
    "plt.show()"
   ],
   "metadata": {
    "collapsed": false,
    "pycharm": {
     "name": "#%%\n"
    }
   }
  },
  {
   "cell_type": "code",
   "execution_count": null,
   "outputs": [],
   "source": [
    "df = pd.DataFrame(result_loss_gauss[:,[0,1,3,4,9,19,39,49]],columns=columns)\n",
    "df.describe()"
   ],
   "metadata": {
    "collapsed": false,
    "pycharm": {
     "name": "#%%\n"
    }
   }
  },
  {
   "cell_type": "code",
   "execution_count": null,
   "outputs": [],
   "source": [
    "model_store"
   ],
   "metadata": {
    "collapsed": false,
    "pycharm": {
     "name": "#%%\n"
    }
   }
  },
  {
   "cell_type": "code",
   "execution_count": null,
   "outputs": [],
   "source": [
    "rng = np.random.default_rng()\n"
   ],
   "metadata": {
    "collapsed": false,
    "pycharm": {
     "name": "#%%\n"
    }
   }
  },
  {
   "cell_type": "code",
   "execution_count": null,
   "outputs": [],
   "source": [
    "rng.normal()"
   ],
   "metadata": {
    "collapsed": false,
    "pycharm": {
     "name": "#%%\n"
    }
   }
  },
  {
   "cell_type": "code",
   "execution_count": null,
   "outputs": [],
   "source": [
    "son = loss.LinearQuadraticLoss()\n",
    "fuga = DC_SGD.DCSGD(w_star=w_star,n=n,E_var=2.2,X_mean=X_mean,X_var=X_var,noise=\"normal\",loss_type=son,c=c)"
   ],
   "metadata": {
    "collapsed": false,
    "pycharm": {
     "name": "#%%\n"
    }
   }
  },
  {
   "cell_type": "code",
   "execution_count": null,
   "outputs": [],
   "source": [],
   "metadata": {
    "collapsed": false,
    "pycharm": {
     "name": "#%%\n"
    }
   }
  },
  {
   "cell_type": "code",
   "execution_count": null,
   "outputs": [],
   "source": [],
   "metadata": {
    "collapsed": false,
    "pycharm": {
     "name": "#%%\n"
    }
   }
  }
 ],
 "metadata": {
  "kernelspec": {
   "display_name": "Python 3",
   "language": "python",
   "name": "python3"
  },
  "language_info": {
   "codemirror_mode": {
    "name": "ipython",
    "version": 2
   },
   "file_extension": ".py",
   "mimetype": "text/x-python",
   "name": "python",
   "nbconvert_exporter": "python",
   "pygments_lexer": "ipython2",
   "version": "2.7.6"
  }
 },
 "nbformat": 4,
 "nbformat_minor": 0
}