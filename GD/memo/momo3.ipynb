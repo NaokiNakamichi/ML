{
 "cells": [
  {
   "cell_type": "code",
   "execution_count": 202,
   "metadata": {
    "collapsed": true
   },
   "outputs": [],
   "source": [
    "import numpy as np\n",
    "import miniball\n",
    "import matplotlib.pyplot as plt\n",
    "import pandas as pd\n",
    "from tqdm.notebook import tqdm\n",
    "\n",
    "from ML2_lib import loss\n",
    "from ML2_lib import noise\n",
    "from ML2_lib import algo_sgd\n",
    "from  ML2_lib import merge"
   ]
  },
  {
   "cell_type": "code",
   "execution_count": 203,
   "outputs": [],
   "source": [
    "# データ生成デモ Gauss\n",
    "X_mean = 5\n",
    "X_var = 2\n",
    "w_star = np.array([1])\n",
    "w_star = w_star.reshape(1,-1)\n",
    "d = w_star.shape[1]\n",
    "n = 1000\n",
    "rng = np.random.default_rng()\n",
    "X = rng.normal(loc=X_mean,size=(n,d),scale=X_var)\n",
    "E = rng.normal(loc=0,scale=1,size=(1,n))\n",
    "Y = np.dot(w_star,X.T) + E\n",
    "\n"
   ],
   "metadata": {
    "collapsed": false,
    "pycharm": {
     "name": "#%%\n"
    }
   }
  },
  {
   "cell_type": "code",
   "execution_count": 204,
   "outputs": [],
   "source": [
    "\n",
    "a = loss.LinearQuadraticLoss()\n",
    "w_init = np.zeros(d)\n",
    "data = [X,Y.T]\n",
    "lr = 0.01\n",
    "core = algo_sgd.SGD(w_init=w_init,a=lr,t_max=n-1,data=data)\n",
    "for _ in core:\n",
    "    core.update(a)\n"
   ],
   "metadata": {
    "collapsed": false,
    "pycharm": {
     "name": "#%%\n"
    }
   }
  },
  {
   "cell_type": "code",
   "execution_count": 205,
   "outputs": [
    {
     "data": {
      "text/plain": "array([1.10019991])"
     },
     "execution_count": 205,
     "metadata": {},
     "output_type": "execute_result"
    }
   ],
   "source": [
    "\n",
    "core.w\n"
   ],
   "metadata": {
    "collapsed": false,
    "pycharm": {
     "name": "#%%\n"
    }
   }
  },
  {
   "cell_type": "code",
   "execution_count": 206,
   "outputs": [
    {
     "data": {
      "text/plain": "  0%|          | 0/10 [00:00<?, ?it/s]",
      "application/vnd.jupyter.widget-view+json": {
       "version_major": 2,
       "version_minor": 0,
       "model_id": "cd4ea864740942c98bc3805cb3715dd2"
      }
     },
     "metadata": {},
     "output_type": "display_data"
    }
   ],
   "source": [
    "\n",
    "trial_num = 10 #試行回数\n",
    "result_gauss = [] #パラメータの最終結果　トライアル数*分割数k*特徴量次元\n",
    "result_loss_gauss = [] # 過剰期待損失の最終結果　トライアル数*分割数k\n",
    "valid_k = 100 # 分割数　1 ~ valid_k\n",
    "\n",
    "X_mean = 5\n",
    "X_var = 2\n",
    "a = 0.01 # 学習率\n",
    "c = 5 # wの初期値がとりうる範囲\n",
    "n = 250 # データセットのサンプル数\n",
    "b = 2.2 # ノイズの分散\n",
    "w_star = np.array([1])\n",
    "w_star = w_star.reshape(1,-1)\n",
    "d = w_star.shape[1]\n",
    "\n",
    "for _ in tqdm(range(trial_num)):\n",
    "    w_init = w_star + rng.uniform(-c,c,size=d)\n",
    "\n",
    "    w_trial = [] # モデルを貯めていく、必要かどうか\n",
    "    loss_store = [] # 過剰期待損失を貯めていく\n",
    "    for k in range(1,valid_k+1):\n",
    "        core_store = []\n",
    "        model_store = []\n",
    "        son = loss.LinearQuadraticLoss()\n",
    "        for i in range(k):\n",
    "            core_num = n // k\n",
    "            rng = np.random.default_rng()\n",
    "            X = rng.normal(loc=X_mean,size=(n,d),scale=X_var)\n",
    "            E = rng.normal(loc=0,scale=b,size=(1,n))\n",
    "            Y = np.dot(w_star,X.T) + E\n",
    "            data = [X,Y.T]\n",
    "\n",
    "            core = algo_sgd.SGD(w_init=w_init,a=a,t_max=core_num-1,data=data)\n",
    "            for _ in core:\n",
    "                core.update(son)\n",
    "            core_store.append(core)\n",
    "            model_store.append(core.w)\n",
    "\n",
    "\n",
    "        w_dc,_ = miniball.get_bounding_ball(np.array(model_store).reshape((-1,d)), epsilon=1e-7)\n",
    "        w_dc = w_dc.reshape(1,-1)\n",
    "        w_trial.append(w_dc)\n",
    "        # 過剰期待損失　E[(<(w-w^*),X>)^2]　Xが正規分布の場合　E[X^2] = X_mean^2 + X_var^2 * 単位行列\n",
    "        E_X = np.diag(np.ones(w_dc.shape[0])* (X_var**2)  + (X_mean**2))\n",
    "        excess_risk = np.dot(np.dot(E_X,w_dc),w_dc.T) + np.dot(np.dot(E_X,w_star),w_star.T) - 2 * np.dot(np.dot(E_X,w_star),w_dc.T)\n",
    "        loss_store.append(excess_risk[0][0])\n",
    "    result_gauss.append(np.array(w_trial))\n",
    "    result_loss_gauss.append(np.array(loss_store))\n",
    "\n",
    "result_gauss = np.array(result_gauss)\n",
    "result_loss_gauss = np.array(result_loss_gauss)\n"
   ],
   "metadata": {
    "collapsed": false,
    "pycharm": {
     "name": "#%%\n"
    }
   }
  },
  {
   "cell_type": "code",
   "execution_count": 207,
   "outputs": [
    {
     "data": {
      "text/plain": "<Figure size 720x576 with 1 Axes>",
      "image/png": "[encoded data removed]"
     },
     "metadata": {
      "needs_background": "light"
     },
     "output_type": "display_data"
    }
   ],
   "source": [
    "fdic = {\n",
    "    \"size\" : 20,\n",
    "}\n",
    "\n",
    "columns=['1', '2', '4','5','10','20','40','50']\n",
    "fig = plt.figure(figsize=(10.0, 8.0))\n",
    "ax1 = fig.add_subplot(111)\n",
    "\n",
    "bp1 = ax1.boxplot(result_loss_gauss[:,[0,1,3,4,9,19,39,49]])\n",
    "ax1.set_xticklabels(columns,fontsize=20)\n",
    "ax1.set_title('R(w)-R^*',fontsize=20)\n",
    "ax1.set_xlabel('k',fontdict=fdic)\n",
    "\n",
    "plt.show()"
   ],
   "metadata": {
    "collapsed": false,
    "pycharm": {
     "name": "#%%\n"
    }
   }
  },
  {
   "cell_type": "code",
   "execution_count": 208,
   "outputs": [
    {
     "data": {
      "text/plain": "               1          2          4          5         10         20  \\\ncount  10.000000  10.000000  10.000000  10.000000  10.000000  10.000000   \nmean    0.980808   0.399779   0.233970   0.184734   0.201215   0.278524   \nstd     0.838382   0.470361   0.316174   0.264234   0.416048   0.485992   \nmin     0.102616   0.005680   0.000312   0.016656   0.000134   0.000319   \n25%     0.428904   0.069399   0.016694   0.022204   0.018884   0.008392   \n50%     0.778880   0.175669   0.101058   0.035491   0.061966   0.064715   \n75%     1.205483   0.766096   0.336140   0.265738   0.109160   0.331766   \nmax     2.724626   1.292174   1.011539   0.764440   1.365120   1.581153   \n\n              40         50  \ncount  10.000000  10.000000  \nmean    6.449897  14.792473  \nstd     9.311649  15.756557  \nmin     0.271993   0.119051  \n25%     0.730959   1.278607  \n50%     3.204315   7.300339  \n75%     6.124508  28.606902  \nmax    30.370434  41.746793  ",
      "text/html": "<div>\n<style scoped>\n    .dataframe tbody tr th:only-of-type {\n        vertical-align: middle;\n    }\n\n    .dataframe tbody tr th {\n        vertical-align: top;\n    }\n\n    .dataframe thead th {\n        text-align: right;\n    }\n</style>\n<table border=\"1\" class=\"dataframe\">\n  <thead>\n    <tr style=\"text-align: right;\">\n      <th></th>\n      <th>1</th>\n      <th>2</th>\n      <th>4</th>\n      <th>5</th>\n      <th>10</th>\n      <th>20</th>\n      <th>40</th>\n      <th>50</th>\n    </tr>\n  </thead>\n  <tbody>\n    <tr>\n      <th>count</th>\n      <td>10.000000</td>\n      <td>10.000000</td>\n      <td>10.000000</td>\n      <td>10.000000</td>\n      <td>10.000000</td>\n      <td>10.000000</td>\n      <td>10.000000</td>\n      <td>10.000000</td>\n    </tr>\n    <tr>\n      <th>mean</th>\n      <td>0.980808</td>\n      <td>0.399779</td>\n      <td>0.233970</td>\n      <td>0.184734</td>\n      <td>0.201215</td>\n      <td>0.278524</td>\n      <td>6.449897</td>\n      <td>14.792473</td>\n    </tr>\n    <tr>\n      <th>std</th>\n      <td>0.838382</td>\n      <td>0.470361</td>\n      <td>0.316174</td>\n      <td>0.264234</td>\n      <td>0.416048</td>\n      <td>0.485992</td>\n      <td>9.311649</td>\n      <td>15.756557</td>\n    </tr>\n    <tr>\n      <th>min</th>\n      <td>0.102616</td>\n      <td>0.005680</td>\n      <td>0.000312</td>\n      <td>0.016656</td>\n      <td>0.000134</td>\n      <td>0.000319</td>\n      <td>0.271993</td>\n      <td>0.119051</td>\n    </tr>\n    <tr>\n      <th>25%</th>\n      <td>0.428904</td>\n      <td>0.069399</td>\n      <td>0.016694</td>\n      <td>0.022204</td>\n      <td>0.018884</td>\n      <td>0.008392</td>\n      <td>0.730959</td>\n      <td>1.278607</td>\n    </tr>\n    <tr>\n      <th>50%</th>\n      <td>0.778880</td>\n      <td>0.175669</td>\n      <td>0.101058</td>\n      <td>0.035491</td>\n      <td>0.061966</td>\n      <td>0.064715</td>\n      <td>3.204315</td>\n      <td>7.300339</td>\n    </tr>\n    <tr>\n      <th>75%</th>\n      <td>1.205483</td>\n      <td>0.766096</td>\n      <td>0.336140</td>\n      <td>0.265738</td>\n      <td>0.109160</td>\n      <td>0.331766</td>\n      <td>6.124508</td>\n      <td>28.606902</td>\n    </tr>\n    <tr>\n      <th>max</th>\n      <td>2.724626</td>\n      <td>1.292174</td>\n      <td>1.011539</td>\n      <td>0.764440</td>\n      <td>1.365120</td>\n      <td>1.581153</td>\n      <td>30.370434</td>\n      <td>41.746793</td>\n    </tr>\n  </tbody>\n</table>\n</div>"
     },
     "execution_count": 208,
     "metadata": {},
     "output_type": "execute_result"
    }
   ],
   "source": [
    "df = pd.DataFrame(result_loss_gauss[:,[0,1,3,4,9,19,39,49]],columns=columns)\n",
    "df.describe()"
   ],
   "metadata": {
    "collapsed": false,
    "pycharm": {
     "name": "#%%\n"
    }
   }
  },
  {
   "cell_type": "code",
   "execution_count": 209,
   "outputs": [
    {
     "data": {
      "text/plain": "[array([[3.15615868]]),\n array([[2.90999181]]),\n array([[3.59076699]]),\n array([[3.36269882]]),\n array([[3.13901006]]),\n array([[2.92166053]]),\n array([[2.20920428]]),\n array([[3.1613691]]),\n array([[3.44696763]]),\n array([[2.80666532]]),\n array([[3.64714495]]),\n array([[3.76885605]]),\n array([[2.85890122]]),\n array([[3.37025723]]),\n array([[3.5331917]]),\n array([[3.75511856]]),\n array([[1.73403193]]),\n array([[3.69023825]]),\n array([[3.47655155]]),\n array([[2.57533452]]),\n array([[3.288958]]),\n array([[2.32726723]]),\n array([[2.75766982]]),\n array([[2.62217616]]),\n array([[2.71313781]]),\n array([[3.47495316]]),\n array([[3.0278037]]),\n array([[3.51723471]]),\n array([[2.92705272]]),\n array([[2.87272563]]),\n array([[3.06987718]]),\n array([[3.36362162]]),\n array([[2.55231683]]),\n array([[3.4662451]]),\n array([[2.50390345]]),\n array([[1.77925475]]),\n array([[3.04541246]]),\n array([[2.99010164]]),\n array([[2.92273486]]),\n array([[3.24694701]]),\n array([[3.36533247]]),\n array([[2.73014563]]),\n array([[3.43520183]]),\n array([[2.97876837]]),\n array([[1.89080899]]),\n array([[3.10648744]]),\n array([[2.25649998]]),\n array([[2.92116515]]),\n array([[3.5494533]]),\n array([[3.03132246]]),\n array([[3.00178116]]),\n array([[2.7027005]]),\n array([[3.49562922]]),\n array([[3.8384438]]),\n array([[2.12374414]]),\n array([[3.62237196]]),\n array([[3.26308006]]),\n array([[3.45737349]]),\n array([[3.02629995]]),\n array([[3.75862178]]),\n array([[3.05296447]]),\n array([[3.40464668]]),\n array([[3.43723812]]),\n array([[1.79685057]]),\n array([[3.19883448]]),\n array([[3.49746296]]),\n array([[3.61072219]]),\n array([[2.52098411]]),\n array([[2.61392955]]),\n array([[3.66055382]]),\n array([[3.79271454]]),\n array([[2.52424025]]),\n array([[3.69230783]]),\n array([[3.13462779]]),\n array([[3.62247632]]),\n array([[3.14937628]]),\n array([[3.23870048]]),\n array([[2.57602486]]),\n array([[2.85495999]]),\n array([[2.54539437]]),\n array([[2.98285106]]),\n array([[1.36732805]]),\n array([[3.29116176]]),\n array([[1.70419523]]),\n array([[3.09827772]]),\n array([[1.5552392]]),\n array([[2.21490683]]),\n array([[3.61573963]]),\n array([[3.42839765]]),\n array([[2.14759936]]),\n array([[2.25931925]]),\n array([[3.64981837]]),\n array([[3.49743958]]),\n array([[2.91458223]]),\n array([[1.94227917]]),\n array([[3.83369785]]),\n array([[3.06895643]]),\n array([[2.76175278]]),\n array([[3.28947662]]),\n array([[1.20524683]])]"
     },
     "execution_count": 209,
     "metadata": {},
     "output_type": "execute_result"
    }
   ],
   "source": [
    "model_store"
   ],
   "metadata": {
    "collapsed": false,
    "pycharm": {
     "name": "#%%\n"
    }
   }
  },
  {
   "cell_type": "code",
   "execution_count": 209,
   "outputs": [],
   "source": [],
   "metadata": {
    "collapsed": false,
    "pycharm": {
     "name": "#%%\n"
    }
   }
  }
 ],
 "metadata": {
  "kernelspec": {
   "display_name": "Python 3",
   "language": "python",
   "name": "python3"
  },
  "language_info": {
   "codemirror_mode": {
    "name": "ipython",
    "version": 2
   },
   "file_extension": ".py",
   "mimetype": "text/x-python",
   "name": "python",
   "nbconvert_exporter": "python",
   "pygments_lexer": "ipython2",
   "version": "2.7.6"
  }
 },
 "nbformat": 4,
 "nbformat_minor": 0
}