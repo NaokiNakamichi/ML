{
 "cells": [
  {
   "cell_type": "code",
   "execution_count": 1,
   "metadata": {
    "collapsed": true
   },
   "outputs": [],
   "source": [
    "import numpy as np\n",
    "import matplotlib.pyplot as plt\n",
    "import pandas as pd\n",
    "from tqdm.notebook import tqdm\n",
    "\n",
    "from ML2_lib import loss\n",
    "from ML2_lib import noise\n",
    "from ML2_lib import algo_sgd\n",
    "from  ML2_lib import merge\n"
   ]
  },
  {
   "cell_type": "code",
   "execution_count": 13,
   "outputs": [
    {
     "data": {
      "text/plain": "<Figure size 432x288 with 1 Axes>",
      "image/png": "[encoded data removed]"
     },
     "metadata": {
      "needs_background": "light"
     },
     "output_type": "display_data"
    }
   ],
   "source": [
    "# データ生成デモ Gauss\n",
    "X = np.linspace(0,10,100)\n",
    "np.random.shuffle(X)\n",
    "Y = noise.Gauss(sigma=2.2,dim=X.shape[0],n=1).generate() + X\n",
    "\n",
    "\n",
    "\n",
    "a = loss.LinearQuadraticLoss()\n",
    "\n",
    "data = [X,Y]\n",
    "core = algo_sgd.SGD(w_init=0,a=0.001,t_max=99,data=data)\n",
    "for _ in core:\n",
    "    core.update(a)\n",
    "\n",
    "\n",
    "\n",
    "x_m = np.linspace(0,10,1000)\n",
    "y_m = a.predict(x_m,core.w)\n",
    "plt.scatter(X,Y)\n",
    "plt.scatter(x_m,y_m,s=1)\n",
    "\n",
    "plt.show()\n",
    "\n"
   ],
   "metadata": {
    "collapsed": false,
    "pycharm": {
     "name": "#%%\n"
    }
   }
  },
  {
   "cell_type": "code",
   "execution_count": 3,
   "outputs": [
    {
     "data": {
      "text/plain": "  0%|          | 0/100 [00:00<?, ?it/s]",
      "application/vnd.jupyter.widget-view+json": {
       "version_major": 2,
       "version_minor": 0,
       "model_id": "d9c8033dd4474b10a549496103888f72"
      }
     },
     "metadata": {},
     "output_type": "display_data"
    }
   ],
   "source": [
    "trial_num = 100 #試行回数\n",
    "result = [] #パラメータの最終結果　トライアル数*分割数k*特徴量次元\n",
    "result_loss = [] # 過剰期待損失の最終結果　トライアル数*分割数k\n",
    "valid_k = 100 # 分割数　1 ~ valid_k\n",
    "for _ in tqdm(range(trial_num)):\n",
    "    s = []\n",
    "    loss_store = []\n",
    "    a = 0.01\n",
    "    c = 5\n",
    "    n = 250\n",
    "    b = 2.2\n",
    "    for k in range(1,valid_k+1):\n",
    "        core_store = []\n",
    "        model_store = []\n",
    "\n",
    "\n",
    "\n",
    "        son = loss.LinearQuadraticLoss()\n",
    "        for i in range(k):\n",
    "            core_num = n // k\n",
    "            X = np.linspace(0,10,core_num)\n",
    "            np.random.shuffle(X)\n",
    "            Y = noise.Gauss(sigma=b,dim=X.shape[0],n=1).generate() + X\n",
    "            data = [X,Y]\n",
    "            # 初期値wの決定\n",
    "            w = (c - (-c)) * np.random.rand() + (-c)\n",
    "            core = algo_sgd.SGD(w_init=w,a=a,t_max=core_num-1,data=data)\n",
    "            for _ in core:\n",
    "                core.update(son)\n",
    "            core_store.append(core)\n",
    "            model_store.append(core.w)\n",
    "\n",
    "        model_store = np.array(model_store)\n",
    "        model_store = model_store.reshape([-1,1])\n",
    "        tmp = merge.smallball(model_store)\n",
    "        s.append(tmp)\n",
    "        loss_store.append(son.f(y=X.mean(),x=X.mean(),w=tmp))\n",
    "\n",
    "    result.append(np.array(s))\n",
    "    result_loss.append(np.array(loss_store))\n",
    "\n",
    "result = np.array(result)\n",
    "result_loss = np.array(result_loss)\n",
    "\n",
    "\n",
    "\n"
   ],
   "metadata": {
    "collapsed": false,
    "pycharm": {
     "name": "#%%\n"
    }
   }
  },
  {
   "cell_type": "code",
   "execution_count": 4,
   "outputs": [
    {
     "data": {
      "text/plain": "<Figure size 720x576 with 1 Axes>",
      "image/png": "[encoded data removed]"
     },
     "metadata": {
      "needs_background": "light"
     },
     "output_type": "display_data"
    }
   ],
   "source": [
    "columns=['1', '2', '4','5','10','20','40','50']\n",
    "fig = plt.figure(figsize=(10.0, 8.0))\n",
    "ax1 = fig.add_subplot(111)\n",
    "\n",
    "bp1 = ax1.boxplot(result_loss[:,[0,1,3,4,9,19,39,49],0])\n",
    "ax1.set_xticklabels(columns,fontsize=20)\n",
    "ax1.set_title('R^* - R(w)',fontsize=20)\n",
    "ax1.set_xlabel('k =')\n",
    "\n",
    "plt.show()"
   ],
   "metadata": {
    "collapsed": false,
    "pycharm": {
     "name": "#%%\n"
    }
   }
  },
  {
   "cell_type": "code",
   "execution_count": 5,
   "outputs": [],
   "source": [
    "df = pd.DataFrame(result_loss[:,[0,1,3,4,9,19,39,49],0],columns=columns)"
   ],
   "metadata": {
    "collapsed": false,
    "pycharm": {
     "name": "#%%\n"
    }
   }
  },
  {
   "cell_type": "code",
   "execution_count": 6,
   "outputs": [
    {
     "data": {
      "text/plain": "                  1           2           4           5            10  \\\ncount  1.000000e+02  100.000000  100.000000  100.000000  1.000000e+02   \nmean   3.115429e-01    0.231936    0.123096    0.105715  9.394905e-02   \nstd    7.114499e-01    0.352244    0.168275    0.144396  1.327499e-01   \nmin    5.492683e-07    0.000005    0.000010    0.000062  9.613401e-08   \n25%    2.416193e-02    0.021892    0.017139    0.007020  1.498681e-02   \n50%    1.157241e-01    0.087443    0.051681    0.047926  4.125042e-02   \n75%    3.235323e-01    0.279408    0.169729    0.157577  1.227246e-01   \nmax    6.558904e+00    1.942787    1.153387    0.822630  7.502012e-01   \n\n               20          40          50  \ncount  100.000000  100.000000  100.000000  \nmean     0.077753    0.644611    1.956819  \nstd      0.124221    0.642728    1.765929  \nmin      0.000006    0.000292    0.000480  \n25%      0.007041    0.117925    0.606531  \n50%      0.023085    0.527288    1.296475  \n75%      0.090834    1.002415    2.868904  \nmax      0.638632    2.924484    7.598174  ",
      "text/html": "<div>\n<style scoped>\n    .dataframe tbody tr th:only-of-type {\n        vertical-align: middle;\n    }\n\n    .dataframe tbody tr th {\n        vertical-align: top;\n    }\n\n    .dataframe thead th {\n        text-align: right;\n    }\n</style>\n<table border=\"1\" class=\"dataframe\">\n  <thead>\n    <tr style=\"text-align: right;\">\n      <th></th>\n      <th>1</th>\n      <th>2</th>\n      <th>4</th>\n      <th>5</th>\n      <th>10</th>\n      <th>20</th>\n      <th>40</th>\n      <th>50</th>\n    </tr>\n  </thead>\n  <tbody>\n    <tr>\n      <th>count</th>\n      <td>1.000000e+02</td>\n      <td>100.000000</td>\n      <td>100.000000</td>\n      <td>100.000000</td>\n      <td>1.000000e+02</td>\n      <td>100.000000</td>\n      <td>100.000000</td>\n      <td>100.000000</td>\n    </tr>\n    <tr>\n      <th>mean</th>\n      <td>3.115429e-01</td>\n      <td>0.231936</td>\n      <td>0.123096</td>\n      <td>0.105715</td>\n      <td>9.394905e-02</td>\n      <td>0.077753</td>\n      <td>0.644611</td>\n      <td>1.956819</td>\n    </tr>\n    <tr>\n      <th>std</th>\n      <td>7.114499e-01</td>\n      <td>0.352244</td>\n      <td>0.168275</td>\n      <td>0.144396</td>\n      <td>1.327499e-01</td>\n      <td>0.124221</td>\n      <td>0.642728</td>\n      <td>1.765929</td>\n    </tr>\n    <tr>\n      <th>min</th>\n      <td>5.492683e-07</td>\n      <td>0.000005</td>\n      <td>0.000010</td>\n      <td>0.000062</td>\n      <td>9.613401e-08</td>\n      <td>0.000006</td>\n      <td>0.000292</td>\n      <td>0.000480</td>\n    </tr>\n    <tr>\n      <th>25%</th>\n      <td>2.416193e-02</td>\n      <td>0.021892</td>\n      <td>0.017139</td>\n      <td>0.007020</td>\n      <td>1.498681e-02</td>\n      <td>0.007041</td>\n      <td>0.117925</td>\n      <td>0.606531</td>\n    </tr>\n    <tr>\n      <th>50%</th>\n      <td>1.157241e-01</td>\n      <td>0.087443</td>\n      <td>0.051681</td>\n      <td>0.047926</td>\n      <td>4.125042e-02</td>\n      <td>0.023085</td>\n      <td>0.527288</td>\n      <td>1.296475</td>\n    </tr>\n    <tr>\n      <th>75%</th>\n      <td>3.235323e-01</td>\n      <td>0.279408</td>\n      <td>0.169729</td>\n      <td>0.157577</td>\n      <td>1.227246e-01</td>\n      <td>0.090834</td>\n      <td>1.002415</td>\n      <td>2.868904</td>\n    </tr>\n    <tr>\n      <th>max</th>\n      <td>6.558904e+00</td>\n      <td>1.942787</td>\n      <td>1.153387</td>\n      <td>0.822630</td>\n      <td>7.502012e-01</td>\n      <td>0.638632</td>\n      <td>2.924484</td>\n      <td>7.598174</td>\n    </tr>\n  </tbody>\n</table>\n</div>"
     },
     "execution_count": 6,
     "metadata": {},
     "output_type": "execute_result"
    }
   ],
   "source": [
    "df.describe()"
   ],
   "metadata": {
    "collapsed": false,
    "pycharm": {
     "name": "#%%\n"
    }
   }
  },
  {
   "cell_type": "code",
   "execution_count": 7,
   "outputs": [
    {
     "data": {
      "text/plain": "<matplotlib.collections.PathCollection at 0x12d8b63a0>"
     },
     "execution_count": 7,
     "metadata": {},
     "output_type": "execute_result"
    },
    {
     "data": {
      "text/plain": "<Figure size 432x288 with 1 Axes>",
      "image/png": "[encoded data removed]"
     },
     "metadata": {
      "needs_background": "light"
     },
     "output_type": "display_data"
    }
   ],
   "source": [
    "# データ生成デモ Log-normal\n",
    "X = np.linspace(0,10,100)\n",
    "np.random.shuffle(X)\n",
    "Y = noise.LogNormal(sigma=1.75,dim=X.shape[0],n=1).generate() + X\n",
    "\n",
    "\n",
    "\n",
    "a = loss.LinearQuadraticLoss()\n",
    "\n",
    "data = [X,Y]\n",
    "core = algo_sgd.SGD(w_init=0,a=0.001,t_max=99,data=data)\n",
    "for _ in core:\n",
    "    core.update(a)\n",
    "\n",
    "\n",
    "\n",
    "x_m = np.linspace(0,10,1000)\n",
    "y_m = a.predict(x_m,core.w)\n",
    "plt.scatter(X,Y)\n",
    "plt.scatter(x_m,y_m,s=1)\n",
    "\n"
   ],
   "metadata": {
    "collapsed": false,
    "pycharm": {
     "name": "#%%\n"
    }
   }
  },
  {
   "cell_type": "code",
   "execution_count": 8,
   "outputs": [
    {
     "data": {
      "text/plain": "  0%|          | 0/100 [00:00<?, ?it/s]",
      "application/vnd.jupyter.widget-view+json": {
       "version_major": 2,
       "version_minor": 0,
       "model_id": "1b6ec6e07313403fa60a464699e7c659"
      }
     },
     "metadata": {},
     "output_type": "display_data"
    }
   ],
   "source": [
    "trial_num = 100 #試行回数\n",
    "result = [] #パラメータの最終結果　トライアル数*分割数k*特徴量次元\n",
    "result_loss = [] # 過剰期待損失の最終結果　トライアル数*分割数k\n",
    "valid_k = 100 # 分割数　1 ~ valid_k\n",
    "for _ in tqdm(range(trial_num)):\n",
    "    s = []\n",
    "    loss_store = []\n",
    "    a = 0.01\n",
    "    c = 5\n",
    "    n = 250\n",
    "    b = 1.75\n",
    "    for k in range(1,valid_k+1):\n",
    "        core_store = []\n",
    "        model_store = []\n",
    "\n",
    "\n",
    "\n",
    "        son = loss.LinearQuadraticLoss()\n",
    "        for i in range(k):\n",
    "            core_num = n // k\n",
    "            X = np.linspace(0,10,core_num)\n",
    "            np.random.shuffle(X)\n",
    "            Y = noise.LogNormal(sigma=b,dim=X.shape[0],n=1).generate() + X\n",
    "            data = [X,Y]\n",
    "            w = (c - (-c)) * np.random.rand() + (-c)\n",
    "            core = algo_sgd.SGD(w_init=w,a=a,t_max=core_num-1,data=data)\n",
    "            for _ in core:\n",
    "                core.update(son)\n",
    "            core_store.append(core)\n",
    "            model_store.append(core.w)\n",
    "\n",
    "        model_store = np.array(model_store)\n",
    "        model_store = model_store.reshape([-1,1])\n",
    "        tmp = merge.smallball(model_store)\n",
    "        s.append(tmp)\n",
    "        loss_store.append(son.f(y=X.mean(),x=X.mean(),w=tmp))\n",
    "\n",
    "    result.append(np.array(s))\n",
    "    result_loss.append(np.array(loss_store))\n",
    "\n",
    "result = np.array(result)\n",
    "result_loss = np.array(result_loss)\n",
    "\n",
    "\n",
    "\n"
   ],
   "metadata": {
    "collapsed": false,
    "pycharm": {
     "name": "#%%\n"
    }
   }
  },
  {
   "cell_type": "code",
   "execution_count": 9,
   "outputs": [
    {
     "data": {
      "text/plain": "<Figure size 720x576 with 1 Axes>",
      "image/png": "[encoded data removed]"
     },
     "metadata": {
      "needs_background": "light"
     },
     "output_type": "display_data"
    }
   ],
   "source": [
    "fig = plt.figure(figsize=(10.0, 8.0))\n",
    "ax1 = fig.add_subplot(111)\n",
    "\n",
    "bp1 = ax1.boxplot(result_loss[:,[0,1,3,4,9,19,39,49],0])\n",
    "ax1.set_xticklabels(columns,fontsize=20)\n",
    "ax1.set_title('R^* - R(w)',fontsize=20)\n",
    "ax1.set_xlabel('k')\n",
    "\n",
    "plt.show()"
   ],
   "metadata": {
    "collapsed": false,
    "pycharm": {
     "name": "#%%\n"
    }
   }
  },
  {
   "cell_type": "code",
   "execution_count": 10,
   "outputs": [],
   "source": [
    "df = pd.DataFrame(result_loss[:,[0,1,3,4,9,19,39,49],0],columns=columns)"
   ],
   "metadata": {
    "collapsed": false,
    "pycharm": {
     "name": "#%%\n"
    }
   }
  },
  {
   "cell_type": "code",
   "execution_count": 11,
   "outputs": [
    {
     "data": {
      "text/plain": "                1           2           4            5           10  \\\ncount  100.000000  100.000000  100.000000   100.000000   100.000000   \nmean    15.803603    5.471558   13.987289    29.800918   117.448264   \nstd     53.246110   31.235157   69.516327   189.607209   839.393513   \nmin      0.028740    0.000060    0.001028     0.000021     0.004051   \n25%      0.915740    0.419829    0.412729     0.269261     0.462293   \n50%      2.492435    1.139155    1.063430     0.916582     3.066568   \n75%      4.964791    2.520682    3.741263     4.268372     8.989004   \nmax    310.122972  309.779285  659.381364  1845.416678  8265.104772   \n\n                20           40           50  \ncount   100.000000   100.000000   100.000000  \nmean     24.926014   142.995220   104.778445  \nstd     112.734282   589.118197   436.398607  \nmin       0.000002     0.005787     0.004440  \n25%       0.283775     1.134449     1.050089  \n50%       2.475458     6.884645     4.954609  \n75%      11.225312    35.840432    34.913566  \nmax    1018.045041  4019.353065  4102.660167  ",
      "text/html": "<div>\n<style scoped>\n    .dataframe tbody tr th:only-of-type {\n        vertical-align: middle;\n    }\n\n    .dataframe tbody tr th {\n        vertical-align: top;\n    }\n\n    .dataframe thead th {\n        text-align: right;\n    }\n</style>\n<table border=\"1\" class=\"dataframe\">\n  <thead>\n    <tr style=\"text-align: right;\">\n      <th></th>\n      <th>1</th>\n      <th>2</th>\n      <th>4</th>\n      <th>5</th>\n      <th>10</th>\n      <th>20</th>\n      <th>40</th>\n      <th>50</th>\n    </tr>\n  </thead>\n  <tbody>\n    <tr>\n      <th>count</th>\n      <td>100.000000</td>\n      <td>100.000000</td>\n      <td>100.000000</td>\n      <td>100.000000</td>\n      <td>100.000000</td>\n      <td>100.000000</td>\n      <td>100.000000</td>\n      <td>100.000000</td>\n    </tr>\n    <tr>\n      <th>mean</th>\n      <td>15.803603</td>\n      <td>5.471558</td>\n      <td>13.987289</td>\n      <td>29.800918</td>\n      <td>117.448264</td>\n      <td>24.926014</td>\n      <td>142.995220</td>\n      <td>104.778445</td>\n    </tr>\n    <tr>\n      <th>std</th>\n      <td>53.246110</td>\n      <td>31.235157</td>\n      <td>69.516327</td>\n      <td>189.607209</td>\n      <td>839.393513</td>\n      <td>112.734282</td>\n      <td>589.118197</td>\n      <td>436.398607</td>\n    </tr>\n    <tr>\n      <th>min</th>\n      <td>0.028740</td>\n      <td>0.000060</td>\n      <td>0.001028</td>\n      <td>0.000021</td>\n      <td>0.004051</td>\n      <td>0.000002</td>\n      <td>0.005787</td>\n      <td>0.004440</td>\n    </tr>\n    <tr>\n      <th>25%</th>\n      <td>0.915740</td>\n      <td>0.419829</td>\n      <td>0.412729</td>\n      <td>0.269261</td>\n      <td>0.462293</td>\n      <td>0.283775</td>\n      <td>1.134449</td>\n      <td>1.050089</td>\n    </tr>\n    <tr>\n      <th>50%</th>\n      <td>2.492435</td>\n      <td>1.139155</td>\n      <td>1.063430</td>\n      <td>0.916582</td>\n      <td>3.066568</td>\n      <td>2.475458</td>\n      <td>6.884645</td>\n      <td>4.954609</td>\n    </tr>\n    <tr>\n      <th>75%</th>\n      <td>4.964791</td>\n      <td>2.520682</td>\n      <td>3.741263</td>\n      <td>4.268372</td>\n      <td>8.989004</td>\n      <td>11.225312</td>\n      <td>35.840432</td>\n      <td>34.913566</td>\n    </tr>\n    <tr>\n      <th>max</th>\n      <td>310.122972</td>\n      <td>309.779285</td>\n      <td>659.381364</td>\n      <td>1845.416678</td>\n      <td>8265.104772</td>\n      <td>1018.045041</td>\n      <td>4019.353065</td>\n      <td>4102.660167</td>\n    </tr>\n  </tbody>\n</table>\n</div>"
     },
     "execution_count": 11,
     "metadata": {},
     "output_type": "execute_result"
    }
   ],
   "source": [
    "df.describe()"
   ],
   "metadata": {
    "collapsed": false,
    "pycharm": {
     "name": "#%%\n"
    }
   }
  },
  {
   "cell_type": "code",
   "execution_count": 11,
   "outputs": [],
   "source": [],
   "metadata": {
    "collapsed": false,
    "pycharm": {
     "name": "#%%\n"
    }
   }
  }
 ],
 "metadata": {
  "kernelspec": {
   "display_name": "Python 3",
   "language": "python",
   "name": "python3"
  },
  "language_info": {
   "codemirror_mode": {
    "name": "ipython",
    "version": 2
   },
   "file_extension": ".py",
   "mimetype": "text/x-python",
   "name": "python",
   "nbconvert_exporter": "python",
   "pygments_lexer": "ipython2",
   "version": "2.7.6"
  }
 },
 "nbformat": 4,
 "nbformat_minor": 0
}