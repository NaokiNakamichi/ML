{
 "cells": [
  {
   "cell_type": "code",
   "execution_count": 1,
   "metadata": {
    "collapsed": true
   },
   "outputs": [],
   "source": [
    "import numpy as np\n",
    "import matplotlib.pyplot as plt\n",
    "import pandas as pd\n",
    "from tqdm.notebook import tqdm\n",
    "\n",
    "from ML2_lib import loss\n",
    "from ML2_lib import noise\n",
    "from ML2_lib import algo_sgd\n",
    "from  ML2_lib import merge\n"
   ]
  },
  {
   "cell_type": "code",
   "execution_count": 2,
   "outputs": [
    {
     "data": {
      "text/plain": "<Figure size 432x288 with 1 Axes>",
      "image/png": "[encoded data removed]"
     },
     "metadata": {
      "needs_background": "light"
     },
     "output_type": "display_data"
    }
   ],
   "source": [
    "# データ生成デモ Gauss\n",
    "X_mean = 5\n",
    "X_var = 2\n",
    "rng = np.random.default_rng()\n",
    "X = rng.normal(loc=X_mean,size=100,scale=X_var)\n",
    "Y = noise.Gauss(sigma=2.2,dim=X.shape[0],n=1).generate() + X\n",
    "\n",
    "\n",
    "\n",
    "a = loss.LinearQuadraticLoss()\n",
    "\n",
    "data = [X,Y]\n",
    "core = algo_sgd.SGD(w_init=0,a=0.001,t_max=99,data=data)\n",
    "for _ in core:\n",
    "    core.update(a)\n",
    "\n",
    "\n",
    "\n",
    "x_m = np.linspace(X.min(),X.max(),1000)\n",
    "y_m = a.predict(x_m,core.w)\n",
    "plt.scatter(X,Y)\n",
    "plt.scatter(x_m,y_m,s=1)\n",
    "\n",
    "plt.show()\n",
    "\n"
   ],
   "metadata": {
    "collapsed": false,
    "pycharm": {
     "name": "#%%\n"
    }
   }
  },
  {
   "cell_type": "code",
   "execution_count": 3,
   "outputs": [
    {
     "data": {
      "text/plain": "  0%|          | 0/100 [00:00<?, ?it/s]",
      "application/vnd.jupyter.widget-view+json": {
       "version_major": 2,
       "version_minor": 0,
       "model_id": "fa2c64da4f0645a9baa896e92de194ea"
      }
     },
     "metadata": {},
     "output_type": "display_data"
    }
   ],
   "source": [
    "trial_num = 100 #試行回数\n",
    "result_gauss = [] #パラメータの最終結果　トライアル数*分割数k*特徴量次元\n",
    "result_loss_gauss = [] # 過剰期待損失の最終結果　トライアル数*分割数k\n",
    "valid_k = 100 # 分割数　1 ~ valid_k\n",
    "\n",
    "w_star = 1\n",
    "X_mean = 5\n",
    "X_var = 2\n",
    "\n",
    "X_test = rng.normal(loc=X_mean,size=100,scale=X_var)\n",
    "Y_test = noise.Gauss(sigma=2.2,dim=X_test.shape[0],n=1).generate() + X_test\n",
    "\n",
    "for _ in tqdm(range(trial_num)):\n",
    "    w_per_trial = [] # モデルを貯めていく、必要かどうか\n",
    "    loss_store = [] # 過剰期待損失を貯めていく\n",
    "    a = 0.01 # 学習率\n",
    "    c = 5 # wの初期値がとりうる範囲\n",
    "    n = 250 # データセットのサンプル数\n",
    "    b = 2.2 # ノイズの分散\n",
    "    # 初期値wの決定\n",
    "    w = rng.uniform(w_star-c,w_star+c)\n",
    "    for k in range(1,valid_k+1):\n",
    "        core_store = []\n",
    "        model_store = []\n",
    "\n",
    "\n",
    "\n",
    "        son = loss.LinearQuadraticLoss()\n",
    "        for i in range(k):\n",
    "            core_num = n // k\n",
    "            rng = np.random.default_rng()\n",
    "            X = rng.normal(loc=X_mean,size=core_num,scale=X_var)\n",
    "            Y = noise.Gauss(sigma=b,dim=X.shape[0],n=1).generate() + X\n",
    "            data = [X,Y]\n",
    "\n",
    "            core = algo_sgd.SGD(w_init=w,a=a,t_max=core_num-1,data=data)\n",
    "            for _ in core:\n",
    "                core.update(son)\n",
    "            core_store.append(core)\n",
    "            model_store.append(core.w)\n",
    "\n",
    "        model_store = np.array(model_store)\n",
    "        model_store = model_store.reshape([-1,1])\n",
    "\n",
    "        tmp = merge.smallball(model_store)\n",
    "        w_per_trial.append(tmp)\n",
    "        loss_store.append(np.mean(son.f(y=Y_test,x=X_test,w=tmp)))\n",
    "\n",
    "    result_gauss.append(np.array(w_per_trial))\n",
    "    result_loss_gauss.append(np.array(loss_store))\n",
    "\n",
    "result_gauss = np.array(result_gauss)\n",
    "result_loss_gauss = np.array(result_loss_gauss)\n",
    "\n",
    "\n",
    "\n"
   ],
   "metadata": {
    "collapsed": false,
    "pycharm": {
     "name": "#%%\n"
    }
   }
  },
  {
   "cell_type": "code",
   "execution_count": 4,
   "outputs": [
    {
     "data": {
      "text/plain": "<Figure size 720x576 with 1 Axes>",
      "image/png": "[encoded data removed]"
     },
     "metadata": {
      "needs_background": "light"
     },
     "output_type": "display_data"
    }
   ],
   "source": [
    "fdic = {\n",
    "    \"size\" : 20,\n",
    "}\n",
    "\n",
    "columns=['1', '2', '4','5','10','20','40','50']\n",
    "fig = plt.figure(figsize=(10.0, 8.0))\n",
    "ax1 = fig.add_subplot(111)\n",
    "\n",
    "bp1 = ax1.boxplot(result_loss_gauss[:,[0,1,3,4,9,19,39,49]])\n",
    "ax1.set_xticklabels(columns,fontsize=20)\n",
    "ax1.set_title('R(w)-R^*',fontsize=20)\n",
    "ax1.set_xlabel('k',fontdict=fdic)\n",
    "\n",
    "plt.show()"
   ],
   "metadata": {
    "collapsed": false,
    "pycharm": {
     "name": "#%%\n"
    }
   }
  },
  {
   "cell_type": "code",
   "execution_count": 6,
   "outputs": [],
   "source": [
    "df = pd.DataFrame(result_loss_gauss[:,[0,1,3,4,9,19,39,49]],columns=columns)"
   ],
   "metadata": {
    "collapsed": false,
    "pycharm": {
     "name": "#%%\n"
    }
   }
  },
  {
   "cell_type": "code",
   "execution_count": 7,
   "outputs": [
    {
     "data": {
      "text/plain": "                1           2           4           5          10          20  \\\ncount  100.000000  100.000000  100.000000  100.000000  100.000000  100.000000   \nmean     2.884565    2.671409    2.605592    2.581891    2.579848    2.652936   \nstd      0.598956    0.274602    0.187212    0.129912    0.155577    0.269057   \nmin      2.459778    2.459454    2.459461    2.459450    2.459457    2.459454   \n25%      2.512539    2.484020    2.478023    2.474210    2.478349    2.481021   \n50%      2.644769    2.563859    2.525451    2.550675    2.521551    2.550981   \n75%      2.960887    2.720009    2.673958    2.642940    2.634366    2.741006   \nmax      5.207986    3.745645    3.463935    3.134806    3.372831    3.717499   \n\n               40          50  \ncount  100.000000  100.000000  \nmean     7.783314   11.624865  \nstd      5.827375   10.330650  \nmin      2.459472    2.459462  \n25%      3.088801    3.259596  \n50%      5.583221    7.472370  \n75%     10.599210   16.036403  \nmax     26.384243   44.537399  ",
      "text/html": "<div>\n<style scoped>\n    .dataframe tbody tr th:only-of-type {\n        vertical-align: middle;\n    }\n\n    .dataframe tbody tr th {\n        vertical-align: top;\n    }\n\n    .dataframe thead th {\n        text-align: right;\n    }\n</style>\n<table border=\"1\" class=\"dataframe\">\n  <thead>\n    <tr style=\"text-align: right;\">\n      <th></th>\n      <th>1</th>\n      <th>2</th>\n      <th>4</th>\n      <th>5</th>\n      <th>10</th>\n      <th>20</th>\n      <th>40</th>\n      <th>50</th>\n    </tr>\n  </thead>\n  <tbody>\n    <tr>\n      <th>count</th>\n      <td>100.000000</td>\n      <td>100.000000</td>\n      <td>100.000000</td>\n      <td>100.000000</td>\n      <td>100.000000</td>\n      <td>100.000000</td>\n      <td>100.000000</td>\n      <td>100.000000</td>\n    </tr>\n    <tr>\n      <th>mean</th>\n      <td>2.884565</td>\n      <td>2.671409</td>\n      <td>2.605592</td>\n      <td>2.581891</td>\n      <td>2.579848</td>\n      <td>2.652936</td>\n      <td>7.783314</td>\n      <td>11.624865</td>\n    </tr>\n    <tr>\n      <th>std</th>\n      <td>0.598956</td>\n      <td>0.274602</td>\n      <td>0.187212</td>\n      <td>0.129912</td>\n      <td>0.155577</td>\n      <td>0.269057</td>\n      <td>5.827375</td>\n      <td>10.330650</td>\n    </tr>\n    <tr>\n      <th>min</th>\n      <td>2.459778</td>\n      <td>2.459454</td>\n      <td>2.459461</td>\n      <td>2.459450</td>\n      <td>2.459457</td>\n      <td>2.459454</td>\n      <td>2.459472</td>\n      <td>2.459462</td>\n    </tr>\n    <tr>\n      <th>25%</th>\n      <td>2.512539</td>\n      <td>2.484020</td>\n      <td>2.478023</td>\n      <td>2.474210</td>\n      <td>2.478349</td>\n      <td>2.481021</td>\n      <td>3.088801</td>\n      <td>3.259596</td>\n    </tr>\n    <tr>\n      <th>50%</th>\n      <td>2.644769</td>\n      <td>2.563859</td>\n      <td>2.525451</td>\n      <td>2.550675</td>\n      <td>2.521551</td>\n      <td>2.550981</td>\n      <td>5.583221</td>\n      <td>7.472370</td>\n    </tr>\n    <tr>\n      <th>75%</th>\n      <td>2.960887</td>\n      <td>2.720009</td>\n      <td>2.673958</td>\n      <td>2.642940</td>\n      <td>2.634366</td>\n      <td>2.741006</td>\n      <td>10.599210</td>\n      <td>16.036403</td>\n    </tr>\n    <tr>\n      <th>max</th>\n      <td>5.207986</td>\n      <td>3.745645</td>\n      <td>3.463935</td>\n      <td>3.134806</td>\n      <td>3.372831</td>\n      <td>3.717499</td>\n      <td>26.384243</td>\n      <td>44.537399</td>\n    </tr>\n  </tbody>\n</table>\n</div>"
     },
     "execution_count": 7,
     "metadata": {},
     "output_type": "execute_result"
    }
   ],
   "source": [
    "df.describe()"
   ],
   "metadata": {
    "collapsed": false,
    "pycharm": {
     "name": "#%%\n"
    }
   }
  },
  {
   "cell_type": "code",
   "execution_count": 8,
   "outputs": [
    {
     "data": {
      "text/plain": "<matplotlib.collections.PathCollection at 0x1302fecd0>"
     },
     "execution_count": 8,
     "metadata": {},
     "output_type": "execute_result"
    },
    {
     "data": {
      "text/plain": "<Figure size 432x288 with 1 Axes>",
      "image/png": "[encoded data removed]"
     },
     "metadata": {
      "needs_background": "light"
     },
     "output_type": "display_data"
    }
   ],
   "source": [
    "# データ生成デモ Log-normal\n",
    "X = np.linspace(0,10,100)\n",
    "np.random.shuffle(X)\n",
    "Y = noise.LogNormal(sigma=1.75,dim=X.shape[0],n=1).generate() + X\n",
    "\n",
    "\n",
    "\n",
    "a = loss.LinearQuadraticLoss()\n",
    "\n",
    "data = [X,Y]\n",
    "core = algo_sgd.SGD(w_init=0,a=0.001,t_max=99,data=data)\n",
    "for _ in core:\n",
    "    core.update(a)\n",
    "\n",
    "\n",
    "\n",
    "x_m = np.linspace(0,10,1000)\n",
    "y_m = a.predict(x_m,core.w)\n",
    "plt.scatter(X,Y)\n",
    "plt.scatter(x_m,y_m,s=1)\n",
    "\n"
   ],
   "metadata": {
    "collapsed": false,
    "pycharm": {
     "name": "#%%\n"
    }
   }
  },
  {
   "cell_type": "code",
   "execution_count": 9,
   "outputs": [
    {
     "data": {
      "text/plain": "  0%|          | 0/100 [00:00<?, ?it/s]",
      "application/vnd.jupyter.widget-view+json": {
       "version_major": 2,
       "version_minor": 0,
       "model_id": "e30ecb804b884d8d8c0644638d6706a1"
      }
     },
     "metadata": {},
     "output_type": "display_data"
    }
   ],
   "source": [
    "trial_num = 100 #試行回数\n",
    "result_lognormal = [] #パラメータの最終結果　トライアル数*分割数k*特徴量次元\n",
    "result_loss_lognormal = [] # 過剰期待損失の最終結果　トライアル数*分割数k\n",
    "valid_k = 100 # 分割数　1 ~ valid_k\n",
    "\n",
    "w_star = 1\n",
    "X_mean = 5\n",
    "X_var = 2\n",
    "\n",
    "for _ in tqdm(range(trial_num)):\n",
    "    w_per_trial = []\n",
    "    loss_store = []\n",
    "    a = 0.01\n",
    "    c = 5\n",
    "    n = 250\n",
    "    b = 1.75\n",
    "    # 初期値wの決定\n",
    "    rng = np.random.default_rng()\n",
    "    w = rng.uniform(w_star-c,w_star+c)\n",
    "    for k in range(1,valid_k+1):\n",
    "        core_store = []\n",
    "        model_store = []\n",
    "\n",
    "\n",
    "        son = loss.LinearQuadraticLoss()\n",
    "        for _ in range(k):\n",
    "            core_num = n // k\n",
    "            rng = np.random.default_rng()\n",
    "            X = rng.normal(loc=X_mean,size=core_num,scale=X_var)\n",
    "            Y = noise.LogNormal(sigma=b,dim=X.shape[0],n=1).generate() + X\n",
    "            data = [X,Y]\n",
    "            core = algo_sgd.SGD(w_init=w,a=a,t_max=core_num-1,data=data)\n",
    "            for _ in core:\n",
    "                core.update(son)\n",
    "            core_store.append(core)\n",
    "            model_store.append(core.w)\n",
    "\n",
    "        model_store = np.array(model_store)\n",
    "        model_store = model_store.reshape([-1,1])\n",
    "        tmp = merge.smallball(model_store)\n",
    "        w_per_trial.append(tmp)\n",
    "        loss_store.append(np.mean(son.f(y=Y_test,x=X_test,w=tmp)))\n",
    "\n",
    "    result_lognormal.append(np.array(w_per_trial))\n",
    "    result_loss_lognormal.append(np.array(loss_store))\n",
    "\n",
    "result_lognormal = np.array(result_lognormal)\n",
    "result_loss_lognormal = np.array(result_loss_lognormal)\n",
    "\n",
    "\n",
    "\n"
   ],
   "metadata": {
    "collapsed": false,
    "pycharm": {
     "name": "#%%\n"
    }
   }
  },
  {
   "cell_type": "code",
   "execution_count": 10,
   "outputs": [
    {
     "data": {
      "text/plain": "<Figure size 720x576 with 1 Axes>",
      "image/png": "[encoded data removed]"
     },
     "metadata": {
      "needs_background": "light"
     },
     "output_type": "display_data"
    }
   ],
   "source": [
    "fig = plt.figure(figsize=(10.0, 8.0))\n",
    "ax1 = fig.add_subplot(111)\n",
    "\n",
    "bp1 = ax1.boxplot(result_loss_lognormal[:,[0,1,3,4,9,19,39,49]])\n",
    "ax1.set_xticklabels(columns,fontsize=20)\n",
    "ax1.set_title('R(w)-R^*',fontsize=20)\n",
    "ax1.set_xlabel('k',fontdict=fdic)\n",
    "\n",
    "plt.show()"
   ],
   "metadata": {
    "collapsed": false,
    "pycharm": {
     "name": "#%%\n"
    }
   }
  },
  {
   "cell_type": "code",
   "execution_count": 11,
   "outputs": [],
   "source": [
    "df = pd.DataFrame(result_loss_lognormal[:,[0,1,3,4,9,19,39,49]],columns=columns)"
   ],
   "metadata": {
    "collapsed": false,
    "pycharm": {
     "name": "#%%\n"
    }
   }
  },
  {
   "cell_type": "code",
   "execution_count": 12,
   "outputs": [
    {
     "data": {
      "text/plain": "                 1           2            4           5            10  \\\ncount   100.000000  100.000000   100.000000  100.000000    100.000000   \nmean     22.654961   15.049822    23.574932   13.101316    127.244246   \nstd     115.757584   52.104386   110.492015   26.975548   1089.995714   \nmin       2.471601    2.464853     2.459742    2.463514      2.459494   \n25%       3.300324    2.921523     2.792964    2.920971      3.003455   \n50%       4.264286    4.051302     3.525431    3.926968      4.953854   \n75%       5.898373    6.733354     6.517193    8.745257     12.742180   \nmax    1079.488851  417.607991  1072.066434  208.054474  10910.315418   \n\n                 20          40           50  \ncount    100.000000  100.000000   100.000000  \nmean     145.566003   38.391949    56.468401  \nstd     1150.325154   96.416546   148.971249  \nmin        2.459568    2.462541     2.618249  \n25%        2.779973    3.792917     6.258891  \n50%        4.351562    7.287892    15.508078  \n75%       19.090397   25.233018    30.441413  \nmax    11497.681998  683.448804  1096.017516  ",
      "text/html": "<div>\n<style scoped>\n    .dataframe tbody tr th:only-of-type {\n        vertical-align: middle;\n    }\n\n    .dataframe tbody tr th {\n        vertical-align: top;\n    }\n\n    .dataframe thead th {\n        text-align: right;\n    }\n</style>\n<table border=\"1\" class=\"dataframe\">\n  <thead>\n    <tr style=\"text-align: right;\">\n      <th></th>\n      <th>1</th>\n      <th>2</th>\n      <th>4</th>\n      <th>5</th>\n      <th>10</th>\n      <th>20</th>\n      <th>40</th>\n      <th>50</th>\n    </tr>\n  </thead>\n  <tbody>\n    <tr>\n      <th>count</th>\n      <td>100.000000</td>\n      <td>100.000000</td>\n      <td>100.000000</td>\n      <td>100.000000</td>\n      <td>100.000000</td>\n      <td>100.000000</td>\n      <td>100.000000</td>\n      <td>100.000000</td>\n    </tr>\n    <tr>\n      <th>mean</th>\n      <td>22.654961</td>\n      <td>15.049822</td>\n      <td>23.574932</td>\n      <td>13.101316</td>\n      <td>127.244246</td>\n      <td>145.566003</td>\n      <td>38.391949</td>\n      <td>56.468401</td>\n    </tr>\n    <tr>\n      <th>std</th>\n      <td>115.757584</td>\n      <td>52.104386</td>\n      <td>110.492015</td>\n      <td>26.975548</td>\n      <td>1089.995714</td>\n      <td>1150.325154</td>\n      <td>96.416546</td>\n      <td>148.971249</td>\n    </tr>\n    <tr>\n      <th>min</th>\n      <td>2.471601</td>\n      <td>2.464853</td>\n      <td>2.459742</td>\n      <td>2.463514</td>\n      <td>2.459494</td>\n      <td>2.459568</td>\n      <td>2.462541</td>\n      <td>2.618249</td>\n    </tr>\n    <tr>\n      <th>25%</th>\n      <td>3.300324</td>\n      <td>2.921523</td>\n      <td>2.792964</td>\n      <td>2.920971</td>\n      <td>3.003455</td>\n      <td>2.779973</td>\n      <td>3.792917</td>\n      <td>6.258891</td>\n    </tr>\n    <tr>\n      <th>50%</th>\n      <td>4.264286</td>\n      <td>4.051302</td>\n      <td>3.525431</td>\n      <td>3.926968</td>\n      <td>4.953854</td>\n      <td>4.351562</td>\n      <td>7.287892</td>\n      <td>15.508078</td>\n    </tr>\n    <tr>\n      <th>75%</th>\n      <td>5.898373</td>\n      <td>6.733354</td>\n      <td>6.517193</td>\n      <td>8.745257</td>\n      <td>12.742180</td>\n      <td>19.090397</td>\n      <td>25.233018</td>\n      <td>30.441413</td>\n    </tr>\n    <tr>\n      <th>max</th>\n      <td>1079.488851</td>\n      <td>417.607991</td>\n      <td>1072.066434</td>\n      <td>208.054474</td>\n      <td>10910.315418</td>\n      <td>11497.681998</td>\n      <td>683.448804</td>\n      <td>1096.017516</td>\n    </tr>\n  </tbody>\n</table>\n</div>"
     },
     "execution_count": 12,
     "metadata": {},
     "output_type": "execute_result"
    }
   ],
   "source": [
    "df.describe()\n",
    "\n",
    "\n",
    "\n"
   ],
   "metadata": {
    "collapsed": false,
    "pycharm": {
     "name": "#%%\n"
    }
   }
  },
  {
   "cell_type": "code",
   "execution_count": null,
   "outputs": [],
   "source": [],
   "metadata": {
    "collapsed": false,
    "pycharm": {
     "name": "#%%\n"
    }
   }
  },
  {
   "cell_type": "code",
   "execution_count": null,
   "outputs": [],
   "source": [],
   "metadata": {
    "collapsed": false,
    "pycharm": {
     "name": "#%%\n"
    }
   }
  }
 ],
 "metadata": {
  "kernelspec": {
   "display_name": "Python 3",
   "language": "python",
   "name": "python3"
  },
  "language_info": {
   "codemirror_mode": {
    "name": "ipython",
    "version": 2
   },
   "file_extension": ".py",
   "mimetype": "text/x-python",
   "name": "python",
   "nbconvert_exporter": "python",
   "pygments_lexer": "ipython2",
   "version": "2.7.6"
  }
 },
 "nbformat": 4,
 "nbformat_minor": 0
}