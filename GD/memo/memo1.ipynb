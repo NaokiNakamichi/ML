{
 "cells": [
  {
   "cell_type": "code",
   "execution_count": 1,
   "metadata": {
    "collapsed": true
   },
   "outputs": [],
   "source": [
    "import numpy as np\n",
    "import matplotlib.pyplot as plt\n",
    "import pandas as pd\n",
    "from tqdm.notebook import tqdm\n",
    "\n",
    "from ML2_lib import loss\n",
    "from ML2_lib import noise\n",
    "from ML2_lib import algo_sgd\n",
    "from  ML2_lib import merge\n"
   ]
  },
  {
   "cell_type": "code",
   "execution_count": 2,
   "outputs": [
    {
     "data": {
      "text/plain": "<Figure size 432x288 with 1 Axes>",
      "image/png": "[encoded data removed]"
     },
     "metadata": {
      "needs_background": "light"
     },
     "output_type": "display_data"
    }
   ],
   "source": [
    "# データ生成デモ Gauss\n",
    "X_mean = 5\n",
    "X_var = 2\n",
    "rng = np.random.default_rng()\n",
    "X = rng.normal(loc=X_mean,size=100,scale=X_var)\n",
    "Y = noise.Gauss(sigma=2.2,dim=X.shape[0],n=1).generate() + X\n",
    "\n",
    "\n",
    "\n",
    "a = loss.LinearQuadraticLoss()\n",
    "\n",
    "data = [X,Y]\n",
    "core = algo_sgd.SGD(w_init=0,a=0.001,t_max=99,data=data)\n",
    "for _ in core:\n",
    "    core.update(a)\n",
    "\n",
    "\n",
    "\n",
    "x_m = np.linspace(X.min(),X.max(),1000)\n",
    "y_m = a.predict(x_m,core.w)\n",
    "plt.scatter(X,Y)\n",
    "plt.scatter(x_m,y_m,s=1)\n",
    "\n",
    "plt.show()\n",
    "\n"
   ],
   "metadata": {
    "collapsed": false,
    "pycharm": {
     "name": "#%%\n"
    }
   }
  },
  {
   "cell_type": "code",
   "execution_count": 24,
   "outputs": [
    {
     "data": {
      "text/plain": "  0%|          | 0/100 [00:00<?, ?it/s]",
      "application/vnd.jupyter.widget-view+json": {
       "version_major": 2,
       "version_minor": 0,
       "model_id": "b135592d563d46238bf34741b3150d28"
      }
     },
     "metadata": {},
     "output_type": "display_data"
    }
   ],
   "source": [
    "trial_num = 100 #試行回数\n",
    "result = [] #パラメータの最終結果　トライアル数*分割数k*特徴量次元\n",
    "result_loss = [] # 過剰期待損失の最終結果　トライアル数*分割数k\n",
    "valid_k = 100 # 分割数　1 ~ valid_k\n",
    "\n",
    "w_star = 1\n",
    "X_mean = 5\n",
    "X_var = 2\n",
    "\n",
    "for _ in tqdm(range(trial_num)):\n",
    "    s = [] # モデルを貯めていく、必要かどうか\n",
    "    loss_store = [] # 過剰期待損失を貯めていく\n",
    "    a = 0.01 # 学習率\n",
    "    c = 5 # wの初期値がとりうる範囲\n",
    "    n = 250 # データセットのサンプル数\n",
    "    b = 2.2 # ノイズの分散\n",
    "    # 初期値wの決定\n",
    "    w = (c - (-c)) * np.random.rand() + (-c) + w_star\n",
    "    for k in range(1,valid_k+1):\n",
    "        core_store = []\n",
    "        model_store = []\n",
    "\n",
    "\n",
    "\n",
    "        son = loss.LinearQuadraticLoss()\n",
    "        for i in range(k):\n",
    "            core_num = n // k\n",
    "            rng = np.random.default_rng()\n",
    "            X = rng.normal(loc=X_mean,size=core_num,scale=X_var)\n",
    "            Y = noise.Gauss(sigma=b,dim=X.shape[0],n=1).generate() + X\n",
    "            data = [X,Y]\n",
    "\n",
    "            core = algo_sgd.SGD(w_init=w,a=a,t_max=core_num-1,data=data)\n",
    "            for _ in core:\n",
    "                core.update(son)\n",
    "            core_store.append(core)\n",
    "            model_store.append(core.w)\n",
    "\n",
    "        model_store = np.array(model_store)\n",
    "        model_store = model_store.reshape([-1,1])\n",
    "        tmp = merge.smallball(model_store)\n",
    "        s.append(tmp)\n",
    "        loss_store.append(son.f(y=X_mean,x=X_mean,w=tmp))\n",
    "\n",
    "    result.append(np.array(s))\n",
    "    result_loss.append(np.array(loss_store))\n",
    "\n",
    "result = np.array(result)\n",
    "result_loss = np.array(result_loss)\n",
    "\n",
    "\n",
    "\n"
   ],
   "metadata": {
    "collapsed": false,
    "pycharm": {
     "name": "#%%\n"
    }
   }
  },
  {
   "cell_type": "code",
   "execution_count": 25,
   "outputs": [
    {
     "data": {
      "text/plain": "<Figure size 720x576 with 1 Axes>",
      "image/png": "[encoded data removed]"
     },
     "metadata": {
      "needs_background": "light"
     },
     "output_type": "display_data"
    }
   ],
   "source": [
    "fdic = {\n",
    "    \"size\" : 20,\n",
    "}\n",
    "\n",
    "columns=['1', '2', '4','5','10','20','40','50']\n",
    "fig = plt.figure(figsize=(10.0, 8.0))\n",
    "ax1 = fig.add_subplot(111)\n",
    "\n",
    "bp1 = ax1.boxplot(result_loss[:,[0,1,3,4,9,19,39,49],0])\n",
    "ax1.set_xticklabels(columns,fontsize=20)\n",
    "ax1.set_title('R(w)-R^*',fontsize=20)\n",
    "ax1.set_xlabel('k',fontdict=fdic)\n",
    "\n",
    "plt.show()"
   ],
   "metadata": {
    "collapsed": false,
    "pycharm": {
     "name": "#%%\n"
    }
   }
  },
  {
   "cell_type": "code",
   "execution_count": 26,
   "outputs": [],
   "source": [
    "df = pd.DataFrame(result_loss[:,[0,1,3,4,9,19,39,49],0],columns=columns)"
   ],
   "metadata": {
    "collapsed": false,
    "pycharm": {
     "name": "#%%\n"
    }
   }
  },
  {
   "cell_type": "code",
   "execution_count": 27,
   "outputs": [
    {
     "data": {
      "text/plain": "                1           2             4           5          10  \\\ncount  100.000000  100.000000  1.000000e+02  100.000000  100.000000   \nmean     0.317755    0.201212  1.049308e-01    0.108330    0.066523   \nstd      0.473811    0.289965  1.439957e-01    0.166969    0.097874   \nmin      0.000055    0.000003  3.858510e-09    0.000228    0.000008   \n25%      0.035016    0.014963  1.127690e-02    0.014778    0.006351   \n50%      0.134181    0.072864  5.142678e-02    0.049972    0.032221   \n75%      0.395062    0.275694  1.293770e-01    0.108380    0.086729   \nmax      3.325857    1.547399  7.067191e-01    0.849221    0.634099   \n\n               20          40          50  \ncount  100.000000  100.000000  100.000000  \nmean     0.142281    1.082330    1.233924  \nstd      0.252880    1.493959    1.635780  \nmin      0.000041    0.000014    0.001258  \n25%      0.012534    0.082562    0.233408  \n50%      0.071786    0.521895    0.668141  \n75%      0.138123    1.334405    1.516171  \nmax      1.868010    7.705959    9.462383  ",
      "text/html": "<div>\n<style scoped>\n    .dataframe tbody tr th:only-of-type {\n        vertical-align: middle;\n    }\n\n    .dataframe tbody tr th {\n        vertical-align: top;\n    }\n\n    .dataframe thead th {\n        text-align: right;\n    }\n</style>\n<table border=\"1\" class=\"dataframe\">\n  <thead>\n    <tr style=\"text-align: right;\">\n      <th></th>\n      <th>1</th>\n      <th>2</th>\n      <th>4</th>\n      <th>5</th>\n      <th>10</th>\n      <th>20</th>\n      <th>40</th>\n      <th>50</th>\n    </tr>\n  </thead>\n  <tbody>\n    <tr>\n      <th>count</th>\n      <td>100.000000</td>\n      <td>100.000000</td>\n      <td>1.000000e+02</td>\n      <td>100.000000</td>\n      <td>100.000000</td>\n      <td>100.000000</td>\n      <td>100.000000</td>\n      <td>100.000000</td>\n    </tr>\n    <tr>\n      <th>mean</th>\n      <td>0.317755</td>\n      <td>0.201212</td>\n      <td>1.049308e-01</td>\n      <td>0.108330</td>\n      <td>0.066523</td>\n      <td>0.142281</td>\n      <td>1.082330</td>\n      <td>1.233924</td>\n    </tr>\n    <tr>\n      <th>std</th>\n      <td>0.473811</td>\n      <td>0.289965</td>\n      <td>1.439957e-01</td>\n      <td>0.166969</td>\n      <td>0.097874</td>\n      <td>0.252880</td>\n      <td>1.493959</td>\n      <td>1.635780</td>\n    </tr>\n    <tr>\n      <th>min</th>\n      <td>0.000055</td>\n      <td>0.000003</td>\n      <td>3.858510e-09</td>\n      <td>0.000228</td>\n      <td>0.000008</td>\n      <td>0.000041</td>\n      <td>0.000014</td>\n      <td>0.001258</td>\n    </tr>\n    <tr>\n      <th>25%</th>\n      <td>0.035016</td>\n      <td>0.014963</td>\n      <td>1.127690e-02</td>\n      <td>0.014778</td>\n      <td>0.006351</td>\n      <td>0.012534</td>\n      <td>0.082562</td>\n      <td>0.233408</td>\n    </tr>\n    <tr>\n      <th>50%</th>\n      <td>0.134181</td>\n      <td>0.072864</td>\n      <td>5.142678e-02</td>\n      <td>0.049972</td>\n      <td>0.032221</td>\n      <td>0.071786</td>\n      <td>0.521895</td>\n      <td>0.668141</td>\n    </tr>\n    <tr>\n      <th>75%</th>\n      <td>0.395062</td>\n      <td>0.275694</td>\n      <td>1.293770e-01</td>\n      <td>0.108380</td>\n      <td>0.086729</td>\n      <td>0.138123</td>\n      <td>1.334405</td>\n      <td>1.516171</td>\n    </tr>\n    <tr>\n      <th>max</th>\n      <td>3.325857</td>\n      <td>1.547399</td>\n      <td>7.067191e-01</td>\n      <td>0.849221</td>\n      <td>0.634099</td>\n      <td>1.868010</td>\n      <td>7.705959</td>\n      <td>9.462383</td>\n    </tr>\n  </tbody>\n</table>\n</div>"
     },
     "execution_count": 27,
     "metadata": {},
     "output_type": "execute_result"
    }
   ],
   "source": [
    "df.describe()"
   ],
   "metadata": {
    "collapsed": false,
    "pycharm": {
     "name": "#%%\n"
    }
   }
  },
  {
   "cell_type": "code",
   "execution_count": 28,
   "outputs": [
    {
     "data": {
      "text/plain": "<matplotlib.collections.PathCollection at 0x12d91d970>"
     },
     "execution_count": 28,
     "metadata": {},
     "output_type": "execute_result"
    },
    {
     "data": {
      "text/plain": "<Figure size 432x288 with 1 Axes>",
      "image/png": "[encoded data removed]"
     },
     "metadata": {
      "needs_background": "light"
     },
     "output_type": "display_data"
    }
   ],
   "source": [
    "# データ生成デモ Log-normal\n",
    "X = np.linspace(0,10,100)\n",
    "np.random.shuffle(X)\n",
    "Y = noise.LogNormal(sigma=1.75,dim=X.shape[0],n=1).generate() + X\n",
    "\n",
    "\n",
    "\n",
    "a = loss.LinearQuadraticLoss()\n",
    "\n",
    "data = [X,Y]\n",
    "core = algo_sgd.SGD(w_init=0,a=0.001,t_max=99,data=data)\n",
    "for _ in core:\n",
    "    core.update(a)\n",
    "\n",
    "\n",
    "\n",
    "x_m = np.linspace(0,10,1000)\n",
    "y_m = a.predict(x_m,core.w)\n",
    "plt.scatter(X,Y)\n",
    "plt.scatter(x_m,y_m,s=1)\n",
    "\n"
   ],
   "metadata": {
    "collapsed": false,
    "pycharm": {
     "name": "#%%\n"
    }
   }
  },
  {
   "cell_type": "code",
   "execution_count": 29,
   "outputs": [
    {
     "data": {
      "text/plain": "  0%|          | 0/100 [00:00<?, ?it/s]",
      "application/vnd.jupyter.widget-view+json": {
       "version_major": 2,
       "version_minor": 0,
       "model_id": "f5099a885de14fa388e3af33023bfdba"
      }
     },
     "metadata": {},
     "output_type": "display_data"
    }
   ],
   "source": [
    "trial_num = 100 #試行回数\n",
    "result = [] #パラメータの最終結果　トライアル数*分割数k*特徴量次元\n",
    "result_loss = [] # 過剰期待損失の最終結果　トライアル数*分割数k\n",
    "valid_k = 100 # 分割数　1 ~ valid_k\n",
    "\n",
    "w_star = 1\n",
    "X_mean = 5\n",
    "X_var = 2\n",
    "\n",
    "for _ in tqdm(range(trial_num)):\n",
    "    s = []\n",
    "    loss_store = []\n",
    "    a = 0.01\n",
    "    c = 5\n",
    "    n = 250\n",
    "    b = 1.75\n",
    "    # 初期値wの決定\n",
    "    w = (c - (-c)) * np.random.rand() + (-c) + w_star\n",
    "    for k in range(1,valid_k+1):\n",
    "        core_store = []\n",
    "        model_store = []\n",
    "\n",
    "\n",
    "        son = loss.LinearQuadraticLoss()\n",
    "        for i in range(k):\n",
    "            core_num = n // k\n",
    "            rng = np.random.default_rng()\n",
    "            X = rng.normal(loc=X_mean,size=core_num,scale=X_var)\n",
    "            Y = noise.LogNormal(sigma=b,dim=X.shape[0],n=1).generate() + X\n",
    "            data = [X,Y]\n",
    "            core = algo_sgd.SGD(w_init=w,a=a,t_max=core_num-1,data=data)\n",
    "            for _ in core:\n",
    "                core.update(son)\n",
    "            core_store.append(core)\n",
    "            model_store.append(core.w)\n",
    "\n",
    "        model_store = np.array(model_store)\n",
    "        model_store = model_store.reshape([-1,1])\n",
    "        tmp = merge.smallball(model_store)\n",
    "        s.append(tmp)\n",
    "        loss_store.append(son.f(y=X.mean(),x=X.mean(),w=tmp))\n",
    "\n",
    "    result.append(np.array(s))\n",
    "    result_loss.append(np.array(loss_store))\n",
    "\n",
    "result = np.array(result)\n",
    "result_loss = np.array(result_loss)\n",
    "\n",
    "\n",
    "\n"
   ],
   "metadata": {
    "collapsed": false,
    "pycharm": {
     "name": "#%%\n"
    }
   }
  },
  {
   "cell_type": "code",
   "execution_count": 30,
   "outputs": [
    {
     "data": {
      "text/plain": "<Figure size 720x576 with 1 Axes>",
      "image/png": "[encoded data removed]"
     },
     "metadata": {
      "needs_background": "light"
     },
     "output_type": "display_data"
    }
   ],
   "source": [
    "fig = plt.figure(figsize=(10.0, 8.0))\n",
    "ax1 = fig.add_subplot(111)\n",
    "\n",
    "bp1 = ax1.boxplot(result_loss[:,[0,1,3,4,9,19,39,49],0])\n",
    "ax1.set_xticklabels(columns,fontsize=20)\n",
    "ax1.set_title('R(w)-R^*',fontsize=20)\n",
    "ax1.set_xlabel('k')\n",
    "\n",
    "plt.show()"
   ],
   "metadata": {
    "collapsed": false,
    "pycharm": {
     "name": "#%%\n"
    }
   }
  },
  {
   "cell_type": "code",
   "execution_count": 31,
   "outputs": [],
   "source": [
    "df = pd.DataFrame(result_loss[:,[0,1,3,4,9,19,39,49],0],columns=columns)"
   ],
   "metadata": {
    "collapsed": false,
    "pycharm": {
     "name": "#%%\n"
    }
   }
  },
  {
   "cell_type": "code",
   "execution_count": 32,
   "outputs": [
    {
     "data": {
      "text/plain": "                 1            2           4           5          10  \\\ncount   100.000000   100.000000  100.000000  100.000000  100.000000   \nmean     22.094036    32.648887    8.130141    7.252263    8.379197   \nstd     127.129044   219.690702   29.947386   16.312291   18.537078   \nmin       0.000058     0.002738    0.000061    0.000445    0.001532   \n25%       0.835566     0.426166    0.429292    0.442491    0.251455   \n50%       2.292644     1.101752    1.068965    1.289848    1.389597   \n75%       6.091561     2.975534    4.179782    5.061726    7.385552   \nmax    1217.668870  2129.776035  272.417372   82.352848  146.065557   \n\n                20           40           50  \ncount   100.000000   100.000000   100.000000  \nmean    104.550562    49.160566    46.377670  \nstd     747.709776   216.699018   180.129474  \nmin       0.003519     0.000636     0.001896  \n25%       0.482361     0.879658     0.450356  \n50%       2.422565     4.200749     1.860799  \n75%       9.295953    16.992427    11.515613  \nmax    7402.791064  2095.297732  1491.317021  ",
      "text/html": "<div>\n<style scoped>\n    .dataframe tbody tr th:only-of-type {\n        vertical-align: middle;\n    }\n\n    .dataframe tbody tr th {\n        vertical-align: top;\n    }\n\n    .dataframe thead th {\n        text-align: right;\n    }\n</style>\n<table border=\"1\" class=\"dataframe\">\n  <thead>\n    <tr style=\"text-align: right;\">\n      <th></th>\n      <th>1</th>\n      <th>2</th>\n      <th>4</th>\n      <th>5</th>\n      <th>10</th>\n      <th>20</th>\n      <th>40</th>\n      <th>50</th>\n    </tr>\n  </thead>\n  <tbody>\n    <tr>\n      <th>count</th>\n      <td>100.000000</td>\n      <td>100.000000</td>\n      <td>100.000000</td>\n      <td>100.000000</td>\n      <td>100.000000</td>\n      <td>100.000000</td>\n      <td>100.000000</td>\n      <td>100.000000</td>\n    </tr>\n    <tr>\n      <th>mean</th>\n      <td>22.094036</td>\n      <td>32.648887</td>\n      <td>8.130141</td>\n      <td>7.252263</td>\n      <td>8.379197</td>\n      <td>104.550562</td>\n      <td>49.160566</td>\n      <td>46.377670</td>\n    </tr>\n    <tr>\n      <th>std</th>\n      <td>127.129044</td>\n      <td>219.690702</td>\n      <td>29.947386</td>\n      <td>16.312291</td>\n      <td>18.537078</td>\n      <td>747.709776</td>\n      <td>216.699018</td>\n      <td>180.129474</td>\n    </tr>\n    <tr>\n      <th>min</th>\n      <td>0.000058</td>\n      <td>0.002738</td>\n      <td>0.000061</td>\n      <td>0.000445</td>\n      <td>0.001532</td>\n      <td>0.003519</td>\n      <td>0.000636</td>\n      <td>0.001896</td>\n    </tr>\n    <tr>\n      <th>25%</th>\n      <td>0.835566</td>\n      <td>0.426166</td>\n      <td>0.429292</td>\n      <td>0.442491</td>\n      <td>0.251455</td>\n      <td>0.482361</td>\n      <td>0.879658</td>\n      <td>0.450356</td>\n    </tr>\n    <tr>\n      <th>50%</th>\n      <td>2.292644</td>\n      <td>1.101752</td>\n      <td>1.068965</td>\n      <td>1.289848</td>\n      <td>1.389597</td>\n      <td>2.422565</td>\n      <td>4.200749</td>\n      <td>1.860799</td>\n    </tr>\n    <tr>\n      <th>75%</th>\n      <td>6.091561</td>\n      <td>2.975534</td>\n      <td>4.179782</td>\n      <td>5.061726</td>\n      <td>7.385552</td>\n      <td>9.295953</td>\n      <td>16.992427</td>\n      <td>11.515613</td>\n    </tr>\n    <tr>\n      <th>max</th>\n      <td>1217.668870</td>\n      <td>2129.776035</td>\n      <td>272.417372</td>\n      <td>82.352848</td>\n      <td>146.065557</td>\n      <td>7402.791064</td>\n      <td>2095.297732</td>\n      <td>1491.317021</td>\n    </tr>\n  </tbody>\n</table>\n</div>"
     },
     "execution_count": 32,
     "metadata": {},
     "output_type": "execute_result"
    }
   ],
   "source": [
    "df.describe()"
   ],
   "metadata": {
    "collapsed": false,
    "pycharm": {
     "name": "#%%\n"
    }
   }
  },
  {
   "cell_type": "code",
   "execution_count": 8,
   "outputs": [],
   "source": [
    "A = np.arange(2).reshape(1,2)"
   ],
   "metadata": {
    "collapsed": false,
    "pycharm": {
     "name": "#%%\n"
    }
   }
  },
  {
   "cell_type": "code",
   "execution_count": 8,
   "outputs": [],
   "source": [],
   "metadata": {
    "collapsed": false,
    "pycharm": {
     "name": "#%%\n"
    }
   }
  },
  {
   "cell_type": "code",
   "execution_count": 11,
   "outputs": [
    {
     "data": {
      "text/plain": "array([2])"
     },
     "execution_count": 11,
     "metadata": {},
     "output_type": "execute_result"
    }
   ],
   "source": [
    "np.dot(np.array([1,2]),A.T )"
   ],
   "metadata": {
    "collapsed": false,
    "pycharm": {
     "name": "#%%\n"
    }
   }
  },
  {
   "cell_type": "code",
   "execution_count": 9,
   "outputs": [],
   "source": [],
   "metadata": {
    "collapsed": false,
    "pycharm": {
     "name": "#%%\n"
    }
   }
  },
  {
   "cell_type": "code",
   "execution_count": null,
   "outputs": [],
   "source": [],
   "metadata": {
    "collapsed": false,
    "pycharm": {
     "name": "#%%\n"
    }
   }
  }
 ],
 "metadata": {
  "kernelspec": {
   "display_name": "Python 3",
   "language": "python",
   "name": "python3"
  },
  "language_info": {
   "codemirror_mode": {
    "name": "ipython",
    "version": 2
   },
   "file_extension": ".py",
   "mimetype": "text/x-python",
   "name": "python",
   "nbconvert_exporter": "python",
   "pygments_lexer": "ipython2",
   "version": "2.7.6"
  }
 },
 "nbformat": 4,
 "nbformat_minor": 0
}