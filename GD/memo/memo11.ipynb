{
 "cells": [
  {
   "cell_type": "code",
   "execution_count": 1,
   "metadata": {
    "collapsed": true
   },
   "outputs": [],
   "source": [
    "import matplotlib.pyplot as plt\n",
    "import pandas as pd\n",
    "import numpy as np\n",
    "import datetime\n",
    "\n",
    "from ML2_lib import RV_SGDAve\n",
    "from ML2_lib import DC_SGD\n",
    "from ML2_lib import loss\n",
    "from ML2_lib import plot_set\n",
    "from ML2_lib import additive_noise"
   ]
  },
  {
   "cell_type": "code",
   "execution_count": 17,
   "outputs": [],
   "source": [
    "# 学習率は0.01/t * sqrt(d) ノイズは正規分布\n",
    "X_mean = 5\n",
    "X_var = 2\n",
    "E_var = 2.2\n",
    "w_star = np.arange(100)\n",
    "w_star = w_star.reshape(1,-1)\n",
    "d = w_star.shape[1]\n",
    "n = 10000\n",
    "c = 5\n",
    "noise = \"normal\"\n",
    "rng = np.random.default_rng()\n",
    "w_init = w_star + rng.uniform(-c,c,size=d)\n",
    "\n",
    "son = loss.LinearQuadraticLoss()\n",
    "RV = RV_SGDAve.RVSGDSimulation(w_star=w_star,n=n,E_var=E_var,X_mean=X_mean,X_var=X_var,noise=noise,loss_type=son,c=c,fixed_lr=True)\n",
    "\n",
    "columns=['1', '2', '4','5','10','20']\n",
    "k_list = [0,1,3,4,9,19]\n",
    "title = f\"noise type = {noise} Error variable = {E_var}\"\n"
   ],
   "metadata": {
    "collapsed": false,
    "pycharm": {
     "name": "#%%\n"
    }
   }
  },
  {
   "cell_type": "code",
   "execution_count": 18,
   "outputs": [],
   "source": [
    "\n",
    "DC = DC_SGD.DCSGDSimulation(w_star=w_star,n=n,E_var=E_var,X_mean=X_mean,X_var=X_var,noise=noise,loss_type=son,c=c,fixed_lr=True,lr=0.0001)"
   ],
   "metadata": {
    "collapsed": false,
    "pycharm": {
     "name": "#%%\n"
    }
   }
  },
  {
   "cell_type": "code",
   "execution_count": 19,
   "outputs": [
    {
     "data": {
      "text/plain": "  0%|          | 0/1 [00:00<?, ?it/s]",
      "application/vnd.jupyter.widget-view+json": {
       "version_major": 2,
       "version_minor": 0,
       "model_id": "74787cfcbac34f958e4bf7fd4e068966"
      }
     },
     "metadata": {},
     "output_type": "display_data"
    },
    {
     "name": "stdout",
     "output_type": "stream",
     "text": [
      "1e-05\n"
     ]
    },
    {
     "data": {
      "text/plain": "(array([[[[  1.78177117,   2.79367143,   2.84448946,   1.53521005,\n             7.2551093 ,   6.82537358,   7.36261278,   6.95205581,\n             6.65615035,   7.8283468 ,  10.28121595,  12.14331893,\n            11.3714223 ,  14.07502351,  16.26002506,  16.43596883,\n            13.38951048,  18.41022018,  15.75798498,  17.77788085,\n            21.67775219,  23.06419803,  24.13773017,  25.07285469,\n            23.52240309,  23.66500045,  24.17943439,  29.72615205,\n            28.53518967,  28.01962287,  27.13930295,  29.44888213,\n            30.58619091,  33.14262366,  32.01505052,  31.83540629,\n            35.2616757 ,  34.93799562,  36.1124953 ,  41.69871011,\n            42.79094963,  39.40142397,  43.25155929,  40.26980773,\n            44.96065051,  44.23608933,  46.22543846,  49.74170289,\n            49.27936685,  47.38276857,  47.61903538,  52.30741033,\n            53.2724252 ,  56.22753158,  51.8650617 ,  57.07428185,\n            54.93030039,  59.39350516,  56.66007003,  56.76186981,\n            61.28649346,  60.30095285,  62.32592172,  62.0053335 ,\n            60.80148162,  68.3804583 ,  63.53392272,  68.56717042,\n            65.48711725,  68.93368916,  70.17334513,  69.28127507,\n            74.37459545,  73.8573162 ,  75.3465224 ,  74.01396267,\n            79.3637636 ,  74.48246524,  78.40030514,  79.83870908,\n            80.83551094,  78.11111059,  83.95541227,  80.67455617,\n            84.57191473,  86.22370462,  82.71771509,  83.79144548,\n            88.87966186,  90.99427049,  87.25034157,  92.88209101,\n            92.81115484,  90.87310623,  93.48307224,  92.53070914,\n            97.8585674 ,  97.67766361, 100.47188924,  96.68968093]]]]),\n array([[10288.80528444]]))"
     },
     "execution_count": 19,
     "metadata": {},
     "output_type": "execute_result"
    }
   ],
   "source": [
    "DC.many_trails(trial_num=1,max_k=1)"
   ],
   "metadata": {
    "collapsed": false,
    "pycharm": {
     "name": "#%%\n"
    }
   }
  },
  {
   "cell_type": "code",
   "execution_count": 4,
   "outputs": [],
   "source": [],
   "metadata": {
    "collapsed": false,
    "pycharm": {
     "name": "#%%\n"
    }
   }
  }
 ],
 "metadata": {
  "kernelspec": {
   "display_name": "Python 3",
   "language": "python",
   "name": "python3"
  },
  "language_info": {
   "codemirror_mode": {
    "name": "ipython",
    "version": 2
   },
   "file_extension": ".py",
   "mimetype": "text/x-python",
   "name": "python",
   "nbconvert_exporter": "python",
   "pygments_lexer": "ipython2",
   "version": "2.7.6"
  }
 },
 "nbformat": 4,
 "nbformat_minor": 0
}