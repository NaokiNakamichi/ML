{
 "cells": [
  {
   "cell_type": "code",
   "execution_count": 1,
   "metadata": {
    "collapsed": true
   },
   "outputs": [],
   "source": [
    "import matplotlib.pyplot as plt\n",
    "import pandas as pd\n",
    "import numpy as np\n",
    "from ML2_lib import DC_SGD\n",
    "from ML2_lib import RV_SGDAve\n",
    "from sklearn.preprocessing import StandardScaler\n",
    "from sklearn.datasets import load_iris\n",
    "from sklearn import model_selection\n",
    "from ML2_lib import models"
   ]
  },
  {
   "cell_type": "code",
   "execution_count": 1,
   "outputs": [],
   "source": [],
   "metadata": {
    "collapsed": false,
    "pycharm": {
     "name": "#%%\n"
    }
   }
  },
  {
   "cell_type": "code",
   "execution_count": 2,
   "outputs": [],
   "source": [
    "import matplotlib.pyplot as plt\n",
    "import pandas as pd\n",
    "import numpy as np\n",
    "\n",
    "from ML2_lib import models\n",
    "from ML2_lib import SGDByTorch\n",
    "import torch.nn.functional as F\n",
    "import torch\n",
    "from sklearn.preprocessing import LabelBinarizer"
   ],
   "metadata": {
    "collapsed": false,
    "pycharm": {
     "name": "#%%\n"
    }
   }
  },
  {
   "cell_type": "code",
   "execution_count": 3,
   "outputs": [
    {
     "data": {
      "text/plain": "       0                  1       2            3   4                    5   \\\n0      39          State-gov   77516    Bachelors  13        Never-married   \n1      50   Self-emp-not-inc   83311    Bachelors  13   Married-civ-spouse   \n2      38            Private  215646      HS-grad   9             Divorced   \n3      53            Private  234721         11th   7   Married-civ-spouse   \n4      28            Private  338409    Bachelors  13   Married-civ-spouse   \n...    ..                ...     ...          ...  ..                  ...   \n32556  27            Private  257302   Assoc-acdm  12   Married-civ-spouse   \n32557  40            Private  154374      HS-grad   9   Married-civ-spouse   \n32558  58            Private  151910      HS-grad   9              Widowed   \n32559  22            Private  201490      HS-grad   9        Never-married   \n32560  52       Self-emp-inc  287927      HS-grad   9   Married-civ-spouse   \n\n                       6               7       8        9      10  11  12  \\\n0            Adm-clerical   Not-in-family   White     Male   2174   0  40   \n1         Exec-managerial         Husband   White     Male      0   0  13   \n2       Handlers-cleaners   Not-in-family   White     Male      0   0  40   \n3       Handlers-cleaners         Husband   Black     Male      0   0  40   \n4          Prof-specialty            Wife   Black   Female      0   0  40   \n...                   ...             ...     ...      ...    ...  ..  ..   \n32556        Tech-support            Wife   White   Female      0   0  38   \n32557   Machine-op-inspct         Husband   White     Male      0   0  40   \n32558        Adm-clerical       Unmarried   White   Female      0   0  40   \n32559        Adm-clerical       Own-child   White     Male      0   0  20   \n32560     Exec-managerial            Wife   White   Female  15024   0  40   \n\n                   13      14  \n0       United-States   <=50K  \n1       United-States   <=50K  \n2       United-States   <=50K  \n3       United-States   <=50K  \n4                Cuba   <=50K  \n...               ...     ...  \n32556   United-States   <=50K  \n32557   United-States    >50K  \n32558   United-States   <=50K  \n32559   United-States   <=50K  \n32560   United-States    >50K  \n\n[32561 rows x 15 columns]",
      "text/html": "<div>\n<style scoped>\n    .dataframe tbody tr th:only-of-type {\n        vertical-align: middle;\n    }\n\n    .dataframe tbody tr th {\n        vertical-align: top;\n    }\n\n    .dataframe thead th {\n        text-align: right;\n    }\n</style>\n<table border=\"1\" class=\"dataframe\">\n  <thead>\n    <tr style=\"text-align: right;\">\n      <th></th>\n      <th>0</th>\n      <th>1</th>\n      <th>2</th>\n      <th>3</th>\n      <th>4</th>\n      <th>5</th>\n      <th>6</th>\n      <th>7</th>\n      <th>8</th>\n      <th>9</th>\n      <th>10</th>\n      <th>11</th>\n      <th>12</th>\n      <th>13</th>\n      <th>14</th>\n    </tr>\n  </thead>\n  <tbody>\n    <tr>\n      <th>0</th>\n      <td>39</td>\n      <td>State-gov</td>\n      <td>77516</td>\n      <td>Bachelors</td>\n      <td>13</td>\n      <td>Never-married</td>\n      <td>Adm-clerical</td>\n      <td>Not-in-family</td>\n      <td>White</td>\n      <td>Male</td>\n      <td>2174</td>\n      <td>0</td>\n      <td>40</td>\n      <td>United-States</td>\n      <td>&lt;=50K</td>\n    </tr>\n    <tr>\n      <th>1</th>\n      <td>50</td>\n      <td>Self-emp-not-inc</td>\n      <td>83311</td>\n      <td>Bachelors</td>\n      <td>13</td>\n      <td>Married-civ-spouse</td>\n      <td>Exec-managerial</td>\n      <td>Husband</td>\n      <td>White</td>\n      <td>Male</td>\n      <td>0</td>\n      <td>0</td>\n      <td>13</td>\n      <td>United-States</td>\n      <td>&lt;=50K</td>\n    </tr>\n    <tr>\n      <th>2</th>\n      <td>38</td>\n      <td>Private</td>\n      <td>215646</td>\n      <td>HS-grad</td>\n      <td>9</td>\n      <td>Divorced</td>\n      <td>Handlers-cleaners</td>\n      <td>Not-in-family</td>\n      <td>White</td>\n      <td>Male</td>\n      <td>0</td>\n      <td>0</td>\n      <td>40</td>\n      <td>United-States</td>\n      <td>&lt;=50K</td>\n    </tr>\n    <tr>\n      <th>3</th>\n      <td>53</td>\n      <td>Private</td>\n      <td>234721</td>\n      <td>11th</td>\n      <td>7</td>\n      <td>Married-civ-spouse</td>\n      <td>Handlers-cleaners</td>\n      <td>Husband</td>\n      <td>Black</td>\n      <td>Male</td>\n      <td>0</td>\n      <td>0</td>\n      <td>40</td>\n      <td>United-States</td>\n      <td>&lt;=50K</td>\n    </tr>\n    <tr>\n      <th>4</th>\n      <td>28</td>\n      <td>Private</td>\n      <td>338409</td>\n      <td>Bachelors</td>\n      <td>13</td>\n      <td>Married-civ-spouse</td>\n      <td>Prof-specialty</td>\n      <td>Wife</td>\n      <td>Black</td>\n      <td>Female</td>\n      <td>0</td>\n      <td>0</td>\n      <td>40</td>\n      <td>Cuba</td>\n      <td>&lt;=50K</td>\n    </tr>\n    <tr>\n      <th>...</th>\n      <td>...</td>\n      <td>...</td>\n      <td>...</td>\n      <td>...</td>\n      <td>...</td>\n      <td>...</td>\n      <td>...</td>\n      <td>...</td>\n      <td>...</td>\n      <td>...</td>\n      <td>...</td>\n      <td>...</td>\n      <td>...</td>\n      <td>...</td>\n      <td>...</td>\n    </tr>\n    <tr>\n      <th>32556</th>\n      <td>27</td>\n      <td>Private</td>\n      <td>257302</td>\n      <td>Assoc-acdm</td>\n      <td>12</td>\n      <td>Married-civ-spouse</td>\n      <td>Tech-support</td>\n      <td>Wife</td>\n      <td>White</td>\n      <td>Female</td>\n      <td>0</td>\n      <td>0</td>\n      <td>38</td>\n      <td>United-States</td>\n      <td>&lt;=50K</td>\n    </tr>\n    <tr>\n      <th>32557</th>\n      <td>40</td>\n      <td>Private</td>\n      <td>154374</td>\n      <td>HS-grad</td>\n      <td>9</td>\n      <td>Married-civ-spouse</td>\n      <td>Machine-op-inspct</td>\n      <td>Husband</td>\n      <td>White</td>\n      <td>Male</td>\n      <td>0</td>\n      <td>0</td>\n      <td>40</td>\n      <td>United-States</td>\n      <td>&gt;50K</td>\n    </tr>\n    <tr>\n      <th>32558</th>\n      <td>58</td>\n      <td>Private</td>\n      <td>151910</td>\n      <td>HS-grad</td>\n      <td>9</td>\n      <td>Widowed</td>\n      <td>Adm-clerical</td>\n      <td>Unmarried</td>\n      <td>White</td>\n      <td>Female</td>\n      <td>0</td>\n      <td>0</td>\n      <td>40</td>\n      <td>United-States</td>\n      <td>&lt;=50K</td>\n    </tr>\n    <tr>\n      <th>32559</th>\n      <td>22</td>\n      <td>Private</td>\n      <td>201490</td>\n      <td>HS-grad</td>\n      <td>9</td>\n      <td>Never-married</td>\n      <td>Adm-clerical</td>\n      <td>Own-child</td>\n      <td>White</td>\n      <td>Male</td>\n      <td>0</td>\n      <td>0</td>\n      <td>20</td>\n      <td>United-States</td>\n      <td>&lt;=50K</td>\n    </tr>\n    <tr>\n      <th>32560</th>\n      <td>52</td>\n      <td>Self-emp-inc</td>\n      <td>287927</td>\n      <td>HS-grad</td>\n      <td>9</td>\n      <td>Married-civ-spouse</td>\n      <td>Exec-managerial</td>\n      <td>Wife</td>\n      <td>White</td>\n      <td>Female</td>\n      <td>15024</td>\n      <td>0</td>\n      <td>40</td>\n      <td>United-States</td>\n      <td>&gt;50K</td>\n    </tr>\n  </tbody>\n</table>\n<p>32561 rows × 15 columns</p>\n</div>"
     },
     "execution_count": 3,
     "metadata": {},
     "output_type": "execute_result"
    }
   ],
   "source": [
    "pd.read_csv(\"data/adult/adult_classification.csv\", header=None)"
   ],
   "metadata": {
    "collapsed": false,
    "pycharm": {
     "name": "#%%\n"
    }
   }
  },
  {
   "cell_type": "code",
   "execution_count": 4,
   "outputs": [],
   "source": [
    "def make_col_names():\n",
    "    col_names = []\n",
    "    continuous_dict = {}\n",
    "    for i, line in enumerate(open(\"data/adult/adult_classification.names\", \"r\"), 1):\n",
    "        if i > 96:\n",
    "            line = line.rstrip()\n",
    "            name = line.split(\":\")[0]\n",
    "            col_names.append(name)\n",
    "            line = line.replace(\" \", \"\").replace(\".\", \"\")\n",
    "            continuous = line.split(\":\")[1] == \"continuous\"\n",
    "            continuous_dict[name] = continuous\n",
    "    col_names.append(\"label\")\n",
    "    continuous_dict[\"label\"] = False\n",
    "    return col_names, continuous_dict"
   ],
   "metadata": {
    "collapsed": false,
    "pycharm": {
     "name": "#%%\n"
    }
   }
  },
  {
   "cell_type": "code",
   "execution_count": 5,
   "outputs": [
    {
     "data": {
      "text/plain": "['age',\n 'workclass',\n 'fnlwgt',\n 'education',\n 'education-num',\n 'marital-status',\n 'occupation',\n 'relationship',\n 'race',\n 'sex',\n 'capital-gain',\n 'capital-loss',\n 'hours-per-week',\n 'native-country',\n 'label']"
     },
     "execution_count": 5,
     "metadata": {},
     "output_type": "execute_result"
    }
   ],
   "source": [
    "n_id = 0\n",
    "col_names, continuous_dicts = make_col_names()\n",
    "col_names"
   ],
   "metadata": {
    "collapsed": false,
    "pycharm": {
     "name": "#%%\n"
    }
   }
  },
  {
   "cell_type": "code",
   "execution_count": 6,
   "outputs": [],
   "source": [
    "def load_data(filename, col_names, n, skiprows=None):\n",
    "    df = pd.read_csv(filename, header=None, index_col=None, skiprows=skiprows)\n",
    "    # Display the number of records before delete missing valeus.\n",
    "    print(\"the number of {} records:{}\\n\".format(filename, len(df.index)))\n",
    "    df.columns = col_names\n",
    "\n",
    "    # Replace the missing value's character to np.nan.\n",
    "    df = df.applymap(lambda d: np.nan if d == \" ?\" else d)\n",
    "\n",
    "    # Unify the different written forms.\n",
    "    df = df.applymap(lambda d: \" <=50K\" if d == \" <=50K.\" else d)\n",
    "    df = df.applymap(lambda d: \" >50K\" if d == \" >50K.\" else d)\n",
    "\n",
    "    # Display the information about missing values and\n",
    "    print(\"missing value info:\\n{}\\n\".format(df.isnull().sum(axis=0)))\n",
    "    df = df.dropna(axis=0)\n",
    "\n",
    "    # the number of records after delete missing valeus.\n",
    "    print(\"the number of {} records after trimming:{}\\n\".format(filename, len(df.index)))\n",
    "    ids = list(np.arange(n, n + len(df.index)))\n",
    "    df[\"ID\"] = np.array(ids)\n",
    "    n = n + len(df.index)\n",
    "    return df, n\n",
    "\n"
   ],
   "metadata": {
    "collapsed": false,
    "pycharm": {
     "name": "#%%\n"
    }
   }
  },
  {
   "cell_type": "code",
   "execution_count": 7,
   "outputs": [
    {
     "name": "stdout",
     "output_type": "stream",
     "text": [
      "the number of data/adult/adult_classification.csv records:32561\n",
      "\n",
      "missing value info:\n",
      "age                  0\n",
      "workclass         1836\n",
      "fnlwgt               0\n",
      "education            0\n",
      "education-num        0\n",
      "marital-status       0\n",
      "occupation        1843\n",
      "relationship         0\n",
      "race                 0\n",
      "sex                  0\n",
      "capital-gain         0\n",
      "capital-loss         0\n",
      "hours-per-week       0\n",
      "native-country     583\n",
      "label                0\n",
      "dtype: int64\n",
      "\n",
      "the number of data/adult/adult_classification.csv records after trimming:30162\n",
      "\n",
      "the number of data/adult/adult_classification.test records:16281\n",
      "\n",
      "missing value info:\n",
      "age                 0\n",
      "workclass         963\n",
      "fnlwgt              0\n",
      "education           0\n",
      "education-num       0\n",
      "marital-status      0\n",
      "occupation        966\n",
      "relationship        0\n",
      "race                0\n",
      "sex                 0\n",
      "capital-gain        0\n",
      "capital-loss        0\n",
      "hours-per-week      0\n",
      "native-country    274\n",
      "label               0\n",
      "dtype: int64\n",
      "\n",
      "the number of data/adult/adult_classification.test records after trimming:15060\n",
      "\n"
     ]
    }
   ],
   "source": [
    "df_train, n_id_train = load_data(\"data/adult/adult_classification.csv\", col_names, n_id)\n",
    "df_test, n_id_test = load_data(\"data/adult/adult_classification.test\", col_names, n_id_train, skiprows=1)"
   ],
   "metadata": {
    "collapsed": false,
    "pycharm": {
     "name": "#%%\n"
    }
   }
  },
  {
   "cell_type": "code",
   "execution_count": 8,
   "outputs": [],
   "source": [
    "def get_not_continuous_columns(continuous_dict):\n",
    "    categorical_names = [k for k, v in continuous_dict.items() if not v]\n",
    "    return categorical_names"
   ],
   "metadata": {
    "collapsed": false,
    "pycharm": {
     "name": "#%%\n"
    }
   }
  },
  {
   "cell_type": "code",
   "execution_count": 9,
   "outputs": [],
   "source": [
    "def print_labelinfo(labelnames):\n",
    "    for i in range(len(labelnames)):\n",
    "        print(\"label{}:{}\".format(i, labelnames[i]))"
   ],
   "metadata": {
    "collapsed": false,
    "pycharm": {
     "name": "#%%\n"
    }
   }
  },
  {
   "cell_type": "code",
   "execution_count": 10,
   "outputs": [],
   "source": [
    "def convert_data(df_train, df_test, n_id_train, n_id_test, continuous_dicts):\n",
    "    categorical_names = get_not_continuous_columns(continuous_dicts)\n",
    "    df = pd.concat((df_train, df_test), axis=0)\n",
    "\n",
    "    # Get the dummy for the categorical data.\n",
    "    for name in categorical_names:\n",
    "        print(name)\n",
    "        if name == \"label\":\n",
    "            # ここではOneHotEncordingではなくLabelEncording\n",
    "            # F .nll_lossの関係で\n",
    "            lb = LabelBinarizer()\n",
    "            dummy_df = lb.fit_transform(df[name])\n",
    "            df[\"label\"] = dummy_df\n",
    "        else:\n",
    "            dummy_df = pd.get_dummies(df[name])\n",
    "            df = pd.concat((df, dummy_df), axis=1)\n",
    "            df = df.drop(name, axis=1)\n",
    "\n",
    "    # Convert the data type.\n",
    "    for name in df.columns:\n",
    "        df[name] = df[name].astype(float)\n",
    "\n",
    "    # Reguralize the data.\n",
    "    for name in df.columns:\n",
    "        if name == \"ID\":\n",
    "            df[name] = df[name]\n",
    "        else:\n",
    "            df[name] = (df[name] - df[name].min()) / (df[name].max() - df[name].min())\n",
    "\n",
    "    df_train = df[df[\"ID\"] < n_id_train].drop(\"ID\", axis=1)\n",
    "    df_test = df[df[\"ID\"] >= n_id_train].drop(\"ID\", axis=1)\n",
    "\n",
    "    y_train = df_train[\"label\"].values\n",
    "    y_test = df_test[\"label\"].values\n",
    "    X_train = df_train.drop(\"label\", axis=1).values\n",
    "    X_test = df_test.drop(\"label\", axis=1).values\n",
    "    return X_train, y_train, X_test, y_test"
   ],
   "metadata": {
    "collapsed": false,
    "pycharm": {
     "name": "#%%\n"
    }
   }
  },
  {
   "cell_type": "code",
   "execution_count": 11,
   "outputs": [
    {
     "name": "stdout",
     "output_type": "stream",
     "text": [
      "workclass\n",
      "education\n",
      "marital-status\n",
      "occupation\n",
      "relationship\n",
      "race\n",
      "sex\n",
      "native-country\n",
      "label\n",
      "X_train:(30162, 104) y_train:(30162,) X_test:(15060, 104) y_test:(15060,)\n"
     ]
    }
   ],
   "source": [
    "X_train, y_train, X_test, y_test = convert_data(df_train, df_test, n_id_train, n_id_test, continuous_dicts)\n",
    "print(\"X_train:{} y_train:{} X_test:{} y_test:{}\".format(X_train.shape, y_train.shape, X_test.shape, y_test.shape))\n",
    "\n",
    "w_dim = X_train.shape[1]\n",
    "class_num = int(max(y_train) + 1)\n",
    "unit_num = 10\n",
    "model = models.Net(w_num=w_dim, c_num=class_num, unit_num=unit_num)"
   ],
   "metadata": {
    "collapsed": false,
    "pycharm": {
     "name": "#%%\n"
    }
   }
  },
  {
   "cell_type": "code",
   "execution_count": 12,
   "outputs": [
    {
     "data": {
      "text/plain": "<Figure size 720x576 with 1 Axes>",
      "image/png": "[encoded data removed]"
     },
     "metadata": {
      "needs_background": "light"
     },
     "output_type": "display_data"
    }
   ],
   "source": [
    "hoge = RV_SGDAve.RVSGDByTorch(lr=3)\n",
    "k_list = [1,3,4,6,10]\n",
    "tr_train_k = hoge.multiple_k_transition(k_list=k_list,train_x=X_train,train_y=y_train,transition_x=X_test,transition_y=y_test,model=model)\n",
    "fig = plt.figure(figsize=(10.0, 8.0))\n",
    "ax1 = fig.add_subplot(111)\n",
    "ax1.set_title(\"MSE transition test data with RVSGD\")\n",
    "for i in tr_train_k:\n",
    "    ax1.plot(i)\n",
    "ax1.set_xlabel(\"step\")\n",
    "leg = ax1.legend(labels=[f'k = {k}' for k in k_list])\n",
    "plt.show()\n"
   ],
   "metadata": {
    "collapsed": false,
    "pycharm": {
     "name": "#%%\n"
    }
   }
  },
  {
   "cell_type": "code",
   "execution_count": 13,
   "outputs": [
    {
     "data": {
      "text/plain": "                1         3         4         6         10\naccuracy  0.754316  0.754316  0.754316  0.754316  0.754316",
      "text/html": "<div>\n<style scoped>\n    .dataframe tbody tr th:only-of-type {\n        vertical-align: middle;\n    }\n\n    .dataframe tbody tr th {\n        vertical-align: top;\n    }\n\n    .dataframe thead th {\n        text-align: right;\n    }\n</style>\n<table border=\"1\" class=\"dataframe\">\n  <thead>\n    <tr style=\"text-align: right;\">\n      <th></th>\n      <th>1</th>\n      <th>3</th>\n      <th>4</th>\n      <th>6</th>\n      <th>10</th>\n    </tr>\n  </thead>\n  <tbody>\n    <tr>\n      <th>accuracy</th>\n      <td>0.754316</td>\n      <td>0.754316</td>\n      <td>0.754316</td>\n      <td>0.754316</td>\n      <td>0.754316</td>\n    </tr>\n  </tbody>\n</table>\n</div>"
     },
     "execution_count": 13,
     "metadata": {},
     "output_type": "execute_result"
    }
   ],
   "source": [
    "accuracy_list = hoge.multiple_k_accuracy(k_list=k_list,train_x=X_train,train_y=y_train,transition_x=X_test,transition_y=y_test,model=model)\n",
    "# 最終的なMSE(テストデータ)\n",
    "df = pd.DataFrame(np.array(accuracy_list).reshape(1,-1),columns=k_list,index=[\"accuracy\"])\n",
    "df"
   ],
   "metadata": {
    "collapsed": false,
    "pycharm": {
     "name": "#%%\n"
    }
   }
  }
 ],
 "metadata": {
  "kernelspec": {
   "display_name": "Python 3",
   "language": "python",
   "name": "python3"
  },
  "language_info": {
   "codemirror_mode": {
    "name": "ipython",
    "version": 2
   },
   "file_extension": ".py",
   "mimetype": "text/x-python",
   "name": "python",
   "nbconvert_exporter": "python",
   "pygments_lexer": "ipython2",
   "version": "2.7.6"
  }
 },
 "nbformat": 4,
 "nbformat_minor": 0
}