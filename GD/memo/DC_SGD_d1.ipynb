{
 "cells": [
  {
   "cell_type": "code",
   "execution_count": 53,
   "metadata": {
    "collapsed": true
   },
   "outputs": [],
   "source": [
    "import numpy as np\n",
    "import matplotlib.pyplot as plt\n",
    "import pandas as pd\n",
    "from tqdm.notebook import tqdm\n",
    "\n",
    "from ML2_lib import loss\n",
    "from ML2_lib import noise\n",
    "from ML2_lib import algo_sgd\n",
    "from  ML2_lib import merge\n"
   ]
  },
  {
   "cell_type": "code",
   "execution_count": 54,
   "outputs": [
    {
     "data": {
      "text/plain": "<Figure size 432x288 with 1 Axes>",
      "image/png": "[encoded data removed]"
     },
     "metadata": {
      "needs_background": "light"
     },
     "output_type": "display_data"
    }
   ],
   "source": [
    "# データ生成デモ Gauss\n",
    "X_mean = 5\n",
    "X_var = 2\n",
    "w_star = 1\n",
    "rng = np.random.default_rng()\n",
    "X = rng.normal(loc=X_mean,size=100,scale=X_var)\n",
    "E = noise.Gauss(sigma=2.2,dim=X.shape[0],n=1).generate()\n",
    "Y = E + np.dot(w_star,X)\n",
    "\n",
    "a = loss.LinearQuadraticLoss()\n",
    "\n",
    "data = [X,Y]\n",
    "core = algo_sgd.SGD(w_init=0,a=0.001,t_max=99,data=data)\n",
    "for _ in core:\n",
    "    core.update(a)\n",
    "\n",
    "x_m = np.linspace(X.min(),X.max(),1000)\n",
    "y_m = a.predict(x_m,core.w)\n",
    "plt.scatter(X,Y)\n",
    "plt.scatter(x_m,y_m,s=1)\n",
    "plt.show()\n",
    "\n"
   ],
   "metadata": {
    "collapsed": false,
    "pycharm": {
     "name": "#%%\n"
    }
   }
  },
  {
   "cell_type": "code",
   "execution_count": 55,
   "outputs": [
    {
     "data": {
      "text/plain": "  0%|          | 0/100 [00:00<?, ?it/s]",
      "application/vnd.jupyter.widget-view+json": {
       "version_major": 2,
       "version_minor": 0,
       "model_id": "5cfa02d1370f4670814131003b5a30d8"
      }
     },
     "metadata": {},
     "output_type": "display_data"
    }
   ],
   "source": [
    "# d = 1 、E ~ 正規分布\n",
    "trial_num = 100 #試行回数\n",
    "result_gauss = [] #パラメータの最終結果　トライアル数*分割数k*特徴量次元\n",
    "result_loss_gauss = [] # 過剰期待損失の最終結果　トライアル数*分割数k\n",
    "valid_k = 100 # 分割数　1 ~ valid_k\n",
    "\n",
    "X_mean = 5\n",
    "X_var = 2\n",
    "w_star = 1\n",
    "a = 0.01 # 学習率\n",
    "c = 5 # wの初期値がとりうる範囲\n",
    "n = 250 # データセットのサンプル数\n",
    "b = 2.2 # ノイズの分散\n",
    "\n",
    "for _ in tqdm(range(trial_num)):\n",
    "    w_trial = [] # モデルを貯めていく、必要かどうか\n",
    "    loss_store = [] # 過剰期待損失を貯めていく\n",
    "\n",
    "    # 初期値wの決定\n",
    "    w = rng.uniform(w_star-c,w_star+c)\n",
    "    for k in range(1,valid_k+1):\n",
    "        core_store = []\n",
    "        model_store = []\n",
    "\n",
    "\n",
    "\n",
    "        son = loss.LinearQuadraticLoss()\n",
    "        for i in range(k):\n",
    "            core_num = n // k\n",
    "            rng = np.random.default_rng()\n",
    "            X = rng.normal(loc=X_mean,size=core_num,scale=X_var)\n",
    "            E = noise.Gauss(sigma=b,dim=X.shape[0],n=1).generate()\n",
    "            Y = E + np.dot(w_star,X)\n",
    "            data = [X,Y]\n",
    "\n",
    "            core = algo_sgd.SGD(w_init=w,a=a,t_max=core_num-1,data=data)\n",
    "            for _ in core:\n",
    "                core.update(son)\n",
    "            core_store.append(core)\n",
    "            model_store.append(core.w)\n",
    "\n",
    "        model_store = np.array(model_store)\n",
    "        model_store = model_store.reshape([-1,1])\n",
    "\n",
    "        w_dc = merge.smallball(model_store)\n",
    "        w_trial.append(w_dc)\n",
    "        # 過剰期待損失　E[(<(w-w^*),X>)^2]　Xが正規分布の場合　E[X^2] = X_mean^2 + X_var^2 * 単位行列\n",
    "        E_X = np.diag(np.ones(w_dc.shape[0])* (X_var**2)  + (X_mean**2))\n",
    "        excess_risk = np.dot(np.dot(E_X,w_dc),w_dc) + np.dot(np.dot(E_X,w_star),w_star) - 2 * np.dot(np.dot(E_X,w_star),w_dc)\n",
    "        loss_store.append(excess_risk[0][0])\n",
    "    result_gauss.append(np.array(w_trial))\n",
    "    result_loss_gauss.append(np.array(loss_store))\n",
    "\n",
    "result_gauss = np.array(result_gauss)\n",
    "result_loss_gauss = np.array(result_loss_gauss)\n",
    "\n",
    "\n",
    "\n"
   ],
   "metadata": {
    "collapsed": false,
    "pycharm": {
     "name": "#%%\n"
    }
   }
  },
  {
   "cell_type": "code",
   "execution_count": 56,
   "outputs": [
    {
     "data": {
      "text/plain": "<Figure size 720x576 with 1 Axes>",
      "image/png": "[encoded data removed]"
     },
     "metadata": {
      "needs_background": "light"
     },
     "output_type": "display_data"
    }
   ],
   "source": [
    "fdic = {\n",
    "    \"size\" : 20,\n",
    "}\n",
    "\n",
    "columns=['1', '2', '4','5','10','20','40','50']\n",
    "fig = plt.figure(figsize=(10.0, 8.0))\n",
    "ax1 = fig.add_subplot(111)\n",
    "\n",
    "bp1 = ax1.boxplot(result_loss_gauss[:,[0,1,3,4,9,19,39,49]])\n",
    "ax1.set_xticklabels(columns,fontsize=20)\n",
    "ax1.set_title('R(w)-R^*',fontsize=20)\n",
    "ax1.set_xlabel('k',fontdict=fdic)\n",
    "\n",
    "plt.show()"
   ],
   "metadata": {
    "collapsed": false,
    "pycharm": {
     "name": "#%%\n"
    }
   }
  },
  {
   "cell_type": "code",
   "execution_count": 57,
   "outputs": [
    {
     "data": {
      "text/plain": "                1           2           4           5          10          20  \\\ncount  100.000000  100.000000  100.000000  100.000000  100.000000  100.000000   \nmean     0.844318    0.531405    0.228652    0.244749    0.185334    0.392312   \nstd      1.157523    0.771894    0.302836    0.378598    0.210798    0.735114   \nmin      0.000061    0.000063    0.000012    0.000010    0.000011    0.000010   \n25%      0.080767    0.049453    0.030396    0.022920    0.020911    0.031517   \n50%      0.432920    0.198213    0.096719    0.109860    0.108079    0.096714   \n75%      1.101212    0.601655    0.318413    0.305387    0.290719    0.348507   \nmax      6.282121    3.377459    1.373139    2.289707    0.882818    4.574757   \n\n               40          50  \ncount  100.000000  100.000000  \nmean    12.667885   19.374989  \nstd     15.159183   23.145258  \nmin      0.000213    0.000349  \n25%      1.065801    1.384380  \n50%      7.089012   11.222712  \n75%     18.580451   27.583505  \nmax     77.731932  109.198497  ",
      "text/html": "<div>\n<style scoped>\n    .dataframe tbody tr th:only-of-type {\n        vertical-align: middle;\n    }\n\n    .dataframe tbody tr th {\n        vertical-align: top;\n    }\n\n    .dataframe thead th {\n        text-align: right;\n    }\n</style>\n<table border=\"1\" class=\"dataframe\">\n  <thead>\n    <tr style=\"text-align: right;\">\n      <th></th>\n      <th>1</th>\n      <th>2</th>\n      <th>4</th>\n      <th>5</th>\n      <th>10</th>\n      <th>20</th>\n      <th>40</th>\n      <th>50</th>\n    </tr>\n  </thead>\n  <tbody>\n    <tr>\n      <th>count</th>\n      <td>100.000000</td>\n      <td>100.000000</td>\n      <td>100.000000</td>\n      <td>100.000000</td>\n      <td>100.000000</td>\n      <td>100.000000</td>\n      <td>100.000000</td>\n      <td>100.000000</td>\n    </tr>\n    <tr>\n      <th>mean</th>\n      <td>0.844318</td>\n      <td>0.531405</td>\n      <td>0.228652</td>\n      <td>0.244749</td>\n      <td>0.185334</td>\n      <td>0.392312</td>\n      <td>12.667885</td>\n      <td>19.374989</td>\n    </tr>\n    <tr>\n      <th>std</th>\n      <td>1.157523</td>\n      <td>0.771894</td>\n      <td>0.302836</td>\n      <td>0.378598</td>\n      <td>0.210798</td>\n      <td>0.735114</td>\n      <td>15.159183</td>\n      <td>23.145258</td>\n    </tr>\n    <tr>\n      <th>min</th>\n      <td>0.000061</td>\n      <td>0.000063</td>\n      <td>0.000012</td>\n      <td>0.000010</td>\n      <td>0.000011</td>\n      <td>0.000010</td>\n      <td>0.000213</td>\n      <td>0.000349</td>\n    </tr>\n    <tr>\n      <th>25%</th>\n      <td>0.080767</td>\n      <td>0.049453</td>\n      <td>0.030396</td>\n      <td>0.022920</td>\n      <td>0.020911</td>\n      <td>0.031517</td>\n      <td>1.065801</td>\n      <td>1.384380</td>\n    </tr>\n    <tr>\n      <th>50%</th>\n      <td>0.432920</td>\n      <td>0.198213</td>\n      <td>0.096719</td>\n      <td>0.109860</td>\n      <td>0.108079</td>\n      <td>0.096714</td>\n      <td>7.089012</td>\n      <td>11.222712</td>\n    </tr>\n    <tr>\n      <th>75%</th>\n      <td>1.101212</td>\n      <td>0.601655</td>\n      <td>0.318413</td>\n      <td>0.305387</td>\n      <td>0.290719</td>\n      <td>0.348507</td>\n      <td>18.580451</td>\n      <td>27.583505</td>\n    </tr>\n    <tr>\n      <th>max</th>\n      <td>6.282121</td>\n      <td>3.377459</td>\n      <td>1.373139</td>\n      <td>2.289707</td>\n      <td>0.882818</td>\n      <td>4.574757</td>\n      <td>77.731932</td>\n      <td>109.198497</td>\n    </tr>\n  </tbody>\n</table>\n</div>"
     },
     "execution_count": 57,
     "metadata": {},
     "output_type": "execute_result"
    }
   ],
   "source": [
    "df = pd.DataFrame(result_loss_gauss[:,[0,1,3,4,9,19,39,49]],columns=columns)\n",
    "df.describe()"
   ],
   "metadata": {
    "collapsed": false,
    "pycharm": {
     "name": "#%%\n"
    }
   }
  },
  {
   "cell_type": "code",
   "execution_count": 58,
   "outputs": [
    {
     "data": {
      "text/plain": "<matplotlib.collections.PathCollection at 0x12c7b6e50>"
     },
     "execution_count": 58,
     "metadata": {},
     "output_type": "execute_result"
    },
    {
     "data": {
      "text/plain": "<Figure size 432x288 with 1 Axes>",
      "image/png": "[encoded data removed]"
     },
     "metadata": {
      "needs_background": "light"
     },
     "output_type": "display_data"
    }
   ],
   "source": [
    "X = rng.normal(loc=X_mean,size=100,scale=X_var)\n",
    "E = noise.LogNormal(sigma=1.75,dim=X.shape[0],n=1).generate()\n",
    "Y = E + np.dot(w_star,X)\n",
    "\n",
    "\n",
    "a = loss.LinearQuadraticLoss()\n",
    "\n",
    "data = [X,Y]\n",
    "core = algo_sgd.SGD(w_init=0,a=0.001,t_max=99,data=data)\n",
    "for _ in core:\n",
    "    core.update(a)\n",
    "\n",
    "\n",
    "\n",
    "x_m = np.linspace(0,10,1000)\n",
    "y_m = a.predict(x_m,core.w)\n",
    "plt.scatter(X,Y)\n",
    "plt.scatter(x_m,y_m,s=1)\n",
    "\n"
   ],
   "metadata": {
    "collapsed": false,
    "pycharm": {
     "name": "#%%\n"
    }
   }
  },
  {
   "cell_type": "code",
   "execution_count": 59,
   "outputs": [
    {
     "data": {
      "text/plain": "  0%|          | 0/100 [00:00<?, ?it/s]",
      "application/vnd.jupyter.widget-view+json": {
       "version_major": 2,
       "version_minor": 0,
       "model_id": "39b9d1e845874f9db4a76421a97ba96c"
      }
     },
     "metadata": {},
     "output_type": "display_data"
    }
   ],
   "source": [
    "trial_num = 100 #試行回数\n",
    "result_lognormal = [] #パラメータの最終結果　トライアル数*分割数k*特徴量次元\n",
    "result_loss_lognormal = [] # 過剰期待損失の最終結果　トライアル数*分割数k\n",
    "valid_k = 100 # 分割数　1 ~ valid_k\n",
    "\n",
    "w_star = 1\n",
    "X_mean = 5\n",
    "X_var = 2\n",
    "\n",
    "a = 0.01\n",
    "c = 5\n",
    "n = 250\n",
    "b = 1.75\n",
    "for _ in tqdm(range(trial_num)):\n",
    "    w_trial = []\n",
    "    loss_store = []\n",
    "    # 初期値wの決定\n",
    "    rng = np.random.default_rng()\n",
    "    w = rng.uniform(w_star-c,w_star+c)\n",
    "    for k in range(1,valid_k+1):\n",
    "        core_store = []\n",
    "        model_store = []\n",
    "\n",
    "\n",
    "        son = loss.LinearQuadraticLoss()\n",
    "        for _ in range(k):\n",
    "            core_num = n // k\n",
    "            rng = np.random.default_rng()\n",
    "            X = rng.normal(loc=X_mean,size=core_num,scale=X_var)\n",
    "            E = noise.LogNormal(sigma=b,dim=X.shape[0],n=1).generate()\n",
    "            Y = E + np.dot(w_star,X)\n",
    "            data = [X,Y]\n",
    "            core = algo_sgd.SGD(w_init=w,a=a,t_max=core_num-1,data=data)\n",
    "            for _ in core:\n",
    "                core.update(son)\n",
    "            core_store.append(core)\n",
    "            model_store.append(core.w)\n",
    "\n",
    "        model_store = np.array(model_store)\n",
    "        model_store = model_store.reshape([-1,1])\n",
    "        w_dc = merge.smallball(model_store)\n",
    "        w_trial.append(w_dc)\n",
    "        E_X = np.diag(np.ones(w_dc.shape[0])* (X_var**2)  + (X_mean**2))\n",
    "        excess_risk = np.dot(np.dot(E_X,w_dc),w_dc) + np.dot(np.dot(E_X,w_star),w_star) - 2 * np.dot(np.dot(E_X,w_star),w_dc)\n",
    "        loss_store.append(excess_risk[0][0])\n",
    "\n",
    "    result_lognormal.append(np.array(w_trial))\n",
    "    result_loss_lognormal.append(np.array(loss_store))\n",
    "\n",
    "result_lognormal = np.array(result_lognormal)\n",
    "result_loss_lognormal = np.array(result_loss_lognormal)\n",
    "\n",
    "\n",
    "\n"
   ],
   "metadata": {
    "collapsed": false,
    "pycharm": {
     "name": "#%%\n"
    }
   }
  },
  {
   "cell_type": "code",
   "execution_count": 64,
   "outputs": [
    {
     "data": {
      "text/plain": "<Figure size 720x576 with 1 Axes>",
      "image/png": "[encoded data removed]"
     },
     "metadata": {
      "needs_background": "light"
     },
     "output_type": "display_data"
    }
   ],
   "source": [
    "fig = plt.figure(figsize=(10.0, 8.0))\n",
    "ax1 = fig.add_subplot(111)\n",
    "\n",
    "bp1 = ax1.boxplot(result_loss_lognormal[:,[0,1,3,4,9,19,39,49]])\n",
    "ax1.set_xticklabels(columns,fontsize=20)\n",
    "ax1.set_title('R(w)-R^*',fontsize=20)\n",
    "ax1.set_xlabel('k',fontdict=fdic)\n",
    "\n",
    "plt.show()"
   ],
   "metadata": {
    "collapsed": false,
    "pycharm": {
     "name": "#%%\n"
    }
   }
  },
  {
   "cell_type": "code",
   "execution_count": 65,
   "outputs": [],
   "source": [
    "df = pd.DataFrame(result_loss_lognormal[:,[0,1,3,4,9,19,39,49]],columns=columns)"
   ],
   "metadata": {
    "collapsed": false,
    "pycharm": {
     "name": "#%%\n"
    }
   }
  },
  {
   "cell_type": "code",
   "execution_count": 66,
   "outputs": [
    {
     "data": {
      "text/plain": "                 1            2             4           5          10  \\\ncount   100.000000   100.000000    100.000000  100.000000  100.000000   \nmean     19.257400    25.990138    361.969053   18.384717   37.314786   \nstd     109.276679   152.953004   3538.125608   65.121138  126.760633   \nmin       0.000091     0.001949      0.002069    0.002574    0.000585   \n25%       1.682920     0.639546      0.604138    0.735384    0.790018   \n50%       4.782484     2.501437      2.406790    2.973778    4.319416   \n75%       9.735044     9.374404      7.440473   10.968343   14.355253   \nmax    1095.618773  1518.208808  35388.754607  609.000885  774.894946   \n\n               20           40           50  \ncount  100.000000   100.000000   100.000000  \nmean    45.911016    52.753340    91.176634  \nstd    102.224728   178.674421   169.300347  \nmin      0.000035     0.005993     0.000127  \n25%      2.065871     3.506832     7.963516  \n50%      9.088337    15.455175    33.770033  \n75%     41.722412    38.433709   102.885108  \nmax    609.331318  1727.939740  1336.680006  ",
      "text/html": "<div>\n<style scoped>\n    .dataframe tbody tr th:only-of-type {\n        vertical-align: middle;\n    }\n\n    .dataframe tbody tr th {\n        vertical-align: top;\n    }\n\n    .dataframe thead th {\n        text-align: right;\n    }\n</style>\n<table border=\"1\" class=\"dataframe\">\n  <thead>\n    <tr style=\"text-align: right;\">\n      <th></th>\n      <th>1</th>\n      <th>2</th>\n      <th>4</th>\n      <th>5</th>\n      <th>10</th>\n      <th>20</th>\n      <th>40</th>\n      <th>50</th>\n    </tr>\n  </thead>\n  <tbody>\n    <tr>\n      <th>count</th>\n      <td>100.000000</td>\n      <td>100.000000</td>\n      <td>100.000000</td>\n      <td>100.000000</td>\n      <td>100.000000</td>\n      <td>100.000000</td>\n      <td>100.000000</td>\n      <td>100.000000</td>\n    </tr>\n    <tr>\n      <th>mean</th>\n      <td>19.257400</td>\n      <td>25.990138</td>\n      <td>361.969053</td>\n      <td>18.384717</td>\n      <td>37.314786</td>\n      <td>45.911016</td>\n      <td>52.753340</td>\n      <td>91.176634</td>\n    </tr>\n    <tr>\n      <th>std</th>\n      <td>109.276679</td>\n      <td>152.953004</td>\n      <td>3538.125608</td>\n      <td>65.121138</td>\n      <td>126.760633</td>\n      <td>102.224728</td>\n      <td>178.674421</td>\n      <td>169.300347</td>\n    </tr>\n    <tr>\n      <th>min</th>\n      <td>0.000091</td>\n      <td>0.001949</td>\n      <td>0.002069</td>\n      <td>0.002574</td>\n      <td>0.000585</td>\n      <td>0.000035</td>\n      <td>0.005993</td>\n      <td>0.000127</td>\n    </tr>\n    <tr>\n      <th>25%</th>\n      <td>1.682920</td>\n      <td>0.639546</td>\n      <td>0.604138</td>\n      <td>0.735384</td>\n      <td>0.790018</td>\n      <td>2.065871</td>\n      <td>3.506832</td>\n      <td>7.963516</td>\n    </tr>\n    <tr>\n      <th>50%</th>\n      <td>4.782484</td>\n      <td>2.501437</td>\n      <td>2.406790</td>\n      <td>2.973778</td>\n      <td>4.319416</td>\n      <td>9.088337</td>\n      <td>15.455175</td>\n      <td>33.770033</td>\n    </tr>\n    <tr>\n      <th>75%</th>\n      <td>9.735044</td>\n      <td>9.374404</td>\n      <td>7.440473</td>\n      <td>10.968343</td>\n      <td>14.355253</td>\n      <td>41.722412</td>\n      <td>38.433709</td>\n      <td>102.885108</td>\n    </tr>\n    <tr>\n      <th>max</th>\n      <td>1095.618773</td>\n      <td>1518.208808</td>\n      <td>35388.754607</td>\n      <td>609.000885</td>\n      <td>774.894946</td>\n      <td>609.331318</td>\n      <td>1727.939740</td>\n      <td>1336.680006</td>\n    </tr>\n  </tbody>\n</table>\n</div>"
     },
     "execution_count": 66,
     "metadata": {},
     "output_type": "execute_result"
    }
   ],
   "source": [
    "df.describe()\n",
    "\n",
    "\n",
    "\n"
   ],
   "metadata": {
    "collapsed": false,
    "pycharm": {
     "name": "#%%\n"
    }
   }
  },
  {
   "cell_type": "code",
   "execution_count": 63,
   "outputs": [
    {
     "data": {
      "text/plain": "[array([0.61499771]),\n array([0.70250054]),\n array([3.9140287]),\n array([1.1955446]),\n array([0.94146939]),\n array([0.74248803]),\n array([2.33984969]),\n array([1.89481827]),\n array([0.73883818]),\n array([0.92332577]),\n array([1.30035223]),\n array([1.57154355]),\n array([0.77493015]),\n array([0.4707413]),\n array([0.47580754]),\n array([3.71339704]),\n array([1.52551058]),\n array([0.96750103]),\n array([4.36740222]),\n array([0.00667206]),\n array([0.36452118]),\n array([0.00856919]),\n array([1.12228503]),\n array([1.50690293]),\n array([0.67577116]),\n array([1.58084989]),\n array([1.36460506]),\n array([0.85113533]),\n array([1.01077653]),\n array([1.55101622]),\n array([1.10274101]),\n array([0.99643536]),\n array([3.28999838]),\n array([1.59246148]),\n array([1.37364411]),\n array([2.31327889]),\n array([1.68830762]),\n array([1.59082639]),\n array([1.66429369]),\n array([1.47114269]),\n array([0.42057894]),\n array([6.05748224]),\n array([-0.26910996]),\n array([1.4144228]),\n array([2.1029578]),\n array([1.89850214]),\n array([1.48041454]),\n array([2.74836371]),\n array([1.19599326]),\n array([2.75278719]),\n array([2.41547382]),\n array([4.5136525]),\n array([6.69746001]),\n array([3.59610909]),\n array([2.07777824]),\n array([2.27321621]),\n array([1.66305485]),\n array([0.24893345]),\n array([2.89276084]),\n array([2.2386573]),\n array([1.04647041]),\n array([-3.4399745]),\n array([0.48330212]),\n array([3.92616457]),\n array([2.46535323]),\n array([1.66130261]),\n array([0.63182764]),\n array([2.52036231]),\n array([1.78948988]),\n array([2.10469107]),\n array([1.55260205]),\n array([5.55276608]),\n array([3.43334649]),\n array([2.57428019]),\n array([1.72901103]),\n array([3.38518209]),\n array([0.37425778]),\n array([1.77513357]),\n array([3.02361904]),\n array([0.82136153]),\n array([1.80867654]),\n array([1.20241716]),\n array([2.49259863]),\n array([2.33084105]),\n array([9.52621654]),\n array([2.03829834]),\n array([2.18202828]),\n array([-0.75365771]),\n array([3.34973374]),\n array([1.79370618]),\n array([4.74876157]),\n array([-1.32889683]),\n array([3.23616841]),\n array([6.46058935]),\n array([2.16452785]),\n array([-0.73941003]),\n array([-3.25310922]),\n array([2.19124483]),\n array([3.04016263]),\n array([3.30356755])]"
     },
     "execution_count": 63,
     "metadata": {},
     "output_type": "execute_result"
    }
   ],
   "source": [
    "\n",
    "w_trial"
   ],
   "metadata": {
    "collapsed": false,
    "pycharm": {
     "name": "#%%\n"
    }
   }
  },
  {
   "cell_type": "code",
   "execution_count": 63,
   "outputs": [],
   "source": [],
   "metadata": {
    "collapsed": false,
    "pycharm": {
     "name": "#%%\n"
    }
   }
  }
 ],
 "metadata": {
  "kernelspec": {
   "display_name": "Python 3",
   "language": "python",
   "name": "python3"
  },
  "language_info": {
   "codemirror_mode": {
    "name": "ipython",
    "version": 2
   },
   "file_extension": ".py",
   "mimetype": "text/x-python",
   "name": "python",
   "nbconvert_exporter": "python",
   "pygments_lexer": "ipython2",
   "version": "2.7.6"
  }
 },
 "nbformat": 4,
 "nbformat_minor": 0
}