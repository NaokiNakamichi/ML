{
 "cells": [
  {
   "cell_type": "code",
   "execution_count": 1,
   "metadata": {
    "collapsed": true
   },
   "outputs": [],
   "source": [
    "import numpy as np\n",
    "import matplotlib.pyplot as plt\n",
    "import pandas as pd\n",
    "from tqdm.notebook import tqdm\n",
    "\n",
    "from ML2_lib import loss\n",
    "from ML2_lib import noise\n",
    "from ML2_lib import algo_sgd\n",
    "from  ML2_lib import merge\n"
   ]
  },
  {
   "cell_type": "code",
   "execution_count": 2,
   "outputs": [
    {
     "data": {
      "text/plain": "<Figure size 432x288 with 1 Axes>",
      "image/png": "[encoded data removed]"
     },
     "metadata": {
      "needs_background": "light"
     },
     "output_type": "display_data"
    }
   ],
   "source": [
    "# データ生成デモ Gauss\n",
    "X_mean = 5\n",
    "X_var = 2\n",
    "rng = np.random.default_rng()\n",
    "X = rng.normal(loc=X_mean,size=100,scale=X_var)\n",
    "Y = noise.Gauss(sigma=2.2,dim=X.shape[0],n=1).generate() + X\n",
    "\n",
    "\n",
    "\n",
    "a = loss.LinearQuadraticLoss()\n",
    "\n",
    "data = [X,Y]\n",
    "core = algo_sgd.SGD(w_init=0,a=0.001,t_max=99,data=data)\n",
    "for _ in core:\n",
    "    core.update(a)\n",
    "\n",
    "\n",
    "\n",
    "x_m = np.linspace(X.min(),X.max(),1000)\n",
    "y_m = a.predict(x_m,core.w)\n",
    "plt.scatter(X,Y)\n",
    "plt.scatter(x_m,y_m,s=1)\n",
    "\n",
    "plt.show()\n",
    "\n"
   ],
   "metadata": {
    "collapsed": false,
    "pycharm": {
     "name": "#%%\n"
    }
   }
  },
  {
   "cell_type": "code",
   "execution_count": 3,
   "outputs": [
    {
     "data": {
      "text/plain": "  0%|          | 0/100 [00:00<?, ?it/s]",
      "application/vnd.jupyter.widget-view+json": {
       "version_major": 2,
       "version_minor": 0,
       "model_id": "821aaf711d1a4a5cac8051cdc64a1d29"
      }
     },
     "metadata": {},
     "output_type": "display_data"
    }
   ],
   "source": [
    "# d = 1 、E ~ 正規分布\n",
    "trial_num = 100 #試行回数\n",
    "result_gauss = [] #パラメータの最終結果　トライアル数*分割数k*特徴量次元\n",
    "result_loss_gauss = [] # 過剰期待損失の最終結果　トライアル数*分割数k\n",
    "valid_k = 100 # 分割数　1 ~ valid_k\n",
    "\n",
    "w_star = 1\n",
    "X_mean = 5\n",
    "X_var = 2\n",
    "\n",
    "X_test = rng.normal(loc=X_mean,size=10000,scale=X_var)\n",
    "E_test = noise.Gauss(sigma=2.2,dim=X_test.shape[0],n=1).generate()\n",
    "Y_test = E_test + X_test\n",
    "\n",
    "for _ in tqdm(range(trial_num)):\n",
    "    w_per_trial = [] # モデルを貯めていく、必要かどうか\n",
    "    loss_store = [] # 過剰期待損失を貯めていく\n",
    "    a = 0.01 # 学習率\n",
    "    c = 5 # wの初期値がとりうる範囲\n",
    "    n = 250 # データセットのサンプル数\n",
    "    b = 2.2 # ノイズの分散\n",
    "    # 初期値wの決定\n",
    "    w = rng.uniform(w_star-c,w_star+c)\n",
    "    for k in range(1,valid_k+1):\n",
    "        core_store = []\n",
    "        model_store = []\n",
    "\n",
    "\n",
    "\n",
    "        son = loss.LinearQuadraticLoss()\n",
    "        for i in range(k):\n",
    "            core_num = n // k\n",
    "            rng = np.random.default_rng()\n",
    "            X = rng.normal(loc=X_mean,size=core_num,scale=X_var)\n",
    "            Y = noise.Gauss(sigma=b,dim=X.shape[0],n=1).generate() + X\n",
    "            data = [X,Y]\n",
    "\n",
    "            core = algo_sgd.SGD(w_init=w,a=a,t_max=core_num-1,data=data)\n",
    "            for _ in core:\n",
    "                core.update(son)\n",
    "            core_store.append(core)\n",
    "            model_store.append(core.w)\n",
    "\n",
    "        model_store = np.array(model_store)\n",
    "        model_store = model_store.reshape([-1,1])\n",
    "\n",
    "        tmp = merge.smallball(model_store)\n",
    "        w_per_trial.append(tmp)\n",
    "        loss_store.append(np.mean(son.f(y=Y_test,x=X_test,w=tmp))- np.mean(0.5*(E_test**2)))\n",
    "\n",
    "    result_gauss.append(np.array(w_per_trial))\n",
    "    result_loss_gauss.append(np.array(loss_store))\n",
    "\n",
    "result_gauss = np.array(result_gauss)\n",
    "result_loss_gauss = np.array(result_loss_gauss)\n",
    "\n",
    "\n",
    "\n"
   ],
   "metadata": {
    "collapsed": false,
    "pycharm": {
     "name": "#%%\n"
    }
   }
  },
  {
   "cell_type": "code",
   "execution_count": 4,
   "outputs": [
    {
     "data": {
      "text/plain": "<Figure size 720x576 with 1 Axes>",
      "image/png": "[encoded data removed]"
     },
     "metadata": {
      "needs_background": "light"
     },
     "output_type": "display_data"
    }
   ],
   "source": [
    "fdic = {\n",
    "    \"size\" : 20,\n",
    "}\n",
    "\n",
    "columns=['1', '2', '4','5','10','20','40','50']\n",
    "fig = plt.figure(figsize=(10.0, 8.0))\n",
    "ax1 = fig.add_subplot(111)\n",
    "\n",
    "bp1 = ax1.boxplot(result_loss_gauss[:,[0,1,3,4,9,19,39,49]])\n",
    "ax1.set_xticklabels(columns,fontsize=20)\n",
    "ax1.set_title('R(w)-R^*',fontsize=20)\n",
    "ax1.set_xlabel('k',fontdict=fdic)\n",
    "\n",
    "plt.show()"
   ],
   "metadata": {
    "collapsed": false,
    "pycharm": {
     "name": "#%%\n"
    }
   }
  },
  {
   "cell_type": "code",
   "execution_count": 14,
   "outputs": [
    {
     "data": {
      "text/plain": "                1           2           4           5          10          20  \\\ncount  100.000000  100.000000  100.000000  100.000000  100.000000  100.000000   \nmean     0.367230    0.262926    0.150879    0.133227    0.089873    0.256529   \nstd      0.549677    0.327604    0.196628    0.177729    0.123982    0.700745   \nmin      0.000035    0.000505   -0.000011   -0.000010    0.000128    0.000021   \n25%      0.046749    0.049227    0.015348    0.016891    0.010821    0.020405   \n50%      0.154030    0.141601    0.073956    0.055341    0.045018    0.082672   \n75%      0.489112    0.326736    0.202604    0.164836    0.110927    0.248325   \nmax      3.253281    1.577953    1.112987    0.791278    0.595035    6.537571   \n\n               40          50  \ncount  100.000000  100.000000  \nmean     5.917206    9.791329  \nstd      6.009604   10.624516  \nmin     -0.000019    0.001231  \n25%      0.551947    0.947889  \n50%      4.666620    6.236694  \n75%      9.699735   15.594937  \nmax     23.211736   42.549863  ",
      "text/html": "<div>\n<style scoped>\n    .dataframe tbody tr th:only-of-type {\n        vertical-align: middle;\n    }\n\n    .dataframe tbody tr th {\n        vertical-align: top;\n    }\n\n    .dataframe thead th {\n        text-align: right;\n    }\n</style>\n<table border=\"1\" class=\"dataframe\">\n  <thead>\n    <tr style=\"text-align: right;\">\n      <th></th>\n      <th>1</th>\n      <th>2</th>\n      <th>4</th>\n      <th>5</th>\n      <th>10</th>\n      <th>20</th>\n      <th>40</th>\n      <th>50</th>\n    </tr>\n  </thead>\n  <tbody>\n    <tr>\n      <th>count</th>\n      <td>100.000000</td>\n      <td>100.000000</td>\n      <td>100.000000</td>\n      <td>100.000000</td>\n      <td>100.000000</td>\n      <td>100.000000</td>\n      <td>100.000000</td>\n      <td>100.000000</td>\n    </tr>\n    <tr>\n      <th>mean</th>\n      <td>0.367230</td>\n      <td>0.262926</td>\n      <td>0.150879</td>\n      <td>0.133227</td>\n      <td>0.089873</td>\n      <td>0.256529</td>\n      <td>5.917206</td>\n      <td>9.791329</td>\n    </tr>\n    <tr>\n      <th>std</th>\n      <td>0.549677</td>\n      <td>0.327604</td>\n      <td>0.196628</td>\n      <td>0.177729</td>\n      <td>0.123982</td>\n      <td>0.700745</td>\n      <td>6.009604</td>\n      <td>10.624516</td>\n    </tr>\n    <tr>\n      <th>min</th>\n      <td>0.000035</td>\n      <td>0.000505</td>\n      <td>-0.000011</td>\n      <td>-0.000010</td>\n      <td>0.000128</td>\n      <td>0.000021</td>\n      <td>-0.000019</td>\n      <td>0.001231</td>\n    </tr>\n    <tr>\n      <th>25%</th>\n      <td>0.046749</td>\n      <td>0.049227</td>\n      <td>0.015348</td>\n      <td>0.016891</td>\n      <td>0.010821</td>\n      <td>0.020405</td>\n      <td>0.551947</td>\n      <td>0.947889</td>\n    </tr>\n    <tr>\n      <th>50%</th>\n      <td>0.154030</td>\n      <td>0.141601</td>\n      <td>0.073956</td>\n      <td>0.055341</td>\n      <td>0.045018</td>\n      <td>0.082672</td>\n      <td>4.666620</td>\n      <td>6.236694</td>\n    </tr>\n    <tr>\n      <th>75%</th>\n      <td>0.489112</td>\n      <td>0.326736</td>\n      <td>0.202604</td>\n      <td>0.164836</td>\n      <td>0.110927</td>\n      <td>0.248325</td>\n      <td>9.699735</td>\n      <td>15.594937</td>\n    </tr>\n    <tr>\n      <th>max</th>\n      <td>3.253281</td>\n      <td>1.577953</td>\n      <td>1.112987</td>\n      <td>0.791278</td>\n      <td>0.595035</td>\n      <td>6.537571</td>\n      <td>23.211736</td>\n      <td>42.549863</td>\n    </tr>\n  </tbody>\n</table>\n</div>"
     },
     "execution_count": 14,
     "metadata": {},
     "output_type": "execute_result"
    }
   ],
   "source": [
    "df = pd.DataFrame(result_loss_gauss[:,[0,1,3,4,9,19,39,49]],columns=columns)\n",
    "df.describe()"
   ],
   "metadata": {
    "collapsed": false,
    "pycharm": {
     "name": "#%%\n"
    }
   }
  },
  {
   "cell_type": "code",
   "execution_count": 15,
   "outputs": [
    {
     "data": {
      "text/plain": "<matplotlib.collections.PathCollection at 0x12b0f9fa0>"
     },
     "execution_count": 15,
     "metadata": {},
     "output_type": "execute_result"
    },
    {
     "data": {
      "text/plain": "<Figure size 432x288 with 1 Axes>",
      "image/png": "[encoded data removed]"
     },
     "metadata": {
      "needs_background": "light"
     },
     "output_type": "display_data"
    }
   ],
   "source": [
    "# データ生成デモ Log-normal\n",
    "X = np.linspace(0,10,100)\n",
    "np.random.shuffle(X)\n",
    "Y = noise.LogNormal(sigma=1.75,dim=X.shape[0],n=1).generate() + X\n",
    "\n",
    "\n",
    "\n",
    "a = loss.LinearQuadraticLoss()\n",
    "\n",
    "data = [X,Y]\n",
    "core = algo_sgd.SGD(w_init=0,a=0.001,t_max=99,data=data)\n",
    "for _ in core:\n",
    "    core.update(a)\n",
    "\n",
    "\n",
    "\n",
    "x_m = np.linspace(0,10,1000)\n",
    "y_m = a.predict(x_m,core.w)\n",
    "plt.scatter(X,Y)\n",
    "plt.scatter(x_m,y_m,s=1)\n",
    "\n"
   ],
   "metadata": {
    "collapsed": false,
    "pycharm": {
     "name": "#%%\n"
    }
   }
  },
  {
   "cell_type": "code",
   "execution_count": 16,
   "outputs": [
    {
     "data": {
      "text/plain": "  0%|          | 0/100 [00:00<?, ?it/s]",
      "application/vnd.jupyter.widget-view+json": {
       "version_major": 2,
       "version_minor": 0,
       "model_id": "7a4c7dc6bbec4b44b2047be84f9f295a"
      }
     },
     "metadata": {},
     "output_type": "display_data"
    }
   ],
   "source": [
    "trial_num = 100 #試行回数\n",
    "result_lognormal = [] #パラメータの最終結果　トライアル数*分割数k*特徴量次元\n",
    "result_loss_lognormal = [] # 過剰期待損失の最終結果　トライアル数*分割数k\n",
    "valid_k = 100 # 分割数　1 ~ valid_k\n",
    "\n",
    "w_star = 1\n",
    "X_mean = 5\n",
    "X_var = 2\n",
    "\n",
    "X_test = rng.normal(loc=X_mean,size=10000,scale=X_var)\n",
    "E_test = noise.LogNormal(sigma=1.75,dim=X_test.shape[0],n=1).generate()\n",
    "Y_test = E_test + X_test\n",
    "\n",
    "for _ in tqdm(range(trial_num)):\n",
    "    w_per_trial = []\n",
    "    loss_store = []\n",
    "    a = 0.01\n",
    "    c = 5\n",
    "    n = 250\n",
    "    b = 1.75\n",
    "    # 初期値wの決定\n",
    "    rng = np.random.default_rng()\n",
    "    w = rng.uniform(w_star-c,w_star+c)\n",
    "    for k in range(1,valid_k+1):\n",
    "        core_store = []\n",
    "        model_store = []\n",
    "\n",
    "\n",
    "        son = loss.LinearQuadraticLoss()\n",
    "        for _ in range(k):\n",
    "            core_num = n // k\n",
    "            rng = np.random.default_rng()\n",
    "            X = rng.normal(loc=X_mean,size=core_num,scale=X_var)\n",
    "            Y = noise.LogNormal(sigma=b,dim=X.shape[0],n=1).generate() + X\n",
    "            data = [X,Y]\n",
    "            core = algo_sgd.SGD(w_init=w,a=a,t_max=core_num-1,data=data)\n",
    "            for _ in core:\n",
    "                core.update(son)\n",
    "            core_store.append(core)\n",
    "            model_store.append(core.w)\n",
    "\n",
    "        model_store = np.array(model_store)\n",
    "        model_store = model_store.reshape([-1,1])\n",
    "        tmp = merge.smallball(model_store)\n",
    "        w_per_trial.append(tmp)\n",
    "        loss_store.append(np.mean(son.f(y=Y_test,x=X_test,w=tmp))- np.mean(0.5*(E_test**2)))\n",
    "\n",
    "    result_lognormal.append(np.array(w_per_trial))\n",
    "    result_loss_lognormal.append(np.array(loss_store))\n",
    "\n",
    "result_lognormal = np.array(result_lognormal)\n",
    "result_loss_lognormal = np.array(result_loss_lognormal)\n",
    "\n",
    "\n",
    "\n"
   ],
   "metadata": {
    "collapsed": false,
    "pycharm": {
     "name": "#%%\n"
    }
   }
  },
  {
   "cell_type": "code",
   "execution_count": 17,
   "outputs": [
    {
     "data": {
      "text/plain": "<Figure size 720x576 with 1 Axes>",
      "image/png": "[encoded data removed]"
     },
     "metadata": {
      "needs_background": "light"
     },
     "output_type": "display_data"
    }
   ],
   "source": [
    "fig = plt.figure(figsize=(10.0, 8.0))\n",
    "ax1 = fig.add_subplot(111)\n",
    "\n",
    "bp1 = ax1.boxplot(result_loss_lognormal[:,[0,1,3,4,9,19,39,49]])\n",
    "ax1.set_xticklabels(columns,fontsize=20)\n",
    "ax1.set_title('R(w)-R^*',fontsize=20)\n",
    "ax1.set_xlabel('k',fontdict=fdic)\n",
    "\n",
    "plt.show()"
   ],
   "metadata": {
    "collapsed": false,
    "pycharm": {
     "name": "#%%\n"
    }
   }
  },
  {
   "cell_type": "code",
   "execution_count": 18,
   "outputs": [],
   "source": [
    "df = pd.DataFrame(result_loss_lognormal[:,[0,1,3,4,9,19,39,49]],columns=columns)"
   ],
   "metadata": {
    "collapsed": false,
    "pycharm": {
     "name": "#%%\n"
    }
   }
  },
  {
   "cell_type": "code",
   "execution_count": 19,
   "outputs": [
    {
     "data": {
      "text/plain": "                1           2            4           5           10  \\\ncount  100.000000  100.000000   100.000000  100.000000   100.000000   \nmean    16.979238    6.254191    49.475479   21.844578    42.759927   \nstd     96.544474   17.447427   254.128264  103.336712   210.516043   \nmin      0.000002    0.000215    -0.000275    0.003162     0.001599   \n25%      0.703731    0.252680     0.507253    0.467309     0.421121   \n50%      2.371621    1.638355     1.513405    1.705387     2.421804   \n75%      4.847388    3.945480     3.620699    5.075957    20.385480   \nmax    939.520236  144.115664  2177.077614  948.014987  2054.152398   \n\n                20           40           50  \ncount   100.000000   100.000000   100.000000  \nmean     63.210684   105.941323   183.300152  \nstd     320.887665   417.728972   822.614585  \nmin      -0.000239    -0.000212     0.003048  \n25%       0.230752     2.806023     3.561115  \n50%       1.624711     8.850010    11.527322  \n75%       6.119079    36.209633    33.704448  \nmax    2527.715211  3507.044813  7001.239807  ",
      "text/html": "<div>\n<style scoped>\n    .dataframe tbody tr th:only-of-type {\n        vertical-align: middle;\n    }\n\n    .dataframe tbody tr th {\n        vertical-align: top;\n    }\n\n    .dataframe thead th {\n        text-align: right;\n    }\n</style>\n<table border=\"1\" class=\"dataframe\">\n  <thead>\n    <tr style=\"text-align: right;\">\n      <th></th>\n      <th>1</th>\n      <th>2</th>\n      <th>4</th>\n      <th>5</th>\n      <th>10</th>\n      <th>20</th>\n      <th>40</th>\n      <th>50</th>\n    </tr>\n  </thead>\n  <tbody>\n    <tr>\n      <th>count</th>\n      <td>100.000000</td>\n      <td>100.000000</td>\n      <td>100.000000</td>\n      <td>100.000000</td>\n      <td>100.000000</td>\n      <td>100.000000</td>\n      <td>100.000000</td>\n      <td>100.000000</td>\n    </tr>\n    <tr>\n      <th>mean</th>\n      <td>16.979238</td>\n      <td>6.254191</td>\n      <td>49.475479</td>\n      <td>21.844578</td>\n      <td>42.759927</td>\n      <td>63.210684</td>\n      <td>105.941323</td>\n      <td>183.300152</td>\n    </tr>\n    <tr>\n      <th>std</th>\n      <td>96.544474</td>\n      <td>17.447427</td>\n      <td>254.128264</td>\n      <td>103.336712</td>\n      <td>210.516043</td>\n      <td>320.887665</td>\n      <td>417.728972</td>\n      <td>822.614585</td>\n    </tr>\n    <tr>\n      <th>min</th>\n      <td>0.000002</td>\n      <td>0.000215</td>\n      <td>-0.000275</td>\n      <td>0.003162</td>\n      <td>0.001599</td>\n      <td>-0.000239</td>\n      <td>-0.000212</td>\n      <td>0.003048</td>\n    </tr>\n    <tr>\n      <th>25%</th>\n      <td>0.703731</td>\n      <td>0.252680</td>\n      <td>0.507253</td>\n      <td>0.467309</td>\n      <td>0.421121</td>\n      <td>0.230752</td>\n      <td>2.806023</td>\n      <td>3.561115</td>\n    </tr>\n    <tr>\n      <th>50%</th>\n      <td>2.371621</td>\n      <td>1.638355</td>\n      <td>1.513405</td>\n      <td>1.705387</td>\n      <td>2.421804</td>\n      <td>1.624711</td>\n      <td>8.850010</td>\n      <td>11.527322</td>\n    </tr>\n    <tr>\n      <th>75%</th>\n      <td>4.847388</td>\n      <td>3.945480</td>\n      <td>3.620699</td>\n      <td>5.075957</td>\n      <td>20.385480</td>\n      <td>6.119079</td>\n      <td>36.209633</td>\n      <td>33.704448</td>\n    </tr>\n    <tr>\n      <th>max</th>\n      <td>939.520236</td>\n      <td>144.115664</td>\n      <td>2177.077614</td>\n      <td>948.014987</td>\n      <td>2054.152398</td>\n      <td>2527.715211</td>\n      <td>3507.044813</td>\n      <td>7001.239807</td>\n    </tr>\n  </tbody>\n</table>\n</div>"
     },
     "execution_count": 19,
     "metadata": {},
     "output_type": "execute_result"
    }
   ],
   "source": [
    "df.describe()\n",
    "\n",
    "\n",
    "\n"
   ],
   "metadata": {
    "collapsed": false,
    "pycharm": {
     "name": "#%%\n"
    }
   }
  },
  {
   "cell_type": "code",
   "execution_count": null,
   "outputs": [],
   "source": [],
   "metadata": {
    "collapsed": false,
    "pycharm": {
     "name": "#%%\n"
    }
   }
  }
 ],
 "metadata": {
  "kernelspec": {
   "display_name": "Python 3",
   "language": "python",
   "name": "python3"
  },
  "language_info": {
   "codemirror_mode": {
    "name": "ipython",
    "version": 2
   },
   "file_extension": ".py",
   "mimetype": "text/x-python",
   "name": "python",
   "nbconvert_exporter": "python",
   "pygments_lexer": "ipython2",
   "version": "2.7.6"
  }
 },
 "nbformat": 4,
 "nbformat_minor": 0
}