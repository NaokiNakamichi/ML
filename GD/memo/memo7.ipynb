{
 "cells": [
  {
   "cell_type": "code",
   "execution_count": 1,
   "metadata": {
    "collapsed": true
   },
   "outputs": [
    {
     "data": {
      "text/plain": "2.0"
     },
     "execution_count": 1,
     "metadata": {},
     "output_type": "execute_result"
    }
   ],
   "source": [
    "import numpy as np\n",
    "import matplotlib.pyplot as plt\n",
    "import pandas as pd\n",
    "\n",
    "from ML2_lib import loss\n",
    "from ML2_lib import DC_SGD\n",
    "from ML2_lib import valid\n",
    "from sklearn.datasets import load_iris\n",
    "\n",
    "from torch import nn\n",
    "import torch\n",
    "\n",
    "import torch.nn.functional as F\n",
    "\n",
    "from sklearn.datasets import load_boston,load_diabetes\n",
    "from sklearn.preprocessing import StandardScaler\n",
    "from sklearn.model_selection import train_test_split\n",
    "\n",
    "\n",
    "valid.median_of_means(seq=np.array([1,2,3,4,5]), n_blocks=3)"
   ]
  },
  {
   "cell_type": "code",
   "execution_count": 2,
   "outputs": [],
   "source": [
    "h= DC_SGD.DCSGDByTorch(loss = None,lr=0.01)"
   ],
   "metadata": {
    "collapsed": false,
    "pycharm": {
     "name": "#%%\n"
    }
   }
  },
  {
   "cell_type": "code",
   "execution_count": 3,
   "outputs": [
    {
     "data": {
      "text/plain": "torch.Size([5, 3, 4])"
     },
     "execution_count": 3,
     "metadata": {},
     "output_type": "execute_result"
    }
   ],
   "source": [
    "iris = load_iris()\n",
    "\n",
    "class Net(nn.Module):\n",
    "    ## 個々で\n",
    "    def __init__(self):\n",
    "        ## nn.Moduleを継承するよってことで。\n",
    "        super(Net, self).__init__()\n",
    "        self.fc1 = nn.Linear(4, 3)\n",
    "    def forward(self, x):\n",
    "        x = self.fc1(x)\n",
    "        ## 最後にlog softmax(ココは普通にF.softmax()に変えても処理は回ります。)で出力\n",
    "        return F.log_softmax(x, dim = 1)\n",
    "\n",
    "model = Net()\n",
    "train_X = torch.Tensor(iris.data)       ## torch.Tensor型: Pytorch版のnumpy形式\n",
    "train_y = torch.LongTensor(iris.target)\n",
    "\n",
    "h.learn(k=5,x=train_X,y=train_y,model=model).shape"
   ],
   "metadata": {
    "collapsed": false,
    "pycharm": {
     "name": "#%%\n"
    }
   }
  },
  {
   "cell_type": "code",
   "execution_count": 3,
   "outputs": [],
   "source": [],
   "metadata": {
    "collapsed": false,
    "pycharm": {
     "name": "#%%\n"
    }
   }
  }
 ],
 "metadata": {
  "kernelspec": {
   "display_name": "Python 3",
   "language": "python",
   "name": "python3"
  },
  "language_info": {
   "codemirror_mode": {
    "name": "ipython",
    "version": 2
   },
   "file_extension": ".py",
   "mimetype": "text/x-python",
   "name": "python",
   "nbconvert_exporter": "python",
   "pygments_lexer": "ipython2",
   "version": "2.7.6"
  }
 },
 "nbformat": 4,
 "nbformat_minor": 0
}