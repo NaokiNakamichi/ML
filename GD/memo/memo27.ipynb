{
 "cells": [
  {
   "cell_type": "code",
   "execution_count": 1,
   "metadata": {
    "collapsed": true
   },
   "outputs": [],
   "source": [
    "import numpy as np\n",
    "\n",
    "from ML2_lib import format_data\n",
    "from ML2_lib import RV_SGD_Torch\n",
    "\n",
    "from sklearn.model_selection import train_test_split\n",
    "\n",
    "from tqdm import tqdm_notebook"
   ]
  },
  {
   "cell_type": "code",
   "execution_count": 2,
   "outputs": [
    {
     "name": "stderr",
     "output_type": "stream",
     "text": [
      "/Users/naoki/.pyenv/versions/ML2/lib/python3.8/site-packages/torchvision/datasets/mnist.py:498: UserWarning: The given NumPy array is not writeable, and PyTorch does not support non-writeable tensors. This means you can write to the underlying (supposedly non-writeable) NumPy array using the tensor. You may want to copy the array to protect its data or make it writeable before converting it to a tensor. This type of warning will be suppressed for the rest of this program. (Triggered internally at  ../torch/csrc/utils/tensor_numpy.cpp:180.)\n",
      "  return torch.from_numpy(parsed.astype(m[2], copy=False)).view(*s)\n",
      "/Users/naoki/.pyenv/versions/ML2/lib/python3.8/site-packages/torchvision/datasets/mnist.py:62: UserWarning: train_data has been renamed data\n",
      "  warnings.warn(\"train_data has been renamed data\")\n",
      "/Users/naoki/.pyenv/versions/ML2/lib/python3.8/site-packages/torchvision/datasets/mnist.py:67: UserWarning: test_data has been renamed data\n",
      "  warnings.warn(\"test_data has been renamed data\")\n",
      "/Users/naoki/.pyenv/versions/ML2/lib/python3.8/site-packages/torchvision/datasets/mnist.py:52: UserWarning: train_labels has been renamed targets\n",
      "  warnings.warn(\"train_labels has been renamed targets\")\n",
      "/Users/naoki/.pyenv/versions/ML2/lib/python3.8/site-packages/torchvision/datasets/mnist.py:57: UserWarning: test_labels has been renamed targets\n",
      "  warnings.warn(\"test_labels has been renamed targets\")\n"
     ]
    }
   ],
   "source": [
    "X_train, y_train, X_test, y_test = format_data.MNIST_data().return_data()\n",
    "X_train, X_valid = train_test_split(X_train, test_size=0.1, shuffle=False)\n",
    "y_train, y_valid = train_test_split(y_train, test_size=0.1, shuffle=False)"
   ],
   "metadata": {
    "collapsed": false,
    "pycharm": {
     "name": "#%%\n"
    }
   }
  },
  {
   "cell_type": "code",
   "execution_count": 12,
   "outputs": [
    {
     "name": "stderr",
     "output_type": "stream",
     "text": [
      "<ipython-input-12-5c0c2a472d38>:3: TqdmDeprecationWarning: This function will be removed in tqdm==5.0.0\n",
      "Please use `tqdm.notebook.tqdm` instead of `tqdm.tqdm_notebook`\n",
      "  for i in tqdm_notebook(range(1, 10)):\n"
     ]
    },
    {
     "data": {
      "text/plain": "  0%|          | 0/9 [00:00<?, ?it/s]",
      "application/vnd.jupyter.widget-view+json": {
       "version_major": 2,
       "version_minor": 0,
       "model_id": "d90694f776a14c87b036c48150f702f2"
      }
     },
     "metadata": {},
     "output_type": "display_data"
    }
   ],
   "source": [
    "hoge = RV_SGD_Torch.RVSGDByTorch(lr=0.0002)\n",
    "k_model_list = []\n",
    "for i in tqdm_notebook(range(1, 10)):\n",
    "    result_model = hoge.run_RVSGD(x_train=X_train, y_train=y_train, valid_x=X_valid, valid_y=y_valid, k=i,\n",
    "                                  model_type=\"FF_L2\")\n",
    "    k_model_list.append(result_model)\n",
    "\n",
    "\n",
    "\n",
    "\n"
   ],
   "metadata": {
    "collapsed": false,
    "pycharm": {
     "name": "#%%\n"
    }
   }
  },
  {
   "cell_type": "code",
   "execution_count": 13,
   "outputs": [
    {
     "data": {
      "text/plain": "[FF_L2(\n   (fc1): Linear(in_features=784, out_features=512, bias=True)\n   (fc2): Linear(in_features=512, out_features=512, bias=True)\n   (fc3): Linear(in_features=512, out_features=10, bias=True)\n   (relu): ReLU()\n ),\n FF_L2(\n   (fc1): Linear(in_features=784, out_features=512, bias=True)\n   (fc2): Linear(in_features=512, out_features=512, bias=True)\n   (fc3): Linear(in_features=512, out_features=10, bias=True)\n   (relu): ReLU()\n ),\n FF_L2(\n   (fc1): Linear(in_features=784, out_features=512, bias=True)\n   (fc2): Linear(in_features=512, out_features=512, bias=True)\n   (fc3): Linear(in_features=512, out_features=10, bias=True)\n   (relu): ReLU()\n ),\n FF_L2(\n   (fc1): Linear(in_features=784, out_features=512, bias=True)\n   (fc2): Linear(in_features=512, out_features=512, bias=True)\n   (fc3): Linear(in_features=512, out_features=10, bias=True)\n   (relu): ReLU()\n ),\n FF_L2(\n   (fc1): Linear(in_features=784, out_features=512, bias=True)\n   (fc2): Linear(in_features=512, out_features=512, bias=True)\n   (fc3): Linear(in_features=512, out_features=10, bias=True)\n   (relu): ReLU()\n ),\n FF_L2(\n   (fc1): Linear(in_features=784, out_features=512, bias=True)\n   (fc2): Linear(in_features=512, out_features=512, bias=True)\n   (fc3): Linear(in_features=512, out_features=10, bias=True)\n   (relu): ReLU()\n ),\n FF_L2(\n   (fc1): Linear(in_features=784, out_features=512, bias=True)\n   (fc2): Linear(in_features=512, out_features=512, bias=True)\n   (fc3): Linear(in_features=512, out_features=10, bias=True)\n   (relu): ReLU()\n ),\n FF_L2(\n   (fc1): Linear(in_features=784, out_features=512, bias=True)\n   (fc2): Linear(in_features=512, out_features=512, bias=True)\n   (fc3): Linear(in_features=512, out_features=10, bias=True)\n   (relu): ReLU()\n ),\n FF_L2(\n   (fc1): Linear(in_features=784, out_features=512, bias=True)\n   (fc2): Linear(in_features=512, out_features=512, bias=True)\n   (fc3): Linear(in_features=512, out_features=10, bias=True)\n   (relu): ReLU()\n )]"
     },
     "execution_count": 13,
     "metadata": {},
     "output_type": "execute_result"
    }
   ],
   "source": [
    "k_model_list"
   ],
   "metadata": {
    "collapsed": false,
    "pycharm": {
     "name": "#%%\n"
    }
   }
  },
  {
   "cell_type": "code",
   "execution_count": 14,
   "outputs": [
    {
     "name": "stderr",
     "output_type": "stream",
     "text": [
      "/Users/naoki/ML2/GD/ML2_lib/RV_SGD_Torch.py:88: UserWarning: To copy construct from a tensor, it is recommended to use sourceTensor.clone().detach() or sourceTensor.clone().detach().requires_grad_(True), rather than torch.tensor(sourceTensor).\n",
      "  y_test_pred = model(torch.tensor(x).float())\n",
      "/Users/naoki/ML2/GD/ML2_lib/RV_SGD_Torch.py:88: UserWarning: To copy construct from a tensor, it is recommended to use sourceTensor.clone().detach() or sourceTensor.clone().detach().requires_grad_(True), rather than torch.tensor(sourceTensor).\n",
      "  y_test_pred = model(torch.tensor(x).float())\n"
     ]
    },
    {
     "name": "stdout",
     "output_type": "stream",
     "text": [
      "[[ 954    0    7    2    1    4    7    2    3    0]\n",
      " [   0 1087   16    6    1    2    4    2   17    0]\n",
      " [   6    5  961   21    3    2    5    7   20    2]\n",
      " [   1    2   17  921    1   26    0    7   24   11]\n",
      " [   2    2    6    2  919    6    6    1    4   34]\n",
      " [   6    2    2   30    3  821    8    1   17    2]\n",
      " [  10    3    8    3   10   23  891    1    8    1]\n",
      " [   3    4   30   15   10    3    1  924    7   31]\n",
      " [   7    3   14   30   13   19    5    2  873    8]\n",
      " [   6    6    6   12   51   13    4   11   16  884]]\n",
      "              precision    recall  f1-score   support\n",
      "\n",
      "           0       0.96      0.97      0.97       980\n",
      "           1       0.98      0.96      0.97      1135\n",
      "           2       0.90      0.93      0.92      1032\n",
      "           3       0.88      0.91      0.90      1010\n",
      "           4       0.91      0.94      0.92       982\n",
      "           5       0.89      0.92      0.91       892\n",
      "           6       0.96      0.93      0.94       958\n",
      "           7       0.96      0.90      0.93      1028\n",
      "           8       0.88      0.90      0.89       974\n",
      "           9       0.91      0.88      0.89      1009\n",
      "\n",
      "    accuracy                           0.92     10000\n",
      "   macro avg       0.92      0.92      0.92     10000\n",
      "weighted avg       0.92      0.92      0.92     10000\n",
      "\n",
      "正解率 : 0.9235\n",
      "test loss : 212.55230712890625\n",
      "[[ 925    0    2    0    3   13   14    6   14    3]\n",
      " [   0 1016    6    6    0    0    4    8   94    1]\n",
      " [  15    2  831   34   11    2   10   35   82   10]\n",
      " [   1    5    7  905    0   12    1   15   55    9]\n",
      " [   0    1    6    7  895    5   12    4   17   35]\n",
      " [   9    4    1   61    5  758   17    5   29    3]\n",
      " [  12    3    4    1   21   16  876    0   25    0]\n",
      " [   2    3    5    8   14    7    1  920   23   45]\n",
      " [   4    0    8   20    2   25   12   17  880    6]\n",
      " [   3    1    0   14   69   13    4   39   42  824]]\n",
      "              precision    recall  f1-score   support\n",
      "\n",
      "           0       0.95      0.94      0.95       980\n",
      "           1       0.98      0.90      0.94      1135\n",
      "           2       0.96      0.81      0.87      1032\n",
      "           3       0.86      0.90      0.88      1010\n",
      "           4       0.88      0.91      0.89       982\n",
      "           5       0.89      0.85      0.87       892\n",
      "           6       0.92      0.91      0.92       958\n",
      "           7       0.88      0.89      0.89      1028\n",
      "           8       0.70      0.90      0.79       974\n",
      "           9       0.88      0.82      0.85      1009\n",
      "\n",
      "    accuracy                           0.88     10000\n",
      "   macro avg       0.89      0.88      0.88     10000\n",
      "weighted avg       0.89      0.88      0.88     10000\n",
      "\n",
      "正解率 : 0.883\n",
      "test loss : 398.5716857910156\n"
     ]
    },
    {
     "name": "stderr",
     "output_type": "stream",
     "text": [
      "/Users/naoki/ML2/GD/ML2_lib/RV_SGD_Torch.py:88: UserWarning: To copy construct from a tensor, it is recommended to use sourceTensor.clone().detach() or sourceTensor.clone().detach().requires_grad_(True), rather than torch.tensor(sourceTensor).\n",
      "  y_test_pred = model(torch.tensor(x).float())\n",
      "/Users/naoki/ML2/GD/ML2_lib/RV_SGD_Torch.py:88: UserWarning: To copy construct from a tensor, it is recommended to use sourceTensor.clone().detach() or sourceTensor.clone().detach().requires_grad_(True), rather than torch.tensor(sourceTensor).\n",
      "  y_test_pred = model(torch.tensor(x).float())\n"
     ]
    },
    {
     "name": "stdout",
     "output_type": "stream",
     "text": [
      "[[ 949    1    7    3    1    2   11    2    3    1]\n",
      " [   0 1105   11    2    1    1    2    8    4    1]\n",
      " [   8   11  933   22   18    0   10   13   15    2]\n",
      " [   1    0   14  926    1   22    4   16   19    7]\n",
      " [   1    3    7    2  907    0   14    9    6   33]\n",
      " [   7    2    6   51    6  752   13   17   28   10]\n",
      " [   6    4    8    1   13    7  907    3    8    1]\n",
      " [   3    9   17    4    5    0    1  970    4   15]\n",
      " [   5    6   10   60   14    6    9    9  840   15]\n",
      " [   8    3    1    9   61    2    1   65   12  847]]\n",
      "              precision    recall  f1-score   support\n",
      "\n",
      "           0       0.96      0.97      0.96       980\n",
      "           1       0.97      0.97      0.97      1135\n",
      "           2       0.92      0.90      0.91      1032\n",
      "           3       0.86      0.92      0.89      1010\n",
      "           4       0.88      0.92      0.90       982\n",
      "           5       0.95      0.84      0.89       892\n",
      "           6       0.93      0.95      0.94       958\n",
      "           7       0.87      0.94      0.91      1028\n",
      "           8       0.89      0.86      0.88       974\n",
      "           9       0.91      0.84      0.87      1009\n",
      "\n",
      "    accuracy                           0.91     10000\n",
      "   macro avg       0.91      0.91      0.91     10000\n",
      "weighted avg       0.91      0.91      0.91     10000\n",
      "\n",
      "正解率 : 0.9136\n",
      "test loss : 585.30126953125\n",
      "[[ 954    0    2    1    1    6    3    7    6    0]\n",
      " [   0 1091    4    3    0    1    6   13   16    1]\n",
      " [  17    4  851   19   11    2   12   45   47   24]\n",
      " [   7    0    8  891    0   23    3   15   38   25]\n",
      " [   2    2    3    5  813    3   10   13   24  107]\n",
      " [  13    0    0   50    2  696   13    8   97   13]\n",
      " [  17    3   12    1   15   12  865    5   26    2]\n",
      " [   2    4    6    0    3    2    0  978    5   28]\n",
      " [   6    1    6   19    3   17    7   21  874   20]\n",
      " [  10    3    1   13   14   10    0   24   23  911]]\n",
      "              precision    recall  f1-score   support\n",
      "\n",
      "           0       0.93      0.97      0.95       980\n",
      "           1       0.98      0.96      0.97      1135\n",
      "           2       0.95      0.82      0.88      1032\n",
      "           3       0.89      0.88      0.89      1010\n",
      "           4       0.94      0.83      0.88       982\n",
      "           5       0.90      0.78      0.84       892\n",
      "           6       0.94      0.90      0.92       958\n",
      "           7       0.87      0.95      0.91      1028\n",
      "           8       0.76      0.90      0.82       974\n",
      "           9       0.81      0.90      0.85      1009\n",
      "\n",
      "    accuracy                           0.89     10000\n",
      "   macro avg       0.90      0.89      0.89     10000\n",
      "weighted avg       0.90      0.89      0.89     10000\n",
      "\n",
      "正解率 : 0.8924\n",
      "test loss : 810.4517822265625\n"
     ]
    },
    {
     "name": "stderr",
     "output_type": "stream",
     "text": [
      "/Users/naoki/ML2/GD/ML2_lib/RV_SGD_Torch.py:88: UserWarning: To copy construct from a tensor, it is recommended to use sourceTensor.clone().detach() or sourceTensor.clone().detach().requires_grad_(True), rather than torch.tensor(sourceTensor).\n",
      "  y_test_pred = model(torch.tensor(x).float())\n",
      "/Users/naoki/ML2/GD/ML2_lib/RV_SGD_Torch.py:88: UserWarning: To copy construct from a tensor, it is recommended to use sourceTensor.clone().detach() or sourceTensor.clone().detach().requires_grad_(True), rather than torch.tensor(sourceTensor).\n",
      "  y_test_pred = model(torch.tensor(x).float())\n"
     ]
    },
    {
     "name": "stdout",
     "output_type": "stream",
     "text": [
      "[[ 911    0   13   12    2   17   12    0    4    9]\n",
      " [   0 1086    5    6    0    3    1    3   27    4]\n",
      " [   1    3  902   37    6    2    6   15   52    8]\n",
      " [   0    1   14  934    0   19    0    5   27   10]\n",
      " [   5    0    5   11  765    8   11    6   21  150]\n",
      " [   3    2    2   46    1  779   10    2   37   10]\n",
      " [   4    5    9    2    9   24  888    1    8    8]\n",
      " [   4    6   17   26    1    6    1  895   20   52]\n",
      " [   1    0   12   33    4   15    5    4  878   22]\n",
      " [   6    1    3   45   19   13    1   15   33  873]]\n",
      "              precision    recall  f1-score   support\n",
      "\n",
      "           0       0.97      0.93      0.95       980\n",
      "           1       0.98      0.96      0.97      1135\n",
      "           2       0.92      0.87      0.90      1032\n",
      "           3       0.81      0.92      0.86      1010\n",
      "           4       0.95      0.78      0.86       982\n",
      "           5       0.88      0.87      0.88       892\n",
      "           6       0.95      0.93      0.94       958\n",
      "           7       0.95      0.87      0.91      1028\n",
      "           8       0.79      0.90      0.84       974\n",
      "           9       0.76      0.87      0.81      1009\n",
      "\n",
      "    accuracy                           0.89     10000\n",
      "   macro avg       0.90      0.89      0.89     10000\n",
      "weighted avg       0.90      0.89      0.89     10000\n",
      "\n",
      "正解率 : 0.8911\n",
      "test loss : 1009.2799072265625\n",
      "[[ 892    0    5    5    5   19   19    4   25    6]\n",
      " [   0 1090    2    1    4    1    1    0   36    0]\n",
      " [   7    8  854   25   16    4   14   32   65    7]\n",
      " [   2    4    4  914    4   17    2   17   40    6]\n",
      " [   1    0    1    1  940    1    9    4    6   19]\n",
      " [   4    5    2   49   18  691   17    3   91   12]\n",
      " [   7    2    5    0   36   11  874    1   22    0]\n",
      " [   0    4   10   11   23    1    0  941    7   31]\n",
      " [   2    3    5   22   13    8    3   13  896    9]\n",
      " [   1    5    3   16  150    5    2   22   18  787]]\n",
      "              precision    recall  f1-score   support\n",
      "\n",
      "           0       0.97      0.91      0.94       980\n",
      "           1       0.97      0.96      0.97      1135\n",
      "           2       0.96      0.83      0.89      1032\n",
      "           3       0.88      0.90      0.89      1010\n",
      "           4       0.78      0.96      0.86       982\n",
      "           5       0.91      0.77      0.84       892\n",
      "           6       0.93      0.91      0.92       958\n",
      "           7       0.91      0.92      0.91      1028\n",
      "           8       0.74      0.92      0.82       974\n",
      "           9       0.90      0.78      0.83      1009\n",
      "\n",
      "    accuracy                           0.89     10000\n",
      "   macro avg       0.89      0.89      0.89     10000\n",
      "weighted avg       0.90      0.89      0.89     10000\n",
      "\n",
      "正解率 : 0.8879\n",
      "test loss : 1059.032470703125\n"
     ]
    },
    {
     "name": "stderr",
     "output_type": "stream",
     "text": [
      "/Users/naoki/ML2/GD/ML2_lib/RV_SGD_Torch.py:88: UserWarning: To copy construct from a tensor, it is recommended to use sourceTensor.clone().detach() or sourceTensor.clone().detach().requires_grad_(True), rather than torch.tensor(sourceTensor).\n",
      "  y_test_pred = model(torch.tensor(x).float())\n",
      "/Users/naoki/ML2/GD/ML2_lib/RV_SGD_Torch.py:88: UserWarning: To copy construct from a tensor, it is recommended to use sourceTensor.clone().detach() or sourceTensor.clone().detach().requires_grad_(True), rather than torch.tensor(sourceTensor).\n",
      "  y_test_pred = model(torch.tensor(x).float())\n"
     ]
    },
    {
     "name": "stdout",
     "output_type": "stream",
     "text": [
      "[[ 958    0    6    0    1    4    5    0    4    2]\n",
      " [   0 1093   15    1    4    5    5    5    7    0]\n",
      " [   9    7  933    7   18   12   10    8   26    2]\n",
      " [   2    9   49  814    3   66    1   16   41    9]\n",
      " [   1   10   16    0  893    2    2    3    8   47]\n",
      " [  20    0    7   27   10  795    8    2   14    9]\n",
      " [  23    3   25    3   31   20  846    2    5    0]\n",
      " [  10   12   52    5   12    9    1  883    8   36]\n",
      " [  13    4   25   15   13   46    7    4  838    9]\n",
      " [   5   10   10    7   71   15    1   24   37  829]]\n",
      "              precision    recall  f1-score   support\n",
      "\n",
      "           0       0.92      0.98      0.95       980\n",
      "           1       0.95      0.96      0.96      1135\n",
      "           2       0.82      0.90      0.86      1032\n",
      "           3       0.93      0.81      0.86      1010\n",
      "           4       0.85      0.91      0.88       982\n",
      "           5       0.82      0.89      0.85       892\n",
      "           6       0.95      0.88      0.92       958\n",
      "           7       0.93      0.86      0.89      1028\n",
      "           8       0.85      0.86      0.85       974\n",
      "           9       0.88      0.82      0.85      1009\n",
      "\n",
      "    accuracy                           0.89     10000\n",
      "   macro avg       0.89      0.89      0.89     10000\n",
      "weighted avg       0.89      0.89      0.89     10000\n",
      "\n",
      "正解率 : 0.8882\n",
      "test loss : 1265.0948486328125\n",
      "[[ 906    1   18    8    5   12    9    6   14    1]\n",
      " [   0 1097    2    7    0   10    1   11    5    2]\n",
      " [   6   18  893   39   12    6    4   25   27    2]\n",
      " [   2    3    8  932    0   28    1    7   21    8]\n",
      " [   2    1    7    2  915    2    6    2    7   38]\n",
      " [  11    2    1   50   13  737   12   19   43    4]\n",
      " [  13    6    8    5   16   11  886    3   10    0]\n",
      " [   0    8   11    7   11    0    1  949    4   37]\n",
      " [   1    5    0   62   11   19    4   25  836   11]\n",
      " [   2    4    3   13   64    1    0   87   15  820]]\n",
      "              precision    recall  f1-score   support\n",
      "\n",
      "           0       0.96      0.92      0.94       980\n",
      "           1       0.96      0.97      0.96      1135\n",
      "           2       0.94      0.87      0.90      1032\n",
      "           3       0.83      0.92      0.87      1010\n",
      "           4       0.87      0.93      0.90       982\n",
      "           5       0.89      0.83      0.86       892\n",
      "           6       0.96      0.92      0.94       958\n",
      "           7       0.84      0.92      0.88      1028\n",
      "           8       0.85      0.86      0.85       974\n",
      "           9       0.89      0.81      0.85      1009\n",
      "\n",
      "    accuracy                           0.90     10000\n",
      "   macro avg       0.90      0.90      0.90     10000\n",
      "weighted avg       0.90      0.90      0.90     10000\n",
      "\n",
      "正解率 : 0.8971\n",
      "test loss : 1261.3963623046875\n",
      "[[ 920    0    2    7    0   23    9    1   13    5]\n",
      " [   0 1091    1   13    1    4    6   13    6    0]\n",
      " [  13    6  741   73   26   10    8   19  132    4]\n",
      " [   0    1    7  919    2   37    1   16   20    7]\n",
      " [   0    1    3    4  914    9    4    7   19   21]\n",
      " [   2    1    0   43   11  809    7    8    6    5]\n",
      " [  17    3    3    3   26   47  848    0   10    1]\n",
      " [   4    4   19   15   15    4    0  926   11   30]\n",
      " [   2    1    3   47   13   57    3   10  829    9]\n",
      " [   2    2    0   25  147   21    2   65   17  728]]\n",
      "              precision    recall  f1-score   support\n",
      "\n",
      "           0       0.96      0.94      0.95       980\n",
      "           1       0.98      0.96      0.97      1135\n",
      "           2       0.95      0.72      0.82      1032\n",
      "           3       0.80      0.91      0.85      1010\n",
      "           4       0.79      0.93      0.86       982\n",
      "           5       0.79      0.91      0.85       892\n",
      "           6       0.95      0.89      0.92       958\n",
      "           7       0.87      0.90      0.88      1028\n",
      "           8       0.78      0.85      0.81       974\n",
      "           9       0.90      0.72      0.80      1009\n",
      "\n",
      "    accuracy                           0.87     10000\n",
      "   macro avg       0.88      0.87      0.87     10000\n",
      "weighted avg       0.88      0.87      0.87     10000\n",
      "\n",
      "正解率 : 0.8725\n",
      "test loss : 1477.9808349609375\n"
     ]
    },
    {
     "name": "stderr",
     "output_type": "stream",
     "text": [
      "/Users/naoki/ML2/GD/ML2_lib/RV_SGD_Torch.py:88: UserWarning: To copy construct from a tensor, it is recommended to use sourceTensor.clone().detach() or sourceTensor.clone().detach().requires_grad_(True), rather than torch.tensor(sourceTensor).\n",
      "  y_test_pred = model(torch.tensor(x).float())\n"
     ]
    }
   ],
   "source": [
    "for i in k_model_list:\n",
    "    hoge.prediction(x=X_test, y=y_test, model=i, is_print=True)"
   ],
   "metadata": {
    "collapsed": false,
    "pycharm": {
     "name": "#%%\n"
    }
   }
  },
  {
   "cell_type": "code",
   "execution_count": 15,
   "outputs": [],
   "source": [
    "\n",
    "col_name_list = []\n",
    "\n",
    "lr_list = [0.1, 0.01, 0.001]\n",
    "model_type_list = [\"linear\", \"FF_L1\", \"FF_L2\"]\n",
    "\n",
    "for lr, model_type in zip(lr_list, model_type_list):\n",
    "    for k in range(1, 10):\n",
    "        col_name_list.append(f\"RVSGD_model_{model_type}_lr_{lr}_k_{k}\")"
   ],
   "metadata": {
    "collapsed": false,
    "pycharm": {
     "name": "#%%\n"
    }
   }
  },
  {
   "cell_type": "code",
   "execution_count": 16,
   "outputs": [
    {
     "data": {
      "text/plain": "['RVSGD_model_linear_lr_0.1_k_1',\n 'RVSGD_model_linear_lr_0.1_k_2',\n 'RVSGD_model_linear_lr_0.1_k_3',\n 'RVSGD_model_linear_lr_0.1_k_4',\n 'RVSGD_model_linear_lr_0.1_k_5',\n 'RVSGD_model_linear_lr_0.1_k_6',\n 'RVSGD_model_linear_lr_0.1_k_7',\n 'RVSGD_model_linear_lr_0.1_k_8',\n 'RVSGD_model_linear_lr_0.1_k_9',\n 'RVSGD_model_FF_L1_lr_0.01_k_1',\n 'RVSGD_model_FF_L1_lr_0.01_k_2',\n 'RVSGD_model_FF_L1_lr_0.01_k_3',\n 'RVSGD_model_FF_L1_lr_0.01_k_4',\n 'RVSGD_model_FF_L1_lr_0.01_k_5',\n 'RVSGD_model_FF_L1_lr_0.01_k_6',\n 'RVSGD_model_FF_L1_lr_0.01_k_7',\n 'RVSGD_model_FF_L1_lr_0.01_k_8',\n 'RVSGD_model_FF_L1_lr_0.01_k_9',\n 'RVSGD_model_FF_L2_lr_0.001_k_1',\n 'RVSGD_model_FF_L2_lr_0.001_k_2',\n 'RVSGD_model_FF_L2_lr_0.001_k_3',\n 'RVSGD_model_FF_L2_lr_0.001_k_4',\n 'RVSGD_model_FF_L2_lr_0.001_k_5',\n 'RVSGD_model_FF_L2_lr_0.001_k_6',\n 'RVSGD_model_FF_L2_lr_0.001_k_7',\n 'RVSGD_model_FF_L2_lr_0.001_k_8',\n 'RVSGD_model_FF_L2_lr_0.001_k_9']"
     },
     "execution_count": 16,
     "metadata": {},
     "output_type": "execute_result"
    }
   ],
   "source": [
    "col_name_list"
   ],
   "metadata": {
    "collapsed": false,
    "pycharm": {
     "name": "#%%\n"
    }
   }
  },
  {
   "cell_type": "code",
   "execution_count": 17,
   "outputs": [
    {
     "name": "stderr",
     "output_type": "stream",
     "text": [
      "/Users/naoki/.pyenv/versions/ML2/lib/python3.8/site-packages/torchvision/datasets/mnist.py:62: UserWarning: train_data has been renamed data\n",
      "  warnings.warn(\"train_data has been renamed data\")\n",
      "/Users/naoki/.pyenv/versions/ML2/lib/python3.8/site-packages/torchvision/datasets/mnist.py:67: UserWarning: test_data has been renamed data\n",
      "  warnings.warn(\"test_data has been renamed data\")\n",
      "/Users/naoki/.pyenv/versions/ML2/lib/python3.8/site-packages/torchvision/datasets/mnist.py:52: UserWarning: train_labels has been renamed targets\n",
      "  warnings.warn(\"train_labels has been renamed targets\")\n",
      "/Users/naoki/.pyenv/versions/ML2/lib/python3.8/site-packages/torchvision/datasets/mnist.py:57: UserWarning: test_labels has been renamed targets\n",
      "  warnings.warn(\"test_labels has been renamed targets\")\n",
      "<ipython-input-17-73c51f328d60>:20: TqdmDeprecationWarning: This function will be removed in tqdm==5.0.0\n",
      "Please use `tqdm.notebook.tqdm` instead of `tqdm.tqdm_notebook`\n",
      "  for i in tqdm_notebook(range(n_trials)):\n"
     ]
    },
    {
     "data": {
      "text/plain": "  0%|          | 0/10 [00:00<?, ?it/s]",
      "application/vnd.jupyter.widget-view+json": {
       "version_major": 2,
       "version_minor": 0,
       "model_id": "220aa9ac43f54044a5903c4fcca9fb98"
      }
     },
     "metadata": {},
     "output_type": "display_data"
    },
    {
     "name": "stderr",
     "output_type": "stream",
     "text": [
      "/Users/naoki/ML2/GD/ML2_lib/RV_SGD_Torch.py:88: UserWarning: To copy construct from a tensor, it is recommended to use sourceTensor.clone().detach() or sourceTensor.clone().detach().requires_grad_(True), rather than torch.tensor(sourceTensor).\n",
      "  y_test_pred = model(torch.tensor(x).float())\n"
     ]
    }
   ],
   "source": [
    "import datetime\n",
    "import pandas as pd\n",
    "\n",
    "n_trials = 10\n",
    "X_train, y_train, X_test, y_test = format_data.MNIST_data().return_data()\n",
    "X_train, X_valid = train_test_split(X_train, test_size=0.1, shuffle=False)\n",
    "y_train, y_valid = train_test_split(y_train, test_size=0.1, shuffle=False)\n",
    "\n",
    "lr = 0.002\n",
    "model_type = \"FF_L1\"\n",
    "\n",
    "result_loss = []\n",
    "result_accuracy = []\n",
    "\n",
    "col_name_list = []\n",
    "\n",
    "for k in range(1, 10):\n",
    "    col_name_list.append(f\"k_{k}\")\n",
    "\n",
    "for i in tqdm_notebook(range(n_trials)):\n",
    "\n",
    "    trial_result_loss = []\n",
    "    trial_result_accuracy = []\n",
    "\n",
    "    hoge = RV_SGD_Torch.RVSGDByTorch(lr=lr)\n",
    "    k_model_list = []\n",
    "\n",
    "    for k in range(1, 10):\n",
    "        result_model = hoge.run_RVSGD(x_train=X_train, y_train=y_train, valid_x=X_valid, valid_y=y_valid, k=k,\n",
    "                                      model_type=model_type)\n",
    "        k_model_list.append(result_model)\n",
    "\n",
    "    for i_model in k_model_list:\n",
    "        test_loss, accuracy = hoge.prediction(x=X_test, y=y_test, model=i_model, is_print=False)\n",
    "        trial_result_accuracy.append(accuracy)\n",
    "        trial_result_loss.append(test_loss)\n",
    "\n",
    "    result_loss.append(trial_result_loss)\n",
    "    result_accuracy.append(trial_result_accuracy)\n",
    "\n",
    "now = datetime.datetime.now().strftime('%Y年%m月%d日%H時%M分')\n",
    "\n",
    "result_accuracy_pd = pd.DataFrame(np.array(result_accuracy), columns=col_name_list)\n",
    "\n",
    "result_accuracy_pd.to_csv(f\"RVSGD_MNIST_trial_{n_trials}_{now}_model_{model_type}.csv\", index=False)"
   ],
   "metadata": {
    "collapsed": false,
    "pycharm": {
     "name": "#%%\n"
    }
   }
  },
  {
   "cell_type": "code",
   "execution_count": 20,
   "outputs": [
    {
     "data": {
      "text/plain": "'2021年12月23日19時43分'"
     },
     "execution_count": 20,
     "metadata": {},
     "output_type": "execute_result"
    }
   ],
   "source": [
    "now.strftime('%Y年%m月%d日%H時%M分')"
   ],
   "metadata": {
    "collapsed": false,
    "pycharm": {
     "name": "#%%\n"
    }
   }
  },
  {
   "cell_type": "code",
   "execution_count": null,
   "outputs": [],
   "source": [],
   "metadata": {
    "collapsed": false,
    "pycharm": {
     "name": "#%%\n"
    }
   }
  }
 ],
 "metadata": {
  "kernelspec": {
   "display_name": "Python 3",
   "language": "python",
   "name": "python3"
  },
  "language_info": {
   "codemirror_mode": {
    "name": "ipython",
    "version": 2
   },
   "file_extension": ".py",
   "mimetype": "text/x-python",
   "name": "python",
   "nbconvert_exporter": "python",
   "pygments_lexer": "ipython2",
   "version": "2.7.6"
  }
 },
 "nbformat": 4,
 "nbformat_minor": 0
}