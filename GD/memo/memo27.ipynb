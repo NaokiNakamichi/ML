{
 "cells": [
  {
   "cell_type": "code",
   "execution_count": 15,
   "metadata": {
    "collapsed": true
   },
   "outputs": [],
   "source": [
    "import numpy as np\n",
    "\n",
    "from ML2_lib import format_data\n",
    "from ML2_lib import RV_SGD_Torch\n",
    "\n",
    "from sklearn.model_selection import train_test_split\n",
    "\n",
    "from tqdm import tqdm_notebook"
   ]
  },
  {
   "cell_type": "code",
   "execution_count": 16,
   "outputs": [
    {
     "name": "stderr",
     "output_type": "stream",
     "text": [
      "/Users/naoki/.pyenv/versions/ML2/lib/python3.8/site-packages/torchvision/datasets/mnist.py:62: UserWarning: train_data has been renamed data\n",
      "  warnings.warn(\"train_data has been renamed data\")\n",
      "/Users/naoki/.pyenv/versions/ML2/lib/python3.8/site-packages/torchvision/datasets/mnist.py:67: UserWarning: test_data has been renamed data\n",
      "  warnings.warn(\"test_data has been renamed data\")\n",
      "/Users/naoki/.pyenv/versions/ML2/lib/python3.8/site-packages/torchvision/datasets/mnist.py:52: UserWarning: train_labels has been renamed targets\n",
      "  warnings.warn(\"train_labels has been renamed targets\")\n",
      "/Users/naoki/.pyenv/versions/ML2/lib/python3.8/site-packages/torchvision/datasets/mnist.py:57: UserWarning: test_labels has been renamed targets\n",
      "  warnings.warn(\"test_labels has been renamed targets\")\n"
     ]
    }
   ],
   "source": [
    "X_train, y_train, X_test, y_test = format_data.MNIST_data().return_data()\n",
    "X_train, X_valid = train_test_split(X_train, test_size=0.1, shuffle=False)\n",
    "y_train, y_valid = train_test_split(y_train, test_size=0.1, shuffle=False)"
   ],
   "metadata": {
    "collapsed": false,
    "pycharm": {
     "name": "#%%\n"
    }
   }
  },
  {
   "cell_type": "code",
   "execution_count": 27,
   "outputs": [
    {
     "name": "stderr",
     "output_type": "stream",
     "text": [
      "<ipython-input-27-3da21da01647>:3: TqdmDeprecationWarning: This function will be removed in tqdm==5.0.0\n",
      "Please use `tqdm.notebook.tqdm` instead of `tqdm.tqdm_notebook`\n",
      "  for i in tqdm_notebook(range(1,10)):\n"
     ]
    },
    {
     "data": {
      "text/plain": "  0%|          | 0/9 [00:00<?, ?it/s]",
      "application/vnd.jupyter.widget-view+json": {
       "version_major": 2,
       "version_minor": 0,
       "model_id": "f22ddccc693b4d3a90675708896bf86b"
      }
     },
     "metadata": {},
     "output_type": "display_data"
    }
   ],
   "source": [
    "hoge = RV_SGD_Torch.RVSGDByTorch(lr=0.025)\n",
    "k_model_list = []\n",
    "for i in tqdm_notebook(range(1, 10)):\n",
    "    result_model = hoge.run_RVSGD(x_train=X_train, y_train=y_train, valid_x=X_valid, valid_y=y_valid, k=i,\n",
    "                                  model_type=\"FF_L1\")\n",
    "    k_model_list.append(result_model)\n",
    "\n",
    "\n",
    "\n",
    "\n"
   ],
   "metadata": {
    "collapsed": false,
    "pycharm": {
     "name": "#%%\n"
    }
   }
  },
  {
   "cell_type": "code",
   "execution_count": 28,
   "outputs": [
    {
     "data": {
      "text/plain": "[FF_L1(\n   (fc1): Linear(in_features=784, out_features=512, bias=True)\n   (fc2): Linear(in_features=512, out_features=10, bias=True)\n   (relu): ReLU()\n ),\n FF_L1(\n   (fc1): Linear(in_features=784, out_features=512, bias=True)\n   (fc2): Linear(in_features=512, out_features=10, bias=True)\n   (relu): ReLU()\n ),\n FF_L1(\n   (fc1): Linear(in_features=784, out_features=512, bias=True)\n   (fc2): Linear(in_features=512, out_features=10, bias=True)\n   (relu): ReLU()\n ),\n FF_L1(\n   (fc1): Linear(in_features=784, out_features=512, bias=True)\n   (fc2): Linear(in_features=512, out_features=10, bias=True)\n   (relu): ReLU()\n ),\n FF_L1(\n   (fc1): Linear(in_features=784, out_features=512, bias=True)\n   (fc2): Linear(in_features=512, out_features=10, bias=True)\n   (relu): ReLU()\n ),\n FF_L1(\n   (fc1): Linear(in_features=784, out_features=512, bias=True)\n   (fc2): Linear(in_features=512, out_features=10, bias=True)\n   (relu): ReLU()\n ),\n FF_L1(\n   (fc1): Linear(in_features=784, out_features=512, bias=True)\n   (fc2): Linear(in_features=512, out_features=10, bias=True)\n   (relu): ReLU()\n ),\n FF_L1(\n   (fc1): Linear(in_features=784, out_features=512, bias=True)\n   (fc2): Linear(in_features=512, out_features=10, bias=True)\n   (relu): ReLU()\n ),\n FF_L1(\n   (fc1): Linear(in_features=784, out_features=512, bias=True)\n   (fc2): Linear(in_features=512, out_features=10, bias=True)\n   (relu): ReLU()\n )]"
     },
     "execution_count": 28,
     "metadata": {},
     "output_type": "execute_result"
    }
   ],
   "source": [
    "k_model_list"
   ],
   "metadata": {
    "collapsed": false,
    "pycharm": {
     "name": "#%%\n"
    }
   }
  },
  {
   "cell_type": "code",
   "execution_count": 29,
   "outputs": [
    {
     "name": "stderr",
     "output_type": "stream",
     "text": [
      "/Users/naoki/ML2/GD/ML2_lib/RV_SGD_Torch.py:88: UserWarning: To copy construct from a tensor, it is recommended to use sourceTensor.clone().detach() or sourceTensor.clone().detach().requires_grad_(True), rather than torch.tensor(sourceTensor).\n",
      "  y_test_pred = model(torch.tensor(x).float())\n",
      "/Users/naoki/ML2/GD/ML2_lib/RV_SGD_Torch.py:88: UserWarning: To copy construct from a tensor, it is recommended to use sourceTensor.clone().detach() or sourceTensor.clone().detach().requires_grad_(True), rather than torch.tensor(sourceTensor).\n",
      "  y_test_pred = model(torch.tensor(x).float())\n"
     ]
    },
    {
     "name": "stdout",
     "output_type": "stream",
     "text": [
      "[[ 801    0    5    4    3   12    2   10  140    3]\n",
      " [   0 1024   14   21    3    0    2    9   60    2]\n",
      " [  22    3  848   14    3    2    7   28  104    1]\n",
      " [   0    1   16  806    2   34    1    8  138    4]\n",
      " [   3    2   10    4  751    3    7   13  146   43]\n",
      " [  14    2    3   36   10  687    5   12  119    4]\n",
      " [  17   13    2    8   32   38  708    2  135    3]\n",
      " [   5    7   17   14   10    3    1  868   74   29]\n",
      " [   7    5    9   24   10   42    7    6  863    1]\n",
      " [   7    2    6   13   52   21    3  118  221  566]]\n",
      "              precision    recall  f1-score   support\n",
      "\n",
      "           0       0.91      0.82      0.86       980\n",
      "           1       0.97      0.90      0.93      1135\n",
      "           2       0.91      0.82      0.86      1032\n",
      "           3       0.85      0.80      0.82      1010\n",
      "           4       0.86      0.76      0.81       982\n",
      "           5       0.82      0.77      0.79       892\n",
      "           6       0.95      0.74      0.83       958\n",
      "           7       0.81      0.84      0.83      1028\n",
      "           8       0.43      0.89      0.58       974\n",
      "           9       0.86      0.56      0.68      1009\n",
      "\n",
      "    accuracy                           0.79     10000\n",
      "   macro avg       0.84      0.79      0.80     10000\n",
      "weighted avg       0.84      0.79      0.80     10000\n",
      "\n",
      "正解率 : 0.7922\n",
      "test loss : 2.190688371658325\n",
      "[[ 820    1    8    5    4   20    9    8   90   15]\n",
      " [   1 1067   15    2    1    1    2    6   38    2]\n",
      " [  18    7  894   14    9    6    6   23   49    6]\n",
      " [   6    3   34  723    5   34    3   16  168   18]\n",
      " [   6    6   13    4  818    7   15    4   64   45]\n",
      " [  23    4    7   68    7  669    6    7   91   10]\n",
      " [  31    3   23    2   15   15  819    6   40    4]\n",
      " [   5   17   41    8   22    5    4  820   36   70]\n",
      " [  38    5   36   16   17   42    7    5  798   10]\n",
      " [   3    7    4   18   95    6    5   31  199  641]]\n",
      "              precision    recall  f1-score   support\n",
      "\n",
      "           0       0.86      0.84      0.85       980\n",
      "           1       0.95      0.94      0.95      1135\n",
      "           2       0.83      0.87      0.85      1032\n",
      "           3       0.84      0.72      0.77      1010\n",
      "           4       0.82      0.83      0.83       982\n",
      "           5       0.83      0.75      0.79       892\n",
      "           6       0.93      0.85      0.89       958\n",
      "           7       0.89      0.80      0.84      1028\n",
      "           8       0.51      0.82      0.63       974\n",
      "           9       0.78      0.64      0.70      1009\n",
      "\n",
      "    accuracy                           0.81     10000\n",
      "   macro avg       0.83      0.80      0.81     10000\n",
      "weighted avg       0.83      0.81      0.81     10000\n",
      "\n",
      "正解率 : 0.8069\n",
      "test loss : 4.587973594665527\n"
     ]
    },
    {
     "name": "stderr",
     "output_type": "stream",
     "text": [
      "/Users/naoki/ML2/GD/ML2_lib/RV_SGD_Torch.py:88: UserWarning: To copy construct from a tensor, it is recommended to use sourceTensor.clone().detach() or sourceTensor.clone().detach().requires_grad_(True), rather than torch.tensor(sourceTensor).\n",
      "  y_test_pred = model(torch.tensor(x).float())\n",
      "/Users/naoki/ML2/GD/ML2_lib/RV_SGD_Torch.py:88: UserWarning: To copy construct from a tensor, it is recommended to use sourceTensor.clone().detach() or sourceTensor.clone().detach().requires_grad_(True), rather than torch.tensor(sourceTensor).\n",
      "  y_test_pred = model(torch.tensor(x).float())\n"
     ]
    },
    {
     "name": "stdout",
     "output_type": "stream",
     "text": [
      "[[ 896    1    9    1   13    6    9    3   40    2]\n",
      " [   6 1072    5    6    4    1    4    6   30    1]\n",
      " [  21    8  756   37   20   14    9   18  140    9]\n",
      " [   3    3   12  863    2   20    1    7   87   12]\n",
      " [   4    7   13    7  853    5   15    7   46   25]\n",
      " [  22    5    8   64   23  648   11   11   79   21]\n",
      " [  11    3   25    3   46   15  816    3   32    4]\n",
      " [   1    4   13   20   35    3    2  844   24   82]\n",
      " [  13    6   13   41   37   22   10    5  811   16]\n",
      " [   7    4    7   33  254   16    3   28   66  591]]\n",
      "              precision    recall  f1-score   support\n",
      "\n",
      "           0       0.91      0.91      0.91       980\n",
      "           1       0.96      0.94      0.95      1135\n",
      "           2       0.88      0.73      0.80      1032\n",
      "           3       0.80      0.85      0.83      1010\n",
      "           4       0.66      0.87      0.75       982\n",
      "           5       0.86      0.73      0.79       892\n",
      "           6       0.93      0.85      0.89       958\n",
      "           7       0.91      0.82      0.86      1028\n",
      "           8       0.60      0.83      0.70       974\n",
      "           9       0.77      0.59      0.67      1009\n",
      "\n",
      "    accuracy                           0.81     10000\n",
      "   macro avg       0.83      0.81      0.81     10000\n",
      "weighted avg       0.83      0.81      0.82     10000\n",
      "\n",
      "正解率 : 0.815\n",
      "test loss : 7.050364017486572\n",
      "[[ 901    0    3    2    2   13   34   18    5    2]\n",
      " [   0 1090    3    5    2    6    8    4   12    5]\n",
      " [  11   29  792   46   22   11   23   33   50   15]\n",
      " [   3    2   17  850    2   42    3   10   60   21]\n",
      " [   1    3    2    7  837    5   43    9   19   56]\n",
      " [  16    1    6   35   11  722   17   10   54   20]\n",
      " [   8    3   12    4    9   32  875    1   11    3]\n",
      " [   1   12   40   34   14    2    1  864   21   39]\n",
      " [  19   14   35   38   36   73   18    8  707   26]\n",
      " [   6    7    6   32  118   28   20   91   65  636]]\n",
      "              precision    recall  f1-score   support\n",
      "\n",
      "           0       0.93      0.92      0.93       980\n",
      "           1       0.94      0.96      0.95      1135\n",
      "           2       0.86      0.77      0.81      1032\n",
      "           3       0.81      0.84      0.82      1010\n",
      "           4       0.79      0.85      0.82       982\n",
      "           5       0.77      0.81      0.79       892\n",
      "           6       0.84      0.91      0.87       958\n",
      "           7       0.82      0.84      0.83      1028\n",
      "           8       0.70      0.73      0.71       974\n",
      "           9       0.77      0.63      0.69      1009\n",
      "\n",
      "    accuracy                           0.83     10000\n",
      "   macro avg       0.83      0.83      0.82     10000\n",
      "weighted avg       0.83      0.83      0.83     10000\n",
      "\n",
      "正解率 : 0.8274\n",
      "test loss : 9.691950798034668\n"
     ]
    },
    {
     "name": "stderr",
     "output_type": "stream",
     "text": [
      "/Users/naoki/ML2/GD/ML2_lib/RV_SGD_Torch.py:88: UserWarning: To copy construct from a tensor, it is recommended to use sourceTensor.clone().detach() or sourceTensor.clone().detach().requires_grad_(True), rather than torch.tensor(sourceTensor).\n",
      "  y_test_pred = model(torch.tensor(x).float())\n",
      "/Users/naoki/ML2/GD/ML2_lib/RV_SGD_Torch.py:88: UserWarning: To copy construct from a tensor, it is recommended to use sourceTensor.clone().detach() or sourceTensor.clone().detach().requires_grad_(True), rather than torch.tensor(sourceTensor).\n",
      "  y_test_pred = model(torch.tensor(x).float())\n"
     ]
    },
    {
     "name": "stdout",
     "output_type": "stream",
     "text": [
      "[[ 909    0    8    4    4   29    8    2   16    0]\n",
      " [   0 1080    8    2    1    2    2    1   38    1]\n",
      " [  12    5  871   30   17   19    6   17   53    2]\n",
      " [   3    7   24  867    8   43    3   17   28   10]\n",
      " [   0    2    8    5  894    5    9    5   13   41]\n",
      " [   9    6    9   42   21  751    8    9   26   11]\n",
      " [  19    4    9    2   27   68  808    3   17    1]\n",
      " [   2   12   24    8   50    7    1  858   15   51]\n",
      " [   7    4   15   14   68   70   16    3  767   10]\n",
      " [   5    5    9   21  228   25    4   22   22  668]]\n",
      "              precision    recall  f1-score   support\n",
      "\n",
      "           0       0.94      0.93      0.93       980\n",
      "           1       0.96      0.95      0.96      1135\n",
      "           2       0.88      0.84      0.86      1032\n",
      "           3       0.87      0.86      0.86      1010\n",
      "           4       0.68      0.91      0.78       982\n",
      "           5       0.74      0.84      0.79       892\n",
      "           6       0.93      0.84      0.89       958\n",
      "           7       0.92      0.83      0.87      1028\n",
      "           8       0.77      0.79      0.78       974\n",
      "           9       0.84      0.66      0.74      1009\n",
      "\n",
      "    accuracy                           0.85     10000\n",
      "   macro avg       0.85      0.85      0.85     10000\n",
      "weighted avg       0.86      0.85      0.85     10000\n",
      "\n",
      "正解率 : 0.8473\n",
      "test loss : 14.128840446472168\n",
      "[[ 909    0   17    3    7    5   22    2   13    2]\n",
      " [   0 1113    1    2    2    0    5    0   11    1]\n",
      " [   5   16  856   18   17    7   16    8   82    7]\n",
      " [   9    6   33  746    8   99    2   11   73   23]\n",
      " [   2    3   13    0  883    0    9    3   15   54]\n",
      " [  28    6    7   17   36  696   19   10   55   18]\n",
      " [  14    3    9    1   28    9  861    2   31    0]\n",
      " [   0   17   19    4   20    2    1  871   16   78]\n",
      " [  13    4   11   15   19   15   14    4  858   21]\n",
      " [   3    6    1    8   74    4    4   17   36  856]]\n",
      "              precision    recall  f1-score   support\n",
      "\n",
      "           0       0.92      0.93      0.93       980\n",
      "           1       0.95      0.98      0.96      1135\n",
      "           2       0.89      0.83      0.86      1032\n",
      "           3       0.92      0.74      0.82      1010\n",
      "           4       0.81      0.90      0.85       982\n",
      "           5       0.83      0.78      0.81       892\n",
      "           6       0.90      0.90      0.90       958\n",
      "           7       0.94      0.85      0.89      1028\n",
      "           8       0.72      0.88      0.79       974\n",
      "           9       0.81      0.85      0.83      1009\n",
      "\n",
      "    accuracy                           0.86     10000\n",
      "   macro avg       0.87      0.86      0.86     10000\n",
      "weighted avg       0.87      0.86      0.87     10000\n",
      "\n",
      "正解率 : 0.8649\n",
      "test loss : 13.916735649108887\n"
     ]
    },
    {
     "name": "stderr",
     "output_type": "stream",
     "text": [
      "/Users/naoki/ML2/GD/ML2_lib/RV_SGD_Torch.py:88: UserWarning: To copy construct from a tensor, it is recommended to use sourceTensor.clone().detach() or sourceTensor.clone().detach().requires_grad_(True), rather than torch.tensor(sourceTensor).\n",
      "  y_test_pred = model(torch.tensor(x).float())\n",
      "/Users/naoki/ML2/GD/ML2_lib/RV_SGD_Torch.py:88: UserWarning: To copy construct from a tensor, it is recommended to use sourceTensor.clone().detach() or sourceTensor.clone().detach().requires_grad_(True), rather than torch.tensor(sourceTensor).\n",
      "  y_test_pred = model(torch.tensor(x).float())\n"
     ]
    },
    {
     "name": "stdout",
     "output_type": "stream",
     "text": [
      "[[ 932    1    7    3    6    5   15    5    6    0]\n",
      " [  14 1045   19   12    5    1   11   15   13    0]\n",
      " [  18    0  925   12   17    2   23   15   13    7]\n",
      " [   4    5  107  776    6   42    6   14   36   14]\n",
      " [   2    1   11    2  885    4   12   12    8   45]\n",
      " [  24    5   13   26   17  709   35   25   22   16]\n",
      " [  11    2   18    3   12   10  897    2    3    0]\n",
      " [   2    2   48   16   16    1    2  921    6   14]\n",
      " [  50    8  130   33   46   41   22   28  588   28]\n",
      " [  11    4    3   19  114   10    6   64   30  748]]\n",
      "              precision    recall  f1-score   support\n",
      "\n",
      "           0       0.87      0.95      0.91       980\n",
      "           1       0.97      0.92      0.95      1135\n",
      "           2       0.72      0.90      0.80      1032\n",
      "           3       0.86      0.77      0.81      1010\n",
      "           4       0.79      0.90      0.84       982\n",
      "           5       0.86      0.79      0.83       892\n",
      "           6       0.87      0.94      0.90       958\n",
      "           7       0.84      0.90      0.87      1028\n",
      "           8       0.81      0.60      0.69       974\n",
      "           9       0.86      0.74      0.80      1009\n",
      "\n",
      "    accuracy                           0.84     10000\n",
      "   macro avg       0.85      0.84      0.84     10000\n",
      "weighted avg       0.85      0.84      0.84     10000\n",
      "\n",
      "正解率 : 0.8426\n",
      "test loss : 16.549833297729492\n",
      "[[ 931    0   12    2    0   13    5    6    9    2]\n",
      " [   0 1100   21    5    0    0    4    1    3    1]\n",
      " [  13    2  916   37   13    6    6   16   22    1]\n",
      " [   4   12   60  876    2   24    0   10   13    9]\n",
      " [   7    2    6   14  897    7    8   11    8   22]\n",
      " [  11    5   10   53   11  739    3    6   51    3]\n",
      " [  15    5   26    7   25   18  840    4   15    3]\n",
      " [   0   10   45   24   10    2    4  900    9   24]\n",
      " [   9    7   45   72   16   36   11   11  751   16]\n",
      " [   9    8    8   32  104   23    1   65   19  740]]\n",
      "              precision    recall  f1-score   support\n",
      "\n",
      "           0       0.93      0.95      0.94       980\n",
      "           1       0.96      0.97      0.96      1135\n",
      "           2       0.80      0.89      0.84      1032\n",
      "           3       0.78      0.87      0.82      1010\n",
      "           4       0.83      0.91      0.87       982\n",
      "           5       0.85      0.83      0.84       892\n",
      "           6       0.95      0.88      0.91       958\n",
      "           7       0.87      0.88      0.87      1028\n",
      "           8       0.83      0.77      0.80       974\n",
      "           9       0.90      0.73      0.81      1009\n",
      "\n",
      "    accuracy                           0.87     10000\n",
      "   macro avg       0.87      0.87      0.87     10000\n",
      "weighted avg       0.87      0.87      0.87     10000\n",
      "\n",
      "正解率 : 0.869\n",
      "test loss : 19.941232681274414\n",
      "[[ 938    0   12    5    1    3   15    2    3    1]\n",
      " [   0 1112    3    6    0    3    4    1    4    2]\n",
      " [  15   37  882   19    5    2   11   26   22   13]\n",
      " [   8   12   45  821    2   61    3   11   18   29]\n",
      " [   2    7   13    2  862    2   11    4   10   69]\n",
      " [  12    5   18   37   17  719   22    3   37   22]\n",
      " [  23    6   27    0   23   11  837    5   15   11]\n",
      " [   1   28   31    7    8    0    0  886   11   56]\n",
      " [  17   18   38   27   29   48   31   17  704   45]\n",
      " [   5    9    4   13   39   10    2   29    7  891]]\n",
      "              precision    recall  f1-score   support\n",
      "\n",
      "           0       0.92      0.96      0.94       980\n",
      "           1       0.90      0.98      0.94      1135\n",
      "           2       0.82      0.85      0.84      1032\n",
      "           3       0.88      0.81      0.84      1010\n",
      "           4       0.87      0.88      0.88       982\n",
      "           5       0.84      0.81      0.82       892\n",
      "           6       0.89      0.87      0.88       958\n",
      "           7       0.90      0.86      0.88      1028\n",
      "           8       0.85      0.72      0.78       974\n",
      "           9       0.78      0.88      0.83      1009\n",
      "\n",
      "    accuracy                           0.87     10000\n",
      "   macro avg       0.87      0.86      0.86     10000\n",
      "weighted avg       0.87      0.87      0.86     10000\n",
      "\n",
      "正解率 : 0.8652\n",
      "test loss : 24.180280685424805\n"
     ]
    },
    {
     "name": "stderr",
     "output_type": "stream",
     "text": [
      "/Users/naoki/ML2/GD/ML2_lib/RV_SGD_Torch.py:88: UserWarning: To copy construct from a tensor, it is recommended to use sourceTensor.clone().detach() or sourceTensor.clone().detach().requires_grad_(True), rather than torch.tensor(sourceTensor).\n",
      "  y_test_pred = model(torch.tensor(x).float())\n"
     ]
    }
   ],
   "source": [
    "for i in k_model_list:\n",
    "    hoge.prediction(x=X_test, y=y_test, model=i, is_print=True)"
   ],
   "metadata": {
    "collapsed": false,
    "pycharm": {
     "name": "#%%\n"
    }
   }
  },
  {
   "cell_type": "code",
   "execution_count": 30,
   "outputs": [],
   "source": [
    "\n",
    "col_name_list = []\n",
    "\n",
    "lr_list = [0.1, 0.01, 0.001]\n",
    "model_type_list = [\"linear\", \"FF_L1\", \"FF_L2\"]\n",
    "\n",
    "for lr, model_type in zip(lr_list, model_type_list):\n",
    "    for k in range(1, 10):\n",
    "        col_name_list.append(f\"RVSGD_model_{model_type}_lr_{lr}_k_{k}\")"
   ],
   "metadata": {
    "collapsed": false,
    "pycharm": {
     "name": "#%%\n"
    }
   }
  },
  {
   "cell_type": "code",
   "execution_count": 31,
   "outputs": [
    {
     "data": {
      "text/plain": "['RVSGD_model_linear_lr_0.1_k_1',\n 'RVSGD_model_linear_lr_0.1_k_2',\n 'RVSGD_model_linear_lr_0.1_k_3',\n 'RVSGD_model_linear_lr_0.1_k_4',\n 'RVSGD_model_linear_lr_0.1_k_5',\n 'RVSGD_model_linear_lr_0.1_k_6',\n 'RVSGD_model_linear_lr_0.1_k_7',\n 'RVSGD_model_linear_lr_0.1_k_8',\n 'RVSGD_model_linear_lr_0.1_k_9',\n 'RVSGD_model_FF_L1_lr_0.01_k_1',\n 'RVSGD_model_FF_L1_lr_0.01_k_2',\n 'RVSGD_model_FF_L1_lr_0.01_k_3',\n 'RVSGD_model_FF_L1_lr_0.01_k_4',\n 'RVSGD_model_FF_L1_lr_0.01_k_5',\n 'RVSGD_model_FF_L1_lr_0.01_k_6',\n 'RVSGD_model_FF_L1_lr_0.01_k_7',\n 'RVSGD_model_FF_L1_lr_0.01_k_8',\n 'RVSGD_model_FF_L1_lr_0.01_k_9',\n 'RVSGD_model_FF_L2_lr_0.001_k_1',\n 'RVSGD_model_FF_L2_lr_0.001_k_2',\n 'RVSGD_model_FF_L2_lr_0.001_k_3',\n 'RVSGD_model_FF_L2_lr_0.001_k_4',\n 'RVSGD_model_FF_L2_lr_0.001_k_5',\n 'RVSGD_model_FF_L2_lr_0.001_k_6',\n 'RVSGD_model_FF_L2_lr_0.001_k_7',\n 'RVSGD_model_FF_L2_lr_0.001_k_8',\n 'RVSGD_model_FF_L2_lr_0.001_k_9']"
     },
     "execution_count": 31,
     "metadata": {},
     "output_type": "execute_result"
    }
   ],
   "source": [
    "col_name_list"
   ],
   "metadata": {
    "collapsed": false,
    "pycharm": {
     "name": "#%%\n"
    }
   }
  },
  {
   "cell_type": "code",
   "execution_count": 40,
   "outputs": [
    {
     "name": "stderr",
     "output_type": "stream",
     "text": [
      "/Users/naoki/.pyenv/versions/ML2/lib/python3.8/site-packages/torchvision/datasets/mnist.py:62: UserWarning: train_data has been renamed data\n",
      "  warnings.warn(\"train_data has been renamed data\")\n",
      "/Users/naoki/.pyenv/versions/ML2/lib/python3.8/site-packages/torchvision/datasets/mnist.py:67: UserWarning: test_data has been renamed data\n",
      "  warnings.warn(\"test_data has been renamed data\")\n",
      "/Users/naoki/.pyenv/versions/ML2/lib/python3.8/site-packages/torchvision/datasets/mnist.py:52: UserWarning: train_labels has been renamed targets\n",
      "  warnings.warn(\"train_labels has been renamed targets\")\n",
      "/Users/naoki/.pyenv/versions/ML2/lib/python3.8/site-packages/torchvision/datasets/mnist.py:57: UserWarning: test_labels has been renamed targets\n",
      "  warnings.warn(\"test_labels has been renamed targets\")\n",
      "<ipython-input-40-55c249ab4427>:20: TqdmDeprecationWarning: This function will be removed in tqdm==5.0.0\n",
      "Please use `tqdm.notebook.tqdm` instead of `tqdm.tqdm_notebook`\n",
      "  for i in tqdm_notebook(range(n_trials)):\n"
     ]
    },
    {
     "data": {
      "text/plain": "  0%|          | 0/2 [00:00<?, ?it/s]",
      "application/vnd.jupyter.widget-view+json": {
       "version_major": 2,
       "version_minor": 0,
       "model_id": "8177f63addaf4c60a48f4a63dbe62b33"
      }
     },
     "metadata": {},
     "output_type": "display_data"
    },
    {
     "name": "stderr",
     "output_type": "stream",
     "text": [
      "/Users/naoki/ML2/GD/ML2_lib/RV_SGD_Torch.py:88: UserWarning: To copy construct from a tensor, it is recommended to use sourceTensor.clone().detach() or sourceTensor.clone().detach().requires_grad_(True), rather than torch.tensor(sourceTensor).\n",
      "  y_test_pred = model(torch.tensor(x).float())\n"
     ]
    }
   ],
   "source": [
    "import datetime\n",
    "import pandas as pd\n",
    "\n",
    "n_trials = 2\n",
    "X_train, y_train, X_test, y_test = format_data.MNIST_data().return_data()\n",
    "X_train, X_valid = train_test_split(X_train, test_size=0.1, shuffle=False)\n",
    "y_train, y_valid = train_test_split(y_train, test_size=0.1, shuffle=False)\n",
    "\n",
    "lr = 0.025\n",
    "model_type = \"FF_L1\"\n",
    "\n",
    "result_loss = []\n",
    "result_accuracy = []\n",
    "\n",
    "col_name_list = []\n",
    "\n",
    "for k in range(1, 2):\n",
    "    col_name_list.append(f\"k_{k}\")\n",
    "\n",
    "for i in tqdm_notebook(range(n_trials)):\n",
    "\n",
    "    trial_result_loss = []\n",
    "    trial_result_accuracy = []\n",
    "\n",
    "    hoge = RV_SGD_Torch.RVSGDByTorch(lr=lr)\n",
    "    k_model_list = []\n",
    "\n",
    "    for k in range(1, 2):\n",
    "        result_model = hoge.run_RVSGD(x_train=X_train, y_train=y_train, valid_x=X_valid, valid_y=y_valid, k=k,\n",
    "                                      model_type=model_type)\n",
    "        k_model_list.append(result_model)\n",
    "\n",
    "    for i_model in k_model_list:\n",
    "        test_loss, accuracy = hoge.prediction(x=X_test, y=y_test, model=i_model, is_print=False)\n",
    "        trial_result_accuracy.append(accuracy)\n",
    "        trial_result_loss.append(test_loss)\n",
    "\n",
    "    result_loss.append(trial_result_loss)\n",
    "    result_accuracy.append(trial_result_accuracy)\n",
    "\n",
    "now = datetime.datetime.now()\n",
    "\n",
    "result_accuracy_pd = pd.DataFrame(np.array(result_accuracy), columns=col_name_list)\n",
    "\n",
    "result_accuracy_pd.to_csv(f\"RVSGD_MNIST_trial_{n_trials}_{now}_model_FF_L1.csv\", index=False)"
   ],
   "metadata": {
    "collapsed": false,
    "pycharm": {
     "name": "#%%\n"
    }
   }
  },
  {
   "cell_type": "code",
   "execution_count": null,
   "outputs": [],
   "source": [],
   "metadata": {
    "collapsed": false,
    "pycharm": {
     "name": "#%%\n"
    }
   }
  }
 ],
 "metadata": {
  "kernelspec": {
   "display_name": "Python 3",
   "language": "python",
   "name": "python3"
  },
  "language_info": {
   "codemirror_mode": {
    "name": "ipython",
    "version": 2
   },
   "file_extension": ".py",
   "mimetype": "text/x-python",
   "name": "python",
   "nbconvert_exporter": "python",
   "pygments_lexer": "ipython2",
   "version": "2.7.6"
  }
 },
 "nbformat": 4,
 "nbformat_minor": 0
}