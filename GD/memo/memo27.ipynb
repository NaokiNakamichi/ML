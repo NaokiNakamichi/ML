{
 "cells": [
  {
   "cell_type": "code",
   "execution_count": 1,
   "metadata": {
    "collapsed": true
   },
   "outputs": [],
   "source": [
    "import numpy as np\n",
    "\n",
    "from ML2_lib import format_data\n",
    "from ML2_lib import RV_SGD_Torch\n",
    "\n",
    "from sklearn.model_selection import train_test_split\n",
    "\n",
    "from tqdm import tqdm_notebook"
   ]
  },
  {
   "cell_type": "code",
   "execution_count": 2,
   "outputs": [
    {
     "name": "stderr",
     "output_type": "stream",
     "text": [
      "/Users/naoki/.pyenv/versions/ML2/lib/python3.8/site-packages/torchvision/datasets/mnist.py:498: UserWarning: The given NumPy array is not writeable, and PyTorch does not support non-writeable tensors. This means you can write to the underlying (supposedly non-writeable) NumPy array using the tensor. You may want to copy the array to protect its data or make it writeable before converting it to a tensor. This type of warning will be suppressed for the rest of this program. (Triggered internally at  ../torch/csrc/utils/tensor_numpy.cpp:180.)\n",
      "  return torch.from_numpy(parsed.astype(m[2], copy=False)).view(*s)\n",
      "/Users/naoki/.pyenv/versions/ML2/lib/python3.8/site-packages/torchvision/datasets/mnist.py:62: UserWarning: train_data has been renamed data\n",
      "  warnings.warn(\"train_data has been renamed data\")\n",
      "/Users/naoki/.pyenv/versions/ML2/lib/python3.8/site-packages/torchvision/datasets/mnist.py:67: UserWarning: test_data has been renamed data\n",
      "  warnings.warn(\"test_data has been renamed data\")\n",
      "/Users/naoki/.pyenv/versions/ML2/lib/python3.8/site-packages/torchvision/datasets/mnist.py:52: UserWarning: train_labels has been renamed targets\n",
      "  warnings.warn(\"train_labels has been renamed targets\")\n",
      "/Users/naoki/.pyenv/versions/ML2/lib/python3.8/site-packages/torchvision/datasets/mnist.py:57: UserWarning: test_labels has been renamed targets\n",
      "  warnings.warn(\"test_labels has been renamed targets\")\n"
     ]
    }
   ],
   "source": [
    "X_train, y_train, X_test, y_test = format_data.MNIST_data().return_data()\n",
    "X_train, X_valid = train_test_split(X_train, test_size=0.1, shuffle=False)\n",
    "y_train, y_valid = train_test_split(y_train, test_size=0.1, shuffle=False)"
   ],
   "metadata": {
    "collapsed": false,
    "pycharm": {
     "name": "#%%\n"
    }
   }
  },
  {
   "cell_type": "code",
   "execution_count": null,
   "outputs": [
    {
     "name": "stderr",
     "output_type": "stream",
     "text": [
      "<ipython-input-12-5c0c2a472d38>:3: TqdmDeprecationWarning: This function will be removed in tqdm==5.0.0\n",
      "Please use `tqdm.notebook.tqdm` instead of `tqdm.tqdm_notebook`\n",
      "  for i in tqdm_notebook(range(1, 10)):\n"
     ]
    },
    {
     "data": {
      "text/plain": "  0%|          | 0/9 [00:00<?, ?it/s]",
      "application/vnd.jupyter.widget-view+json": {
       "version_major": 2,
       "version_minor": 0,
       "model_id": "d90694f776a14c87b036c48150f702f2"
      }
     },
     "metadata": {},
     "output_type": "display_data"
    }
   ],
   "source": [
    "hoge = RV_SGD_Torch.RVSGDByTorch(lr=0.0002)\n",
    "k_model_list = []\n",
    "for i in tqdm_notebook(range(1, 10)):\n",
    "    result_model = hoge.run_RVSGD(x_train=X_train, y_train=y_train, valid_x=X_valid, valid_y=y_valid, k=i,\n",
    "                                  model_type=\"FF_L2\")\n",
    "    k_model_list.append(result_model)\n",
    "\n",
    "\n",
    "\n",
    "\n"
   ],
   "metadata": {
    "collapsed": false,
    "pycharm": {
     "name": "#%%\n",
     "is_executing": true
    }
   }
  },
  {
   "cell_type": "code",
   "execution_count": null,
   "outputs": [],
   "source": [
    "k_model_list"
   ],
   "metadata": {
    "collapsed": false,
    "pycharm": {
     "name": "#%%\n",
     "is_executing": true
    }
   }
  },
  {
   "cell_type": "code",
   "execution_count": null,
   "outputs": [],
   "source": [
    "for i in k_model_list:\n",
    "    hoge.prediction(x=X_test, y=y_test, model=i, is_print=True)"
   ],
   "metadata": {
    "collapsed": false,
    "pycharm": {
     "name": "#%%\n",
     "is_executing": true
    }
   }
  },
  {
   "cell_type": "code",
   "execution_count": 6,
   "outputs": [],
   "source": [
    "\n",
    "col_name_list = []\n",
    "\n",
    "lr_list = [0.1, 0.01, 0.001]\n",
    "model_type_list = [\"linear\", \"FF_L1\", \"FF_L2\"]\n",
    "\n",
    "for lr, model_type in zip(lr_list, model_type_list):\n",
    "    for k in range(1, 10):\n",
    "        col_name_list.append(f\"RVSGD_model_{model_type}_lr_{lr}_k_{k}\")"
   ],
   "metadata": {
    "collapsed": false,
    "pycharm": {
     "name": "#%%\n"
    }
   }
  },
  {
   "cell_type": "code",
   "execution_count": 7,
   "outputs": [
    {
     "data": {
      "text/plain": "['RVSGD_model_linear_lr_0.1_k_1',\n 'RVSGD_model_linear_lr_0.1_k_2',\n 'RVSGD_model_linear_lr_0.1_k_3',\n 'RVSGD_model_linear_lr_0.1_k_4',\n 'RVSGD_model_linear_lr_0.1_k_5',\n 'RVSGD_model_linear_lr_0.1_k_6',\n 'RVSGD_model_linear_lr_0.1_k_7',\n 'RVSGD_model_linear_lr_0.1_k_8',\n 'RVSGD_model_linear_lr_0.1_k_9',\n 'RVSGD_model_FF_L1_lr_0.01_k_1',\n 'RVSGD_model_FF_L1_lr_0.01_k_2',\n 'RVSGD_model_FF_L1_lr_0.01_k_3',\n 'RVSGD_model_FF_L1_lr_0.01_k_4',\n 'RVSGD_model_FF_L1_lr_0.01_k_5',\n 'RVSGD_model_FF_L1_lr_0.01_k_6',\n 'RVSGD_model_FF_L1_lr_0.01_k_7',\n 'RVSGD_model_FF_L1_lr_0.01_k_8',\n 'RVSGD_model_FF_L1_lr_0.01_k_9',\n 'RVSGD_model_FF_L2_lr_0.001_k_1',\n 'RVSGD_model_FF_L2_lr_0.001_k_2',\n 'RVSGD_model_FF_L2_lr_0.001_k_3',\n 'RVSGD_model_FF_L2_lr_0.001_k_4',\n 'RVSGD_model_FF_L2_lr_0.001_k_5',\n 'RVSGD_model_FF_L2_lr_0.001_k_6',\n 'RVSGD_model_FF_L2_lr_0.001_k_7',\n 'RVSGD_model_FF_L2_lr_0.001_k_8',\n 'RVSGD_model_FF_L2_lr_0.001_k_9']"
     },
     "execution_count": 7,
     "metadata": {},
     "output_type": "execute_result"
    }
   ],
   "source": [
    "col_name_list"
   ],
   "metadata": {
    "collapsed": false,
    "pycharm": {
     "name": "#%%\n"
    }
   }
  },
  {
   "cell_type": "code",
   "execution_count": 8,
   "outputs": [
    {
     "name": "stderr",
     "output_type": "stream",
     "text": [
      "/Users/naoki/.pyenv/versions/ML2/lib/python3.8/site-packages/torchvision/datasets/mnist.py:62: UserWarning: train_data has been renamed data\n",
      "  warnings.warn(\"train_data has been renamed data\")\n",
      "/Users/naoki/.pyenv/versions/ML2/lib/python3.8/site-packages/torchvision/datasets/mnist.py:67: UserWarning: test_data has been renamed data\n",
      "  warnings.warn(\"test_data has been renamed data\")\n",
      "/Users/naoki/.pyenv/versions/ML2/lib/python3.8/site-packages/torchvision/datasets/mnist.py:52: UserWarning: train_labels has been renamed targets\n",
      "  warnings.warn(\"train_labels has been renamed targets\")\n",
      "/Users/naoki/.pyenv/versions/ML2/lib/python3.8/site-packages/torchvision/datasets/mnist.py:57: UserWarning: test_labels has been renamed targets\n",
      "  warnings.warn(\"test_labels has been renamed targets\")\n",
      "<ipython-input-8-5b511551a6c8>:20: TqdmDeprecationWarning: This function will be removed in tqdm==5.0.0\n",
      "Please use `tqdm.notebook.tqdm` instead of `tqdm.tqdm_notebook`\n",
      "  for i in tqdm_notebook(range(n_trials)):\n"
     ]
    },
    {
     "data": {
      "text/plain": "  0%|          | 0/10 [00:00<?, ?it/s]",
      "application/vnd.jupyter.widget-view+json": {
       "version_major": 2,
       "version_minor": 0,
       "model_id": "e1307d4edaf943d3b882832c732abb3d"
      }
     },
     "metadata": {},
     "output_type": "display_data"
    },
    {
     "ename": "KeyboardInterrupt",
     "evalue": "",
     "output_type": "error",
     "traceback": [
      "\u001B[0;31m---------------------------------------------------------------------------\u001B[0m",
      "\u001B[0;31mKeyboardInterrupt\u001B[0m                         Traceback (most recent call last)",
      "\u001B[0;32m<ipython-input-8-5b511551a6c8>\u001B[0m in \u001B[0;36m<module>\u001B[0;34m\u001B[0m\n\u001B[1;32m     27\u001B[0m \u001B[0;34m\u001B[0m\u001B[0m\n\u001B[1;32m     28\u001B[0m     \u001B[0;32mfor\u001B[0m \u001B[0mk\u001B[0m \u001B[0;32min\u001B[0m \u001B[0mrange\u001B[0m\u001B[0;34m(\u001B[0m\u001B[0;36m1\u001B[0m\u001B[0;34m,\u001B[0m \u001B[0;36m10\u001B[0m\u001B[0;34m)\u001B[0m\u001B[0;34m:\u001B[0m\u001B[0;34m\u001B[0m\u001B[0;34m\u001B[0m\u001B[0m\n\u001B[0;32m---> 29\u001B[0;31m         result_model = hoge.run_RVSGD(x_train=X_train, y_train=y_train, valid_x=X_valid, valid_y=y_valid, k=k,\n\u001B[0m\u001B[1;32m     30\u001B[0m                                       model_type=model_type)\n\u001B[1;32m     31\u001B[0m         \u001B[0mk_model_list\u001B[0m\u001B[0;34m.\u001B[0m\u001B[0mappend\u001B[0m\u001B[0;34m(\u001B[0m\u001B[0mresult_model\u001B[0m\u001B[0;34m)\u001B[0m\u001B[0;34m\u001B[0m\u001B[0;34m\u001B[0m\u001B[0m\n",
      "\u001B[0;32m~/ML2/GD/ML2_lib/RV_SGD_Torch.py\u001B[0m in \u001B[0;36mrun_RVSGD\u001B[0;34m(self, x_train, y_train, valid_x, valid_y, k, model_type)\u001B[0m\n\u001B[1;32m     78\u001B[0m \u001B[0;34m\u001B[0m\u001B[0m\n\u001B[1;32m     79\u001B[0m     \u001B[0;32mdef\u001B[0m \u001B[0mrun_RVSGD\u001B[0m\u001B[0;34m(\u001B[0m\u001B[0mself\u001B[0m\u001B[0;34m,\u001B[0m\u001B[0mx_train\u001B[0m\u001B[0;34m,\u001B[0m\u001B[0my_train\u001B[0m\u001B[0;34m,\u001B[0m\u001B[0mvalid_x\u001B[0m\u001B[0;34m,\u001B[0m\u001B[0mvalid_y\u001B[0m\u001B[0;34m,\u001B[0m\u001B[0mk\u001B[0m\u001B[0;34m,\u001B[0m\u001B[0mmodel_type\u001B[0m\u001B[0;34m)\u001B[0m\u001B[0;34m:\u001B[0m\u001B[0;34m\u001B[0m\u001B[0;34m\u001B[0m\u001B[0m\n\u001B[0;32m---> 80\u001B[0;31m         \u001B[0mmodel_candidates\u001B[0m \u001B[0;34m=\u001B[0m \u001B[0mself\u001B[0m\u001B[0;34m.\u001B[0m\u001B[0mlearn\u001B[0m\u001B[0;34m(\u001B[0m\u001B[0mk\u001B[0m\u001B[0;34m,\u001B[0m\u001B[0mx_train\u001B[0m\u001B[0;34m,\u001B[0m\u001B[0my_train\u001B[0m\u001B[0;34m,\u001B[0m\u001B[0mmodel_type\u001B[0m\u001B[0;34m)\u001B[0m\u001B[0;34m\u001B[0m\u001B[0;34m\u001B[0m\u001B[0m\n\u001B[0m\u001B[1;32m     81\u001B[0m         \u001B[0mresult_model\u001B[0m \u001B[0;34m=\u001B[0m \u001B[0mself\u001B[0m\u001B[0;34m.\u001B[0m\u001B[0mvalid\u001B[0m\u001B[0;34m(\u001B[0m\u001B[0mmodel_candidates\u001B[0m\u001B[0;34m=\u001B[0m\u001B[0mmodel_candidates\u001B[0m\u001B[0;34m,\u001B[0m\u001B[0mk\u001B[0m\u001B[0;34m=\u001B[0m\u001B[0mk\u001B[0m\u001B[0;34m,\u001B[0m\u001B[0mvalid_x\u001B[0m\u001B[0;34m=\u001B[0m\u001B[0mvalid_x\u001B[0m\u001B[0;34m,\u001B[0m\u001B[0mvalid_y\u001B[0m\u001B[0;34m=\u001B[0m\u001B[0mvalid_y\u001B[0m\u001B[0;34m)\u001B[0m\u001B[0;34m\u001B[0m\u001B[0;34m\u001B[0m\u001B[0m\n\u001B[1;32m     82\u001B[0m         \u001B[0;32mreturn\u001B[0m \u001B[0mresult_model\u001B[0m\u001B[0;34m\u001B[0m\u001B[0;34m\u001B[0m\u001B[0m\n",
      "\u001B[0;32m~/ML2/GD/ML2_lib/RV_SGD_Torch.py\u001B[0m in \u001B[0;36mlearn\u001B[0;34m(self, k, x, y, model_type)\u001B[0m\n\u001B[1;32m     48\u001B[0m             \u001B[0mmodel\u001B[0m\u001B[0;34m.\u001B[0m\u001B[0mparameter_init\u001B[0m\u001B[0;34m(\u001B[0m\u001B[0;34m)\u001B[0m\u001B[0;34m\u001B[0m\u001B[0;34m\u001B[0m\u001B[0m\n\u001B[1;32m     49\u001B[0m             \u001B[0mmodel_candidate\u001B[0m \u001B[0;34m=\u001B[0m \u001B[0mSGDByTorch\u001B[0m\u001B[0;34m.\u001B[0m\u001B[0mSGDTorch\u001B[0m\u001B[0;34m(\u001B[0m\u001B[0mlr\u001B[0m\u001B[0;34m=\u001B[0m\u001B[0mself\u001B[0m\u001B[0;34m.\u001B[0m\u001B[0mlr\u001B[0m\u001B[0;34m)\u001B[0m\u001B[0;34m\u001B[0m\u001B[0;34m\u001B[0m\u001B[0m\n\u001B[0;32m---> 50\u001B[0;31m             result_model, _ = model_candidate.learn(x=x[i * sep_num:(i + 1) * sep_num],\n\u001B[0m\u001B[1;32m     51\u001B[0m                                                     \u001B[0my\u001B[0m\u001B[0;34m=\u001B[0m\u001B[0my\u001B[0m\u001B[0;34m[\u001B[0m\u001B[0mi\u001B[0m \u001B[0;34m*\u001B[0m \u001B[0msep_num\u001B[0m\u001B[0;34m:\u001B[0m\u001B[0;34m(\u001B[0m\u001B[0mi\u001B[0m \u001B[0;34m+\u001B[0m \u001B[0;36m1\u001B[0m\u001B[0;34m)\u001B[0m \u001B[0;34m*\u001B[0m \u001B[0msep_num\u001B[0m\u001B[0;34m]\u001B[0m\u001B[0;34m,\u001B[0m \u001B[0mmodel\u001B[0m\u001B[0;34m=\u001B[0m\u001B[0mmodel\u001B[0m\u001B[0;34m,\u001B[0m\u001B[0;34m\u001B[0m\u001B[0;34m\u001B[0m\u001B[0m\n\u001B[1;32m     52\u001B[0m                                                     class_num=class_num, X_test=self.x_test, Y_test=self.y_test)\n",
      "\u001B[0;32m~/ML2/GD/ML2_lib/SGDByTorch.py\u001B[0m in \u001B[0;36mlearn\u001B[0;34m(self, x, y, model, class_num, X_test, Y_test, early_stopping)\u001B[0m\n\u001B[1;32m     34\u001B[0m \u001B[0;34m\u001B[0m\u001B[0m\n\u001B[1;32m     35\u001B[0m             \u001B[0;31m# Back Propagation\u001B[0m\u001B[0;34m\u001B[0m\u001B[0;34m\u001B[0m\u001B[0;34m\u001B[0m\u001B[0m\n\u001B[0;32m---> 36\u001B[0;31m             \u001B[0mloss\u001B[0m\u001B[0;34m.\u001B[0m\u001B[0mbackward\u001B[0m\u001B[0;34m(\u001B[0m\u001B[0;34m)\u001B[0m\u001B[0;34m\u001B[0m\u001B[0;34m\u001B[0m\u001B[0m\n\u001B[0m\u001B[1;32m     37\u001B[0m             \u001B[0moptimizer\u001B[0m\u001B[0;34m.\u001B[0m\u001B[0mstep\u001B[0m\u001B[0;34m(\u001B[0m\u001B[0;34m)\u001B[0m\u001B[0;34m\u001B[0m\u001B[0;34m\u001B[0m\u001B[0m\n\u001B[1;32m     38\u001B[0m \u001B[0;34m\u001B[0m\u001B[0m\n",
      "\u001B[0;32m~/.pyenv/versions/ML2/lib/python3.8/site-packages/torch/_tensor.py\u001B[0m in \u001B[0;36mbackward\u001B[0;34m(self, gradient, retain_graph, create_graph, inputs)\u001B[0m\n\u001B[1;32m    253\u001B[0m                 \u001B[0mcreate_graph\u001B[0m\u001B[0;34m=\u001B[0m\u001B[0mcreate_graph\u001B[0m\u001B[0;34m,\u001B[0m\u001B[0;34m\u001B[0m\u001B[0;34m\u001B[0m\u001B[0m\n\u001B[1;32m    254\u001B[0m                 inputs=inputs)\n\u001B[0;32m--> 255\u001B[0;31m         \u001B[0mtorch\u001B[0m\u001B[0;34m.\u001B[0m\u001B[0mautograd\u001B[0m\u001B[0;34m.\u001B[0m\u001B[0mbackward\u001B[0m\u001B[0;34m(\u001B[0m\u001B[0mself\u001B[0m\u001B[0;34m,\u001B[0m \u001B[0mgradient\u001B[0m\u001B[0;34m,\u001B[0m \u001B[0mretain_graph\u001B[0m\u001B[0;34m,\u001B[0m \u001B[0mcreate_graph\u001B[0m\u001B[0;34m,\u001B[0m \u001B[0minputs\u001B[0m\u001B[0;34m=\u001B[0m\u001B[0minputs\u001B[0m\u001B[0;34m)\u001B[0m\u001B[0;34m\u001B[0m\u001B[0;34m\u001B[0m\u001B[0m\n\u001B[0m\u001B[1;32m    256\u001B[0m \u001B[0;34m\u001B[0m\u001B[0m\n\u001B[1;32m    257\u001B[0m     \u001B[0;32mdef\u001B[0m \u001B[0mregister_hook\u001B[0m\u001B[0;34m(\u001B[0m\u001B[0mself\u001B[0m\u001B[0;34m,\u001B[0m \u001B[0mhook\u001B[0m\u001B[0;34m)\u001B[0m\u001B[0;34m:\u001B[0m\u001B[0;34m\u001B[0m\u001B[0;34m\u001B[0m\u001B[0m\n",
      "\u001B[0;32m~/.pyenv/versions/ML2/lib/python3.8/site-packages/torch/autograd/__init__.py\u001B[0m in \u001B[0;36mbackward\u001B[0;34m(tensors, grad_tensors, retain_graph, create_graph, grad_variables, inputs)\u001B[0m\n\u001B[1;32m    145\u001B[0m         \u001B[0mretain_graph\u001B[0m \u001B[0;34m=\u001B[0m \u001B[0mcreate_graph\u001B[0m\u001B[0;34m\u001B[0m\u001B[0;34m\u001B[0m\u001B[0m\n\u001B[1;32m    146\u001B[0m \u001B[0;34m\u001B[0m\u001B[0m\n\u001B[0;32m--> 147\u001B[0;31m     Variable._execution_engine.run_backward(\n\u001B[0m\u001B[1;32m    148\u001B[0m         \u001B[0mtensors\u001B[0m\u001B[0;34m,\u001B[0m \u001B[0mgrad_tensors_\u001B[0m\u001B[0;34m,\u001B[0m \u001B[0mretain_graph\u001B[0m\u001B[0;34m,\u001B[0m \u001B[0mcreate_graph\u001B[0m\u001B[0;34m,\u001B[0m \u001B[0minputs\u001B[0m\u001B[0;34m,\u001B[0m\u001B[0;34m\u001B[0m\u001B[0;34m\u001B[0m\u001B[0m\n\u001B[1;32m    149\u001B[0m         allow_unreachable=True, accumulate_grad=True)  # allow_unreachable flag\n",
      "\u001B[0;31mKeyboardInterrupt\u001B[0m: "
     ]
    }
   ],
   "source": [
    "import datetime\n",
    "import pandas as pd\n",
    "\n",
    "n_trials = 10\n",
    "X_train, y_train, X_test, y_test = format_data.MNIST_data().return_data()\n",
    "X_train, X_valid = train_test_split(X_train, test_size=0.1, shuffle=False)\n",
    "y_train, y_valid = train_test_split(y_train, test_size=0.1, shuffle=False)\n",
    "\n",
    "lr = 0.025\n",
    "model_type = \"FF_L1\"\n",
    "\n",
    "result_loss = []\n",
    "result_accuracy = []\n",
    "\n",
    "col_name_list = []\n",
    "\n",
    "for k in range(1, 10):\n",
    "    col_name_list.append(f\"k_{k}\")\n",
    "\n",
    "for i in tqdm_notebook(range(n_trials)):\n",
    "\n",
    "    trial_result_loss = []\n",
    "    trial_result_accuracy = []\n",
    "\n",
    "    hoge = RV_SGD_Torch.RVSGDByTorch(lr=lr)\n",
    "    k_model_list = []\n",
    "\n",
    "    for k in range(1, 10):\n",
    "        result_model = hoge.run_RVSGD(x_train=X_train, y_train=y_train, valid_x=X_valid, valid_y=y_valid, k=k,\n",
    "                                      model_type=model_type)\n",
    "        k_model_list.append(result_model)\n",
    "\n",
    "    for i_model in k_model_list:\n",
    "        test_loss, accuracy = hoge.prediction(x=X_test, y=y_test, model=i_model, is_print=False)\n",
    "        trial_result_accuracy.append(accuracy)\n",
    "        trial_result_loss.append(test_loss)\n",
    "\n",
    "    result_loss.append(trial_result_loss)\n",
    "    result_accuracy.append(trial_result_accuracy)\n",
    "\n",
    "now = datetime.datetime.now()\n",
    "\n",
    "result_accuracy_pd = pd.DataFrame(np.array(result_accuracy), columns=col_name_list)\n",
    "\n",
    "result_accuracy_pd.to_csv(f\"RVSGD_MNIST_trial_{n_trials}_{now}_model_FF_L1.csv\", index=False)"
   ],
   "metadata": {
    "collapsed": false,
    "pycharm": {
     "name": "#%%\n"
    }
   }
  },
  {
   "cell_type": "code",
   "execution_count": null,
   "outputs": [],
   "source": [],
   "metadata": {
    "collapsed": false,
    "pycharm": {
     "name": "#%%\n"
    }
   }
  }
 ],
 "metadata": {
  "kernelspec": {
   "display_name": "Python 3",
   "language": "python",
   "name": "python3"
  },
  "language_info": {
   "codemirror_mode": {
    "name": "ipython",
    "version": 2
   },
   "file_extension": ".py",
   "mimetype": "text/x-python",
   "name": "python",
   "nbconvert_exporter": "python",
   "pygments_lexer": "ipython2",
   "version": "2.7.6"
  }
 },
 "nbformat": 4,
 "nbformat_minor": 0
}