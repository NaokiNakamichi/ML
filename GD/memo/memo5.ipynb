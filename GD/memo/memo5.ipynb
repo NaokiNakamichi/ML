{
 "cells": [
  {
   "cell_type": "code",
   "execution_count": 1,
   "metadata": {
    "collapsed": true
   },
   "outputs": [],
   "source": [
    "\n",
    "import numpy as np\n",
    "import matplotlib.pyplot as plt\n",
    "import pandas as pd\n",
    "\n",
    "from ML2_lib import loss\n",
    "from ML2_lib import DC_SGD\n",
    "\n",
    "from sklearn.datasets import load_boston\n",
    "from sklearn.preprocessing import StandardScaler\n",
    "from sklearn.model_selection import train_test_split"
   ]
  },
  {
   "cell_type": "code",
   "execution_count": 2,
   "outputs": [],
   "source": [
    "# 学習率は0.01/t * sqrt(d) ノイズは正規分布\n",
    "X_mean = 5\n",
    "X_var = 2\n",
    "E_var = 2.2\n",
    "w_star = np.array([1,2,3,4,5,6])\n",
    "w_star = w_star.reshape(1,-1)\n",
    "d = w_star.shape[1]\n",
    "n = 1000\n",
    "c = 5\n",
    "rng = np.random.default_rng()\n",
    "w_init = w_star + rng.uniform(-c,c,size=d)\n",
    "\n",
    "son = loss.LinearQuadraticLoss()"
   ],
   "metadata": {
    "collapsed": false,
    "pycharm": {
     "name": "#%%\n"
    }
   }
  },
  {
   "cell_type": "code",
   "execution_count": 3,
   "outputs": [],
   "source": [
    "hoge = DC_SGD.DCSGD(loss_type=son,lr=0.01,c=c,fixed_lr=True)\n",
    "fuga = DC_SGD.DCSGDSimulation(w_star=w_star,n=n,E_var=E_var,X_mean=X_mean,X_var=X_var,noise=\"lognormal\",loss_type=son,c=c,fixed_lr=True)"
   ],
   "metadata": {
    "collapsed": false,
    "pycharm": {
     "name": "#%%\n"
    }
   }
  },
  {
   "cell_type": "code",
   "execution_count": 4,
   "outputs": [],
   "source": [
    "k = 20\n",
    "x,y = fuga.generate_dataset()\n",
    "w , _ = hoge.learn(k=k,w_init=w_init,x=x,y=y)"
   ],
   "metadata": {
    "collapsed": false,
    "pycharm": {
     "name": "#%%\n"
    }
   }
  },
  {
   "cell_type": "code",
   "execution_count": 5,
   "outputs": [
    {
     "data": {
      "text/plain": "  0%|          | 0/2 [00:00<?, ?it/s]",
      "application/vnd.jupyter.widget-view+json": {
       "version_major": 2,
       "version_minor": 0,
       "model_id": "544f5009e96342c7b74065e868cf9dd1"
      }
     },
     "metadata": {},
     "output_type": "display_data"
    },
    {
     "data": {
      "text/plain": "<Figure size 720x576 with 1 Axes>",
      "image/png": "[encoded data removed]"
     },
     "metadata": {
      "needs_background": "light"
     },
     "output_type": "display_data"
    }
   ],
   "source": [
    "_, result_loss_gauss = fuga.many_trails(trial_num=2,max_k=20)\n",
    "fdic = {\n",
    "    \"size\" : 20,\n",
    "}\n",
    "\n",
    "columns=['1', '2', '4','5','10','20']\n",
    "fig = plt.figure(figsize=(10.0, 8.0))\n",
    "ax1 = fig.add_subplot(111)\n",
    "\n",
    "bp1 = ax1.boxplot(result_loss_gauss[:,[0,1,3,4,9,19]])\n",
    "ax1.set_xticklabels(columns,fontsize=20)\n",
    "ax1.set_title('R(w)-R^*',fontsize=20)\n",
    "ax1.set_xlabel('k',fontdict=fdic)\n",
    "\n",
    "plt.show()"
   ],
   "metadata": {
    "collapsed": false,
    "pycharm": {
     "name": "#%%\n"
    }
   }
  },
  {
   "cell_type": "code",
   "execution_count": 6,
   "outputs": [
    {
     "data": {
      "text/plain": "                1            2             4           5           10  \\\ncount    2.000000     2.000000      2.000000    2.000000     2.000000   \nmean   655.977799   893.006137  39379.545079  317.074850   837.888495   \nstd    433.286092   858.459883  55647.505814  298.262611  1000.837214   \nmin    349.598265   285.983332     30.816362  106.171335   130.189714   \n25%    502.788032   589.494735  19705.180720  211.623093   484.039105   \n50%    655.977799   893.006137  39379.545079  317.074850   837.888495   \n75%    809.167566  1196.517539  59053.909437  422.526608  1191.737886   \nmax    962.357333  1500.028941  78728.273796  527.978366  1545.587276   \n\n                20  \ncount     2.000000  \nmean    747.545416  \nstd     773.985605  \nmin     200.254946  \n25%     473.900181  \n50%     747.545416  \n75%    1021.190651  \nmax    1294.835886  ",
      "text/html": "<div>\n<style scoped>\n    .dataframe tbody tr th:only-of-type {\n        vertical-align: middle;\n    }\n\n    .dataframe tbody tr th {\n        vertical-align: top;\n    }\n\n    .dataframe thead th {\n        text-align: right;\n    }\n</style>\n<table border=\"1\" class=\"dataframe\">\n  <thead>\n    <tr style=\"text-align: right;\">\n      <th></th>\n      <th>1</th>\n      <th>2</th>\n      <th>4</th>\n      <th>5</th>\n      <th>10</th>\n      <th>20</th>\n    </tr>\n  </thead>\n  <tbody>\n    <tr>\n      <th>count</th>\n      <td>2.000000</td>\n      <td>2.000000</td>\n      <td>2.000000</td>\n      <td>2.000000</td>\n      <td>2.000000</td>\n      <td>2.000000</td>\n    </tr>\n    <tr>\n      <th>mean</th>\n      <td>655.977799</td>\n      <td>893.006137</td>\n      <td>39379.545079</td>\n      <td>317.074850</td>\n      <td>837.888495</td>\n      <td>747.545416</td>\n    </tr>\n    <tr>\n      <th>std</th>\n      <td>433.286092</td>\n      <td>858.459883</td>\n      <td>55647.505814</td>\n      <td>298.262611</td>\n      <td>1000.837214</td>\n      <td>773.985605</td>\n    </tr>\n    <tr>\n      <th>min</th>\n      <td>349.598265</td>\n      <td>285.983332</td>\n      <td>30.816362</td>\n      <td>106.171335</td>\n      <td>130.189714</td>\n      <td>200.254946</td>\n    </tr>\n    <tr>\n      <th>25%</th>\n      <td>502.788032</td>\n      <td>589.494735</td>\n      <td>19705.180720</td>\n      <td>211.623093</td>\n      <td>484.039105</td>\n      <td>473.900181</td>\n    </tr>\n    <tr>\n      <th>50%</th>\n      <td>655.977799</td>\n      <td>893.006137</td>\n      <td>39379.545079</td>\n      <td>317.074850</td>\n      <td>837.888495</td>\n      <td>747.545416</td>\n    </tr>\n    <tr>\n      <th>75%</th>\n      <td>809.167566</td>\n      <td>1196.517539</td>\n      <td>59053.909437</td>\n      <td>422.526608</td>\n      <td>1191.737886</td>\n      <td>1021.190651</td>\n    </tr>\n    <tr>\n      <th>max</th>\n      <td>962.357333</td>\n      <td>1500.028941</td>\n      <td>78728.273796</td>\n      <td>527.978366</td>\n      <td>1545.587276</td>\n      <td>1294.835886</td>\n    </tr>\n  </tbody>\n</table>\n</div>"
     },
     "execution_count": 6,
     "metadata": {},
     "output_type": "execute_result"
    }
   ],
   "source": [
    "df = pd.DataFrame(result_loss_gauss[:,[0,1,3,4,9,19]],columns=columns)\n",
    "df.describe()"
   ],
   "metadata": {
    "collapsed": false,
    "pycharm": {
     "name": "#%%\n"
    }
   }
  },
  {
   "cell_type": "code",
   "execution_count": 7,
   "outputs": [
    {
     "data": {
      "text/plain": "               1            2             4           5           10  \\\n0.75  809.167566  1196.517539  59053.909437  422.526608  1191.737886   \n0.80  839.805519  1257.219819  62988.782309  443.616959  1262.507764   \n0.90  901.081426  1378.624380  70858.528052  485.797663  1404.047520   \n0.95  931.719380  1439.326661  74793.400924  506.888014  1474.817398   \n0.99  956.229742  1487.888485  77941.299221  523.760295  1531.433300   \n\n               20  \n0.75  1021.190651  \n0.80  1075.919698  \n0.90  1185.377792  \n0.95  1240.106839  \n0.99  1283.890077  ",
      "text/html": "<div>\n<style scoped>\n    .dataframe tbody tr th:only-of-type {\n        vertical-align: middle;\n    }\n\n    .dataframe tbody tr th {\n        vertical-align: top;\n    }\n\n    .dataframe thead th {\n        text-align: right;\n    }\n</style>\n<table border=\"1\" class=\"dataframe\">\n  <thead>\n    <tr style=\"text-align: right;\">\n      <th></th>\n      <th>1</th>\n      <th>2</th>\n      <th>4</th>\n      <th>5</th>\n      <th>10</th>\n      <th>20</th>\n    </tr>\n  </thead>\n  <tbody>\n    <tr>\n      <th>0.75</th>\n      <td>809.167566</td>\n      <td>1196.517539</td>\n      <td>59053.909437</td>\n      <td>422.526608</td>\n      <td>1191.737886</td>\n      <td>1021.190651</td>\n    </tr>\n    <tr>\n      <th>0.80</th>\n      <td>839.805519</td>\n      <td>1257.219819</td>\n      <td>62988.782309</td>\n      <td>443.616959</td>\n      <td>1262.507764</td>\n      <td>1075.919698</td>\n    </tr>\n    <tr>\n      <th>0.90</th>\n      <td>901.081426</td>\n      <td>1378.624380</td>\n      <td>70858.528052</td>\n      <td>485.797663</td>\n      <td>1404.047520</td>\n      <td>1185.377792</td>\n    </tr>\n    <tr>\n      <th>0.95</th>\n      <td>931.719380</td>\n      <td>1439.326661</td>\n      <td>74793.400924</td>\n      <td>506.888014</td>\n      <td>1474.817398</td>\n      <td>1240.106839</td>\n    </tr>\n    <tr>\n      <th>0.99</th>\n      <td>956.229742</td>\n      <td>1487.888485</td>\n      <td>77941.299221</td>\n      <td>523.760295</td>\n      <td>1531.433300</td>\n      <td>1283.890077</td>\n    </tr>\n  </tbody>\n</table>\n</div>"
     },
     "execution_count": 7,
     "metadata": {},
     "output_type": "execute_result"
    }
   ],
   "source": [
    "df.quantile([0.75,0.8,0.9,0.95,0.99])"
   ],
   "metadata": {
    "collapsed": false,
    "pycharm": {
     "name": "#%%\n"
    }
   }
  },
  {
   "cell_type": "code",
   "execution_count": 8,
   "outputs": [
    {
     "data": {
      "text/plain": "<Figure size 720x576 with 1 Axes>",
      "image/png": "[encoded data removed]"
     },
     "metadata": {
      "needs_background": "light"
     },
     "output_type": "display_data"
    }
   ],
   "source": [
    "_,loss_transition = fuga.transition(k=k,w_init=w_init)\n",
    "\n",
    "fig = plt.figure(figsize=(10.0, 8.0))\n",
    "ax1 = fig.add_subplot(111)\n",
    "\n",
    "ax1.plot(loss_transition)\n",
    "ax1.set_xlabel(\"step\")\n",
    "ax1.set_title('excess risk k={}'.format(k))\n",
    "plt.show()"
   ],
   "metadata": {
    "collapsed": false,
    "pycharm": {
     "name": "#%%\n"
    }
   }
  },
  {
   "cell_type": "code",
   "execution_count": 9,
   "outputs": [],
   "source": [
    "data_boston = load_boston()"
   ],
   "metadata": {
    "collapsed": false,
    "pycharm": {
     "name": "#%%\n"
    }
   }
  },
  {
   "cell_type": "code",
   "execution_count": 10,
   "outputs": [
    {
     "data": {
      "text/plain": "(506, 13)"
     },
     "execution_count": 10,
     "metadata": {},
     "output_type": "execute_result"
    }
   ],
   "source": [
    "x = data_boston.data\n",
    "# x = x.T\n",
    "x.shape\n"
   ],
   "metadata": {
    "collapsed": false,
    "pycharm": {
     "name": "#%%\n"
    }
   }
  },
  {
   "cell_type": "code",
   "execution_count": 11,
   "outputs": [],
   "source": [
    "scaler = StandardScaler()\n",
    "scaler.fit(x)\n",
    "x = scaler.transform(x)\n",
    "x = np.c_[x,np.ones(x.shape[0])]\n",
    "w_init = np.zeros(x.shape[1]).reshape(1,-1)"
   ],
   "metadata": {
    "collapsed": false,
    "pycharm": {
     "name": "#%%\n"
    }
   }
  },
  {
   "cell_type": "code",
   "execution_count": 12,
   "outputs": [
    {
     "data": {
      "text/plain": "(506, 1)"
     },
     "execution_count": 12,
     "metadata": {},
     "output_type": "execute_result"
    }
   ],
   "source": [
    "y = data_boston.target.reshape(1,-1)\n",
    "y = y.T\n",
    "y.shape"
   ],
   "metadata": {
    "collapsed": false,
    "pycharm": {
     "name": "#%%\n"
    }
   }
  },
  {
   "cell_type": "code",
   "execution_count": 13,
   "outputs": [],
   "source": [
    "# データセットを分割する関数の読み込み\n",
    "\n",
    "\n",
    "# 訓練用データセットとテスト用データセットへの分割\n",
    "x_train, x_test, y_train, y_test = train_test_split(x, y, test_size=0.1, random_state=0)\n",
    "\n",
    "son = loss.LinearQuadraticLoss()"
   ],
   "metadata": {
    "collapsed": false,
    "pycharm": {
     "name": "#%%\n"
    }
   }
  },
  {
   "cell_type": "code",
   "execution_count": 14,
   "outputs": [],
   "source": [
    "hoge = DC_SGD.DCSGDRealData(loss_type=son,c=1 ,lr=0.1)"
   ],
   "metadata": {
    "collapsed": false,
    "pycharm": {
     "name": "#%%\n"
    }
   }
  },
  {
   "cell_type": "code",
   "execution_count": 15,
   "outputs": [],
   "source": [
    "k=5\n",
    "hoge.learn_data(k=k,w_init=w_init,x=x_train,y=y_train)\n"
   ],
   "metadata": {
    "collapsed": false,
    "pycharm": {
     "name": "#%%\n"
    }
   }
  },
  {
   "cell_type": "code",
   "execution_count": 16,
   "outputs": [
    {
     "data": {
      "text/plain": "59.806259365917825"
     },
     "execution_count": 16,
     "metadata": {},
     "output_type": "execute_result"
    }
   ],
   "source": [
    "hoge.predict(x_test[1].reshape(1,-1))"
   ],
   "metadata": {
    "collapsed": false,
    "pycharm": {
     "name": "#%%\n"
    }
   }
  },
  {
   "cell_type": "code",
   "execution_count": 17,
   "outputs": [
    {
     "data": {
      "text/plain": "array([50.])"
     },
     "execution_count": 17,
     "metadata": {},
     "output_type": "execute_result"
    }
   ],
   "source": [
    "y_test[1]"
   ],
   "metadata": {
    "collapsed": false,
    "pycharm": {
     "name": "#%%\n"
    }
   }
  },
  {
   "cell_type": "code",
   "execution_count": 27,
   "outputs": [
    {
     "name": "stdout",
     "output_type": "stream",
     "text": [
      "x (455, 14)\n",
      "y (455, 1)\n",
      "[298.64554945]\n",
      "x (455, 14)\n",
      "y (455, 1)\n",
      "[298.64554945]\n",
      "x (455, 14)\n",
      "y (455, 1)\n",
      "[236.00870467]\n",
      "x (455, 14)\n",
      "y (455, 1)\n",
      "[725.39775978]\n",
      "x (455, 14)\n",
      "y (455, 1)\n",
      "[181.97798766]\n",
      "x (455, 14)\n",
      "y (455, 1)\n",
      "[211.93599663]\n",
      "x (455, 14)\n",
      "y (455, 1)\n",
      "[149.85961627]\n",
      "x (455, 14)\n",
      "y (455, 1)\n",
      "[135.24563422]\n",
      "x (455, 14)\n",
      "y (455, 1)\n",
      "[513.87451646]\n",
      "x (455, 14)\n",
      "y (455, 1)\n",
      "[426.20767609]\n",
      "x (455, 14)\n",
      "y (455, 1)\n",
      "[233.33630182]\n",
      "x (455, 14)\n",
      "y (455, 1)\n",
      "[233.44652296]\n",
      "x (455, 14)\n",
      "y (455, 1)\n",
      "[233.77849339]\n",
      "x (455, 14)\n",
      "y (455, 1)\n",
      "[273.83386275]\n",
      "x (455, 14)\n",
      "y (455, 1)\n",
      "[235.39329307]\n",
      "x (455, 14)\n",
      "y (455, 1)\n",
      "[246.54535385]\n",
      "x (455, 14)\n",
      "y (455, 1)\n",
      "[219.86840691]\n",
      "x (455, 14)\n",
      "y (455, 1)\n",
      "[203.97921807]\n",
      "x (455, 14)\n",
      "y (455, 1)\n",
      "[212.22242727]\n",
      "x (455, 14)\n",
      "y (455, 1)\n",
      "[191.47957291]\n",
      "x (455, 14)\n",
      "y (455, 1)\n",
      "[190.3278453]\n",
      "x (455, 14)\n",
      "y (455, 1)\n",
      "[179.83862784]\n",
      "x (455, 14)\n",
      "y (455, 1)\n",
      "[234.94741395]\n",
      "x (455, 14)\n",
      "y (455, 1)\n",
      "[167.19232928]\n",
      "x (455, 14)\n",
      "y (455, 1)\n",
      "[164.87746597]\n",
      "x (455, 14)\n",
      "y (455, 1)\n",
      "[167.0679422]\n",
      "x (455, 14)\n",
      "y (455, 1)\n",
      "[187.25247199]\n",
      "x (455, 14)\n",
      "y (455, 1)\n",
      "[179.46446989]\n",
      "x (455, 14)\n",
      "y (455, 1)\n",
      "[182.30090143]\n",
      "x (455, 14)\n",
      "y (455, 1)\n",
      "[164.78469382]\n",
      "x (455, 14)\n",
      "y (455, 1)\n",
      "[125.67618033]\n",
      "x (455, 14)\n",
      "y (455, 1)\n",
      "[126.87679069]\n",
      "x (455, 14)\n",
      "y (455, 1)\n",
      "[214.75941561]\n",
      "x (455, 14)\n",
      "y (455, 1)\n",
      "[181.64579828]\n",
      "x (455, 14)\n",
      "y (455, 1)\n",
      "[192.49822221]\n",
      "x (455, 14)\n",
      "y (455, 1)\n",
      "[222.50370592]\n",
      "x (455, 14)\n",
      "y (455, 1)\n",
      "[169.30715488]\n",
      "x (455, 14)\n",
      "y (455, 1)\n",
      "[338.13329797]\n",
      "x (455, 14)\n",
      "y (455, 1)\n",
      "[259.97311244]\n",
      "x (455, 14)\n",
      "y (455, 1)\n",
      "[122.57006836]\n",
      "x (455, 14)\n",
      "y (455, 1)\n",
      "[113.2509683]\n",
      "x (455, 14)\n",
      "y (455, 1)\n",
      "[120.82049865]\n",
      "x (455, 14)\n",
      "y (455, 1)\n",
      "[107.14571997]\n",
      "x (455, 14)\n",
      "y (455, 1)\n",
      "[145.48984679]\n",
      "x (455, 14)\n",
      "y (455, 1)\n",
      "[135.90125484]\n",
      "x (455, 14)\n",
      "y (455, 1)\n",
      "[129.61557458]\n",
      "x (455, 14)\n",
      "y (455, 1)\n",
      "[204.81155691]\n",
      "x (455, 14)\n",
      "y (455, 1)\n",
      "[112.72099084]\n",
      "x (455, 14)\n",
      "y (455, 1)\n",
      "[120.63327283]\n",
      "x (455, 14)\n",
      "y (455, 1)\n",
      "[148.7041196]\n",
      "x (455, 14)\n",
      "y (455, 1)\n",
      "[104.88508775]\n",
      "x (455, 14)\n",
      "y (455, 1)\n",
      "[101.37417347]\n",
      "x (455, 14)\n",
      "y (455, 1)\n",
      "[139.32023838]\n",
      "x (455, 14)\n",
      "y (455, 1)\n",
      "[124.57266154]\n",
      "x (455, 14)\n",
      "y (455, 1)\n",
      "[157.236736]\n",
      "x (455, 14)\n",
      "y (455, 1)\n",
      "[133.13842346]\n",
      "x (455, 14)\n",
      "y (455, 1)\n",
      "[125.47732096]\n",
      "x (455, 14)\n",
      "y (455, 1)\n",
      "[146.73629214]\n",
      "x (455, 14)\n",
      "y (455, 1)\n",
      "[147.0869789]\n",
      "x (455, 14)\n",
      "y (455, 1)\n",
      "[117.5762127]\n",
      "x (455, 14)\n",
      "y (455, 1)\n",
      "[108.68675268]\n",
      "x (455, 14)\n",
      "y (455, 1)\n",
      "[111.2704224]\n",
      "x (455, 14)\n",
      "y (455, 1)\n",
      "[111.22651691]\n",
      "x (455, 14)\n",
      "y (455, 1)\n",
      "[113.85750935]\n",
      "x (455, 14)\n",
      "y (455, 1)\n",
      "[113.65677574]\n",
      "x (455, 14)\n",
      "y (455, 1)\n",
      "[99.93367883]\n",
      "x (455, 14)\n",
      "y (455, 1)\n",
      "[209.10226437]\n",
      "x (455, 14)\n",
      "y (455, 1)\n",
      "[116.47557658]\n",
      "x (455, 14)\n",
      "y (455, 1)\n",
      "[207.58120896]\n",
      "x (455, 14)\n",
      "y (455, 1)\n",
      "[913.39041066]\n",
      "x (455, 14)\n",
      "y (455, 1)\n",
      "[200.47276274]\n",
      "x (455, 14)\n",
      "y (455, 1)\n",
      "[224.91225492]\n",
      "x (455, 14)\n",
      "y (455, 1)\n",
      "[173.76745221]\n",
      "x (455, 14)\n",
      "y (455, 1)\n",
      "[173.77870182]\n",
      "x (455, 14)\n",
      "y (455, 1)\n",
      "[174.00484337]\n",
      "x (455, 14)\n",
      "y (455, 1)\n",
      "[165.99716417]\n",
      "x (455, 14)\n",
      "y (455, 1)\n",
      "[183.04167465]\n",
      "x (455, 14)\n",
      "y (455, 1)\n",
      "[157.22967781]\n",
      "x (455, 14)\n",
      "y (455, 1)\n",
      "[150.38598289]\n",
      "x (455, 14)\n",
      "y (455, 1)\n",
      "[605.63662822]\n",
      "x (455, 14)\n",
      "y (455, 1)\n",
      "[413.70946065]\n",
      "x (455, 14)\n",
      "y (455, 1)\n",
      "[218.35103399]\n",
      "x (455, 14)\n",
      "y (455, 1)\n",
      "[276.00750168]\n",
      "x (455, 14)\n",
      "y (455, 1)\n",
      "[278.83242206]\n",
      "x (455, 14)\n",
      "y (455, 1)\n",
      "[1081.41432963]\n",
      "x (455, 14)\n",
      "y (455, 1)\n",
      "[1502.08388405]\n",
      "x (455, 14)\n",
      "y (455, 1)\n",
      "[1455.20167107]\n",
      "x (455, 14)\n",
      "y (455, 1)\n",
      "[1232.29456966]\n",
      "x (455, 14)\n",
      "y (455, 1)\n",
      "[1163.60492078]\n",
      "x (455, 14)\n",
      "y (455, 1)\n",
      "[1053.14038234]\n",
      "x (455, 14)\n",
      "y (455, 1)\n",
      "[1040.04378176]\n"
     ]
    }
   ],
   "source": [
    "w_,tr = hoge.transition(x_train,y_train)"
   ],
   "metadata": {
    "collapsed": false,
    "pycharm": {
     "name": "#%%\n"
    }
   }
  },
  {
   "cell_type": "code",
   "execution_count": 28,
   "outputs": [
    {
     "data": {
      "text/plain": "<Figure size 720x576 with 1 Axes>",
      "image/png": "[encoded data removed]"
     },
     "metadata": {
      "needs_background": "light"
     },
     "output_type": "display_data"
    }
   ],
   "source": [
    "\n",
    "fig = plt.figure(figsize=(10.0, 8.0))\n",
    "ax1 = fig.add_subplot(111)\n",
    "\n",
    "ax1.plot(tr)\n",
    "ax1.set_xlabel(\"step\")\n",
    "plt.show()"
   ],
   "metadata": {
    "collapsed": false,
    "pycharm": {
     "name": "#%%\n"
    }
   }
  },
  {
   "cell_type": "code",
   "execution_count": null,
   "outputs": [],
   "source": [],
   "metadata": {
    "collapsed": false,
    "pycharm": {
     "name": "#%%\n"
    }
   }
  }
 ],
 "metadata": {
  "kernelspec": {
   "display_name": "Python 3",
   "language": "python",
   "name": "python3"
  },
  "language_info": {
   "codemirror_mode": {
    "name": "ipython",
    "version": 2
   },
   "file_extension": ".py",
   "mimetype": "text/x-python",
   "name": "python",
   "nbconvert_exporter": "python",
   "pygments_lexer": "ipython2",
   "version": "2.7.6"
  }
 },
 "nbformat": 4,
 "nbformat_minor": 0
}