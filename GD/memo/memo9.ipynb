{
 "cells": [
  {
   "cell_type": "code",
   "execution_count": 1,
   "metadata": {
    "collapsed": true
   },
   "outputs": [],
   "source": [
    "import numpy as np\n",
    "import matplotlib.pyplot as plt\n",
    "import pandas as pd\n",
    "import torch\n",
    "from tqdm.notebook import tqdm\n",
    "\n",
    "from ML2_lib import RV_SGDAve\n",
    "\n",
    "\n",
    "import torch\n",
    "import torch.nn.functional as F\n",
    "import torch.optim as optim\n",
    "\n",
    "from sklearn.preprocessing import StandardScaler\n",
    "from sklearn.datasets import load_iris\n",
    "from sklearn import model_selection\n",
    "from ML2_lib import models"
   ]
  },
  {
   "cell_type": "code",
   "execution_count": 2,
   "outputs": [],
   "source": [
    "from torch.optim.swa_utils import AveragedModel, SWALR\n",
    "from torch.optim.lr_scheduler import CosineAnnealingLR\n",
    "\n",
    "\n",
    "hoge = RV_SGDAve.RVSGDByTorch(lr=1)\n"
   ],
   "metadata": {
    "collapsed": false,
    "pycharm": {
     "name": "#%%\n"
    }
   }
  },
  {
   "cell_type": "code",
   "execution_count": 3,
   "outputs": [],
   "source": [
    "real_data = load_iris()\n",
    "x = real_data.data\n",
    "\n",
    "scaler = StandardScaler()\n",
    "scaler.fit(x)\n",
    "x = scaler.transform(x)\n",
    "# x = x.T\n"
   ],
   "metadata": {
    "collapsed": false,
    "pycharm": {
     "name": "#%%\n"
    }
   }
  },
  {
   "cell_type": "code",
   "execution_count": 4,
   "outputs": [],
   "source": [
    "y = real_data.target\n",
    "y = y.T\n",
    "\n",
    "data_train, data_test, label_train, label_test = model_selection.train_test_split(x, y)\n",
    "\n",
    "model = models.LinearClassification(4,3)\n",
    "lppl = hoge.learn(k=5,x=data_train,y=label_train,model=model)"
   ],
   "metadata": {
    "collapsed": false,
    "pycharm": {
     "name": "#%%\n"
    }
   }
  },
  {
   "cell_type": "code",
   "execution_count": 5,
   "outputs": [],
   "source": [
    "from torch.optim.swa_utils import AveragedModel, SWALR\n",
    "from torch.optim.lr_scheduler import CosineAnnealingLR\n",
    "\n",
    "\n",
    "model = models.LinearClassification(4,3)\n",
    "optimizer = optim.SGD(model.parameters(), lr=0.1)\n",
    "swa_model = AveragedModel(model)\n",
    "scheduler = CosineAnnealingLR(optimizer, T_max=150)\n",
    "swa_start = 5\n",
    "\n",
    "train_X = torch.Tensor(real_data.data).float()## torch.Tensor型: Pytorch版のnumpy形式\n",
    "train_y = torch.LongTensor(real_data.target)\n",
    "\n",
    "for epoch in range(150):\n",
    "      optimizer.zero_grad()\n",
    "\n",
    "      output = model(train_X)\n",
    "      loss = F.nll_loss(output, train_y)\n",
    "      loss.backward()\n",
    "\n",
    "      optimizer.step()\n",
    "      prediction = output.data.max(1)[1]\n",
    "      if epoch > swa_start:\n",
    "          swa_model.update_parameters(model)\n",
    "# # Use swa_model to make predictions on test data\n",
    "preds = swa_model(train_X)\n"
   ],
   "metadata": {
    "collapsed": false,
    "pycharm": {
     "name": "#%%\n"
    }
   }
  },
  {
   "cell_type": "code",
   "execution_count": 6,
   "outputs": [
    {
     "data": {
      "text/plain": "OrderedDict([('n_averaged', tensor(144)),\n             ('module.fc1.weight',\n              tensor([[ 0.6737,  0.2549, -1.0360, -0.7498],\n                      [ 0.3738, -0.4978,  0.1062,  0.0222],\n                      [-0.6343, -0.2491,  1.1756,  0.5798]])),\n             ('module.fc1.bias', tensor([0.4347, 0.3359, 0.0412]))])"
     },
     "execution_count": 6,
     "metadata": {},
     "output_type": "execute_result"
    }
   ],
   "source": [
    "swa_model.state_dict()"
   ],
   "metadata": {
    "collapsed": false,
    "pycharm": {
     "name": "#%%\n"
    }
   }
  },
  {
   "cell_type": "code",
   "execution_count": 7,
   "outputs": [
    {
     "data": {
      "text/plain": "(LinearClassification(\n   (fc1): Linear(in_features=4, out_features=3, bias=True)\n ),\n [tensor([[[-0.2370,  0.1018, -0.2607, -0.3074],\n           [ 0.0083, -0.0718,  0.0063, -0.0557],\n           [ 0.2286, -0.0299,  0.2544,  0.3631]],\n  \n          [[-0.3260,  0.1588, -0.3648, -0.4259],\n           [ 0.0466, -0.1342,  0.0392, -0.0758],\n           [ 0.2795, -0.0246,  0.3256,  0.5017]],\n  \n          [[-0.3881,  0.2027, -0.4389, -0.5090],\n           [ 0.0752, -0.1817,  0.0579, -0.1094],\n           [ 0.3129, -0.0210,  0.3811,  0.6184]],\n  \n          [[-0.4373,  0.2390, -0.4981, -0.5747],\n           [ 0.0988, -0.2180,  0.0680, -0.1501],\n           [ 0.3384, -0.0210,  0.4302,  0.7247]],\n  \n          [[-0.4790,  0.2704, -0.5484, -0.6302],\n           [ 0.1208, -0.2458,  0.0738, -0.1928],\n           [ 0.3583, -0.0246,  0.4746,  0.8230]],\n  \n          [[-0.5161,  0.2983, -0.5926, -0.6790],\n           [ 0.1422, -0.2671,  0.0772, -0.2358],\n           [ 0.3739, -0.0312,  0.5153,  0.9148]],\n  \n          [[-0.5498,  0.3235, -0.6325, -0.7231],\n           [ 0.1635, -0.2834,  0.0792, -0.2780],\n           [ 0.3863, -0.0401,  0.5532,  1.0011]],\n  \n          [[-0.5811,  0.3467, -0.6691, -0.7636],\n           [ 0.1848, -0.2957,  0.0803, -0.3191],\n           [ 0.3963, -0.0510,  0.5888,  1.0827]],\n  \n          [[-0.6104,  0.3682, -0.7032, -0.8013],\n           [ 0.2060, -0.3049,  0.0808, -0.3590],\n           [ 0.4044, -0.0634,  0.6223,  1.1603]],\n  \n          [[-0.6381,  0.3884, -0.7351, -0.8367],\n           [ 0.2270, -0.3116,  0.0809, -0.3976],\n           [ 0.4112, -0.0768,  0.6541,  1.2343]],\n  \n          [[-0.6646,  0.4073, -0.7652, -0.8702],\n           [ 0.2477, -0.3164,  0.0807, -0.4348],\n           [ 0.4168, -0.0909,  0.6845,  1.3050]]], grad_fn=<StackBackward>),\n  tensor([[[-0.3041,  0.1735, -0.3205, -0.3472],\n           [ 0.0781, -0.1137,  0.0890,  0.0240],\n           [ 0.2261, -0.0598,  0.2315,  0.3231]],\n  \n          [[-0.3986,  0.2404, -0.4324, -0.4649],\n           [ 0.1086, -0.1803,  0.1252, -0.0023],\n           [ 0.2900, -0.0601,  0.3072,  0.4671]],\n  \n          [[-0.4592,  0.2862, -0.5077, -0.5431],\n           [ 0.1296, -0.2282,  0.1467, -0.0403],\n           [ 0.3297, -0.0580,  0.3610,  0.5834]],\n  \n          [[-0.5056,  0.3223, -0.5667, -0.6038],\n           [ 0.1469, -0.2640,  0.1604, -0.0835],\n           [ 0.3588, -0.0583,  0.4063,  0.6873]],\n  \n          [[-0.5443,  0.3526, -0.6162, -0.6546],\n           [ 0.1631, -0.2910,  0.1697, -0.1284],\n           [ 0.3812, -0.0616,  0.4465,  0.7830]],\n  \n          [[-0.5782,  0.3790, -0.6595, -0.6989],\n           [ 0.1793, -0.3113,  0.1763, -0.1734],\n           [ 0.3989, -0.0677,  0.4831,  0.8723]],\n  \n          [[-0.6088,  0.4027, -0.6984, -0.7388],\n           [ 0.1959, -0.3266,  0.1814, -0.2176],\n           [ 0.4130, -0.0761,  0.5171,  0.9564]],\n  \n          [[-0.6371,  0.4242, -0.7341, -0.7754],\n           [ 0.2127, -0.3379,  0.1852, -0.2607],\n           [ 0.4244, -0.0863,  0.5489,  1.0361]],\n  \n          [[-0.6636,  0.4441, -0.7672, -0.8093],\n           [ 0.2299, -0.3462,  0.1883, -0.3025],\n           [ 0.4337, -0.0980,  0.5789,  1.1119]],\n  \n          [[-0.6887,  0.4627, -0.7983, -0.8412],\n           [ 0.2473, -0.3521,  0.1909, -0.3431],\n           [ 0.4414, -0.1106,  0.6074,  1.1843]],\n  \n          [[-0.7126,  0.4802, -0.8275, -0.8714],\n           [ 0.2647, -0.3561,  0.1930, -0.3823],\n           [ 0.4478, -0.1241,  0.6346,  1.2537]]], grad_fn=<StackBackward>),\n  tensor([[[-0.3126,  0.2173, -0.3614, -0.3910],\n           [ 0.1515, -0.1416,  0.1648,  0.0998],\n           [ 0.1611, -0.0757,  0.1966,  0.2911]],\n  \n          [[-0.4015,  0.2853, -0.4782, -0.5140],\n           [ 0.1991, -0.2057,  0.2132,  0.0757],\n           [ 0.2024, -0.0796,  0.2649,  0.4383]],\n  \n          [[-0.4580,  0.3303, -0.5563, -0.5950],\n           [ 0.2319, -0.2515,  0.2418,  0.0335],\n           [ 0.2261, -0.0789,  0.3144,  0.5615]],\n  \n          [[-0.5008,  0.3650, -0.6171, -0.6574],\n           [ 0.2593, -0.2863,  0.2620, -0.0143],\n           [ 0.2414, -0.0787,  0.3551,  0.6716]],\n  \n          [[-0.5360,  0.3938, -0.6678, -0.7090],\n           [ 0.2845, -0.3134,  0.2776, -0.0635],\n           [ 0.2515, -0.0804,  0.3902,  0.7726]],\n  \n          [[-0.5665,  0.4186, -0.7120, -0.7538],\n           [ 0.3084, -0.3346,  0.2905, -0.1125],\n           [ 0.2581, -0.0839,  0.4215,  0.8664]],\n  \n          [[-0.5937,  0.4405, -0.7515, -0.7938],\n           [ 0.3316, -0.3512,  0.3017, -0.1605],\n           [ 0.2621, -0.0893,  0.4499,  0.9543]],\n  \n          [[-0.6185,  0.4604, -0.7876, -0.8302],\n           [ 0.3543, -0.3642,  0.3116, -0.2070],\n           [ 0.2643, -0.0962,  0.4760,  1.0372]],\n  \n          [[-0.6416,  0.4786, -0.8209, -0.8638],\n           [ 0.3764, -0.3744,  0.3206, -0.2521],\n           [ 0.2652, -0.1043,  0.5002,  1.1159]],\n  \n          [[-0.6632,  0.4956, -0.8520, -0.8953],\n           [ 0.3981, -0.3822,  0.3290, -0.2955],\n           [ 0.2652, -0.1133,  0.5230,  1.1908]],\n  \n          [[-0.6837,  0.5114, -0.8813, -0.9249],\n           [ 0.4192, -0.3883,  0.3369, -0.3375],\n           [ 0.2645, -0.1231,  0.5444,  1.2624]]], grad_fn=<StackBackward>),\n  tensor([[[-0.2832,  0.2312, -0.3752, -0.3910],\n           [ 0.1368, -0.1485,  0.1717,  0.0998],\n           [ 0.1464, -0.0827,  0.2035,  0.2911]],\n  \n          [[-0.3646,  0.3024, -0.4965, -0.5146],\n           [ 0.1797, -0.2146,  0.2228,  0.0760],\n           [ 0.1849, -0.0878,  0.2737,  0.4387]],\n  \n          [[-0.4162,  0.3489, -0.5774, -0.5959],\n           [ 0.2091, -0.2614,  0.2533,  0.0339],\n           [ 0.2072, -0.0874,  0.3242,  0.5620]],\n  \n          [[-0.4553,  0.3844, -0.6403, -0.6584],\n           [ 0.2337, -0.2970,  0.2749, -0.0138],\n           [ 0.2216, -0.0874,  0.3653,  0.6722]],\n  \n          [[-0.4874,  0.4138, -0.6928, -0.7101],\n           [ 0.2564, -0.3246,  0.2920, -0.0629],\n           [ 0.2310, -0.0892,  0.4008,  0.7731]],\n  \n          [[-0.5151,  0.4390, -0.7385, -0.7550],\n           [ 0.2781, -0.3462,  0.3062, -0.1118],\n           [ 0.2370, -0.0928,  0.4323,  0.8668]],\n  \n          [[-0.5397,  0.4615, -0.7794, -0.7950],\n           [ 0.2992, -0.3632,  0.3186, -0.1596],\n           [ 0.2405, -0.0982,  0.4608,  0.9546]],\n  \n          [[-0.5621,  0.4818, -0.8168, -0.8315],\n           [ 0.3198, -0.3766,  0.3298, -0.2060],\n           [ 0.2423, -0.1052,  0.4869,  1.0375]],\n  \n          [[-0.5828,  0.5004, -0.8514, -0.8652],\n           [ 0.3401, -0.3870,  0.3402, -0.2509],\n           [ 0.2427, -0.1134,  0.5113,  1.1161]],\n  \n          [[-0.6021,  0.5178, -0.8838, -0.8967],\n           [ 0.3599, -0.3952,  0.3498, -0.2943],\n           [ 0.2422, -0.1226,  0.5340,  1.1910]],\n  \n          [[-0.6204,  0.5341, -0.9144, -0.9265],\n           [ 0.3793, -0.4016,  0.3589, -0.3360],\n           [ 0.2411, -0.1325,  0.5555,  1.2625]]], grad_fn=<StackBackward>),\n  tensor([[[-0.2906,  0.2731, -0.3804, -0.3989],\n           [ 0.1122, -0.1784,  0.1282,  0.0439],\n           [ 0.1783, -0.0947,  0.2522,  0.3550]],\n  \n          [[-0.3680,  0.3626, -0.4924, -0.5129],\n           [ 0.1517, -0.2766,  0.1601, -0.0027],\n           [ 0.2163, -0.0860,  0.3323,  0.5157]],\n  \n          [[-0.4170,  0.4242, -0.5661, -0.5864],\n           [ 0.1863, -0.3566,  0.1817, -0.0538],\n           [ 0.2308, -0.0675,  0.3844,  0.6402]],\n  \n          [[-0.4538,  0.4725, -0.6225, -0.6417],\n           [ 0.2186, -0.4236,  0.1974, -0.1066],\n           [ 0.2352, -0.0488,  0.4251,  0.7483]],\n  \n          [[-0.4836,  0.5126, -0.6689, -0.6866],\n           [ 0.2494, -0.4803,  0.2093, -0.1597],\n           [ 0.2342, -0.0323,  0.4596,  0.8463]],\n  \n          [[-0.5089,  0.5471, -0.7086, -0.7248],\n           [ 0.2794, -0.5287,  0.2186, -0.2123],\n           [ 0.2295, -0.0184,  0.4900,  0.9370]],\n  \n          [[-0.5312,  0.5776, -0.7436, -0.7582],\n           [ 0.3087, -0.5705,  0.2263, -0.2637],\n           [ 0.2224, -0.0071,  0.5174,  1.0218]],\n  \n          [[-0.5511,  0.6049, -0.7752, -0.7881],\n           [ 0.3375, -0.6067,  0.2327, -0.3136],\n           [ 0.2136,  0.0018,  0.5425,  1.1017]],\n  \n          [[-0.5693,  0.6297, -0.8039, -0.8153],\n           [ 0.3658, -0.6383,  0.2383, -0.3621],\n           [ 0.2035,  0.0086,  0.5656,  1.1773]],\n  \n          [[-0.5861,  0.6526, -0.8305, -0.8403],\n           [ 0.3936, -0.6661,  0.2434, -0.4089],\n           [ 0.1925,  0.0136,  0.5871,  1.2492]],\n  \n          [[-0.6018,  0.6737, -0.8553, -0.8636],\n           [ 0.4208, -0.6907,  0.2480, -0.4541],\n           [ 0.1810,  0.0170,  0.6073,  1.3177]]], grad_fn=<StackBackward>)],\n [tensor([[-0.2424,  0.1212,  0.1212],\n          [-0.3312,  0.2690,  0.0622],\n          [-0.3934,  0.3947, -0.0013],\n          [-0.4416,  0.5033, -0.0617],\n          [-0.4803,  0.5998, -0.1195],\n          [-0.5121,  0.6869, -0.1748],\n          [-0.5387,  0.7665, -0.2278],\n          [-0.5612,  0.8399, -0.2787],\n          [-0.5804,  0.9080, -0.3276],\n          [-0.5968,  0.9715, -0.3746],\n          [-0.6111,  1.0310, -0.4200]], grad_fn=<StackBackward>),\n  tensor([[-0.1515,  0.1212,  0.0303],\n          [-0.2305,  0.2458, -0.0153],\n          [-0.2923,  0.3602, -0.0678],\n          [-0.3428,  0.4626, -0.1198],\n          [-0.3849,  0.5550, -0.1701],\n          [-0.4205,  0.6392, -0.2186],\n          [-0.4511,  0.7165, -0.2654],\n          [-0.4775,  0.7881, -0.3105],\n          [-0.5005,  0.8546, -0.3541],\n          [-0.5207,  0.9169, -0.3962],\n          [-0.5386,  0.9754, -0.4368]], grad_fn=<StackBackward>),\n  tensor([[-0.0606,  0.1212, -0.0606],\n          [-0.1348,  0.2369, -0.1021],\n          [-0.1970,  0.3380, -0.1410],\n          [-0.2491,  0.4281, -0.1790],\n          [-0.2934,  0.5096, -0.2163],\n          [-0.3314,  0.5843, -0.2529],\n          [-0.3643,  0.6532, -0.2889],\n          [-0.3931,  0.7172, -0.3241],\n          [-0.4185,  0.7771, -0.3585],\n          [-0.4410,  0.8332, -0.3922],\n          [-0.4610,  0.8862, -0.4251]], grad_fn=<StackBackward>),\n  tensor([[-0.0606,  0.1212, -0.0606],\n          [-0.1344,  0.2367, -0.1022],\n          [-0.1964,  0.3377, -0.1413],\n          [-0.2482,  0.4277, -0.1794],\n          [-0.2923,  0.5091, -0.2168],\n          [-0.3301,  0.5836, -0.2535],\n          [-0.3629,  0.6524, -0.2895],\n          [-0.3915,  0.7163, -0.3248],\n          [-0.4168,  0.7760, -0.3593],\n          [-0.4391,  0.8320, -0.3929],\n          [-0.4589,  0.8847, -0.4258]], grad_fn=<StackBackward>),\n  tensor([[-0.0606,  0.0303,  0.0303],\n          [-0.1224,  0.0975,  0.0248],\n          [-0.1733,  0.1696,  0.0037],\n          [-0.2160,  0.2378, -0.0218],\n          [-0.2525,  0.3007, -0.0482],\n          [-0.2840,  0.3583, -0.0743],\n          [-0.3117,  0.4115, -0.0998],\n          [-0.3361,  0.4608, -0.1247],\n          [-0.3578,  0.5068, -0.1490],\n          [-0.3772,  0.5499, -0.1727],\n          [-0.3947,  0.5905, -0.1958]], grad_fn=<StackBackward>)])"
     },
     "execution_count": 7,
     "metadata": {},
     "output_type": "execute_result"
    }
   ],
   "source": [
    "lppl"
   ],
   "metadata": {
    "collapsed": false,
    "pycharm": {
     "name": "#%%\n"
    }
   }
  },
  {
   "cell_type": "code",
   "execution_count": 8,
   "outputs": [
    {
     "data": {
      "text/plain": "Parameter containing:\ntensor([[-0.5679,  0.6277, -0.8017, -0.8131],\n        [ 0.3653, -0.6345,  0.2377, -0.3605],\n        [ 0.2026,  0.0068,  0.5640,  1.1735]], requires_grad=True)"
     },
     "execution_count": 8,
     "metadata": {},
     "output_type": "execute_result"
    }
   ],
   "source": [
    "lppl[0].fc1.weight"
   ],
   "metadata": {
    "collapsed": false,
    "pycharm": {
     "name": "#%%\n"
    }
   }
  },
  {
   "cell_type": "code",
   "execution_count": 9,
   "outputs": [
    {
     "data": {
      "text/plain": "[0.5526672005653381,\n 0.5250127911567688,\n 0.5019091367721558,\n 0.4819989502429962,\n 0.4645055830478668,\n 0.4489291310310364,\n 0.42926958203315735,\n 0.4163951277732849,\n 0.4046843945980072,\n 0.3939696252346039,\n 0.38411587476730347,\n 0.37501251697540283,\n 0.3665679395198822,\n 0.3587052822113037,\n 0.35135963559150696,\n 0.3444758355617523]"
     },
     "execution_count": 9,
     "metadata": {},
     "output_type": "execute_result"
    }
   ],
   "source": [
    "hoge.transition(k=3,train_x=data_train,train_y=label_train,transition_x=data_test,transition_y=label_test,model=model)\n"
   ],
   "metadata": {
    "collapsed": false,
    "pycharm": {
     "name": "#%%\n"
    }
   }
  },
  {
   "cell_type": "code",
   "execution_count": 11,
   "outputs": [
    {
     "data": {
      "text/plain": "<Figure size 720x576 with 1 Axes>",
      "image/png": "[encoded data removed]"
     },
     "metadata": {
      "needs_background": "light"
     },
     "output_type": "display_data"
    }
   ],
   "source": [
    "k= 3\n",
    "tr = hoge.transition(k=k,train_x=data_train,train_y=label_train,transition_x=data_test,transition_y=label_test,model=model)\n",
    "\n",
    "fig = plt.figure(figsize=(10.0, 8.0))\n",
    "ax1 = fig.add_subplot(111)\n",
    "\n",
    "ax1.plot(tr)\n",
    "ax1.set_xlabel(\"step\")\n",
    "ax1.set_title('excess risk k={}'.format(k))\n",
    "plt.show()"
   ],
   "metadata": {
    "collapsed": false,
    "pycharm": {
     "name": "#%%\n"
    }
   }
  },
  {
   "cell_type": "code",
   "execution_count": null,
   "outputs": [],
   "source": [],
   "metadata": {
    "collapsed": false,
    "pycharm": {
     "name": "#%%\n"
    }
   }
  }
 ],
 "metadata": {
  "kernelspec": {
   "display_name": "Python 3",
   "language": "python",
   "name": "python3"
  },
  "language_info": {
   "codemirror_mode": {
    "name": "ipython",
    "version": 2
   },
   "file_extension": ".py",
   "mimetype": "text/x-python",
   "name": "python",
   "nbconvert_exporter": "python",
   "pygments_lexer": "ipython2",
   "version": "2.7.6"
  }
 },
 "nbformat": 4,
 "nbformat_minor": 0
}