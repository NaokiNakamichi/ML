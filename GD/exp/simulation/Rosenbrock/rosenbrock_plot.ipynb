{
 "cells": [
  {
   "cell_type": "code",
   "execution_count": 1,
   "metadata": {
    "collapsed": true
   },
   "outputs": [],
   "source": [
    "import matplotlib.pyplot as plt\n",
    "import pandas as pd\n",
    "import numpy as np\n",
    "import datetime\n",
    "\n",
    "from ML2_lib import DCSGD_exp\n",
    "from ML2_lib import loss\n",
    "from ML2_lib import plot_set"
   ]
  },
  {
   "cell_type": "code",
   "execution_count": 2,
   "outputs": [
    {
     "data": {
      "text/plain": "  Unnamed: 0            1           2           4           5          10\n0      count   100.000000  100.000000  100.000000  100.000000  100.000000\n1       mean   352.697011  156.698098   90.999228   83.539008   28.160130\n2        std   845.473826   57.744047   39.995895   37.443429   26.096778\n3        min    75.587975   34.613297   19.129743   13.813424    0.970904\n4        25%   181.583613  107.034178   59.258752   57.868803    5.803097\n5        50%   232.809798  155.585558   89.293070   79.211605   21.102440\n6        75%   296.747114  198.467302  115.894121  107.496467   41.130731\n7        max  7860.560929  290.811068  188.886832  180.780686  110.905895",
      "text/html": "<div>\n<style scoped>\n    .dataframe tbody tr th:only-of-type {\n        vertical-align: middle;\n    }\n\n    .dataframe tbody tr th {\n        vertical-align: top;\n    }\n\n    .dataframe thead th {\n        text-align: right;\n    }\n</style>\n<table border=\"1\" class=\"dataframe\">\n  <thead>\n    <tr style=\"text-align: right;\">\n      <th></th>\n      <th>Unnamed: 0</th>\n      <th>1</th>\n      <th>2</th>\n      <th>4</th>\n      <th>5</th>\n      <th>10</th>\n    </tr>\n  </thead>\n  <tbody>\n    <tr>\n      <th>0</th>\n      <td>count</td>\n      <td>100.000000</td>\n      <td>100.000000</td>\n      <td>100.000000</td>\n      <td>100.000000</td>\n      <td>100.000000</td>\n    </tr>\n    <tr>\n      <th>1</th>\n      <td>mean</td>\n      <td>352.697011</td>\n      <td>156.698098</td>\n      <td>90.999228</td>\n      <td>83.539008</td>\n      <td>28.160130</td>\n    </tr>\n    <tr>\n      <th>2</th>\n      <td>std</td>\n      <td>845.473826</td>\n      <td>57.744047</td>\n      <td>39.995895</td>\n      <td>37.443429</td>\n      <td>26.096778</td>\n    </tr>\n    <tr>\n      <th>3</th>\n      <td>min</td>\n      <td>75.587975</td>\n      <td>34.613297</td>\n      <td>19.129743</td>\n      <td>13.813424</td>\n      <td>0.970904</td>\n    </tr>\n    <tr>\n      <th>4</th>\n      <td>25%</td>\n      <td>181.583613</td>\n      <td>107.034178</td>\n      <td>59.258752</td>\n      <td>57.868803</td>\n      <td>5.803097</td>\n    </tr>\n    <tr>\n      <th>5</th>\n      <td>50%</td>\n      <td>232.809798</td>\n      <td>155.585558</td>\n      <td>89.293070</td>\n      <td>79.211605</td>\n      <td>21.102440</td>\n    </tr>\n    <tr>\n      <th>6</th>\n      <td>75%</td>\n      <td>296.747114</td>\n      <td>198.467302</td>\n      <td>115.894121</td>\n      <td>107.496467</td>\n      <td>41.130731</td>\n    </tr>\n    <tr>\n      <th>7</th>\n      <td>max</td>\n      <td>7860.560929</td>\n      <td>290.811068</td>\n      <td>188.886832</td>\n      <td>180.780686</td>\n      <td>110.905895</td>\n    </tr>\n  </tbody>\n</table>\n</div>"
     },
     "execution_count": 2,
     "metadata": {},
     "output_type": "execute_result"
    }
   ],
   "source": [
    "pd.read_csv(\"save_result_data/08月25日15:26:09_noise_lognormal_trial_num_100_D512_sample_num10000.csv\")"
   ],
   "metadata": {
    "collapsed": false,
    "pycharm": {
     "name": "#%%\n"
    }
   }
  },
  {
   "cell_type": "code",
   "execution_count": null,
   "outputs": [],
   "source": [],
   "metadata": {
    "collapsed": false,
    "pycharm": {
     "name": "#%%\n"
    }
   }
  }
 ],
 "metadata": {
  "kernelspec": {
   "display_name": "Python 3",
   "language": "python",
   "name": "python3"
  },
  "language_info": {
   "codemirror_mode": {
    "name": "ipython",
    "version": 2
   },
   "file_extension": ".py",
   "mimetype": "text/x-python",
   "name": "python",
   "nbconvert_exporter": "python",
   "pygments_lexer": "ipython2",
   "version": "2.7.6"
  }
 },
 "nbformat": 4,
 "nbformat_minor": 0
}