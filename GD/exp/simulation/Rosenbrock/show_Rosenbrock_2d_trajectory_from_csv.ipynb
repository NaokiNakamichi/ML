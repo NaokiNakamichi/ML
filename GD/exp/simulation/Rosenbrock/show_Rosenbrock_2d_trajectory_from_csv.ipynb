{
 "cells": [
  {
   "cell_type": "code",
   "execution_count": null,
   "metadata": {
    "collapsed": true
   },
   "outputs": [],
   "source": [
    "import glob\n",
    "import pandas as pd\n",
    "from ML2_lib import RV_SGDAve\n",
    "from ML2_lib import loss\n",
    "from ML2_lib import plot_set\n",
    "import numpy as np\n",
    "import datetime\n",
    "import pickle"
   ]
  },
  {
   "cell_type": "code",
   "execution_count": null,
   "outputs": [],
   "source": [
    "files = glob.glob(\"remote_exp/remote_save_result/Rosenbrock_2d_trajectory10:12:16:40:27/*\")\n",
    "len(files)"
   ],
   "metadata": {
    "collapsed": false,
    "pycharm": {
     "name": "#%%\n"
    }
   }
  },
  {
   "cell_type": "code",
   "execution_count": null,
   "outputs": [],
   "source": [
    "d = {}\n",
    "n = 10000\n",
    "noise = \"lognormal\"\n",
    "k_list = [1, 2, 4, 5, 10, 20]\n",
    "son = loss.RosenBrock(d=2, noise_type=noise, E_var=1.75)\n",
    "for file in files:\n",
    "\n",
    "    content = file.split(\"/\")[-1]\n",
    "    title = f\"{content}\"\n",
    "\n",
    "    with open(file, mode=\"rb\") as f:\n",
    "        d = pickle.load(f)\n",
    "    k_core_list,k_selected_index = d[\"k_core_list\"],d[\"k_selected_index\"]\n",
    "    plot_set.multiple_w_value_2d_k_candidates_contour(k_list=k_list, k_list_core_store=k_core_list, _t_max=n,\n",
    "                                                  k_selected_index=k_selected_index, f=son,title=title)\n"
   ],
   "metadata": {
    "collapsed": false,
    "pycharm": {
     "name": "#%%\n"
    }
   }
  }
 ],
 "metadata": {
  "kernelspec": {
   "display_name": "Python 3",
   "language": "python",
   "name": "python3"
  },
  "language_info": {
   "codemirror_mode": {
    "name": "ipython",
    "version": 2
   },
   "file_extension": ".py",
   "mimetype": "text/x-python",
   "name": "python",
   "nbconvert_exporter": "python",
   "pygments_lexer": "ipython2",
   "version": "2.7.6"
  }
 },
 "nbformat": 4,
 "nbformat_minor": 0
}