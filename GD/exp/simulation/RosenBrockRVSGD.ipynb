{
 "cells": [
  {
   "cell_type": "code",
   "execution_count": 16,
   "metadata": {
    "collapsed": true
   },
   "outputs": [],
   "source": [
    "import matplotlib.pyplot as plt\n",
    "import pandas as pd\n",
    "import numpy as np\n",
    "import datetime\n",
    "from mpl_toolkits.mplot3d import Axes3D\n",
    "import matplotlib.colors as colors\n",
    "from matplotlib.cm import ScalarMappable\n",
    "\n",
    "from ML2_lib import RV_SGDAve\n",
    "from ML2_lib import loss\n",
    "from ML2_lib import plot_set"
   ]
  },
  {
   "cell_type": "code",
   "execution_count": 2,
   "outputs": [],
   "source": [
    "d = 2\n",
    "n= 10000\n",
    "lr = 0.001\n",
    "noise = \"lognormal\"\n",
    "c = 1\n",
    "son = loss.RosenBrock(d=d,noise_type=noise,E_var=1.75)\n",
    "RV = RV_SGDAve.RVSGDByW(model_opt=son,c=1,n=n,lr=lr)"
   ],
   "metadata": {
    "collapsed": false,
    "pycharm": {
     "name": "#%%\n"
    }
   }
  },
  {
   "cell_type": "code",
   "execution_count": 3,
   "outputs": [
    {
     "name": "stdout",
     "output_type": "stream",
     "text": [
      "[0.058670459167820765, 0.10817337607047219, 0.026911110274700417, 0.09733045385718676, 0.1322416834027178]\n",
      "[array([1.23538527, 1.53189012]), array([1.31992754, 1.74983743]), array([1.15174806, 1.33275548]), array([1.29556058, 1.6884644 ]), array([1.32449757, 1.77070814])]\n"
     ]
    }
   ],
   "source": [
    "k = 5\n",
    "\n",
    "rng = np.random.default_rng()\n",
    "# w_init = rng.uniform(-c,c,size=d)\n",
    "w_init = np.array([2,2])\n",
    "\n",
    "w , _= RV.learn(w_init=w_init,k=k)"
   ],
   "metadata": {
    "collapsed": false,
    "pycharm": {
     "name": "#%%\n"
    }
   }
  },
  {
   "cell_type": "code",
   "execution_count": null,
   "outputs": [],
   "source": [],
   "metadata": {
    "collapsed": false,
    "pycharm": {
     "name": "#%%\n"
    }
   }
  }
 ],
 "metadata": {
  "kernelspec": {
   "display_name": "Python 3",
   "language": "python",
   "name": "python3"
  },
  "language_info": {
   "codemirror_mode": {
    "name": "ipython",
    "version": 2
   },
   "file_extension": ".py",
   "mimetype": "text/x-python",
   "name": "python",
   "nbconvert_exporter": "python",
   "pygments_lexer": "ipython2",
   "version": "2.7.6"
  }
 },
 "nbformat": 4,
 "nbformat_minor": 0
}