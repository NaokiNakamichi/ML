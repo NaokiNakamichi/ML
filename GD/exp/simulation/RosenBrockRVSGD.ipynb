{
 "cells": [
  {
   "cell_type": "code",
   "execution_count": 1,
   "metadata": {
    "collapsed": true
   },
   "outputs": [],
   "source": [
    "import matplotlib.pyplot as plt\n",
    "import pandas as pd\n",
    "import numpy as np\n",
    "import datetime\n",
    "from mpl_toolkits.mplot3d import Axes3D\n",
    "import matplotlib.colors as colors\n",
    "from matplotlib.cm import ScalarMappable\n",
    "\n",
    "from ML2_lib import RV_SGDAve\n",
    "from ML2_lib import loss\n",
    "from ML2_lib import plot_set"
   ]
  },
  {
   "cell_type": "code",
   "execution_count": 2,
   "outputs": [],
   "source": [
    "d = 2\n",
    "n= 10000\n",
    "lr = 0.001\n",
    "noise = \"lognormal\"\n",
    "c = 1\n",
    "son = loss.RosenBrock(d=d,noise_type=noise,E_var=1.75)\n",
    "RV = RV_SGDAve.RVSGDByW(model_opt=son,c=1,n=n,lr=lr)"
   ],
   "metadata": {
    "collapsed": false,
    "pycharm": {
     "name": "#%%\n"
    }
   }
  },
  {
   "cell_type": "code",
   "execution_count": 3,
   "outputs": [],
   "source": [
    "k = 5\n",
    "\n",
    "rng = np.random.default_rng()\n",
    "# w_init = rng.uniform(-c,c,size=d)\n",
    "w_init = np.array([2,2])\n",
    "\n",
    "w , _= RV.learn(w_init=w_init,k=k)"
   ],
   "metadata": {
    "collapsed": false,
    "pycharm": {
     "name": "#%%\n"
    }
   }
  },
  {
   "cell_type": "code",
   "execution_count": 4,
   "outputs": [
    {
     "data": {
      "text/plain": "array([1.23219479, 1.52629493])"
     },
     "execution_count": 4,
     "metadata": {},
     "output_type": "execute_result"
    }
   ],
   "source": [
    "\n",
    "w"
   ],
   "metadata": {
    "collapsed": false,
    "pycharm": {
     "name": "#%%\n"
    }
   }
  },
  {
   "cell_type": "code",
   "execution_count": 5,
   "outputs": [
    {
     "name": "stdout",
     "output_type": "stream",
     "text": [
      "(1000, 5, 2)\n"
     ]
    }
   ],
   "source": [
    "wtr, ftr = RV.transition(k=k,w_init=w_init)"
   ],
   "metadata": {
    "collapsed": false,
    "pycharm": {
     "name": "#%%\n"
    }
   }
  },
  {
   "cell_type": "code",
   "execution_count": 6,
   "outputs": [
    {
     "data": {
      "text/plain": "<Figure size 432x432 with 2 Axes>",
      "image/png": "[encoded data removed]"
     },
     "metadata": {
      "needs_background": "light"
     },
     "output_type": "display_data"
    }
   ],
   "source": [
    "\n",
    "plot_set.w_value_2d_heatmap(f=son,w_store=wtr,_t_max=n)"
   ],
   "metadata": {
    "collapsed": false,
    "pycharm": {
     "name": "#%%\n"
    }
   }
  },
  {
   "cell_type": "code",
   "execution_count": 7,
   "outputs": [
    {
     "data": {
      "text/plain": "  0%|          | 0/100 [00:00<?, ?it/s]",
      "application/vnd.jupyter.widget-view+json": {
       "version_major": 2,
       "version_minor": 0,
       "model_id": "74ddd08535d74b04b2a66d9bcc386e4a"
      }
     },
     "metadata": {},
     "output_type": "display_data"
    }
   ],
   "source": [
    "\n",
    "_, result = RV.many_trails(trial_num=100,max_k=10,w_init=w_init)"
   ],
   "metadata": {
    "collapsed": false,
    "pycharm": {
     "name": "#%%\n"
    }
   }
  },
  {
   "cell_type": "code",
   "execution_count": 8,
   "outputs": [
    {
     "data": {
      "text/plain": "<Figure size 720x576 with 1 Axes>",
      "image/png": "[encoded data removed]"
     },
     "metadata": {
      "needs_background": "light"
     },
     "output_type": "display_data"
    }
   ],
   "source": [
    "k_list = [0,1,3,4]\n",
    "k_string = [\"1\",\"2\",\"4\",\"5\"]\n",
    "title = \"\"\n",
    "plot_set.box_plot_k(result, k_list, k_string, title)"
   ],
   "metadata": {
    "collapsed": false,
    "pycharm": {
     "name": "#%%\n"
    }
   }
  },
  {
   "cell_type": "code",
   "execution_count": 9,
   "outputs": [
    {
     "data": {
      "text/plain": "                  1           2           4           5\ncount    100.000000  100.000000  100.000000  100.000000\nmean     493.666150    0.082045    0.045074    0.039612\nstd     4909.892471    0.077186    0.020386    0.018870\nmin        0.018178    0.012504    0.005539    0.004283\n25%        0.097818    0.038808    0.029472    0.025158\n50%        0.209919    0.060070    0.045779    0.038063\n75%        0.858222    0.105722    0.055739    0.049616\nmax    49101.521084    0.627457    0.107084    0.095079",
      "text/html": "<div>\n<style scoped>\n    .dataframe tbody tr th:only-of-type {\n        vertical-align: middle;\n    }\n\n    .dataframe tbody tr th {\n        vertical-align: top;\n    }\n\n    .dataframe thead th {\n        text-align: right;\n    }\n</style>\n<table border=\"1\" class=\"dataframe\">\n  <thead>\n    <tr style=\"text-align: right;\">\n      <th></th>\n      <th>1</th>\n      <th>2</th>\n      <th>4</th>\n      <th>5</th>\n    </tr>\n  </thead>\n  <tbody>\n    <tr>\n      <th>count</th>\n      <td>100.000000</td>\n      <td>100.000000</td>\n      <td>100.000000</td>\n      <td>100.000000</td>\n    </tr>\n    <tr>\n      <th>mean</th>\n      <td>493.666150</td>\n      <td>0.082045</td>\n      <td>0.045074</td>\n      <td>0.039612</td>\n    </tr>\n    <tr>\n      <th>std</th>\n      <td>4909.892471</td>\n      <td>0.077186</td>\n      <td>0.020386</td>\n      <td>0.018870</td>\n    </tr>\n    <tr>\n      <th>min</th>\n      <td>0.018178</td>\n      <td>0.012504</td>\n      <td>0.005539</td>\n      <td>0.004283</td>\n    </tr>\n    <tr>\n      <th>25%</th>\n      <td>0.097818</td>\n      <td>0.038808</td>\n      <td>0.029472</td>\n      <td>0.025158</td>\n    </tr>\n    <tr>\n      <th>50%</th>\n      <td>0.209919</td>\n      <td>0.060070</td>\n      <td>0.045779</td>\n      <td>0.038063</td>\n    </tr>\n    <tr>\n      <th>75%</th>\n      <td>0.858222</td>\n      <td>0.105722</td>\n      <td>0.055739</td>\n      <td>0.049616</td>\n    </tr>\n    <tr>\n      <th>max</th>\n      <td>49101.521084</td>\n      <td>0.627457</td>\n      <td>0.107084</td>\n      <td>0.095079</td>\n    </tr>\n  </tbody>\n</table>\n</div>"
     },
     "execution_count": 9,
     "metadata": {},
     "output_type": "execute_result"
    }
   ],
   "source": [
    "pd.DataFrame(result[:, k_list],columns=k_string).describe()"
   ],
   "metadata": {
    "collapsed": false,
    "pycharm": {
     "name": "#%%\n"
    }
   }
  },
  {
   "cell_type": "code",
   "execution_count": 9,
   "outputs": [],
   "source": [],
   "metadata": {
    "collapsed": false,
    "pycharm": {
     "name": "#%%\n"
    }
   }
  }
 ],
 "metadata": {
  "kernelspec": {
   "display_name": "Python 3",
   "language": "python",
   "name": "python3"
  },
  "language_info": {
   "codemirror_mode": {
    "name": "ipython",
    "version": 2
   },
   "file_extension": ".py",
   "mimetype": "text/x-python",
   "name": "python",
   "nbconvert_exporter": "python",
   "pygments_lexer": "ipython2",
   "version": "2.7.6"
  }
 },
 "nbformat": 4,
 "nbformat_minor": 0
}