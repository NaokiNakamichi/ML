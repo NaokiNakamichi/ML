{
 "cells": [
  {
   "cell_type": "code",
   "execution_count": 1,
   "metadata": {
    "collapsed": true
   },
   "outputs": [],
   "source": [
    "import glob\n",
    "import pandas as pd\n",
    "from ML2_lib import RV_SGDAve\n",
    "from ML2_lib import loss\n",
    "from ML2_lib import plot_set\n",
    "import numpy as np\n",
    "import datetime\n",
    "import pickle\n",
    "import os"
   ]
  },
  {
   "cell_type": "code",
   "execution_count": 2,
   "outputs": [
    {
     "data": {
      "text/plain": "45"
     },
     "execution_count": 2,
     "metadata": {},
     "output_type": "execute_result"
    }
   ],
   "source": [
    "\n",
    "files = glob.glob(\"../remote_exp/remote_save_result/Ellipsoid_2d_total11:05:20:58:37/*\")\n",
    "len(files)"
   ],
   "metadata": {
    "collapsed": false,
    "pycharm": {
     "name": "#%%\n"
    }
   }
  },
  {
   "cell_type": "code",
   "execution_count": 3,
   "outputs": [
    {
     "name": "stdout",
     "output_type": "stream",
     "text": [
      "100 trials excess risk\n",
      "                1           2             4           5          10  \\\n",
      "count  100.000000  100.000000  1.000000e+02  100.000000  100.000000   \n",
      "mean     0.034476    0.582824  4.802718e-01    0.112712    0.071847   \n",
      "std      0.042586    0.346798  3.412615e-01    0.159494    0.002671   \n",
      "min      0.007083    0.135291  1.494939e-07    0.089072    0.065700   \n",
      "25%      0.007801    0.587089  1.434413e-04    0.094867    0.070118   \n",
      "50%      0.012220    0.595883  6.215468e-01    0.096607    0.072013   \n",
      "75%      0.081742    0.598699  6.253735e-01    0.098879    0.073644   \n",
      "max      0.260827    1.376137  2.486239e+00    1.691438    0.079206   \n",
      "\n",
      "               20  \n",
      "count  100.000000  \n",
      "mean     0.039195  \n",
      "std      0.002286  \n",
      "min      0.033278  \n",
      "25%      0.037589  \n",
      "50%      0.039494  \n",
      "75%      0.040789  \n",
      "max      0.043130  \n"
     ]
    },
    {
     "data": {
      "text/plain": "<Figure size 576x432 with 1 Axes>",
      "image/png": "[encoded data removed]"
     },
     "metadata": {
      "needs_background": "light"
     },
     "output_type": "display_data"
    }
   ],
   "source": [
    "folder_title = \"Ellipsoid\"\n",
    "# now = datetime.datetime.now()\n",
    "now = \"0123\"\n",
    "new_dir_path_recursive = f\"../save_result_data/{folder_title}box_plot_image_{now}\"\n",
    "os.makedirs(new_dir_path_recursive, exist_ok=True)\n",
    "\n",
    "for file in files:\n",
    "    df = pd.read_csv(file)\n",
    "    content = file.split(\"/\")[-1]\n",
    "    title = \"100 trials excess risk\"\n",
    "    file_name = f\"{content}\"\n",
    "\n",
    "    if \"noise_normal\" in file_name and \"_1_1_\" in file_name:\n",
    "\n",
    "        print(title)\n",
    "        print(df.describe())\n",
    "\n",
    "        k_list = [0, 1, 3, 4, 9, 19]\n",
    "        k_string = [f\"{i + 1}\" for i in k_list]\n",
    "        result = df.values\n",
    "\n",
    "        plot_set.box_plot_k(result, k_list, k_string, title,folder_title=new_dir_path_recursive,saving_png=True, file_name=file_name)\n",
    "\n",
    "\n"
   ],
   "metadata": {
    "collapsed": false,
    "pycharm": {
     "name": "#%%\n"
    }
   }
  },
  {
   "cell_type": "code",
   "execution_count": 4,
   "outputs": [],
   "source": [],
   "metadata": {
    "collapsed": false,
    "pycharm": {
     "name": "#%%\n"
    }
   }
  },
  {
   "cell_type": "code",
   "execution_count": null,
   "outputs": [],
   "source": [],
   "metadata": {
    "collapsed": false,
    "pycharm": {
     "name": "#%%\n"
    }
   }
  }
 ],
 "metadata": {
  "kernelspec": {
   "display_name": "Python 3",
   "language": "python",
   "name": "python3"
  },
  "language_info": {
   "codemirror_mode": {
    "name": "ipython",
    "version": 2
   },
   "file_extension": ".py",
   "mimetype": "text/x-python",
   "name": "python",
   "nbconvert_exporter": "python",
   "pygments_lexer": "ipython2",
   "version": "2.7.6"
  }
 },
 "nbformat": 4,
 "nbformat_minor": 0
}