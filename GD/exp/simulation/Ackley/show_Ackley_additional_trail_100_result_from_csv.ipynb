{
 "cells": [
  {
   "cell_type": "code",
   "execution_count": 1,
   "metadata": {
    "collapsed": true
   },
   "outputs": [],
   "source": [
    "import glob\n",
    "import pandas as pd\n",
    "from ML2_lib import RV_SGDAve\n",
    "from ML2_lib import loss\n",
    "from ML2_lib import plot_set\n",
    "import numpy as np\n",
    "import datetime\n",
    "import pickle\n",
    "import os"
   ]
  },
  {
   "cell_type": "code",
   "execution_count": 2,
   "outputs": [
    {
     "data": {
      "text/plain": "2"
     },
     "execution_count": 2,
     "metadata": {},
     "output_type": "execute_result"
    }
   ],
   "source": [
    "\n",
    "files = glob.glob(\"../remote_exp/remote_save_result/Ackley_2d_total_additional_lognormal01:22:22:16:15/*\")\n",
    "len(files)"
   ],
   "metadata": {
    "collapsed": false,
    "pycharm": {
     "name": "#%%\n"
    }
   }
  },
  {
   "cell_type": "code",
   "execution_count": 4,
   "outputs": [],
   "source": [
    "folder_title = \"Ackley_additional_w_init\"\n",
    "# now = datetime.datetime.now()\n",
    "now = \"0122\"\n",
    "new_dir_path_recursive = f\"save_result_data/{folder_title}box_plot_image_{now}\"\n",
    "os.makedirs(new_dir_path_recursive, exist_ok=True)\n",
    "\n",
    "\n",
    "for file in files:\n",
    "    df = pd.read_csv(file)\n",
    "    content = file.split(\"/\")[-1]\n",
    "    file_name = f\"{content}\"\n",
    "    title = \"100 trials excess risk\"\n",
    "\n",
    "    # if \"_30_30\" in file_name:\n",
    "    k_list = [0, 1, 3, 4, 9, 19]\n",
    "    k_string = [f\"{i + 1}\" for i in k_list]\n",
    "    result = df.values\n",
    "\n",
    "    plot_set.box_plot_k(result, k_list, k_string, title=title,folder_title=new_dir_path_recursive,saving_png=False,file_name=file_name)\n",
    "\n",
    "\n"
   ],
   "metadata": {
    "collapsed": false,
    "pycharm": {
     "name": "#%%\n"
    }
   }
  },
  {
   "cell_type": "code",
   "execution_count": 3,
   "outputs": [],
   "source": [
    "\n",
    "\n"
   ],
   "metadata": {
    "collapsed": false,
    "pycharm": {
     "name": "#%%\n"
    }
   }
  }
 ],
 "metadata": {
  "kernelspec": {
   "display_name": "Python 3",
   "language": "python",
   "name": "python3"
  },
  "language_info": {
   "codemirror_mode": {
    "name": "ipython",
    "version": 2
   },
   "file_extension": ".py",
   "mimetype": "text/x-python",
   "name": "python",
   "nbconvert_exporter": "python",
   "pygments_lexer": "ipython2",
   "version": "2.7.6"
  }
 },
 "nbformat": 4,
 "nbformat_minor": 0
}