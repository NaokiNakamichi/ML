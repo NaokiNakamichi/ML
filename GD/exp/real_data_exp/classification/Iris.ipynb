{
 "cells": [
  {
   "cell_type": "markdown",
   "source": [
    "### Iris Classification with DCSGD\n",
    "#### 実験の概要\n",
    "- DC-SGDを用いたIrisの分類\n",
    "- 訓練データとテストデータに分け、テストデータのLossと精度を確認する。\n",
    "- モデルは線形ニューラルネットワーク（中間層なし）\n",
    "- 出力はLog-softmax\n",
    "- 損失はnegative log-likelihood\n",
    "\n",
    "#### メモ\n",
    "- データセットのシャッフルの仕方によって精度、損失の推移は大きく変わる\n",
    "- いずれにしても　k=1の時の損失,精度が良い\n",
    "- 1コア内で使えるサンプル数が少なく学習率の設定は重要になりそう。"
   ],
   "metadata": {
    "collapsed": false,
    "pycharm": {
     "name": "#%% md\n"
    }
   }
  },
  {
   "cell_type": "code",
   "execution_count": 1,
   "outputs": [],
   "source": [
    "import matplotlib.pyplot as plt\n",
    "import pandas as pd\n",
    "import numpy as np\n",
    "from ML2_lib import DC_SGD\n",
    "from sklearn.preprocessing import StandardScaler\n",
    "from sklearn.datasets import load_iris\n",
    "from sklearn import model_selection\n",
    "from ML2_lib import models"
   ],
   "metadata": {
    "collapsed": false,
    "pycharm": {
     "name": "#%%\n"
    }
   }
  },
  {
   "cell_type": "code",
   "execution_count": 2,
   "outputs": [],
   "source": [
    "hoge = DC_SGD.DCSGDByTorch(lr=3)"
   ],
   "metadata": {
    "collapsed": false,
    "pycharm": {
     "name": "#%%\n"
    }
   }
  },
  {
   "cell_type": "code",
   "execution_count": 3,
   "outputs": [],
   "source": [
    "real_data = load_iris()\n",
    "x = real_data.data\n",
    "\n",
    "scaler = StandardScaler()\n",
    "scaler.fit(x)\n",
    "x = scaler.transform(x)\n",
    "# x = x.T\n"
   ],
   "metadata": {
    "collapsed": false,
    "pycharm": {
     "name": "#%%\n"
    }
   }
  },
  {
   "cell_type": "code",
   "execution_count": 4,
   "outputs": [],
   "source": [
    "y = real_data.target\n",
    "y = y.T\n",
    "\n",
    "data_train, data_test, label_train, label_test = model_selection.train_test_split(x, y)\n",
    "\n",
    "model = models.LinearClassification(4,3)\n",
    "lppl = hoge.learn(k=3,x=data_train,y=label_train,model=model)\n"
   ],
   "metadata": {
    "collapsed": false,
    "pycharm": {
     "name": "#%%\n"
    }
   }
  },
  {
   "cell_type": "code",
   "execution_count": 5,
   "outputs": [
    {
     "name": "stdout",
     "output_type": "stream",
     "text": [
      "予測\n",
      "tensor([1, 1, 1, 0, 0, 1, 2, 2, 1, 1, 0, 1, 2, 0, 2, 2, 1, 1, 0, 2, 0, 1, 1, 0,\n",
      "        0, 2, 0, 1, 2, 2, 1, 1, 1, 1, 2, 2, 2, 0])\n",
      "答え\n",
      "tensor([1, 1, 1, 0, 0, 1, 2, 2, 1, 2, 0, 1, 2, 0, 2, 1, 1, 1, 0, 2, 0, 1, 1, 0,\n",
      "        0, 2, 0, 1, 2, 2, 1, 1, 1, 1, 2, 2, 1, 0])\n",
      "正解率\n",
      "0.9210526315789473\n"
     ]
    }
   ],
   "source": [
    "hoge.predict(data_test,label_test)\n"
   ],
   "metadata": {
    "collapsed": false,
    "pycharm": {
     "name": "#%%\n"
    }
   }
  },
  {
   "cell_type": "code",
   "execution_count": 6,
   "outputs": [
    {
     "data": {
      "text/plain": "<Figure size 720x576 with 1 Axes>",
      "image/png": "[encoded data removed]"
     },
     "metadata": {
      "needs_background": "light"
     },
     "output_type": "display_data"
    }
   ],
   "source": [
    "k_list = [1,3,4,6,10]\n",
    "tr_train_k = hoge.multiple_k_transition(k_list=k_list,train_x=data_train,train_y=label_train,transition_x=data_test,transition_y=label_test,model=model)\n",
    "fig = plt.figure(figsize=(10.0, 8.0))\n",
    "ax1 = fig.add_subplot(111)\n",
    "ax1.set_title(\"MSE transition train data with RVSGD\")\n",
    "for i in tr_train_k:\n",
    "    ax1.plot(i)\n",
    "ax1.set_xlabel(\"step\")\n",
    "leg = ax1.legend(labels=[f'k = {k}' for k in k_list])\n",
    "plt.show()"
   ],
   "metadata": {
    "collapsed": false,
    "pycharm": {
     "name": "#%%\n"
    }
   }
  },
  {
   "cell_type": "code",
   "execution_count": 10,
   "outputs": [],
   "source": [
    "\n",
    "accuracy_list = hoge.multiple_k_accuracy(k_list=k_list,train_x=data_train,train_y=label_train,transition_x=data_test,transition_y=label_test,model=model)"
   ],
   "metadata": {
    "collapsed": false,
    "pycharm": {
     "name": "#%%\n"
    }
   }
  },
  {
   "cell_type": "code",
   "execution_count": 17,
   "outputs": [
    {
     "data": {
      "text/plain": "                1         3         4         6         10\naccuracy  0.973684  0.921053  0.947368  0.921053  0.921053",
      "text/html": "<div>\n<style scoped>\n    .dataframe tbody tr th:only-of-type {\n        vertical-align: middle;\n    }\n\n    .dataframe tbody tr th {\n        vertical-align: top;\n    }\n\n    .dataframe thead th {\n        text-align: right;\n    }\n</style>\n<table border=\"1\" class=\"dataframe\">\n  <thead>\n    <tr style=\"text-align: right;\">\n      <th></th>\n      <th>1</th>\n      <th>3</th>\n      <th>4</th>\n      <th>6</th>\n      <th>10</th>\n    </tr>\n  </thead>\n  <tbody>\n    <tr>\n      <th>accuracy</th>\n      <td>0.973684</td>\n      <td>0.921053</td>\n      <td>0.947368</td>\n      <td>0.921053</td>\n      <td>0.921053</td>\n    </tr>\n  </tbody>\n</table>\n</div>"
     },
     "execution_count": 17,
     "metadata": {},
     "output_type": "execute_result"
    }
   ],
   "source": [
    "# 最終的なMSE(テストデータ)\n",
    "df = pd.DataFrame(np.array(accuracy_list).reshape(1,-1),columns=k_list,index=[\"accuracy\"])\n",
    "df"
   ],
   "metadata": {
    "collapsed": false,
    "pycharm": {
     "name": "#%%\n"
    }
   }
  },
  {
   "cell_type": "code",
   "execution_count": 15,
   "outputs": [
    {
     "data": {
      "text/plain": "array([[0.97368421],\n       [0.92105263],\n       [0.94736842],\n       [0.92105263],\n       [0.92105263]])"
     },
     "execution_count": 15,
     "metadata": {},
     "output_type": "execute_result"
    }
   ],
   "source": [],
   "metadata": {
    "collapsed": false,
    "pycharm": {
     "name": "#%%\n"
    }
   }
  },
  {
   "cell_type": "code",
   "execution_count": null,
   "outputs": [],
   "source": [],
   "metadata": {
    "collapsed": false,
    "pycharm": {
     "name": "#%%\n"
    }
   }
  }
 ],
 "metadata": {
  "kernelspec": {
   "display_name": "Python 3",
   "language": "python",
   "name": "python3"
  },
  "language_info": {
   "codemirror_mode": {
    "name": "ipython",
    "version": 2
   },
   "file_extension": ".py",
   "mimetype": "text/x-python",
   "name": "python",
   "nbconvert_exporter": "python",
   "pygments_lexer": "ipython2",
   "version": "2.7.6"
  }
 },
 "nbformat": 4,
 "nbformat_minor": 0
}