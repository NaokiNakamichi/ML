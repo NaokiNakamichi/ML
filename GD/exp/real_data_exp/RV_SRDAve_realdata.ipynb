{
 "cells": [
  {
   "cell_type": "code",
   "execution_count": null,
   "outputs": [],
   "source": [],
   "metadata": {
    "collapsed": false,
    "pycharm": {
     "name": "#%%\n"
    }
   }
  },
  {
   "cell_type": "code",
   "execution_count": 1,
   "outputs": [],
   "source": [
    "import numpy as np\n",
    "import matplotlib.pyplot as plt\n",
    "import pandas as pd\n",
    "from tqdm.notebook import tqdm\n",
    "\n",
    "from ML2_lib import RV_SGDAve\n",
    "from ML2_lib import loss\n",
    "\n",
    "from sklearn.datasets import load_boston\n",
    "from sklearn.preprocessing import StandardScaler\n",
    "from sklearn.model_selection import train_test_split\n",
    "data_boston = load_boston()"
   ],
   "metadata": {
    "collapsed": false,
    "pycharm": {
     "name": "#%%\n"
    }
   }
  },
  {
   "cell_type": "code",
   "execution_count": 2,
   "outputs": [
    {
     "data": {
      "text/plain": "(506, 13)"
     },
     "execution_count": 2,
     "metadata": {},
     "output_type": "execute_result"
    }
   ],
   "source": [
    "x = data_boston.data\n",
    "# x = x.T\n",
    "x.shape\n"
   ],
   "metadata": {
    "collapsed": false,
    "pycharm": {
     "name": "#%%\n"
    }
   }
  },
  {
   "cell_type": "code",
   "execution_count": 3,
   "outputs": [],
   "source": [
    "scaler = StandardScaler()\n",
    "scaler.fit(x)\n",
    "x = scaler.transform(x)"
   ],
   "metadata": {
    "collapsed": false,
    "pycharm": {
     "name": "#%%\n"
    }
   }
  },
  {
   "cell_type": "code",
   "execution_count": 4,
   "outputs": [
    {
     "data": {
      "text/plain": "(506, 1)"
     },
     "execution_count": 4,
     "metadata": {},
     "output_type": "execute_result"
    }
   ],
   "source": [
    "y = data_boston.target.reshape(1,-1)\n",
    "y = y.T\n",
    "y.shape"
   ],
   "metadata": {
    "collapsed": false,
    "pycharm": {
     "name": "#%%\n"
    }
   }
  },
  {
   "cell_type": "code",
   "execution_count": 51,
   "outputs": [],
   "source": [
    "# データセットを分割する関数の読み込み\n",
    "\n",
    "\n",
    "# 訓練用データセットとテスト用データセットへの分割\n",
    "x_train, x_test, y_train, y_test = train_test_split(x, y, test_size=0.1, random_state=0)\n",
    "\n",
    "\n",
    "w_init = np.zeros(13).reshape(1,-1)\n",
    "\n",
    "son = loss.LinearQuadraticLoss()"
   ],
   "metadata": {
    "collapsed": false,
    "pycharm": {
     "name": "#%%\n"
    }
   }
  },
  {
   "cell_type": "code",
   "execution_count": 58,
   "outputs": [],
   "source": [
    "hoge = RV_SGDAve.RVSGDRealData(loss_type=son,c=1 ,lr=0.1)"
   ],
   "metadata": {
    "collapsed": false,
    "pycharm": {
     "name": "#%%\n"
    }
   }
  },
  {
   "cell_type": "code",
   "execution_count": 53,
   "outputs": [],
   "source": [
    "k=1\n",
    "hoge.learn_data(k=k,w_init=w_init,x=x_train,y=y_train)\n"
   ],
   "metadata": {
    "collapsed": false,
    "pycharm": {
     "name": "#%%\n"
    }
   }
  },
  {
   "cell_type": "code",
   "execution_count": 54,
   "outputs": [
    {
     "data": {
      "text/plain": "-5.323101759168409"
     },
     "execution_count": 54,
     "metadata": {},
     "output_type": "execute_result"
    }
   ],
   "source": [
    "hoge.predict(x_test[1].reshape(1,-1))"
   ],
   "metadata": {
    "collapsed": false,
    "pycharm": {
     "name": "#%%\n"
    }
   }
  },
  {
   "cell_type": "code",
   "execution_count": 55,
   "outputs": [
    {
     "data": {
      "text/plain": "array([50.])"
     },
     "execution_count": 55,
     "metadata": {},
     "output_type": "execute_result"
    }
   ],
   "source": [
    "y_test[1]"
   ],
   "metadata": {
    "collapsed": false,
    "pycharm": {
     "name": "#%%\n"
    }
   }
  },
  {
   "cell_type": "code",
   "execution_count": 57,
   "outputs": [
    {
     "name": "stderr",
     "output_type": "stream",
     "text": [
      "/Users/naoki/.pyenv/versions/3.8.6/envs/ML2/lib/python3.8/site-packages/numpy/core/fromnumeric.py:3419: RuntimeWarning: Mean of empty slice.\n",
      "  return _methods._mean(a, axis=axis, dtype=dtype,\n",
      "/Users/naoki/.pyenv/versions/3.8.6/envs/ML2/lib/python3.8/site-packages/numpy/core/_methods.py:180: RuntimeWarning: invalid value encountered in true_divide\n",
      "  ret = um.true_divide(\n"
     ]
    },
    {
     "data": {
      "text/plain": "[array([273.12637255]),\n array([273.31244862]),\n array([279.58041549]),\n array([283.87481327]),\n array([288.4142535]),\n array([293.22061242]),\n array([297.94615937]),\n array([295.79938664]),\n array([292.83551252]),\n array([291.87454899]),\n array([291.56540176]),\n array([292.93135297]),\n array([294.87143272]),\n array([295.53369781]),\n array([297.14065631]),\n array([297.11450945]),\n array([297.49839814]),\n array([296.33364392]),\n array([295.83056232]),\n array([295.56047661]),\n array([295.56862114]),\n array([296.34409928]),\n array([297.86370932]),\n array([298.88759721]),\n array([299.06825142]),\n array([299.9305769]),\n array([301.05227922]),\n array([302.40180329]),\n array([303.64789417]),\n array([305.13251375]),\n array([306.13395695]),\n array([305.84674178]),\n array([305.98238774]),\n array([306.48386951]),\n array([307.23473792]),\n array([308.21045101]),\n array([308.84597548]),\n array([308.66047152]),\n array([307.86438656]),\n array([308.09740948]),\n array([308.015007]),\n array([308.79893012]),\n array([309.85153778]),\n array([310.88509775]),\n array([312.214951]),\n array([311.98861343]),\n array([312.5964679]),\n array([312.9768791]),\n array([313.64129098]),\n array([314.54850351]),\n array([315.45203634]),\n array([315.67561414]),\n array([316.10061904]),\n array([316.72477122]),\n array([317.47401079]),\n array([317.73909267]),\n array([317.39401013]),\n array([317.09345853]),\n array([317.16390662]),\n array([316.81609811]),\n array([316.22188643]),\n array([315.77195852]),\n array([315.28356235]),\n array([314.86533873]),\n array([314.0790562]),\n array([313.19654101]),\n array([312.19464739]),\n array([311.14695669]),\n array([310.55916422]),\n array([310.16684716]),\n array([309.43300382]),\n array([308.86829658]),\n array([308.3041596]),\n array([307.76580838]),\n array([307.10964446]),\n array([306.73255893]),\n array([306.51178603]),\n array([306.45505935]),\n array([306.41284381]),\n array([306.13349576]),\n array([305.65672966]),\n array([305.02951925]),\n array([304.28759896]),\n array([303.49434444]),\n array([303.33954663]),\n array([303.24765092]),\n array([302.80782724]),\n array([302.63881407]),\n array([302.32623627]),\n array([301.90107346]),\n array([301.49556146]),\n array([301.30767209]),\n array([301.30860653]),\n array([301.41158369]),\n array([301.55379616]),\n array([301.83830231]),\n array([302.3319931]),\n array([302.55565796]),\n array([302.52598886]),\n array([302.52717423]),\n array([302.71105647]),\n array([302.71188475]),\n array([302.8365447]),\n array([302.87589575]),\n array([303.11333288]),\n array([303.27965946]),\n array([303.46387496]),\n array([303.72369575]),\n array([303.98348117]),\n array([304.007968]),\n array([304.06583708]),\n array([304.38496495]),\n array([304.78392048]),\n array([305.34168393]),\n array([305.96364277]),\n array([306.63816952]),\n array([307.37370815]),\n array([307.72592127]),\n array([307.85594807]),\n array([308.25707248]),\n array([308.4468962]),\n array([308.48913856]),\n array([308.13905662]),\n array([307.71751165]),\n array([307.25906731]),\n array([306.7814601]),\n array([306.28833189]),\n array([305.72139206]),\n array([305.31973602]),\n array([304.85114362]),\n array([304.29700534]),\n array([303.85389302]),\n array([303.3218584]),\n array([302.79696251]),\n array([302.41826729]),\n array([302.21291461]),\n array([302.28177955]),\n array([302.56798738]),\n array([302.67044892]),\n array([302.65013475]),\n array([302.66311496]),\n array([302.75072167]),\n array([302.8453548]),\n array([303.03870431]),\n array([303.30593922]),\n array([303.62588713]),\n array([303.80915185]),\n array([304.00823475]),\n array([304.23478393]),\n array([304.50985922]),\n array([304.82041347]),\n array([305.17172268]),\n array([305.54547406]),\n array([305.73067826]),\n array([305.84221142]),\n array([305.86255647]),\n array([306.01625117]),\n array([306.0948247]),\n array([306.11211971]),\n array([306.20216267]),\n array([306.25689233]),\n array([306.13126109]),\n array([306.19035147]),\n array([306.25455667]),\n array([306.17918026]),\n array([306.03645287]),\n array([305.93424077]),\n array([305.7030173]),\n array([305.57265516]),\n array([305.10980074]),\n array([304.56986519]),\n array([304.07064476]),\n array([303.56060192]),\n array([303.43573333]),\n array([303.10323073]),\n array([302.78670752]),\n array([302.46460414]),\n array([302.27513176]),\n array([302.09369122]),\n array([301.83638777]),\n array([301.59715681]),\n array([301.40726863]),\n array([301.39548004]),\n array([301.38139851]),\n array([301.32499227]),\n array([301.11843879]),\n array([300.89304368]),\n array([300.70180361]),\n array([300.49405605]),\n array([300.31296952]),\n array([300.36840555]),\n array([300.30452152]),\n array([300.18393632]),\n array([300.23482646]),\n array([300.42872216]),\n array([300.69801645]),\n array([300.91687785]),\n array([301.2218159]),\n array([301.52770309]),\n array([301.40203176]),\n array([301.20825734]),\n array([301.03085158]),\n array([300.96260213]),\n array([300.84125032]),\n array([300.72379733]),\n array([300.55330543]),\n array([300.4700406]),\n array([300.44352017]),\n array([300.7111973]),\n array([301.06156922]),\n array([301.4562073]),\n array([301.75614621]),\n array([302.11389884]),\n array([302.49486132]),\n array([302.67314397]),\n array([302.87656332]),\n array([302.62747538]),\n array([302.45441354]),\n array([302.27173856]),\n array([302.10875712]),\n array([301.9555636]),\n array([301.73010505]),\n array([301.58994831]),\n array([301.44197511]),\n array([301.34234442])]"
     },
     "execution_count": 57,
     "metadata": {},
     "output_type": "execute_result"
    }
   ],
   "source": [
    "hoge.transition(k,x_test,y_test)"
   ],
   "metadata": {
    "collapsed": false,
    "pycharm": {
     "name": "#%%\n"
    }
   }
  },
  {
   "cell_type": "code",
   "execution_count": 12,
   "outputs": [],
   "source": [],
   "metadata": {
    "collapsed": false,
    "pycharm": {
     "name": "#%%\n"
    }
   }
  }
 ],
 "metadata": {
  "kernelspec": {
   "display_name": "Python 3",
   "language": "python",
   "name": "python3"
  },
  "language_info": {
   "codemirror_mode": {
    "name": "ipython",
    "version": 2
   },
   "file_extension": ".py",
   "mimetype": "text/x-python",
   "name": "python",
   "nbconvert_exporter": "python",
   "pygments_lexer": "ipython2",
   "version": "2.7.6"
  }
 },
 "nbformat": 4,
 "nbformat_minor": 0
}