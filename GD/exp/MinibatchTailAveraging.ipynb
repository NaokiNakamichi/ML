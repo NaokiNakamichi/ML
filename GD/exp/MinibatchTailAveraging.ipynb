{
 "cells": [
  {
   "cell_type": "code",
   "execution_count": 1,
   "metadata": {
    "pycharm": {
     "name": "#%%\n"
    }
   },
   "outputs": [
    {
     "ename": "ModuleNotFoundError",
     "evalue": "No module named 'algo_GD'",
     "output_type": "error",
     "traceback": [
      "\u001B[0;31m---------------------------------------------------------------------------\u001B[0m",
      "\u001B[0;31mModuleNotFoundError\u001B[0m                       Traceback (most recent call last)",
      "\u001B[0;32m<ipython-input-1-2ec426f0d746>\u001B[0m in \u001B[0;36m<module>\u001B[0;34m\u001B[0m\n\u001B[1;32m      8\u001B[0m \u001B[0;32mfrom\u001B[0m \u001B[0mML2_lib\u001B[0m \u001B[0;32mimport\u001B[0m \u001B[0mmodel_opt\u001B[0m\u001B[0;34m\u001B[0m\u001B[0;34m\u001B[0m\u001B[0m\n\u001B[1;32m      9\u001B[0m \u001B[0;32mfrom\u001B[0m \u001B[0mML2_lib\u001B[0m \u001B[0;32mimport\u001B[0m \u001B[0malgo_GD\u001B[0m\u001B[0;34m\u001B[0m\u001B[0;34m\u001B[0m\u001B[0m\n\u001B[0;32m---> 10\u001B[0;31m \u001B[0;32mfrom\u001B[0m \u001B[0mML2_lib\u001B[0m \u001B[0;32mimport\u001B[0m \u001B[0malgo_minibatch\u001B[0m\u001B[0;34m\u001B[0m\u001B[0;34m\u001B[0m\u001B[0m\n\u001B[0m\u001B[1;32m     11\u001B[0m \u001B[0;32mfrom\u001B[0m \u001B[0mML2_lib\u001B[0m \u001B[0;32mimport\u001B[0m \u001B[0mhelper\u001B[0m\u001B[0;34m\u001B[0m\u001B[0;34m\u001B[0m\u001B[0m\n\u001B[1;32m     12\u001B[0m \u001B[0;32mfrom\u001B[0m \u001B[0mML2_lib\u001B[0m \u001B[0;32mimport\u001B[0m \u001B[0mnoise\u001B[0m\u001B[0;34m\u001B[0m\u001B[0;34m\u001B[0m\u001B[0m\n",
      "\u001B[0;32m~/ML2/GD/ML2_lib/algo_minibatch.py\u001B[0m in \u001B[0;36m<module>\u001B[0;34m\u001B[0m\n\u001B[1;32m      1\u001B[0m \u001B[0;32mimport\u001B[0m \u001B[0mnumpy\u001B[0m \u001B[0;32mas\u001B[0m \u001B[0mnp\u001B[0m\u001B[0;34m\u001B[0m\u001B[0;34m\u001B[0m\u001B[0m\n\u001B[0;32m----> 2\u001B[0;31m \u001B[0;32mimport\u001B[0m \u001B[0malgo_GD\u001B[0m\u001B[0;34m\u001B[0m\u001B[0;34m\u001B[0m\u001B[0m\n\u001B[0m\u001B[1;32m      3\u001B[0m \u001B[0;34m\u001B[0m\u001B[0m\n\u001B[1;32m      4\u001B[0m \u001B[0;34m\u001B[0m\u001B[0m\n\u001B[1;32m      5\u001B[0m \u001B[0;32mclass\u001B[0m \u001B[0mMinibatchTailAveragingSGD\u001B[0m\u001B[0;34m:\u001B[0m\u001B[0;34m\u001B[0m\u001B[0;34m\u001B[0m\u001B[0m\n",
      "\u001B[0;31mModuleNotFoundError\u001B[0m: No module named 'algo_GD'"
     ]
    }
   ],
   "source": [
    "import numpy as np\n",
    "import pandas as pd\n",
    "import time\n",
    "import datetime\n",
    "import matplotlib.pyplot as plt\n",
    "\n",
    "from ML2_lib import plot_set\n",
    "from ML2_lib import model_opt\n",
    "from ML2_lib import algo_GD\n",
    "from ML2_lib import algo_minibatch\n",
    "from ML2_lib import helper\n",
    "from ML2_lib import noise"
   ]
  },
  {
   "cell_type": "code",
   "execution_count": null,
   "metadata": {
    "collapsed": false,
    "jupyter": {
     "outputs_hidden": false
    },
    "pycharm": {
     "name": "#%%\n"
    }
   },
   "outputs": [],
   "source": [
    "f = model_opt.Bohachevsky()\n",
    "plot_set.function_value_3d(f,1)"
   ]
  },
  {
   "cell_type": "code",
   "execution_count": null,
   "metadata": {},
   "outputs": [],
   "source": [
    "model_func = model_opt.Bohachevsky\n",
    "w_init = np.array([10,10])\n",
    "_t_max = 10000\n",
    "var = 50 # iqr 70~80\n",
    "noise_data = noise.Gauss(mean=0, sigma=var, dim=2, n=_t_max).generate()"
   ]
  },
  {
   "cell_type": "code",
   "execution_count": null,
   "metadata": {},
   "outputs": [],
   "source": [
    "\n",
    "batchsize = 8\n",
    "tail = 5\n",
    "\n",
    "algo = algo_minibatch.MinibatchDoublingPartialAveragingSGD(a=0.1, w=w_init, n=_t_max, t=tail, noise_data=noise_data, init_batchsize=batchsize)\n",
    "algo.tail(model_func = model_func)\n",
    "w_store_MBDPA = algo.w_store\n",
    "    \n",
    "\n",
    "f = model_opt.Bohachevsky()\n",
    "plot_set.function_value_transition(f,w_store_MBDPA,title=\"function value transition\")\n",
    "plot_set.w_value_2d_heatmap(f,w_store_MBDPA,_t_max,title=\"w transition\")\n"
   ]
  },
  {
   "cell_type": "code",
   "execution_count": null,
   "metadata": {},
   "outputs": [],
   "source": [
    "batchsize = 100\n",
    "_t_max = 10000\n",
    "tail = 10\n",
    "\n",
    "algo = algo_minibatch.MinibatchTailAveragingSGD(a=0.1, w=w_init, n=_t_max, s=tail, noise_data=noise_data, batchsize=batchsize)\n",
    "algo.calculate(model_func=model_func)\n",
    "w_store_TASGD = algo.w_store\n",
    "\n",
    "\n",
    "\n",
    "f = model_opt.Bohachevsky()\n",
    "plot_set.function_value_transition(f,w_store_TASGD,title=\"function value transition\")\n",
    "plot_set.w_value_2d_heatmap(f,w_store_TASGD,_t_max,title=\"w transition\")"
   ]
  },
  {
   "cell_type": "code",
   "execution_count": null,
   "metadata": {},
   "outputs": [],
   "source": [
    "w_init = np.array([5,5])\n",
    "\n",
    "var = 50 # iqr 70~80\n",
    "batchsize = 100\n",
    "_t_max = 10000\n",
    "noise_data = noise.Gauss(mean=0, sigma=var, dim=2, n=batchsize * _t_max).generate()\n",
    "\n",
    "algo = algo_GD.SGD(w_init=w_init, t_max=_t_max, a=0.1)\n",
    "for i in algo:\n",
    "    f = model_opt.Bohachevsky(noise_value=noise_data[algo.t-1])\n",
    "    algo.update(model=f)"
   ]
  },
  {
   "cell_type": "code",
   "execution_count": null,
   "metadata": {},
   "outputs": [],
   "source": [
    "# シンプルなSGD\n",
    "w_store_SGD = algo.wstore\n",
    "plot_set.function_value_transition(f,w_store_SGD,title=\"function value transition\")\n",
    "plot_set.w_value_2d_heatmap(f,w_store_SGD,_t_max,title=\"w transition\")"
   ]
  },
  {
   "cell_type": "code",
   "execution_count": null,
   "metadata": {},
   "outputs": [],
   "source": [
    "last_w_MBDPA = []\n",
    "#それぞれ100回で最終的なwの結果\n",
    "start = time.time()\n",
    "# MinibatchDoublingPartialAveragingSGD\n",
    "for i in range(100):\n",
    "    noise_data = noise.Gauss(mean=0, sigma=var, dim=2, n=_t_max).generate()\n",
    "    algo = algo_minibatch.MinibatchDoublingPartialAveragingSGD(a=0.1, w=w_init, n=_t_max, t=tail, noise_data=noise_data, init_batchsize=batchsize)\n",
    "    w = algo.tail(model_func = model_func)\n",
    "    last_w_MBDPA.append(w)\n",
    "end = time.time()\n",
    "print(\"MinibatchDoublingPartialAveragingSGD time {}\".format(end - start))\n",
    "\n",
    "\n",
    "# MinibatchTailAveragingSGD\n",
    "batchsize = 100\n",
    "_t_max = 10000\n",
    "tail = 10\n",
    "last_w_MTASGD = []\n",
    "start = time.time()\n",
    "for i in range(100):\n",
    "    noise_data = noise.Gauss(mean=0, sigma=var, dim=2, n=_t_max).generate()\n",
    "    algo = algo_minibatch.MinibatchTailAveragingSGD(a=0.1, w=w_init, n=_t_max, s=tail, noise_data=noise_data, batchsize=batchsize)\n",
    "    w = algo.calculate(model_func=model_func)\n",
    "    last_w_MTASGD.append(w)\n",
    "end = time.time()\n",
    "print(\"MinibatchTailAveragingSGD time {}\".format(end - start))   \n",
    "\n",
    "last_w_SGD = []    \n",
    "    \n",
    "\n",
    "start = time.time()\n",
    "for i in range(100):\n",
    "    algo = algo_GD.SGD(w_init=w_init, t_max=_t_max, a=0.1)\n",
    "    noise_data = noise.Gauss(mean=0, sigma=var, dim=2, n=_t_max).generate()\n",
    "    for i in algo:\n",
    "        f = model_opt.Bohachevsky(noise_value=noise_data[algo.t-1])\n",
    "        algo.update(model=f)\n",
    "    last_w_SGD.append(algo.w)\n",
    "\n",
    "end = time.time()\n",
    "print(\"SGD time {}\".format(end - start)) \n",
    "    "
   ]
  },
  {
   "cell_type": "code",
   "execution_count": null,
   "metadata": {},
   "outputs": [],
   "source": [
    "last_f_MTASGD = f.f_opt(np.array(last_w_MTASGD).T)\n",
    "last_f_MBDPA = f.f_opt(np.array(last_w_MBDPA).T)\n",
    "last_f_SGD = f.f_opt(np.array(last_w_SGD).T)"
   ]
  },
  {
   "cell_type": "code",
   "execution_count": null,
   "metadata": {},
   "outputs": [],
   "source": [
    "csv = np.stack([last_f_MBDPA,last_f_MTASGD,last_f_SGD],axis=1)"
   ]
  },
  {
   "cell_type": "code",
   "execution_count": null,
   "metadata": {},
   "outputs": [],
   "source": [
    "df = pd.DataFrame(csv,columns=['MBDPA', 'MTASGD', 'SGD'])"
   ]
  },
  {
   "cell_type": "code",
   "execution_count": null,
   "metadata": {},
   "outputs": [],
   "source": [
    "dt_now = datetime.datetime.now()\n",
    "df.to_csv('minibatch_f_value/{}.csv'.format(dt_now),header=True)"
   ]
  },
  {
   "cell_type": "code",
   "execution_count": null,
   "metadata": {},
   "outputs": [],
   "source": [
    "\n",
    "fig = plt.figure(figsize=(10.0, 8.0))\n",
    "ax1 = fig.add_subplot(111)\n",
    "noise_box = last_f_MBDPA, last_f_MTASGD,last_f_SGD\n",
    "bp1 = ax1.boxplot(noise_box)\n",
    "ax1.set_xticklabels(['MBDPA', 'MTASGD', 'SGD'],fontsize=20)\n",
    "ax1.set_title('f_value',fontsize=20)\n",
    "ax1.grid()\n",
    "\n",
    "plt.show()"
   ]
  },
  {
   "cell_type": "code",
   "execution_count": null,
   "metadata": {},
   "outputs": [],
   "source": []
  }
 ],
 "metadata": {
  "kernelspec": {
   "display_name": "Python 3",
   "language": "python",
   "name": "python3"
  },
  "language_info": {
   "codemirror_mode": {
    "name": "ipython",
    "version": 3
   },
   "file_extension": ".py",
   "mimetype": "text/x-python",
   "name": "python",
   "nbconvert_exporter": "python",
   "pygments_lexer": "ipython3",
   "version": "3.8.6"
  }
 },
 "nbformat": 4,
 "nbformat_minor": 4
}