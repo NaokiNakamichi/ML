{
 "cells": [
  {
   "cell_type": "code",
   "execution_count": 1,
   "metadata": {
    "collapsed": true
   },
   "outputs": [],
   "source": [
    "\n",
    "import numpy as np\n",
    "import matplotlib.pyplot as plt\n",
    "import pandas as pd\n",
    "from tqdm.notebook import tqdm\n",
    "\n",
    "from ML2_lib import RV_SGDAve\n",
    "from ML2_lib import loss\n",
    "from ML2_lib import noise\n",
    "from ML2_lib import algo_sgd\n",
    "from ML2_lib import valid"
   ]
  },
  {
   "cell_type": "code",
   "execution_count": 2,
   "outputs": [
    {
     "name": "stdout",
     "output_type": "stream",
     "text": [
      "hoge\n"
     ]
    }
   ],
   "source": [
    "print(\"hoge\")"
   ],
   "metadata": {
    "collapsed": false,
    "pycharm": {
     "name": "#%%\n"
    }
   }
  },
  {
   "cell_type": "code",
   "execution_count": 3,
   "outputs": [],
   "source": [
    "# 学習率は0.01/t * sqrt(d) ノイズは正規分布\n",
    "X_mean = 5\n",
    "X_var = 2\n",
    "E_var = 2.2\n",
    "w_star = np.array([1,2,3,4,5,6])\n",
    "w_star = w_star.reshape(1,-1)\n",
    "d = w_star.shape[1]\n",
    "n = 1000\n",
    "c = 5\n",
    "rng = np.random.default_rng()\n",
    "w_init = w_star + rng.uniform(-c,c,size=d)\n",
    "\n",
    "son = loss.LinearQuadraticLoss()\n",
    "exp_normal = RV_SGDAve.RVSGD(w_star=w_star,n=n,E_var=E_var,X_mean=X_mean,X_var=X_var,noise=\"normal\",loss_type=son,c=c,fixed_lr=True)"
   ],
   "metadata": {
    "collapsed": false,
    "pycharm": {
     "name": "#%%\n"
    }
   }
  },
  {
   "cell_type": "code",
   "execution_count": 4,
   "outputs": [
    {
     "data": {
      "text/plain": "(array([[2.58442968, 2.16426261, 3.61961539, 3.6337155 , 5.60022844,\n         3.39520926]]),\n 295.82018845985203,\n [<ML2_lib.algo_sgd.SGD at 0x1118ba820>,\n  <ML2_lib.algo_sgd.SGD at 0x1118e9c70>,\n  <ML2_lib.algo_sgd.SGD at 0x1118e9760>,\n  <ML2_lib.algo_sgd.SGD at 0x1118e9490>,\n  <ML2_lib.algo_sgd.SGD at 0x1118e9850>,\n  <ML2_lib.algo_sgd.SGD at 0x1118e9940>,\n  <ML2_lib.algo_sgd.SGD at 0x1118e97f0>,\n  <ML2_lib.algo_sgd.SGD at 0x1118e9ee0>,\n  <ML2_lib.algo_sgd.SGD at 0x1283e0bb0>,\n  <ML2_lib.algo_sgd.SGD at 0x1283e0ca0>])"
     },
     "execution_count": 4,
     "metadata": {},
     "output_type": "execute_result"
    }
   ],
   "source": [
    "exp_normal.learn(10,w_init)"
   ],
   "metadata": {
    "collapsed": false,
    "pycharm": {
     "name": "#%%\n"
    }
   }
  },
  {
   "cell_type": "code",
   "execution_count": 5,
   "outputs": [
    {
     "data": {
      "text/plain": "  0%|          | 0/10 [00:00<?, ?it/s]",
      "application/vnd.jupyter.widget-view+json": {
       "version_major": 2,
       "version_minor": 0,
       "model_id": "27e033b46854443da1761dd3abfbb54b"
      }
     },
     "metadata": {},
     "output_type": "display_data"
    }
   ],
   "source": [
    "_, result_loss_gauss = exp_normal.many_trails(trial_num=10,max_k=20)\n"
   ],
   "metadata": {
    "collapsed": false,
    "pycharm": {
     "name": "#%%\n"
    }
   }
  },
  {
   "cell_type": "code",
   "execution_count": 6,
   "outputs": [
    {
     "data": {
      "text/plain": "<Figure size 720x576 with 1 Axes>",
      "image/png": "[encoded data removed]"
     },
     "metadata": {
      "needs_background": "light"
     },
     "output_type": "display_data"
    }
   ],
   "source": [
    "fdic = {\n",
    "    \"size\" : 20,\n",
    "}\n",
    "\n",
    "columns=['1', '2', '4','5','10','20']\n",
    "fig = plt.figure(figsize=(10.0, 8.0))\n",
    "ax1 = fig.add_subplot(111)\n",
    "\n",
    "bp1 = ax1.boxplot(result_loss_gauss[:,[0,1,3,4,9,19]])\n",
    "ax1.set_xticklabels(columns,fontsize=20)\n",
    "ax1.set_title('R(w)-R^*',fontsize=20)\n",
    "ax1.set_xlabel('k',fontdict=fdic)\n",
    "\n",
    "plt.show()"
   ],
   "metadata": {
    "collapsed": false,
    "pycharm": {
     "name": "#%%\n"
    }
   }
  },
  {
   "cell_type": "code",
   "execution_count": null,
   "outputs": [],
   "source": [],
   "metadata": {
    "collapsed": false,
    "pycharm": {
     "name": "#%%\n"
    }
   }
  }
 ],
 "metadata": {
  "kernelspec": {
   "display_name": "Python 3",
   "language": "python",
   "name": "python3"
  },
  "language_info": {
   "codemirror_mode": {
    "name": "ipython",
    "version": 2
   },
   "file_extension": ".py",
   "mimetype": "text/x-python",
   "name": "python",
   "nbconvert_exporter": "python",
   "pygments_lexer": "ipython2",
   "version": "2.7.6"
  }
 },
 "nbformat": 4,
 "nbformat_minor": 0
}